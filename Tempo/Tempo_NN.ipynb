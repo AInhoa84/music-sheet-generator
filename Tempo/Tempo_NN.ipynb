{
 "cells": [
  {
   "cell_type": "code",
   "execution_count": 1,
   "metadata": {},
   "outputs": [],
   "source": [
    "import numpy as np\n",
    "import matplotlib.pyplot as plt\n",
    "import tensorflow as tf\n",
    "import pandas as pd\n",
    "import librosa\n",
    "import pickle\n",
    "%matplotlib inline"
   ]
  },
  {
   "cell_type": "code",
   "execution_count": 8,
   "metadata": {},
   "outputs": [],
   "source": [
    "import keras\n",
    "from keras.layers import Input, Dense, Dropout\n",
    "from keras.models import Model\n",
    "from keras.optimizers import Adam\n",
    "from keras.regularizers import l1, l2\n",
    "from livelossplot import PlotLossesKeras"
   ]
  },
  {
   "cell_type": "code",
   "execution_count": 4,
   "metadata": {},
   "outputs": [],
   "source": [
    "%run ../Utilities/Utilities.ipynb"
   ]
  },
  {
   "cell_type": "code",
   "execution_count": 56,
   "metadata": {},
   "outputs": [],
   "source": [
    "data = pd.read_pickle(\"../Data/Guitar/bpm-data.pkl\")"
   ]
  },
  {
   "cell_type": "code",
   "execution_count": 57,
   "metadata": {},
   "outputs": [],
   "source": [
    "X_train, y_train, X_val, y_val, X_test, y_test = split_data(data, \"bpm\")"
   ]
  },
  {
   "cell_type": "code",
   "execution_count": 58,
   "metadata": {},
   "outputs": [
    {
     "data": {
      "image/png": "[encoded data removed]",
      "text/plain": [
       "<Figure size 864x576 with 1 Axes>"
      ]
     },
     "metadata": {
      "needs_background": "light"
     },
     "output_type": "display_data"
    },
    {
     "name": "stdout",
     "output_type": "stream",
     "text": [
      "Mean absolute error (cost function):\n",
      "training   (min:   19.574, max:   89.256, cur:   19.574)\n",
      "validation (min:   19.469, max:   50.277, cur:   19.480)\n"
     ]
    }
   ],
   "source": [
    "inputs = Input(shape=(8,))\n",
    "hidden1 = Dense(16, activation=\"relu\")(inputs)\n",
    "preds = Dense(1)(hidden1)\n",
    "\n",
    "model = Model(inputs=inputs, outputs=preds)\n",
    "sgd = keras.optimizers.Adam(lr=0.0005)\n",
    "model.compile(optimizer=sgd, loss='mean_absolute_error')\n",
    "history = model.fit(X_train, y_train, batch_size=None, epochs=10, verbose=0,\n",
    "                    validation_data=(X_val, y_val),\n",
    "                    callbacks=[PlotLossesKeras()])"
   ]
  },
  {
   "cell_type": "code",
   "execution_count": 59,
   "metadata": {},
   "outputs": [
    {
     "data": {
      "text/plain": [
       "array([[129.2044]], dtype=float32)"
      ]
     },
     "execution_count": 59,
     "metadata": {},
     "output_type": "execute_result"
    }
   ],
   "source": [
    "model.predict(pd.DataFrame({\n",
    "    \"d0\": [0.475],\n",
    "    \"d1\": [0.28125],\n",
    "    \"d2\": [0.5125],\n",
    "    \"d3\": [0.21875],\n",
    "    \"d4\": [0.28125],\n",
    "    \"d5\": [0.275],\n",
    "    \"d6\": [0.45625],\n",
    "    \"d7\": [0.15625]\n",
    "}))"
   ]
  },
  {
   "cell_type": "code",
   "execution_count": null,
   "metadata": {},
   "outputs": [],
   "source": []
  }
 ],
 "metadata": {
  "kernelspec": {
   "display_name": "Python 3",
   "language": "python",
   "name": "python3"
  },
  "language_info": {
   "codemirror_mode": {
    "name": "ipython",
    "version": 3
   },
   "file_extension": ".py",
   "mimetype": "text/x-python",
   "name": "python",
   "nbconvert_exporter": "python",
   "pygments_lexer": "ipython3",
   "version": "3.7.3"
  }
 },
 "nbformat": 4,
 "nbformat_minor": 2
}
