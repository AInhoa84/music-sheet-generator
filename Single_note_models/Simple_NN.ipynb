{
 "cells": [
  {
   "cell_type": "code",
   "execution_count": 1,
   "metadata": {},
   "outputs": [
    {
     "name": "stderr",
     "output_type": "stream",
     "text": [
      "Using TensorFlow backend.\n"
     ]
    }
   ],
   "source": [
    "import numpy as np\n",
    "import matplotlib.pyplot as plt\n",
    "import keras\n",
    "from keras import regularizers\n",
    "import tensorflow as tf\n",
    "import pandas as pd\n",
    "import librosa\n",
    "from tqdm import tqdm_notebook as tqdm\n",
    "import pickle\n",
    "%matplotlib inline"
   ]
  },
  {
   "cell_type": "code",
   "execution_count": 2,
   "metadata": {},
   "outputs": [],
   "source": [
    "data = pd.read_csv(\"../Utilities/data_note.tsv\", sep=\"\\t\", header=0)"
   ]
  },
  {
   "cell_type": "code",
   "execution_count": 3,
   "metadata": {
    "scrolled": true
   },
   "outputs": [
    {
     "data": {
      "text/html": [
       "<div>\n",
       "<style scoped>\n",
       "    .dataframe tbody tr th:only-of-type {\n",
       "        vertical-align: middle;\n",
       "    }\n",
       "\n",
       "    .dataframe tbody tr th {\n",
       "        vertical-align: top;\n",
       "    }\n",
       "\n",
       "    .dataframe thead th {\n",
       "        text-align: right;\n",
       "    }\n",
       "</style>\n",
       "<table border=\"1\" class=\"dataframe\">\n",
       "  <thead>\n",
       "    <tr style=\"text-align: right;\">\n",
       "      <th></th>\n",
       "      <th>x0</th>\n",
       "      <th>x1</th>\n",
       "      <th>x2</th>\n",
       "      <th>x3</th>\n",
       "      <th>x4</th>\n",
       "      <th>x5</th>\n",
       "      <th>x6</th>\n",
       "      <th>x7</th>\n",
       "      <th>x8</th>\n",
       "      <th>x9</th>\n",
       "      <th>...</th>\n",
       "      <th>x15991</th>\n",
       "      <th>x15992</th>\n",
       "      <th>x15993</th>\n",
       "      <th>x15994</th>\n",
       "      <th>x15995</th>\n",
       "      <th>x15996</th>\n",
       "      <th>x15997</th>\n",
       "      <th>x15998</th>\n",
       "      <th>x15999</th>\n",
       "      <th>Note</th>\n",
       "    </tr>\n",
       "  </thead>\n",
       "  <tbody>\n",
       "    <tr>\n",
       "      <th>0</th>\n",
       "      <td>0.001465</td>\n",
       "      <td>0.001681</td>\n",
       "      <td>0.005331</td>\n",
       "      <td>-0.002838</td>\n",
       "      <td>-0.015286</td>\n",
       "      <td>-0.009736</td>\n",
       "      <td>0.015490</td>\n",
       "      <td>0.010337</td>\n",
       "      <td>0.001405</td>\n",
       "      <td>0.002371</td>\n",
       "      <td>...</td>\n",
       "      <td>0.003449</td>\n",
       "      <td>0.003488</td>\n",
       "      <td>0.001495</td>\n",
       "      <td>-0.001752</td>\n",
       "      <td>-0.002831</td>\n",
       "      <td>-0.002337</td>\n",
       "      <td>-0.002936</td>\n",
       "      <td>-0.005293</td>\n",
       "      <td>-0.007221</td>\n",
       "      <td>C#3</td>\n",
       "    </tr>\n",
       "    <tr>\n",
       "      <th>1</th>\n",
       "      <td>-0.008995</td>\n",
       "      <td>-0.013210</td>\n",
       "      <td>-0.014460</td>\n",
       "      <td>-0.016820</td>\n",
       "      <td>-0.016346</td>\n",
       "      <td>-0.013873</td>\n",
       "      <td>-0.015907</td>\n",
       "      <td>-0.014268</td>\n",
       "      <td>-0.007894</td>\n",
       "      <td>-0.003954</td>\n",
       "      <td>...</td>\n",
       "      <td>-0.017439</td>\n",
       "      <td>-0.021490</td>\n",
       "      <td>-0.023198</td>\n",
       "      <td>-0.019781</td>\n",
       "      <td>-0.015293</td>\n",
       "      <td>-0.012494</td>\n",
       "      <td>-0.012988</td>\n",
       "      <td>-0.014049</td>\n",
       "      <td>-0.012630</td>\n",
       "      <td>D3</td>\n",
       "    </tr>\n",
       "    <tr>\n",
       "      <th>2</th>\n",
       "      <td>-0.009459</td>\n",
       "      <td>-0.008396</td>\n",
       "      <td>-0.008832</td>\n",
       "      <td>-0.012935</td>\n",
       "      <td>-0.010718</td>\n",
       "      <td>-0.002320</td>\n",
       "      <td>-0.002686</td>\n",
       "      <td>-0.000303</td>\n",
       "      <td>0.002634</td>\n",
       "      <td>0.000839</td>\n",
       "      <td>...</td>\n",
       "      <td>-0.001679</td>\n",
       "      <td>-0.001041</td>\n",
       "      <td>-0.000368</td>\n",
       "      <td>0.002192</td>\n",
       "      <td>0.005376</td>\n",
       "      <td>0.007840</td>\n",
       "      <td>0.006027</td>\n",
       "      <td>0.003115</td>\n",
       "      <td>0.003368</td>\n",
       "      <td>D#3</td>\n",
       "    </tr>\n",
       "    <tr>\n",
       "      <th>3</th>\n",
       "      <td>0.009730</td>\n",
       "      <td>0.016409</td>\n",
       "      <td>0.019472</td>\n",
       "      <td>0.015838</td>\n",
       "      <td>0.014779</td>\n",
       "      <td>0.016792</td>\n",
       "      <td>0.015904</td>\n",
       "      <td>0.019331</td>\n",
       "      <td>0.021950</td>\n",
       "      <td>0.020994</td>\n",
       "      <td>...</td>\n",
       "      <td>-0.005104</td>\n",
       "      <td>-0.009846</td>\n",
       "      <td>-0.014612</td>\n",
       "      <td>-0.016278</td>\n",
       "      <td>-0.014461</td>\n",
       "      <td>-0.012089</td>\n",
       "      <td>-0.009292</td>\n",
       "      <td>-0.008961</td>\n",
       "      <td>-0.012282</td>\n",
       "      <td>E3</td>\n",
       "    </tr>\n",
       "    <tr>\n",
       "      <th>4</th>\n",
       "      <td>-0.016608</td>\n",
       "      <td>-0.018866</td>\n",
       "      <td>-0.018244</td>\n",
       "      <td>-0.014823</td>\n",
       "      <td>-0.010421</td>\n",
       "      <td>-0.010667</td>\n",
       "      <td>-0.005970</td>\n",
       "      <td>-0.000487</td>\n",
       "      <td>-0.005703</td>\n",
       "      <td>-0.009161</td>\n",
       "      <td>...</td>\n",
       "      <td>-0.017657</td>\n",
       "      <td>-0.017786</td>\n",
       "      <td>-0.018655</td>\n",
       "      <td>-0.018373</td>\n",
       "      <td>-0.018204</td>\n",
       "      <td>-0.018803</td>\n",
       "      <td>-0.017219</td>\n",
       "      <td>-0.015150</td>\n",
       "      <td>-0.011934</td>\n",
       "      <td>F3</td>\n",
       "    </tr>\n",
       "  </tbody>\n",
       "</table>\n",
       "<p>5 rows × 16001 columns</p>\n",
       "</div>"
      ],
      "text/plain": [
       "         x0        x1        x2        x3        x4        x5        x6  \\\n",
       "0  0.001465  0.001681  0.005331 -0.002838 -0.015286 -0.009736  0.015490   \n",
       "1 -0.008995 -0.013210 -0.014460 -0.016820 -0.016346 -0.013873 -0.015907   \n",
       "2 -0.009459 -0.008396 -0.008832 -0.012935 -0.010718 -0.002320 -0.002686   \n",
       "3  0.009730  0.016409  0.019472  0.015838  0.014779  0.016792  0.015904   \n",
       "4 -0.016608 -0.018866 -0.018244 -0.014823 -0.010421 -0.010667 -0.005970   \n",
       "\n",
       "         x7        x8        x9  ...    x15991    x15992    x15993    x15994  \\\n",
       "0  0.010337  0.001405  0.002371  ...  0.003449  0.003488  0.001495 -0.001752   \n",
       "1 -0.014268 -0.007894 -0.003954  ... -0.017439 -0.021490 -0.023198 -0.019781   \n",
       "2 -0.000303  0.002634  0.000839  ... -0.001679 -0.001041 -0.000368  0.002192   \n",
       "3  0.019331  0.021950  0.020994  ... -0.005104 -0.009846 -0.014612 -0.016278   \n",
       "4 -0.000487 -0.005703 -0.009161  ... -0.017657 -0.017786 -0.018655 -0.018373   \n",
       "\n",
       "     x15995    x15996    x15997    x15998    x15999  Note  \n",
       "0 -0.002831 -0.002337 -0.002936 -0.005293 -0.007221   C#3  \n",
       "1 -0.015293 -0.012494 -0.012988 -0.014049 -0.012630    D3  \n",
       "2  0.005376  0.007840  0.006027  0.003115  0.003368   D#3  \n",
       "3 -0.014461 -0.012089 -0.009292 -0.008961 -0.012282    E3  \n",
       "4 -0.018204 -0.018803 -0.017219 -0.015150 -0.011934    F3  \n",
       "\n",
       "[5 rows x 16001 columns]"
      ]
     },
     "execution_count": 3,
     "metadata": {},
     "output_type": "execute_result"
    }
   ],
   "source": [
    "data.head()"
   ]
  },
  {
   "cell_type": "code",
   "execution_count": 4,
   "metadata": {},
   "outputs": [],
   "source": [
    "data[\"Note\"] = librosa.note_to_midi(data[\"Note\"]) - 49"
   ]
  },
  {
   "cell_type": "code",
   "execution_count": 5,
   "metadata": {},
   "outputs": [
    {
     "data": {
      "text/html": [
       "<div>\n",
       "<style scoped>\n",
       "    .dataframe tbody tr th:only-of-type {\n",
       "        vertical-align: middle;\n",
       "    }\n",
       "\n",
       "    .dataframe tbody tr th {\n",
       "        vertical-align: top;\n",
       "    }\n",
       "\n",
       "    .dataframe thead th {\n",
       "        text-align: right;\n",
       "    }\n",
       "</style>\n",
       "<table border=\"1\" class=\"dataframe\">\n",
       "  <thead>\n",
       "    <tr style=\"text-align: right;\">\n",
       "      <th></th>\n",
       "      <th>x0</th>\n",
       "      <th>x1</th>\n",
       "      <th>x2</th>\n",
       "      <th>x3</th>\n",
       "      <th>x4</th>\n",
       "      <th>x5</th>\n",
       "      <th>x6</th>\n",
       "      <th>x7</th>\n",
       "      <th>x8</th>\n",
       "      <th>x9</th>\n",
       "      <th>...</th>\n",
       "      <th>x15991</th>\n",
       "      <th>x15992</th>\n",
       "      <th>x15993</th>\n",
       "      <th>x15994</th>\n",
       "      <th>x15995</th>\n",
       "      <th>x15996</th>\n",
       "      <th>x15997</th>\n",
       "      <th>x15998</th>\n",
       "      <th>x15999</th>\n",
       "      <th>Note</th>\n",
       "    </tr>\n",
       "  </thead>\n",
       "  <tbody>\n",
       "    <tr>\n",
       "      <th>0</th>\n",
       "      <td>0.001465</td>\n",
       "      <td>0.001681</td>\n",
       "      <td>0.005331</td>\n",
       "      <td>-0.002838</td>\n",
       "      <td>-0.015286</td>\n",
       "      <td>-0.009736</td>\n",
       "      <td>0.015490</td>\n",
       "      <td>0.010337</td>\n",
       "      <td>0.001405</td>\n",
       "      <td>0.002371</td>\n",
       "      <td>...</td>\n",
       "      <td>0.003449</td>\n",
       "      <td>0.003488</td>\n",
       "      <td>0.001495</td>\n",
       "      <td>-0.001752</td>\n",
       "      <td>-0.002831</td>\n",
       "      <td>-0.002337</td>\n",
       "      <td>-0.002936</td>\n",
       "      <td>-0.005293</td>\n",
       "      <td>-0.007221</td>\n",
       "      <td>0</td>\n",
       "    </tr>\n",
       "    <tr>\n",
       "      <th>1</th>\n",
       "      <td>-0.008995</td>\n",
       "      <td>-0.013210</td>\n",
       "      <td>-0.014460</td>\n",
       "      <td>-0.016820</td>\n",
       "      <td>-0.016346</td>\n",
       "      <td>-0.013873</td>\n",
       "      <td>-0.015907</td>\n",
       "      <td>-0.014268</td>\n",
       "      <td>-0.007894</td>\n",
       "      <td>-0.003954</td>\n",
       "      <td>...</td>\n",
       "      <td>-0.017439</td>\n",
       "      <td>-0.021490</td>\n",
       "      <td>-0.023198</td>\n",
       "      <td>-0.019781</td>\n",
       "      <td>-0.015293</td>\n",
       "      <td>-0.012494</td>\n",
       "      <td>-0.012988</td>\n",
       "      <td>-0.014049</td>\n",
       "      <td>-0.012630</td>\n",
       "      <td>1</td>\n",
       "    </tr>\n",
       "    <tr>\n",
       "      <th>2</th>\n",
       "      <td>-0.009459</td>\n",
       "      <td>-0.008396</td>\n",
       "      <td>-0.008832</td>\n",
       "      <td>-0.012935</td>\n",
       "      <td>-0.010718</td>\n",
       "      <td>-0.002320</td>\n",
       "      <td>-0.002686</td>\n",
       "      <td>-0.000303</td>\n",
       "      <td>0.002634</td>\n",
       "      <td>0.000839</td>\n",
       "      <td>...</td>\n",
       "      <td>-0.001679</td>\n",
       "      <td>-0.001041</td>\n",
       "      <td>-0.000368</td>\n",
       "      <td>0.002192</td>\n",
       "      <td>0.005376</td>\n",
       "      <td>0.007840</td>\n",
       "      <td>0.006027</td>\n",
       "      <td>0.003115</td>\n",
       "      <td>0.003368</td>\n",
       "      <td>2</td>\n",
       "    </tr>\n",
       "    <tr>\n",
       "      <th>3</th>\n",
       "      <td>0.009730</td>\n",
       "      <td>0.016409</td>\n",
       "      <td>0.019472</td>\n",
       "      <td>0.015838</td>\n",
       "      <td>0.014779</td>\n",
       "      <td>0.016792</td>\n",
       "      <td>0.015904</td>\n",
       "      <td>0.019331</td>\n",
       "      <td>0.021950</td>\n",
       "      <td>0.020994</td>\n",
       "      <td>...</td>\n",
       "      <td>-0.005104</td>\n",
       "      <td>-0.009846</td>\n",
       "      <td>-0.014612</td>\n",
       "      <td>-0.016278</td>\n",
       "      <td>-0.014461</td>\n",
       "      <td>-0.012089</td>\n",
       "      <td>-0.009292</td>\n",
       "      <td>-0.008961</td>\n",
       "      <td>-0.012282</td>\n",
       "      <td>3</td>\n",
       "    </tr>\n",
       "    <tr>\n",
       "      <th>4</th>\n",
       "      <td>-0.016608</td>\n",
       "      <td>-0.018866</td>\n",
       "      <td>-0.018244</td>\n",
       "      <td>-0.014823</td>\n",
       "      <td>-0.010421</td>\n",
       "      <td>-0.010667</td>\n",
       "      <td>-0.005970</td>\n",
       "      <td>-0.000487</td>\n",
       "      <td>-0.005703</td>\n",
       "      <td>-0.009161</td>\n",
       "      <td>...</td>\n",
       "      <td>-0.017657</td>\n",
       "      <td>-0.017786</td>\n",
       "      <td>-0.018655</td>\n",
       "      <td>-0.018373</td>\n",
       "      <td>-0.018204</td>\n",
       "      <td>-0.018803</td>\n",
       "      <td>-0.017219</td>\n",
       "      <td>-0.015150</td>\n",
       "      <td>-0.011934</td>\n",
       "      <td>4</td>\n",
       "    </tr>\n",
       "  </tbody>\n",
       "</table>\n",
       "<p>5 rows × 16001 columns</p>\n",
       "</div>"
      ],
      "text/plain": [
       "         x0        x1        x2        x3        x4        x5        x6  \\\n",
       "0  0.001465  0.001681  0.005331 -0.002838 -0.015286 -0.009736  0.015490   \n",
       "1 -0.008995 -0.013210 -0.014460 -0.016820 -0.016346 -0.013873 -0.015907   \n",
       "2 -0.009459 -0.008396 -0.008832 -0.012935 -0.010718 -0.002320 -0.002686   \n",
       "3  0.009730  0.016409  0.019472  0.015838  0.014779  0.016792  0.015904   \n",
       "4 -0.016608 -0.018866 -0.018244 -0.014823 -0.010421 -0.010667 -0.005970   \n",
       "\n",
       "         x7        x8        x9  ...    x15991    x15992    x15993    x15994  \\\n",
       "0  0.010337  0.001405  0.002371  ...  0.003449  0.003488  0.001495 -0.001752   \n",
       "1 -0.014268 -0.007894 -0.003954  ... -0.017439 -0.021490 -0.023198 -0.019781   \n",
       "2 -0.000303  0.002634  0.000839  ... -0.001679 -0.001041 -0.000368  0.002192   \n",
       "3  0.019331  0.021950  0.020994  ... -0.005104 -0.009846 -0.014612 -0.016278   \n",
       "4 -0.000487 -0.005703 -0.009161  ... -0.017657 -0.017786 -0.018655 -0.018373   \n",
       "\n",
       "     x15995    x15996    x15997    x15998    x15999  Note  \n",
       "0 -0.002831 -0.002337 -0.002936 -0.005293 -0.007221     0  \n",
       "1 -0.015293 -0.012494 -0.012988 -0.014049 -0.012630     1  \n",
       "2  0.005376  0.007840  0.006027  0.003115  0.003368     2  \n",
       "3 -0.014461 -0.012089 -0.009292 -0.008961 -0.012282     3  \n",
       "4 -0.018204 -0.018803 -0.017219 -0.015150 -0.011934     4  \n",
       "\n",
       "[5 rows x 16001 columns]"
      ]
     },
     "execution_count": 5,
     "metadata": {},
     "output_type": "execute_result"
    }
   ],
   "source": [
    "data.head()"
   ]
  },
  {
   "cell_type": "code",
   "execution_count": 6,
   "metadata": {},
   "outputs": [],
   "source": [
    "def create_xy(df, target_column):\n",
    "    return df.drop(target_column, axis=1), df[target_column]\n",
    "\n",
    "def split_data(df, target_column):\n",
    "    X_train, y_train = create_xy(df.sample(round(0.8*df.shape[0])), target_column)\n",
    "    df = df.drop(X_train.index)\n",
    "    X_val, y_val = create_xy(df.sample(round(0.5*df.shape[0])), target_column)\n",
    "    df = df.drop(X_val.index)\n",
    "    X_test, y_test = create_xy(df, target_column)\n",
    "    return X_train, y_train, X_val, y_val, X_test, y_test"
   ]
  },
  {
   "cell_type": "code",
   "execution_count": 7,
   "metadata": {},
   "outputs": [],
   "source": [
    "X_train, y_train, X_val, y_val, X_test, y_test = split_data(data, \"Note\")"
   ]
  },
  {
   "cell_type": "code",
   "execution_count": 8,
   "metadata": {},
   "outputs": [
    {
     "name": "stdout",
     "output_type": "stream",
     "text": [
      "WARNING:tensorflow:From e:\\anaconda\\envs\\tfm\\lib\\site-packages\\tensorflow\\python\\framework\\op_def_library.py:263: colocate_with (from tensorflow.python.framework.ops) is deprecated and will be removed in a future version.\n",
      "Instructions for updating:\n",
      "Colocations handled automatically by placer.\n"
     ]
    }
   ],
   "source": [
    "model = keras.Sequential([\n",
    "    keras.layers.Dense(256, input_shape=(16000,)),\n",
    "    keras.layers.Dense(128, activation=tf.nn.relu),\n",
    "    keras.layers.Dense(35, activation=tf.nn.softmax)\n",
    "])"
   ]
  },
  {
   "cell_type": "code",
   "execution_count": 9,
   "metadata": {},
   "outputs": [],
   "source": [
    "model.compile(optimizer='adam', \n",
    "              loss='sparse_categorical_crossentropy',\n",
    "              metrics=['accuracy'])"
   ]
  },
  {
   "cell_type": "code",
   "execution_count": 10,
   "metadata": {},
   "outputs": [
    {
     "name": "stdout",
     "output_type": "stream",
     "text": [
      "WARNING:tensorflow:From e:\\anaconda\\envs\\tfm\\lib\\site-packages\\tensorflow\\python\\ops\\math_ops.py:3066: to_int32 (from tensorflow.python.ops.math_ops) is deprecated and will be removed in a future version.\n",
      "Instructions for updating:\n",
      "Use tf.cast instead.\n",
      "Epoch 1/5\n",
      " - 2s - loss: 3.1651 - acc: 0.4000\n",
      "Epoch 2/5\n",
      " - 1s - loss: 1.7264 - acc: 0.8071\n",
      "Epoch 3/5\n",
      " - 1s - loss: 0.9732 - acc: 0.8696\n",
      "Epoch 4/5\n",
      " - 1s - loss: 0.5964 - acc: 0.9179\n",
      "Epoch 5/5\n",
      " - 1s - loss: 0.3502 - acc: 0.9786\n"
     ]
    },
    {
     "data": {
      "text/plain": [
       "<keras.callbacks.History at 0x1f18746a20>"
      ]
     },
     "execution_count": 10,
     "metadata": {},
     "output_type": "execute_result"
    }
   ],
   "source": [
    "model.fit(X_train, y_train, epochs=5, verbose=2)"
   ]
  },
  {
   "cell_type": "code",
   "execution_count": 11,
   "metadata": {},
   "outputs": [
    {
     "name": "stdout",
     "output_type": "stream",
     "text": [
      "70/70 [==============================] - ETA:  - 0s 559us/step\n"
     ]
    }
   ],
   "source": [
    "val_loss, val_acc = model.evaluate(X_val, y_val)"
   ]
  },
  {
   "cell_type": "code",
   "execution_count": 12,
   "metadata": {},
   "outputs": [
    {
     "name": "stdout",
     "output_type": "stream",
     "text": [
      "Cross-validation accuracy: 0.7285714302744184\n"
     ]
    }
   ],
   "source": [
    "print('Cross-validation accuracy:', val_acc)"
   ]
  },
  {
   "cell_type": "code",
   "execution_count": 13,
   "metadata": {},
   "outputs": [
    {
     "name": "stdout",
     "output_type": "stream",
     "text": [
      "      13       13\n",
      "      18       18\n",
      "      20        8\n",
      "      29       26\n",
      "       2        2\n",
      "      13       13\n",
      "      32       32\n",
      "       9        9\n",
      "      10       10\n",
      "       3        3\n",
      "       3        3\n",
      "      12       12\n",
      "      29       29\n",
      "      23       11\n",
      "       9       28\n",
      "      30       18\n",
      "      18       18\n",
      "      23       23\n",
      "      18       18\n",
      "      33       33\n",
      "       5        5\n",
      "       4        4\n",
      "       9       33\n",
      "       2        2\n",
      "      14        2\n",
      "       7        7\n",
      "      11       11\n",
      "      11       11\n",
      "      14       14\n",
      "      16       16\n",
      "      15       27\n",
      "       9       28\n",
      "       7        7\n",
      "      16       16\n",
      "      22       34\n",
      "       2        2\n",
      "      21       33\n",
      "       6        6\n",
      "       4        4\n",
      "      15       15\n",
      "      17       17\n",
      "       2        2\n",
      "       8        8\n",
      "      12        0\n",
      "       3        3\n",
      "      12        0\n",
      "      23       23\n",
      "      14       14\n",
      "       0        0\n",
      "      15       15\n",
      "       7        7\n",
      "      19        7\n",
      "      29       14\n",
      "      31       31\n",
      "      13       25\n",
      "       0       12\n",
      "      28       28\n",
      "      11       11\n",
      "       1        1\n",
      "      12       12\n",
      "      30       30\n",
      "      24       24\n",
      "      22       22\n",
      "      23       23\n",
      "      15       15\n",
      "       8        8\n",
      "      24       24\n",
      "      15       27\n",
      "      29       17\n",
      "       1        1\n"
     ]
    }
   ],
   "source": [
    "predictions = np.argmax(model.predict(X_val), axis=1)\n",
    "\n",
    "for i, j in zip(predictions, y_val):\n",
    "    print(\"{:>8} {:>8}\".format(i, j))"
   ]
  },
  {
   "cell_type": "code",
   "execution_count": 14,
   "metadata": {},
   "outputs": [
    {
     "data": {
      "application/vnd.jupyter.widget-view+json": {
       "model_id": "4803d90eaf77478bb3748b98789f27b1",
       "version_major": 2,
       "version_minor": 0
      },
      "text/plain": [
       "HBox(children=(IntProgress(value=0, max=60), HTML(value='')))"
      ]
     },
     "metadata": {},
     "output_type": "display_data"
    },
    {
     "name": "stdout",
     "output_type": "stream",
     "text": [
      "70/70 [==============================] - ETA:  - 0s 602us/step\n",
      "70/70 [==============================] - ETA:  - 0s 731us/step\n",
      "70/70 [==============================] - ETA:  - 0s 859us/step\n",
      "70/70 [==============================] - ETA:  - 0s 974us/step\n",
      "70/70 [==============================] - ETA:  - 0s 1ms/step\n",
      "70/70 [==============================] - ETA:  - 0s 1ms/step\n",
      "70/70 [==============================] - ETA:  - 0s 1ms/step\n",
      "70/70 [==============================] - ETA:  - 0s 1ms/step\n",
      "70/70 [==============================] - ETA:  - 0s 2ms/step\n",
      "70/70 [==============================] - ETA:  - 0s 2ms/step\n",
      "70/70 [==============================] - ETA:  - 0s 2ms/step\n",
      "70/70 [==============================] - ETA:  - 0s 2ms/step\n",
      "70/70 [==============================] - ETA:  - 0s 2ms/step\n",
      "70/70 [==============================] - ETA:  - 0s 2ms/step\n",
      "70/70 [==============================] - ETA:  - 0s 2ms/step\n",
      "70/70 [==============================] - ETA:  - 0s 2ms/step\n",
      "70/70 [==============================] - ETA:  - 0s 2ms/step\n",
      "70/70 [==============================] - ETA:  - 0s 3ms/step\n",
      "70/70 [==============================] - ETA:  - 0s 3ms/step\n",
      "70/70 [==============================] - ETA:  - 0s 3ms/step\n",
      "70/70 [==============================] - ETA:  - 0s 3ms/step\n",
      "70/70 [==============================] - ETA:  - 0s 3ms/step\n",
      "70/70 [==============================] - ETA:  - 0s 3ms/step\n",
      "70/70 [==============================] - ETA:  - 0s 3ms/step\n",
      "70/70 [==============================] - ETA:  - 0s 3ms/step\n",
      "70/70 [==============================] - ETA:  - 0s 4ms/step\n",
      "70/70 [==============================] - ETA:  - 0s 4ms/step\n",
      "70/70 [==============================] - ETA:  - 0s 4ms/step\n",
      "70/70 [==============================] - ETA:  - 0s 4ms/step\n",
      "70/70 [==============================] - ETA:  - 0s 4ms/step\n",
      "70/70 [==============================] - ETA:  - 0s 4ms/step\n",
      "70/70 [==============================] - ETA:  - 0s 4ms/step\n",
      "70/70 [==============================] - ETA:  - 0s 4ms/step\n",
      "70/70 [==============================] - ETA:  - 0s 5ms/step\n",
      "70/70 [==============================] - ETA:  - 0s 5ms/step\n",
      "70/70 [==============================] - ETA:  - 0s 5ms/step\n",
      "70/70 [==============================] - ETA:  - 0s 5ms/step\n",
      "70/70 [==============================] - ETA:  - 0s 5ms/step\n",
      "70/70 [==============================] - ETA:  - 0s 5ms/step\n",
      "70/70 [==============================] - ETA:  - 0s 5ms/step\n",
      "70/70 [==============================] - ETA:  - 0s 5ms/step\n",
      "70/70 [==============================] - ETA:  - 0s 6ms/step\n",
      "70/70 [==============================] - ETA:  - 0s 6ms/step\n",
      "70/70 [==============================] - ETA:  - 0s 6ms/step\n",
      "70/70 [==============================] - ETA:  - 0s 6ms/step\n",
      "70/70 [==============================] - ETA:  - 0s 6ms/step\n",
      "70/70 [==============================] - ETA:  - 0s 6ms/step\n",
      "70/70 [==============================] - ETA:  - 0s 6ms/step\n",
      "70/70 [==============================] - ETA:  - 0s 6ms/step\n",
      "70/70 [==============================] - ETA:  - 0s 7ms/step\n",
      "70/70 [==============================] - ETA:  - 0s 7ms/step\n",
      "70/70 [==============================] - ETA:  - 0s 7ms/step\n",
      "70/70 [==============================] - ETA:  - 0s 7ms/step\n",
      "70/70 [==============================] - ETA:  - 1s 7ms/step\n",
      "70/70 [==============================] - ETA:  - 1s 7ms/step\n",
      "70/70 [==============================] - ETA:  - 1s 7ms/step\n",
      "70/70 [==============================] - ETA:  - 1s 8ms/step\n",
      "70/70 [==============================] - ETA:  - 1s 8ms/step\n",
      "70/70 [==============================] - ETA:  - 1s 8ms/step\n",
      "70/70 [==============================] - ETA:  - 1s 8ms/step\n",
      "\n"
     ]
    },
    {
     "data": {
      "text/plain": [
       "Text(0, 0.5, 'Model score')"
      ]
     },
     "execution_count": 14,
     "metadata": {},
     "output_type": "execute_result"
    },
    {
     "data": {
      "image/png": "[encoded data removed]",
      "text/plain": [
       "<Figure size 1296x432 with 1 Axes>"
      ]
     },
     "metadata": {
      "needs_background": "light"
     },
     "output_type": "display_data"
    }
   ],
   "source": [
    "n_samples = []\n",
    "scores = []\n",
    "\n",
    "for i in tqdm(range(100, data.shape[0], 10)):\n",
    "    n_samples.append(i)\n",
    "    x = X_train.sample(frac=1).iloc[:i]\n",
    "    y = y_train.sample(frac=1).iloc[:i]\n",
    "    model.compile(optimizer='adam', \n",
    "              loss='sparse_categorical_crossentropy',\n",
    "              metrics=['accuracy'])\n",
    "    model.fit(X_train, y_train, epochs=5, verbose=0)\n",
    "    val_loss, val_acc = model.evaluate(X_val, y_val)\n",
    "    scores.append(val_acc)\n",
    "\n",
    "plt.figure(figsize=(18,6))\n",
    "plt.plot(n_samples, scores)\n",
    "plt.xlabel(\"Number of samples\")\n",
    "plt.ylabel(\"Model score\")"
   ]
  },
  {
   "cell_type": "code",
   "execution_count": 15,
   "metadata": {},
   "outputs": [],
   "source": [
    "data = pd.read_pickle(\"../Utilities/data-FL-Ivy.pkl\")"
   ]
  },
  {
   "cell_type": "code",
   "execution_count": 16,
   "metadata": {},
   "outputs": [],
   "source": [
    "data[\"Note\"] = librosa.note_to_midi(data[\"Note\"]) - 49"
   ]
  },
  {
   "cell_type": "code",
   "execution_count": 17,
   "metadata": {},
   "outputs": [],
   "source": [
    "X_train, y_train, X_val, y_val, X_test, y_test = split_data(data, \"Note\")"
   ]
  },
  {
   "cell_type": "code",
   "execution_count": 18,
   "metadata": {},
   "outputs": [],
   "source": [
    "model = keras.Sequential([\n",
    "    keras.layers.Dense(256, input_shape=(16000,)),\n",
    "    keras.layers.Dense(128, activation=tf.nn.relu),\n",
    "    keras.layers.Dense(35, activation=tf.nn.softmax)\n",
    "])"
   ]
  },
  {
   "cell_type": "code",
   "execution_count": 19,
   "metadata": {},
   "outputs": [],
   "source": [
    "model.compile(optimizer='adam', \n",
    "              loss='sparse_categorical_crossentropy',\n",
    "              metrics=['accuracy'])"
   ]
  },
  {
   "cell_type": "code",
   "execution_count": 20,
   "metadata": {},
   "outputs": [
    {
     "name": "stdout",
     "output_type": "stream",
     "text": [
      "Epoch 1/20\n",
      " - 5s - loss: 3.2645 - acc: 0.3214\n",
      "Epoch 2/20\n",
      " - 3s - loss: 2.4170 - acc: 0.6310\n",
      "Epoch 3/20\n",
      " - 3s - loss: 1.8915 - acc: 0.7577\n",
      "Epoch 4/20\n",
      " - 3s - loss: 1.4796 - acc: 0.8357\n",
      "Epoch 5/20\n",
      " - 3s - loss: 1.1875 - acc: 0.8786\n",
      "Epoch 6/20\n",
      " - 3s - loss: 0.9602 - acc: 0.9107\n",
      "Epoch 7/20\n",
      " - 3s - loss: 0.8246 - acc: 0.9214\n",
      "Epoch 8/20\n",
      " - 3s - loss: 0.6846 - acc: 0.9321\n",
      "Epoch 9/20\n",
      " - 3s - loss: 0.5736 - acc: 0.9476\n",
      "Epoch 10/20\n",
      " - 3s - loss: 0.4964 - acc: 0.9595\n",
      "Epoch 11/20\n",
      " - 3s - loss: 0.4430 - acc: 0.9690\n",
      "Epoch 12/20\n",
      " - 3s - loss: 0.4275 - acc: 0.9655\n",
      "Epoch 13/20\n",
      " - 3s - loss: 0.3667 - acc: 0.9690\n",
      "Epoch 14/20\n",
      " - 3s - loss: 0.3247 - acc: 0.9774\n",
      "Epoch 15/20\n",
      " - 3s - loss: 0.3525 - acc: 0.9714\n",
      "Epoch 16/20\n",
      " - 3s - loss: 0.3837 - acc: 0.9631\n",
      "Epoch 17/20\n",
      " - 3s - loss: 0.4136 - acc: 0.9619\n",
      "Epoch 18/20\n",
      " - 3s - loss: 0.3932 - acc: 0.9685\n",
      "Epoch 19/20\n",
      " - 3s - loss: 0.3344 - acc: 0.9679\n",
      "Epoch 20/20\n",
      " - 3s - loss: 0.2797 - acc: 0.9744\n"
     ]
    },
    {
     "data": {
      "text/plain": [
       "<keras.callbacks.History at 0x1f28e52b70>"
      ]
     },
     "execution_count": 20,
     "metadata": {},
     "output_type": "execute_result"
    }
   ],
   "source": [
    "model.fit(X_train, y_train, epochs=20, verbose=2)"
   ]
  },
  {
   "cell_type": "code",
   "execution_count": 21,
   "metadata": {},
   "outputs": [
    {
     "name": "stdout",
     "output_type": "stream",
     "text": [
      "94/94 [==============================] - ETA:  - 1s 6ms/step\n"
     ]
    }
   ],
   "source": [
    "val_loss, val_acc = model.evaluate(X_val, y_val)"
   ]
  },
  {
   "cell_type": "code",
   "execution_count": 22,
   "metadata": {},
   "outputs": [
    {
     "name": "stdout",
     "output_type": "stream",
     "text": [
      "0.8723404191909953\n"
     ]
    }
   ],
   "source": [
    "print(val_acc)"
   ]
  },
  {
   "cell_type": "code",
   "execution_count": 27,
   "metadata": {},
   "outputs": [],
   "source": [
    "data = pd.read_pickle(\"../Utilities/data-piano-large.pkl\")"
   ]
  },
  {
   "cell_type": "code",
   "execution_count": 28,
   "metadata": {},
   "outputs": [],
   "source": [
    "data[\"Note\"] = librosa.note_to_midi(data[\"Note\"]) - 49"
   ]
  },
  {
   "cell_type": "code",
   "execution_count": 29,
   "metadata": {},
   "outputs": [],
   "source": [
    "X_train, y_train, X_val, y_val, X_test, y_test = split_data(data, \"Note\")"
   ]
  },
  {
   "cell_type": "code",
   "execution_count": 30,
   "metadata": {},
   "outputs": [],
   "source": [
    "model = keras.Sequential([\n",
    "    keras.layers.Dense(256, input_shape=(16000,)),\n",
    "    keras.layers.Dense(128, activation=tf.nn.relu),\n",
    "    keras.layers.Dense(35, activation=tf.nn.softmax)\n",
    "])"
   ]
  },
  {
   "cell_type": "code",
   "execution_count": 31,
   "metadata": {},
   "outputs": [],
   "source": [
    "model.compile(optimizer='adam', \n",
    "              loss='sparse_categorical_crossentropy',\n",
    "              metrics=['accuracy'])"
   ]
  },
  {
   "cell_type": "code",
   "execution_count": 32,
   "metadata": {},
   "outputs": [
    {
     "name": "stdout",
     "output_type": "stream",
     "text": [
      "Epoch 1/20\n",
      " - 4s - loss: 3.1734 - acc: 0.3587\n",
      "Epoch 2/20\n",
      " - 4s - loss: 2.1846 - acc: 0.6882\n",
      "Epoch 3/20\n",
      " - 4s - loss: 1.6760 - acc: 0.7791\n",
      "Epoch 4/20\n",
      " - 4s - loss: 1.3656 - acc: 0.8294\n",
      "Epoch 5/20\n",
      " - 4s - loss: 1.1489 - acc: 0.8622\n",
      "Epoch 6/20\n",
      " - 4s - loss: 0.9668 - acc: 0.8954\n",
      "Epoch 7/20\n",
      " - 4s - loss: 0.8451 - acc: 0.9140\n",
      "Epoch 8/20\n",
      " - 4s - loss: 0.7131 - acc: 0.9374\n",
      "Epoch 9/20\n",
      " - 4s - loss: 0.6551 - acc: 0.9448\n",
      "Epoch 10/20\n",
      " - 4s - loss: 0.6152 - acc: 0.9423\n",
      "Epoch 11/20\n",
      " - 4s - loss: 0.5346 - acc: 0.9492\n",
      "Epoch 12/20\n",
      " - 4s - loss: 0.4915 - acc: 0.9594\n",
      "Epoch 13/20\n",
      " - 4s - loss: 0.4382 - acc: 0.9682\n",
      "Epoch 14/20\n",
      " - 4s - loss: 0.3714 - acc: 0.9736\n",
      "Epoch 15/20\n",
      " - 4s - loss: 0.3541 - acc: 0.9721\n",
      "Epoch 16/20\n",
      " - 4s - loss: 0.3908 - acc: 0.9638\n",
      "Epoch 17/20\n",
      " - 4s - loss: 0.5667 - acc: 0.9428\n",
      "Epoch 18/20\n",
      " - 4s - loss: 0.5842 - acc: 0.9370\n",
      "Epoch 19/20\n",
      " - 4s - loss: 0.5362 - acc: 0.9448\n",
      "Epoch 20/20\n",
      " - 4s - loss: 0.4627 - acc: 0.9526\n"
     ]
    },
    {
     "data": {
      "text/plain": [
       "<keras.callbacks.History at 0xa0b386f748>"
      ]
     },
     "execution_count": 32,
     "metadata": {},
     "output_type": "execute_result"
    }
   ],
   "source": [
    "model.fit(X_train, y_train, epochs=20, verbose=2)"
   ]
  },
  {
   "cell_type": "code",
   "execution_count": 33,
   "metadata": {},
   "outputs": [
    {
     "name": "stdout",
     "output_type": "stream",
     "text": [
      "82/82 [==============================] - ETA:  - 0s 844us/step\n"
     ]
    }
   ],
   "source": [
    "val_loss, val_acc = model.evaluate(X_val, y_val)"
   ]
  },
  {
   "cell_type": "code",
   "execution_count": 34,
   "metadata": {},
   "outputs": [
    {
     "name": "stdout",
     "output_type": "stream",
     "text": [
      "0.9146341463414634\n"
     ]
    }
   ],
   "source": [
    "print(val_acc)"
   ]
  }
 ],
 "metadata": {
  "kernelspec": {
   "display_name": "Python 3",
   "language": "python",
   "name": "python3"
  },
  "language_info": {
   "codemirror_mode": {
    "name": "ipython",
    "version": 3
   },
   "file_extension": ".py",
   "mimetype": "text/x-python",
   "name": "python",
   "nbconvert_exporter": "python",
   "pygments_lexer": "ipython3",
   "version": "3.7.3"
  }
 },
 "nbformat": 4,
 "nbformat_minor": 2
}
