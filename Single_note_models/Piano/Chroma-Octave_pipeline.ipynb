{
 "cells": [
  {
   "cell_type": "code",
   "execution_count": 1,
   "metadata": {},
   "outputs": [
    {
     "name": "stderr",
     "output_type": "stream",
     "text": [
      "Using TensorFlow backend.\n"
     ]
    }
   ],
   "source": [
    "import numpy as np\n",
    "import matplotlib.pyplot as plt\n",
    "import keras\n",
    "import tensorflow as tf\n",
    "import pandas as pd\n",
    "import librosa\n",
    "from tqdm import tqdm_notebook as tqdm\n",
    "import pickle\n",
    "import IPython.display as ipd\n",
    "import librosa.display\n",
    "from catboost import CatBoostClassifier\n",
    "from catboost import Pool\n",
    "from sklearn import svm\n",
    "from sklearn.linear_model import LogisticRegression\n",
    "%matplotlib inline"
   ]
  },
  {
   "cell_type": "markdown",
   "metadata": {},
   "source": [
    "## Chroma"
   ]
  },
  {
   "cell_type": "code",
   "execution_count": 2,
   "metadata": {},
   "outputs": [],
   "source": [
    "data = pd.read_pickle(\"../Data/Piano/data-piano-xl.pkl\")"
   ]
  },
  {
   "cell_type": "code",
   "execution_count": 3,
   "metadata": {},
   "outputs": [],
   "source": [
    "data[\"Chroma\"] = data[\"Note\"].apply(lambda x: x[:-1])"
   ]
  },
  {
   "cell_type": "code",
   "execution_count": 4,
   "metadata": {},
   "outputs": [
    {
     "data": {
      "text/plain": [
       "array(['C#', 'D', 'D#', 'E', 'F', 'F#', 'G', 'G#', 'A', 'A#', 'B', 'C'],\n",
       "      dtype=object)"
      ]
     },
     "execution_count": 4,
     "metadata": {},
     "output_type": "execute_result"
    }
   ],
   "source": [
    "data[\"Chroma\"].unique()"
   ]
  },
  {
   "cell_type": "code",
   "execution_count": 5,
   "metadata": {},
   "outputs": [],
   "source": [
    "data[\"Chroma\"] = data[\"Chroma\"].apply(lambda x: librosa.note_to_midi(x + \"0\") - 12)"
   ]
  },
  {
   "cell_type": "code",
   "execution_count": 6,
   "metadata": {},
   "outputs": [
    {
     "data": {
      "text/plain": [
       "array([ 1,  2,  3,  4,  5,  6,  7,  8,  9, 10, 11,  0], dtype=int64)"
      ]
     },
     "execution_count": 6,
     "metadata": {},
     "output_type": "execute_result"
    }
   ],
   "source": [
    "data[\"Chroma\"].unique()"
   ]
  },
  {
   "cell_type": "code",
   "execution_count": 7,
   "metadata": {},
   "outputs": [],
   "source": [
    "def create_xy(df, target_column):\n",
    "    return df.drop(target_column, axis=1), df[target_column]\n",
    "\n",
    "def split_data(df, target_column):\n",
    "    X_train, y_train = create_xy(df.sample(round(0.8*df.shape[0])), target_column)\n",
    "    df = df.drop(X_train.index)\n",
    "    X_val, y_val = create_xy(df.sample(round(0.5*df.shape[0])), target_column)\n",
    "    df = df.drop(X_val.index)\n",
    "    X_test, y_test = create_xy(df, target_column)\n",
    "    return X_train, y_train, X_val, y_val, X_test, y_test"
   ]
  },
  {
   "cell_type": "code",
   "execution_count": 8,
   "metadata": {},
   "outputs": [],
   "source": [
    "X_train, y_train, X_val, y_val, X_test, y_test = split_data(data.drop([\"Piano\", \"Note\"], axis=1), \"Chroma\")"
   ]
  },
  {
   "cell_type": "code",
   "execution_count": 9,
   "metadata": {},
   "outputs": [
    {
     "name": "stdout",
     "output_type": "stream",
     "text": [
      "WARNING:tensorflow:From e:\\anaconda\\envs\\tfm\\lib\\site-packages\\tensorflow\\python\\framework\\op_def_library.py:263: colocate_with (from tensorflow.python.framework.ops) is deprecated and will be removed in a future version.\n",
      "Instructions for updating:\n",
      "Colocations handled automatically by placer.\n"
     ]
    }
   ],
   "source": [
    "chroma_model = keras.Sequential([\n",
    "    keras.layers.Dense(256, input_shape=(16000,)),\n",
    "    keras.layers.Dense(128, activation=tf.nn.relu),\n",
    "    keras.layers.Dense(12, activation=tf.nn.softmax)\n",
    "])\n",
    "chroma_model.compile(optimizer='adam', \n",
    "              loss='sparse_categorical_crossentropy',\n",
    "              metrics=['accuracy'])"
   ]
  },
  {
   "cell_type": "code",
   "execution_count": 10,
   "metadata": {},
   "outputs": [
    {
     "name": "stdout",
     "output_type": "stream",
     "text": [
      "WARNING:tensorflow:From e:\\anaconda\\envs\\tfm\\lib\\site-packages\\tensorflow\\python\\ops\\math_ops.py:3066: to_int32 (from tensorflow.python.ops.math_ops) is deprecated and will be removed in a future version.\n",
      "Instructions for updating:\n",
      "Use tf.cast instead.\n",
      "Epoch 1/10\n",
      " - 6s - loss: 1.6339 - acc: 0.6925\n",
      "Epoch 2/10\n",
      " - 5s - loss: 0.8516 - acc: 0.9377\n",
      "Epoch 3/10\n",
      " - 5s - loss: 0.6492 - acc: 0.9595\n",
      "Epoch 4/10\n",
      " - 5s - loss: 0.4777 - acc: 0.9785\n",
      "Epoch 5/10\n",
      " - 5s - loss: 0.3756 - acc: 0.9866\n",
      "Epoch 6/10\n",
      " - 5s - loss: 0.3636 - acc: 0.9845\n",
      "Epoch 7/10\n",
      " - 5s - loss: 0.2710 - acc: 0.9916\n",
      "Epoch 8/10\n",
      " - 5s - loss: 0.2368 - acc: 0.9916\n",
      "Epoch 9/10\n",
      " - 5s - loss: 0.2495 - acc: 0.9873\n",
      "Epoch 10/10\n",
      " - 5s - loss: 0.3055 - acc: 0.9803\n"
     ]
    },
    {
     "data": {
      "text/plain": [
       "<keras.callbacks.History at 0xd9c738ae10>"
      ]
     },
     "execution_count": 10,
     "metadata": {},
     "output_type": "execute_result"
    }
   ],
   "source": [
    "chroma_model.fit(X_train, y_train, epochs=10, verbose=2)"
   ]
  },
  {
   "cell_type": "code",
   "execution_count": 11,
   "metadata": {},
   "outputs": [
    {
     "name": "stdout",
     "output_type": "stream",
     "text": [
      "308/308 [==============================] - ETA:  - ETA:  - 0s 319us/step\n"
     ]
    },
    {
     "data": {
      "text/plain": [
       "0.9740259732518878"
      ]
     },
     "execution_count": 11,
     "metadata": {},
     "output_type": "execute_result"
    }
   ],
   "source": [
    "val_loss, val_acc = chroma_model.evaluate(X_val, y_val)\n",
    "val_acc"
   ]
  },
  {
   "cell_type": "markdown",
   "metadata": {},
   "source": [
    "## Octave"
   ]
  },
  {
   "cell_type": "code",
   "execution_count": 8,
   "metadata": {},
   "outputs": [],
   "source": [
    "data[\"Octave\"] = data[\"Note\"].apply(lambda x: int(x[-1]) - 3)"
   ]
  },
  {
   "cell_type": "code",
   "execution_count": 9,
   "metadata": {},
   "outputs": [
    {
     "data": {
      "text/plain": [
       "array([0, 1, 2], dtype=int64)"
      ]
     },
     "execution_count": 9,
     "metadata": {},
     "output_type": "execute_result"
    }
   ],
   "source": [
    "data[\"Octave\"].unique()"
   ]
  },
  {
   "cell_type": "markdown",
   "metadata": {},
   "source": [
    "### NN"
   ]
  },
  {
   "cell_type": "code",
   "execution_count": 14,
   "metadata": {},
   "outputs": [],
   "source": [
    "X_train, y_train, X_val, y_val, X_test, y_test = split_data(data.drop([\"Piano\", \"Note\"], axis=1), \"Octave\")"
   ]
  },
  {
   "cell_type": "code",
   "execution_count": 15,
   "metadata": {},
   "outputs": [],
   "source": [
    "octave_model = keras.Sequential([\n",
    "    keras.layers.Dense(256, input_shape=(16000,)),\n",
    "    keras.layers.Dense(128, activation=tf.nn.relu),\n",
    "    keras.layers.Dense(3, activation=tf.nn.softmax)\n",
    "])\n",
    "octave_model.compile(optimizer='adam', \n",
    "              loss='sparse_categorical_crossentropy',\n",
    "              metrics=['accuracy'])"
   ]
  },
  {
   "cell_type": "code",
   "execution_count": 16,
   "metadata": {},
   "outputs": [
    {
     "name": "stdout",
     "output_type": "stream",
     "text": [
      "Epoch 1/10\n",
      " - 6s - loss: 0.8467 - acc: 0.6189\n",
      "Epoch 2/10\n",
      " - 5s - loss: 0.5496 - acc: 0.8033\n",
      "Epoch 3/10\n",
      " - 5s - loss: 0.4464 - acc: 0.8600\n",
      "Epoch 4/10\n",
      " - 5s - loss: 0.3673 - acc: 0.9068\n",
      "Epoch 5/10\n",
      " - 5s - loss: 0.3295 - acc: 0.9156\n",
      "Epoch 6/10\n",
      " - 5s - loss: 0.3606 - acc: 0.9205\n",
      "Epoch 7/10\n",
      " - 5s - loss: 0.2908 - acc: 0.9317\n",
      "Epoch 8/10\n",
      " - 5s - loss: 0.2722 - acc: 0.9384\n",
      "Epoch 9/10\n",
      " - 5s - loss: 0.2373 - acc: 0.9472\n",
      "Epoch 10/10\n",
      " - 5s - loss: 0.1822 - acc: 0.9595\n"
     ]
    },
    {
     "data": {
      "text/plain": [
       "<keras.callbacks.History at 0xd9c738a438>"
      ]
     },
     "execution_count": 16,
     "metadata": {},
     "output_type": "execute_result"
    }
   ],
   "source": [
    "octave_model.fit(X_train.drop(\"Chroma\", axis=1), y_train, epochs=10, verbose=2)"
   ]
  },
  {
   "cell_type": "code",
   "execution_count": 17,
   "metadata": {},
   "outputs": [
    {
     "name": "stdout",
     "output_type": "stream",
     "text": [
      "313/313 [==============================] - ETA:  - ETA:  - 0s 324us/step\n"
     ]
    },
    {
     "data": {
      "text/plain": [
       "0.8881789120241476"
      ]
     },
     "execution_count": 17,
     "metadata": {},
     "output_type": "execute_result"
    }
   ],
   "source": [
    "val_loss, val_acc = octave_model.evaluate(X_val.drop(\"Chroma\", axis=1), y_val)\n",
    "val_acc"
   ]
  },
  {
   "cell_type": "code",
   "execution_count": 18,
   "metadata": {},
   "outputs": [],
   "source": [
    "predictions = np.argmax(octave_model.predict(X_val.drop(\"Chroma\", axis=1)), axis=1)\n",
    "index_misclass = predictions != y_val"
   ]
  },
  {
   "cell_type": "code",
   "execution_count": 19,
   "metadata": {},
   "outputs": [
    {
     "name": "stdout",
     "output_type": "stream",
     "text": [
      "0 2 1\n",
      "10 1 2\n",
      "3 2 1\n",
      "2 1 0\n",
      "3 2 1\n",
      "0 1 2\n",
      "3 2 1\n",
      "7 2 1\n",
      "5 1 0\n",
      "8 1 0\n",
      "10 0 1\n",
      "10 2 1\n",
      "6 0 1\n",
      "7 2 1\n",
      "2 1 2\n",
      "10 0 1\n",
      "6 0 1\n",
      "3 1 0\n",
      "2 1 2\n",
      "8 1 2\n",
      "6 2 1\n",
      "10 0 1\n",
      "3 2 0\n",
      "6 1 2\n",
      "11 1 2\n",
      "2 0 1\n",
      "8 1 2\n",
      "6 0 1\n",
      "6 0 1\n",
      "3 1 0\n",
      "5 2 1\n",
      "9 1 0\n",
      "2 2 1\n",
      "1 2 0\n",
      "4 1 0\n"
     ]
    }
   ],
   "source": [
    "for i,j,k in zip(X_val[index_misclass][\"Chroma\"], predictions[index_misclass], y_val[index_misclass]):\n",
    "    print(i,j,k)"
   ]
  },
  {
   "cell_type": "markdown",
   "metadata": {},
   "source": [
    "### Catboost"
   ]
  },
  {
   "cell_type": "code",
   "execution_count": 20,
   "metadata": {},
   "outputs": [],
   "source": [
    "train_dataset = Pool(data=X_train.drop(\"Chroma\", axis=1),\n",
    "                     label=y_train)\n",
    "eval_dataset = Pool(data=X_val.drop(\"Chroma\", axis=1),\n",
    "                    label=y_val)\n",
    "model = CatBoostClassifier(iterations=3000, # 1000-2000\n",
    "                           learning_rate=0.01, # 0.05\n",
    "                           depth=8, # 8\n",
    "                           loss_function='MultiClass', \n",
    "                           task_type=\"GPU\")"
   ]
  },
  {
   "cell_type": "code",
   "execution_count": null,
   "metadata": {
    "scrolled": true
   },
   "outputs": [
    {
     "name": "stdout",
     "output_type": "stream",
     "text": [
      "0:\tlearn: -1.0956680\ttotal: 975ms\tremaining: 48m 42s\n",
      "1:\tlearn: -1.0922848\ttotal: 1.72s\tremaining: 42m 57s\n",
      "2:\tlearn: -1.0890032\ttotal: 2.47s\tremaining: 41m 6s\n",
      "3:\tlearn: -1.0862261\ttotal: 3.26s\tremaining: 40m 38s\n",
      "4:\tlearn: -1.0837173\ttotal: 4s\tremaining: 39m 57s\n",
      "5:\tlearn: -1.0805922\ttotal: 4.73s\tremaining: 39m 20s\n",
      "6:\tlearn: -1.0778972\ttotal: 5.52s\tremaining: 39m 21s\n",
      "7:\tlearn: -1.0751425\ttotal: 6.33s\tremaining: 39m 26s\n",
      "8:\tlearn: -1.0723746\ttotal: 7.11s\tremaining: 39m 23s\n",
      "9:\tlearn: -1.0699865\ttotal: 7.83s\tremaining: 39m 2s\n",
      "10:\tlearn: -1.0673568\ttotal: 8.61s\tremaining: 38m 58s\n",
      "11:\tlearn: -1.0648717\ttotal: 9.35s\tremaining: 38m 47s\n",
      "12:\tlearn: -1.0621266\ttotal: 10.1s\tremaining: 38m 33s\n"
     ]
    }
   ],
   "source": [
    "model.fit(train_dataset)"
   ]
  },
  {
   "cell_type": "code",
   "execution_count": 53,
   "metadata": {},
   "outputs": [],
   "source": [
    "preds_class = model.predict(eval_dataset)\n",
    "preds_class = preds_class.reshape((preds_class.shape[0],))"
   ]
  },
  {
   "cell_type": "code",
   "execution_count": 54,
   "metadata": {},
   "outputs": [
    {
     "data": {
      "text/plain": [
       "0.8993506493506493"
      ]
     },
     "execution_count": 54,
     "metadata": {},
     "output_type": "execute_result"
    }
   ],
   "source": [
    "(preds_class == y_val).mean()"
   ]
  },
  {
   "cell_type": "code",
   "execution_count": 56,
   "metadata": {},
   "outputs": [],
   "source": [
    "cat_misclass = (preds_class != y_val)"
   ]
  },
  {
   "cell_type": "code",
   "execution_count": 69,
   "metadata": {},
   "outputs": [],
   "source": [
    "misclass = cat_misclass | svm_misclass | index_misclass"
   ]
  },
  {
   "cell_type": "code",
   "execution_count": 71,
   "metadata": {},
   "outputs": [
    {
     "name": "stdout",
     "output_type": "stream",
     "text": [
      "       9      1.0        1        2        1\n",
      "       5      2.0        1        1        1\n",
      "       4      1.0        0        1        1\n",
      "       9      1.0        1        2        1\n",
      "       4      1.0        1        2        1\n",
      "      10      1.0        0        2        0\n",
      "       0      1.0        1        2        1\n",
      "      11      1.0        0        2        0\n",
      "       7      0.0        0        2        0\n",
      "       9      0.0        2        2        0\n",
      "      11      0.0        0        2        0\n",
      "      10      1.0        1        2        1\n",
      "       5      1.0        1        2        1\n",
      "       8      1.0        1        2        1\n",
      "       3      2.0        1        2        2\n",
      "       8      1.0        0        2        2\n",
      "       2      1.0        1        0        0\n",
      "       3      2.0        1        2        2\n",
      "       8      1.0        1        2        1\n",
      "       1      0.0        1        1        0\n",
      "       8      1.0        1        2        1\n",
      "       6      1.0        1        2        1\n",
      "       1      1.0        1        2        1\n",
      "       5      1.0        1        2        1\n",
      "       3      0.0        1        0        0\n",
      "       9      1.0        1        2        1\n",
      "       1      1.0        2        2        1\n",
      "       9      0.0        0        2        0\n",
      "       8      0.0        1        2        0\n",
      "       2      0.0        0        1        0\n",
      "       4      1.0        1        2        1\n",
      "       8      1.0        1        2        1\n",
      "       4      1.0        1        2        1\n",
      "       0      1.0        1        2        1\n",
      "       7      1.0        1        2        2\n",
      "       3      2.0        2        2        1\n",
      "       8      0.0        0        2        0\n",
      "      11      2.0        2        2        1\n",
      "       1      1.0        1        2        1\n",
      "       6      1.0        1        2        1\n",
      "       0      1.0        1        2        1\n",
      "      11      1.0        2        2        1\n",
      "       8      1.0        2        2        0\n",
      "       6      1.0        1        2        1\n",
      "       8      1.0        0        0        0\n",
      "       2      1.0        1        2        1\n",
      "       9      0.0        2        2        0\n",
      "       7      1.0        0        2        2\n",
      "       0      1.0        1        2        1\n",
      "       5      1.0        2        1        1\n",
      "       2      0.0        1        1        1\n",
      "       3      1.0        2        2        2\n",
      "       8      0.0        0        2        0\n",
      "      10      1.0        2        1        1\n",
      "       8      1.0        1        0        0\n",
      "      10      1.0        2        2        2\n",
      "       3      1.0        2        2        1\n",
      "       7      1.0        1        2        1\n",
      "       5      1.0        1        2        1\n",
      "       9      0.0        0        2        0\n",
      "       8      1.0        0        0        0\n",
      "      10      1.0        1        2        1\n",
      "       5      0.0        0        1        1\n",
      "      11      0.0        0        2        0\n",
      "       4      0.0        0        1        1\n",
      "       7      0.0        0        2        0\n",
      "       7      1.0        2        2        1\n",
      "       7      0.0        0        2        0\n",
      "       5      1.0        1        2        2\n",
      "       9      1.0        1        0        0\n",
      "       1      1.0        2        2        1\n",
      "      11      0.0        0        2        0\n",
      "      11      1.0        0        0        0\n",
      "      10      0.0        0        2        0\n",
      "       7      0.0        0        2        0\n",
      "       3      2.0        2        2        1\n",
      "       3      0.0        2        2        0\n",
      "       5      1.0        1        2        1\n",
      "       8      1.0        1        2        1\n",
      "       9      1.0        1        2        2\n",
      "       3      1.0        1        2        1\n",
      "       0      1.0        1        2        1\n",
      "       4      0.0        2        2        0\n",
      "      10      0.0        0        2        0\n",
      "      11      2.0        2        1        1\n",
      "       7      1.0        1        2        1\n",
      "       6      1.0        1        2        1\n",
      "       3      1.0        1        2        1\n",
      "       9      1.0        0        2        0\n",
      "       9      2.0        0        2        0\n",
      "       6      1.0        1        2        1\n",
      "       4      1.0        1        2        1\n",
      "      11      1.0        1        2        1\n",
      "       9      0.0        0        2        0\n",
      "      11      2.0        1        2        2\n",
      "      10      2.0        1        2        1\n",
      "       9      0.0        0        2        0\n",
      "       3      0.0        2        0        0\n",
      "       7      1.0        1        2        1\n",
      "      10      0.0        0        2        0\n",
      "       2      1.0        2        2        1\n",
      "       6      1.0        2        2        1\n",
      "      11      1.0        2        2        1\n",
      "       9      1.0        2        2        1\n",
      "       3      2.0        1        2        2\n",
      "       3      2.0        1        1        1\n",
      "       9      1.0        2        1        1\n",
      "       2      1.0        1        2        1\n",
      "      10      0.0        0        2        0\n",
      "       2      1.0        2        2        2\n",
      "      11      0.0        0        2        0\n",
      "       5      0.0        0        1        1\n",
      "       0      0.0        1        1        1\n"
     ]
    }
   ],
   "source": [
    "for i,j,k,l,m in zip(X_val[misclass][\"Chroma\"], preds_class[misclass], \n",
    "                   predictions[misclass], svm_pred[misclass], y_val[misclass]):\n",
    "    print(\"{:>8} {:>8} {:>8} {:>8} {:>8}\".format(i,j,k,l,m))"
   ]
  },
  {
   "cell_type": "markdown",
   "metadata": {},
   "source": [
    "### SVM"
   ]
  },
  {
   "cell_type": "code",
   "execution_count": 10,
   "metadata": {},
   "outputs": [],
   "source": [
    "X_train, y_train, X_val, y_val, X_test, y_test = split_data(data.drop([\"Piano\", \"Note\", \"Chroma\"], axis=1), \"Octave\")"
   ]
  },
  {
   "cell_type": "code",
   "execution_count": 14,
   "metadata": {},
   "outputs": [],
   "source": [
    "clf = svm.SVC(gamma='scale', decision_function_shape='ovo', C=2, probability=True)"
   ]
  },
  {
   "cell_type": "code",
   "execution_count": 15,
   "metadata": {},
   "outputs": [
    {
     "data": {
      "text/plain": [
       "SVC(C=2, cache_size=200, class_weight=None, coef0=0.0,\n",
       "  decision_function_shape='ovo', degree=3, gamma='scale', kernel='rbf',\n",
       "  max_iter=-1, probability=True, random_state=None, shrinking=True,\n",
       "  tol=0.001, verbose=False)"
      ]
     },
     "execution_count": 15,
     "metadata": {},
     "output_type": "execute_result"
    }
   ],
   "source": [
    "clf.fit(X_train, y_train)"
   ]
  },
  {
   "cell_type": "code",
   "execution_count": 16,
   "metadata": {},
   "outputs": [
    {
     "data": {
      "text/plain": [
       "0.7006369426751592"
      ]
     },
     "execution_count": 16,
     "metadata": {},
     "output_type": "execute_result"
    }
   ],
   "source": [
    "clf.score(X_val, y_val)"
   ]
  },
  {
   "cell_type": "code",
   "execution_count": 61,
   "metadata": {},
   "outputs": [],
   "source": [
    "svm_pred = clf.predict(X_val.drop(\"Chroma\", axis=1))"
   ]
  },
  {
   "cell_type": "code",
   "execution_count": 63,
   "metadata": {},
   "outputs": [],
   "source": [
    "svm_misclass = (svm_pred != y_val)"
   ]
  },
  {
   "cell_type": "markdown",
   "metadata": {},
   "source": [
    "### CQT"
   ]
  },
  {
   "cell_type": "code",
   "execution_count": 140,
   "metadata": {},
   "outputs": [
    {
     "data": {
      "application/vnd.jupyter.widget-view+json": {
       "model_id": "55a465d6c457416b8f68c1367a902a39",
       "version_major": 2,
       "version_minor": 0
      },
      "text/plain": [
       "HBox(children=(IntProgress(value=0, max=308), HTML(value='')))"
      ]
     },
     "metadata": {},
     "output_type": "display_data"
    }
   ],
   "source": [
    "cqt_preds = []\n",
    "for row in tqdm(X_val[[\"x{}\".format(i) for i in range(16000)]].values):\n",
    "    cqt = librosa.core.cqt(row, 8000, n_bins=80)\n",
    "    cqt_preds.append(int(librosa.midi_to_note(librosa.amplitude_to_db(cqt, ref=np.max).mean(axis=1).argmax()+24)[-1]) - 3)"
   ]
  },
  {
   "cell_type": "code",
   "execution_count": 141,
   "metadata": {},
   "outputs": [
    {
     "data": {
      "text/plain": [
       "[1,\n",
       " -1,\n",
       " 1,\n",
       " 1,\n",
       " 1,\n",
       " 0,\n",
       " 1,\n",
       " 0,\n",
       " -1,\n",
       " 0,\n",
       " 2,\n",
       " 2,\n",
       " 1,\n",
       " 1,\n",
       " 1,\n",
       " 1,\n",
       " 2,\n",
       " 1,\n",
       " 0,\n",
       " 1,\n",
       " 1,\n",
       " 2,\n",
       " 1,\n",
       " 1,\n",
       " 1,\n",
       " 0,\n",
       " 0,\n",
       " 0,\n",
       " 2,\n",
       " -1,\n",
       " 2,\n",
       " 0,\n",
       " 1,\n",
       " 2,\n",
       " 1,\n",
       " 2,\n",
       " 0,\n",
       " 1,\n",
       " 0,\n",
       " 1,\n",
       " -1,\n",
       " 0,\n",
       " 0,\n",
       " 1,\n",
       " 1,\n",
       " 2,\n",
       " 2,\n",
       " 0,\n",
       " 2,\n",
       " 1,\n",
       " 2,\n",
       " 2,\n",
       " 2,\n",
       " 2,\n",
       " 2,\n",
       " 2,\n",
       " 0,\n",
       " 0,\n",
       " 1,\n",
       " 1,\n",
       " 2,\n",
       " 2,\n",
       " 2,\n",
       " 1,\n",
       " 0,\n",
       " 2,\n",
       " 2,\n",
       " 1,\n",
       " -1,\n",
       " 1,\n",
       " 2,\n",
       " 1,\n",
       " -1,\n",
       " -1,\n",
       " 0,\n",
       " 1,\n",
       " 1,\n",
       " -1,\n",
       " 1,\n",
       " 0,\n",
       " 0,\n",
       " 1,\n",
       " 1,\n",
       " 1,\n",
       " 1,\n",
       " 0,\n",
       " -2,\n",
       " 0,\n",
       " 2,\n",
       " 2,\n",
       " 2,\n",
       " 2,\n",
       " -1,\n",
       " 1,\n",
       " 0,\n",
       " 1,\n",
       " 2,\n",
       " 1,\n",
       " 2,\n",
       " 1,\n",
       " 1,\n",
       " 1,\n",
       " -2,\n",
       " 1,\n",
       " 2,\n",
       " 2,\n",
       " 2,\n",
       " 2,\n",
       " 1,\n",
       " 1,\n",
       " 1,\n",
       " 2,\n",
       " 2,\n",
       " 2,\n",
       " 1,\n",
       " 0,\n",
       " 0,\n",
       " 1,\n",
       " 1,\n",
       " 1,\n",
       " 2,\n",
       " 0,\n",
       " 1,\n",
       " 1,\n",
       " 0,\n",
       " 1,\n",
       " 2,\n",
       " 0,\n",
       " 1,\n",
       " 1,\n",
       " 1,\n",
       " 1,\n",
       " 0,\n",
       " 1,\n",
       " 1,\n",
       " 1,\n",
       " 0,\n",
       " 0,\n",
       " 0,\n",
       " -1,\n",
       " -1,\n",
       " 2,\n",
       " 0,\n",
       " 1,\n",
       " 1,\n",
       " 2,\n",
       " 0,\n",
       " 2,\n",
       " 1,\n",
       " 2,\n",
       " 0,\n",
       " 1,\n",
       " 1,\n",
       " 0,\n",
       " -2,\n",
       " 1,\n",
       " 2,\n",
       " 0,\n",
       " 2,\n",
       " 1,\n",
       " 0,\n",
       " 3,\n",
       " 0,\n",
       " 2,\n",
       " 1,\n",
       " 2,\n",
       " 2,\n",
       " 2,\n",
       " 2,\n",
       " 2,\n",
       " 1,\n",
       " 0,\n",
       " 2,\n",
       " 2,\n",
       " 1,\n",
       " 2,\n",
       " 2,\n",
       " 2,\n",
       " 0,\n",
       " 0,\n",
       " 2,\n",
       " 2,\n",
       " 2,\n",
       " 1,\n",
       " 2,\n",
       " 0,\n",
       " 1,\n",
       " 0,\n",
       " 0,\n",
       " 0,\n",
       " 0,\n",
       " -1,\n",
       " 0,\n",
       " 1,\n",
       " 0,\n",
       " 1,\n",
       " 0,\n",
       " 1,\n",
       " -1,\n",
       " 2,\n",
       " 1,\n",
       " 1,\n",
       " 1,\n",
       " 2,\n",
       " 2,\n",
       " 0,\n",
       " 0,\n",
       " 1,\n",
       " 1,\n",
       " 0,\n",
       " 1,\n",
       " 0,\n",
       " 0,\n",
       " -2,\n",
       " -1,\n",
       " 1,\n",
       " 0,\n",
       " 2,\n",
       " 2,\n",
       " 0,\n",
       " 1,\n",
       " 0,\n",
       " 0,\n",
       " 1,\n",
       " 1,\n",
       " 0,\n",
       " 1,\n",
       " 1,\n",
       " 1,\n",
       " 2,\n",
       " 2,\n",
       " 2,\n",
       " 1,\n",
       " 0,\n",
       " 1,\n",
       " 2,\n",
       " 1,\n",
       " 2,\n",
       " 0,\n",
       " -1,\n",
       " 1,\n",
       " 2,\n",
       " 1,\n",
       " 0,\n",
       " 2,\n",
       " 2,\n",
       " -2,\n",
       " 2,\n",
       " 1,\n",
       " 1,\n",
       " 2,\n",
       " 0,\n",
       " 1,\n",
       " 1,\n",
       " 0,\n",
       " 1,\n",
       " 1,\n",
       " 0,\n",
       " 1,\n",
       " 2,\n",
       " -1,\n",
       " 1,\n",
       " 1,\n",
       " 1,\n",
       " 2,\n",
       " 2,\n",
       " 1,\n",
       " 1,\n",
       " 1,\n",
       " 1,\n",
       " 2,\n",
       " 0,\n",
       " 2,\n",
       " -1,\n",
       " 1,\n",
       " 2,\n",
       " 0,\n",
       " 1,\n",
       " 2,\n",
       " 0,\n",
       " 1,\n",
       " 1,\n",
       " 1,\n",
       " 1,\n",
       " 1,\n",
       " 2,\n",
       " 1,\n",
       " 2,\n",
       " 1,\n",
       " 1,\n",
       " 0,\n",
       " 2,\n",
       " 2,\n",
       " 2,\n",
       " 1,\n",
       " 1,\n",
       " 1,\n",
       " 0,\n",
       " 1,\n",
       " 2,\n",
       " 1,\n",
       " 0,\n",
       " 2,\n",
       " 2,\n",
       " 0,\n",
       " 2,\n",
       " 0,\n",
       " -1]"
      ]
     },
     "execution_count": 141,
     "metadata": {},
     "output_type": "execute_result"
    }
   ],
   "source": [
    "cqt_preds"
   ]
  },
  {
   "cell_type": "code",
   "execution_count": 136,
   "metadata": {},
   "outputs": [],
   "source": [
    "cqt = librosa.core.cqt(X_val.iloc[1][[\"x{}\".format(i) for i in range(16000)]].values, 8000, n_bins=80)"
   ]
  },
  {
   "cell_type": "code",
   "execution_count": 137,
   "metadata": {},
   "outputs": [
    {
     "data": {
      "text/plain": [
       "<matplotlib.axes._subplots.AxesSubplot at 0x17cf397390>"
      ]
     },
     "execution_count": 137,
     "metadata": {},
     "output_type": "execute_result"
    },
    {
     "data": {
      "image/png": "[encoded data removed]",
      "text/plain": [
       "<Figure size 432x288 with 1 Axes>"
      ]
     },
     "metadata": {
      "needs_background": "light"
     },
     "output_type": "display_data"
    }
   ],
   "source": [
    "librosa.display.specshow(librosa.amplitude_to_db(cqt, ref=np.max),\n",
    "                         sr=8000, x_axis='time', y_axis='cqt_note')"
   ]
  },
  {
   "cell_type": "code",
   "execution_count": 142,
   "metadata": {},
   "outputs": [
    {
     "data": {
      "text/plain": [
       "0.788961038961039"
      ]
     },
     "execution_count": 142,
     "metadata": {},
     "output_type": "execute_result"
    }
   ],
   "source": [
    "(cqt_preds == y_val).mean()"
   ]
  },
  {
   "cell_type": "code",
   "execution_count": 163,
   "metadata": {},
   "outputs": [],
   "source": [
    "cqt_preds = np.array(cqt_preds)"
   ]
  },
  {
   "cell_type": "code",
   "execution_count": 174,
   "metadata": {},
   "outputs": [
    {
     "data": {
      "application/vnd.jupyter.widget-view+json": {
       "model_id": "f3bf79a7461d4aa3aaa8b94c2ee8cf44",
       "version_major": 2,
       "version_minor": 0
      },
      "text/plain": [
       "HBox(children=(IntProgress(value=0, max=2842), HTML(value='')))"
      ]
     },
     "metadata": {},
     "output_type": "display_data"
    }
   ],
   "source": [
    "cqt_train = []\n",
    "for row in tqdm(X_train[[\"x{}\".format(i) for i in range(16000)]].values):\n",
    "    cqt = librosa.core.cqt(row, 8000, n_bins=80)\n",
    "    cqt_train.append(int(librosa.midi_to_note(librosa.amplitude_to_db(cqt, ref=np.max).mean(axis=1).argmax()+24)[-1]) - 3)"
   ]
  },
  {
   "cell_type": "markdown",
   "metadata": {},
   "source": [
    "### Ensemble"
   ]
  },
  {
   "cell_type": "code",
   "execution_count": 144,
   "metadata": {},
   "outputs": [],
   "source": [
    "all_predictions = pd.DataFrame({\"SVM\": svm_pred, \"CQT\": cqt_preds, \"NN\": predictions, \"Catboost\": preds_class})"
   ]
  },
  {
   "cell_type": "code",
   "execution_count": 169,
   "metadata": {},
   "outputs": [],
   "source": [
    "final = []\n",
    "for index, row in all_predictions.iterrows():\n",
    "    votes = {x: 0 for x in row.unique()}\n",
    "    for option in row.unique():\n",
    "        if option == row[\"SVM\"]:\n",
    "            votes[option] += 0.5\n",
    "        if option == row[\"CQT\"]:\n",
    "            votes[option] += 1\n",
    "        if option == row[\"NN\"]:\n",
    "            votes[option] += 1\n",
    "        if option == row[\"Catboost\"]:\n",
    "            votes[option] += 1\n",
    "    final.append(max(votes, key=lambda key: votes[key]))\n",
    "final = np.array(final)"
   ]
  },
  {
   "cell_type": "code",
   "execution_count": 170,
   "metadata": {},
   "outputs": [
    {
     "data": {
      "text/plain": [
       "0.9090909090909091"
      ]
     },
     "execution_count": 170,
     "metadata": {},
     "output_type": "execute_result"
    }
   ],
   "source": [
    "(final == y_val).mean()"
   ]
  },
  {
   "cell_type": "code",
   "execution_count": 147,
   "metadata": {},
   "outputs": [
    {
     "data": {
      "text/plain": [
       "(array([ 6.,  0.,  0.,  0.,  0., 13.,  0.,  0.,  0.,  9.]),\n",
       " array([0. , 0.2, 0.4, 0.6, 0.8, 1. , 1.2, 1.4, 1.6, 1.8, 2. ]),\n",
       " <a list of 10 Patch objects>)"
      ]
     },
     "execution_count": 147,
     "metadata": {},
     "output_type": "execute_result"
    },
    {
     "data": {
      "image/png": "[encoded data removed]",
      "text/plain": [
       "<Figure size 432x288 with 1 Axes>"
      ]
     },
     "metadata": {
      "needs_background": "light"
     },
     "output_type": "display_data"
    }
   ],
   "source": [
    "plt.hist(final[final != y_val])"
   ]
  },
  {
   "cell_type": "code",
   "execution_count": 148,
   "metadata": {},
   "outputs": [
    {
     "data": {
      "text/plain": [
       "(array([ 8.,  0.,  0.,  0.,  0., 12.,  0.,  0.,  0.,  8.]),\n",
       " array([0. , 0.2, 0.4, 0.6, 0.8, 1. , 1.2, 1.4, 1.6, 1.8, 2. ]),\n",
       " <a list of 10 Patch objects>)"
      ]
     },
     "execution_count": 148,
     "metadata": {},
     "output_type": "execute_result"
    },
    {
     "data": {
      "image/png": "[encoded data removed]",
      "text/plain": [
       "<Figure size 432x288 with 1 Axes>"
      ]
     },
     "metadata": {
      "needs_background": "light"
     },
     "output_type": "display_data"
    }
   ],
   "source": [
    "plt.hist(y_val[final != y_val])"
   ]
  },
  {
   "cell_type": "code",
   "execution_count": 149,
   "metadata": {},
   "outputs": [
    {
     "name": "stdout",
     "output_type": "stream",
     "text": [
      "2.0 1\n",
      "1.0 0\n",
      "0.0 2\n",
      "1.0 0\n",
      "1.0 2\n",
      "2.0 1\n",
      "2.0 1\n",
      "2.0 0\n",
      "1.0 0\n",
      "1.0 2\n",
      "0.0 1\n",
      "1.0 2\n",
      "1.0 0\n",
      "2.0 1\n",
      "0.0 1\n",
      "0.0 1\n",
      "1.0 2\n",
      "1.0 0\n",
      "2.0 1\n",
      "1.0 2\n",
      "2.0 0\n",
      "2.0 1\n",
      "1.0 0\n",
      "1.0 2\n",
      "2.0 1\n",
      "1.0 2\n",
      "0.0 1\n",
      "0.0 1\n"
     ]
    }
   ],
   "source": [
    "for i,j in zip(final[final != y_val], y_val[final != y_val]):\n",
    "    print(i,j)"
   ]
  },
  {
   "cell_type": "code",
   "execution_count": 160,
   "metadata": {},
   "outputs": [],
   "source": [
    "cqt_misclass = cqt_preds != y_val"
   ]
  },
  {
   "cell_type": "code",
   "execution_count": 161,
   "metadata": {},
   "outputs": [],
   "source": [
    "misclass = cat_misclass | svm_misclass | index_misclass | cqt_misclass"
   ]
  },
  {
   "cell_type": "code",
   "execution_count": 165,
   "metadata": {},
   "outputs": [
    {
     "name": "stdout",
     "output_type": "stream",
     "text": [
      "  Chroma Catboost       NN      CQT      SVM    y_val\n",
      "       4      0.0        0       -1        0        0\n",
      "       9      1.0        1        1        2        1\n",
      "      11      0.0        0       -1        0        0\n",
      "       5      2.0        1        2        1        1\n",
      "       4      1.0        0        1        1        1\n",
      "       4      2.0        2        1        2        2\n",
      "       9      1.0        1        1        2        1\n",
      "       6      1.0        1        0        1        1\n",
      "       4      1.0        1        1        2        1\n",
      "      10      1.0        0        1        2        0\n",
      "       0      1.0        1        1        2        1\n",
      "      11      1.0        0        0        2        0\n",
      "       7      0.0        0       -1        2        0\n",
      "       9      0.0        2        0        2        0\n",
      "       0      2.0        2        1        2        2\n",
      "      10      2.0        2        1        2        2\n",
      "      10      0.0        0       -1        0        0\n",
      "      11      0.0        0        0        2        0\n",
      "      10      1.0        1        1        2        1\n",
      "       5      1.0        1        1        2        1\n",
      "       8      1.0        1        1        2        1\n",
      "       3      2.0        1        2        2        2\n",
      "       8      1.0        0        0        2        2\n",
      "       2      1.0        1        1        0        0\n",
      "       4      0.0        0        1        0        0\n",
      "       3      2.0        1        2        2        2\n",
      "       8      1.0        1        1        2        1\n",
      "       1      0.0        1        0        1        0\n",
      "       8      1.0        1        1        2        1\n",
      "       5      0.0        0       -1        0        0\n",
      "       6      1.0        1        1        2        1\n",
      "       8      0.0        0       -1        0        0\n",
      "       2      0.0        0       -1        0        0\n",
      "       1      1.0        1        1        2        1\n",
      "       5      1.0        1        1        2        1\n",
      "       3      0.0        1       -1        0        0\n",
      "       9      1.0        1        1        2        1\n",
      "       1      1.0        2        1        2        1\n",
      "       9      0.0        0        0        2        0\n",
      "       8      2.0        2       -2        2        2\n",
      "       8      0.0        1        0        2        0\n",
      "       2      0.0        0       -1        1        0\n",
      "       4      1.0        1        1        2        1\n",
      "       8      1.0        1        1        2        1\n",
      "       4      1.0        1        1        2        1\n",
      "       0      1.0        1        1        2        1\n",
      "       7      1.0        1        1        2        2\n",
      "       3      2.0        2       -2        2        1\n",
      "       6      0.0        0        1        0        0\n",
      "       8      0.0        0        1        2        0\n",
      "      11      2.0        2        1        2        1\n",
      "       1      1.0        1        1        2        1\n",
      "       0      1.0        1        0        1        1\n",
      "       6      1.0        1        1        2        1\n",
      "       0      1.0        1        1        2        1\n",
      "       9      1.0        1        0        1        1\n",
      "      11      1.0        2        1        2        1\n",
      "       8      1.0        2        0        2        0\n",
      "       6      1.0        1        1        2        1\n",
      "       8      1.0        0        1        0        0\n",
      "       2      1.0        1        1        2        1\n",
      "       9      0.0        2        0        2        0\n",
      "       7      1.0        0        1        2        2\n",
      "       0      1.0        1        1        2        1\n",
      "       5      1.0        2        0        1        1\n",
      "       2      0.0        1        0        1        1\n",
      "       1      0.0        0       -1        0        0\n",
      "      10      2.0        2       -1        2        2\n",
      "       2      1.0        1        0        1        1\n",
      "       3      1.0        2        1        2        2\n",
      "       8      0.0        0        0        2        0\n",
      "      10      2.0        2       -2        2        2\n",
      "      10      1.0        2        1        1        1\n",
      "       8      1.0        1        0        0        0\n",
      "      10      1.0        2        3        2        2\n",
      "       3      1.0        2        2        2        1\n",
      "       7      1.0        1        1        2        1\n",
      "       5      1.0        1        1        2        1\n",
      "       9      0.0        0        0        2        0\n",
      "       8      1.0        0        0        0        0\n",
      "      10      1.0        1        1        2        1\n",
      "       5      0.0        0        0        1        1\n",
      "      11      0.0        0        0        2        0\n",
      "       4      0.0        0        0        1        1\n",
      "       3      0.0        0       -1        0        0\n",
      "       7      0.0        0        1        2        0\n",
      "       7      1.0        2        1        2        1\n",
      "       7      0.0        0        0        2        0\n",
      "      11      0.0        0       -1        0        0\n",
      "       5      1.0        1        1        2        2\n",
      "       9      1.0        1        1        0        0\n",
      "       1      1.0        2        1        2        1\n",
      "       8      0.0        0        1        0        0\n",
      "      11      0.0        0        0        2        0\n",
      "      11      1.0        0        0        0        0\n",
      "      10      2.0        2       -2        2        2\n",
      "      10      0.0        0       -1        2        0\n",
      "       7      0.0        0        0        2        0\n",
      "       3      2.0        2        2        2        1\n",
      "       3      0.0        2        0        2        0\n",
      "       5      1.0        1        1        2        1\n",
      "       8      1.0        1        1        2        1\n",
      "       9      1.0        1        0        2        2\n",
      "       3      1.0        1        1        2        1\n",
      "       0      1.0        1        1        2        1\n",
      "       4      0.0        2        1        2        0\n",
      "      10      0.0        0        0        2        0\n",
      "      11      2.0        2       -1        1        1\n",
      "       7      1.0        1        1        2        1\n",
      "       6      1.0        1        1        2        1\n",
      "       6      2.0        2       -2        2        2\n",
      "       3      1.0        1        1        2        1\n",
      "       9      1.0        0        1        2        0\n",
      "       1      0.0        0        1        0        0\n",
      "       9      2.0        0        0        2        0\n",
      "       6      1.0        1        1        2        1\n",
      "       9      0.0        0       -1        0        0\n",
      "       4      1.0        1        1        2        1\n",
      "      11      1.0        1        1        2        1\n",
      "       9      0.0        0        1        2        0\n",
      "       1      1.0        1        2        1        1\n",
      "      11      2.0        1        1        2        2\n",
      "      10      2.0        1        1        2        1\n",
      "       9      0.0        0       -1        2        0\n",
      "       5      0.0        0        1        0        0\n",
      "       3      0.0        2        0        0        0\n",
      "       7      1.0        1        1        2        1\n",
      "      10      0.0        0        0        2        0\n",
      "       2      1.0        2        1        2        1\n",
      "       6      1.0        2        1        2        1\n",
      "      11      1.0        2        1        2        1\n",
      "       9      1.0        2        1        2        1\n",
      "       1      1.0        1        2        1        1\n",
      "       3      2.0        1        2        2        2\n",
      "       3      2.0        1        2        1        1\n",
      "       9      1.0        2        1        1        1\n",
      "       2      1.0        1        1        2        1\n",
      "      10      0.0        0        0        2        0\n",
      "       2      1.0        2        1        2        2\n",
      "      11      0.0        0        0        2        0\n",
      "       5      0.0        0        0        1        1\n",
      "       0      0.0        1        0        1        1\n",
      "       4      0.0        0       -1        0        0\n"
     ]
    }
   ],
   "source": [
    "print(\"{:>8} {:>8} {:>8} {:>8} {:>8} {:>8}\".format(\"Chroma\",\"Catboost\",\"NN\",\"CQT\",\"SVM\",\"y_val\"))\n",
    "for i,j,k,l,m,n in zip(X_val[misclass][\"Chroma\"], preds_class[misclass], \n",
    "                   predictions[misclass], cqt_preds[misclass], svm_pred[misclass], y_val[misclass]):\n",
    "    print(\"{:>8} {:>8} {:>8} {:>8} {:>8} {:>8}\".format(i,j,k,l,m,n))"
   ]
  },
  {
   "cell_type": "code",
   "execution_count": 177,
   "metadata": {},
   "outputs": [],
   "source": [
    "svm_train = clf.predict(X_train.drop(\"Chroma\", axis=1))"
   ]
  },
  {
   "cell_type": "code",
   "execution_count": 178,
   "metadata": {},
   "outputs": [],
   "source": [
    "NN_train = np.argmax(octave_model.predict(X_train.drop(\"Chroma\", axis=1)), axis=1)"
   ]
  },
  {
   "cell_type": "code",
   "execution_count": 179,
   "metadata": {},
   "outputs": [],
   "source": [
    "catboost_train = model.predict(train_dataset)"
   ]
  },
  {
   "cell_type": "code",
   "execution_count": 182,
   "metadata": {},
   "outputs": [
    {
     "data": {
      "text/plain": [
       "2225    2\n",
       "2878    0\n",
       "442     0\n",
       "1075    1\n",
       "2572    2\n",
       "1365    2\n",
       "2280    2\n",
       "576     1\n",
       "409     2\n",
       "1647    2\n",
       "1295    1\n",
       "1883    0\n",
       "370     1\n",
       "648     0\n",
       "988     1\n",
       "2657    1\n",
       "1584    2\n",
       "1523    2\n",
       "2629    2\n",
       "580     0\n",
       "2246    0\n",
       "2963    0\n",
       "1664    2\n",
       "2744    1\n",
       "1192    1\n",
       "632     0\n",
       "1178    1\n",
       "64      2\n",
       "336     1\n",
       "470     0\n",
       "       ..\n",
       "569     0\n",
       "125     1\n",
       "2862    0\n",
       "2983    0\n",
       "626     0\n",
       "533     0\n",
       "678     0\n",
       "963     1\n",
       "188     1\n",
       "2376    1\n",
       "3080    1\n",
       "354     0\n",
       "2785    0\n",
       "2782    2\n",
       "434     0\n",
       "3043    0\n",
       "3164    1\n",
       "2278    1\n",
       "2690    1\n",
       "2012    1\n",
       "959     1\n",
       "74      0\n",
       "1562    2\n",
       "587     0\n",
       "1673    2\n",
       "1897    0\n",
       "864     0\n",
       "2755    1\n",
       "2288    2\n",
       "527     0\n",
       "Name: Octave, Length: 2842, dtype: int64"
      ]
     },
     "execution_count": 182,
     "metadata": {},
     "output_type": "execute_result"
    }
   ],
   "source": [
    "y_train"
   ]
  },
  {
   "cell_type": "code",
   "execution_count": 187,
   "metadata": {},
   "outputs": [
    {
     "data": {
      "text/plain": [
       "(2842, 1)"
      ]
     },
     "execution_count": 187,
     "metadata": {},
     "output_type": "execute_result"
    }
   ],
   "source": [
    "catboost_train.shape"
   ]
  },
  {
   "cell_type": "code",
   "execution_count": 203,
   "metadata": {},
   "outputs": [
    {
     "data": {
      "text/plain": [
       "array([2., 0., 0., ..., 1., 2., 0.])"
      ]
     },
     "execution_count": 203,
     "metadata": {},
     "output_type": "execute_result"
    }
   ],
   "source": [
    "catboost_train.reshape((2842,))"
   ]
  },
  {
   "cell_type": "code",
   "execution_count": 206,
   "metadata": {},
   "outputs": [],
   "source": [
    "train_predictions = pd.DataFrame({\"SVM\": svm_train,\n",
    "                                  \"CQT\": cqt_train, \n",
    "                                  \"NN\": NN_train, \n",
    "                                  \"Catboost\": catboost_train.reshape((2842,)), \n",
    "                                  \"y_train\": y_train})"
   ]
  },
  {
   "cell_type": "code",
   "execution_count": 211,
   "metadata": {},
   "outputs": [],
   "source": [
    "logmodel = LogisticRegression(solver='lbfgs', multi_class='multinomial').fit(train_predictions.drop(\"y_train\", axis=1), \n",
    "                                                                          train_predictions[\"y_train\"])"
   ]
  },
  {
   "cell_type": "code",
   "execution_count": 212,
   "metadata": {},
   "outputs": [
    {
     "data": {
      "text/plain": [
       "1.0"
      ]
     },
     "execution_count": 212,
     "metadata": {},
     "output_type": "execute_result"
    }
   ],
   "source": [
    "logmodel.score(train_predictions.drop(\"y_train\", axis=1), train_predictions[\"y_train\"])"
   ]
  },
  {
   "cell_type": "code",
   "execution_count": 213,
   "metadata": {},
   "outputs": [
    {
     "data": {
      "text/plain": [
       "0.8993506493506493"
      ]
     },
     "execution_count": 213,
     "metadata": {},
     "output_type": "execute_result"
    }
   ],
   "source": [
    "logmodel.score(all_predictions, y_val)"
   ]
  },
  {
   "cell_type": "code",
   "execution_count": 214,
   "metadata": {},
   "outputs": [],
   "source": [
    "vote_model = keras.Sequential([\n",
    "    keras.layers.Dense(10, input_shape=(4,)),\n",
    "    keras.layers.Dense(6, activation=tf.nn.relu),\n",
    "    keras.layers.Dense(3, activation=tf.nn.softmax)\n",
    "])\n",
    "vote_model.compile(optimizer='adam', \n",
    "              loss='sparse_categorical_crossentropy',\n",
    "              metrics=['accuracy'])"
   ]
  },
  {
   "cell_type": "code",
   "execution_count": 215,
   "metadata": {},
   "outputs": [
    {
     "name": "stdout",
     "output_type": "stream",
     "text": [
      "Epoch 1/10\n",
      " - 0s - loss: 1.0531 - acc: 0.4085\n",
      "Epoch 2/10\n",
      " - 0s - loss: 0.8025 - acc: 0.6795\n",
      "Epoch 3/10\n",
      " - 0s - loss: 0.5976 - acc: 0.7702\n",
      "Epoch 4/10\n",
      " - 0s - loss: 0.4002 - acc: 0.9015\n",
      "Epoch 5/10\n",
      " - 0s - loss: 0.2625 - acc: 0.9944\n",
      "Epoch 6/10\n",
      " - 0s - loss: 0.1730 - acc: 0.9944\n",
      "Epoch 7/10\n",
      " - 0s - loss: 0.1137 - acc: 0.9947\n",
      "Epoch 8/10\n",
      " - 0s - loss: 0.0756 - acc: 0.9958\n",
      "Epoch 9/10\n",
      " - 0s - loss: 0.0518 - acc: 0.9989\n",
      "Epoch 10/10\n",
      " - 0s - loss: 0.0367 - acc: 1.0000\n"
     ]
    },
    {
     "data": {
      "text/plain": [
       "<keras.callbacks.History at 0x179a86ebe0>"
      ]
     },
     "execution_count": 215,
     "metadata": {},
     "output_type": "execute_result"
    }
   ],
   "source": [
    "vote_model.fit(train_predictions.drop(\"y_train\", axis=1), y_train, epochs=10, verbose=2)"
   ]
  },
  {
   "cell_type": "code",
   "execution_count": 216,
   "metadata": {},
   "outputs": [
    {
     "name": "stdout",
     "output_type": "stream",
     "text": [
      "308/308 [==============================] - ETA:  - 0s 205us/step\n"
     ]
    },
    {
     "data": {
      "text/plain": [
       "0.8993506501247357"
      ]
     },
     "execution_count": 216,
     "metadata": {},
     "output_type": "execute_result"
    }
   ],
   "source": [
    "val_loss, val_acc = vote_model.evaluate(all_predictions, y_val)\n",
    "val_acc"
   ]
  },
  {
   "cell_type": "code",
   "execution_count": null,
   "metadata": {},
   "outputs": [],
   "source": []
  },
  {
   "cell_type": "code",
   "execution_count": null,
   "metadata": {},
   "outputs": [],
   "source": []
  },
  {
   "cell_type": "code",
   "execution_count": 44,
   "metadata": {},
   "outputs": [],
   "source": [
    "X_train, y_train, X_val, y_val, X_test, y_test = split_data(data.drop([\"Piano\", \"Note\"], axis=1), \"Octave\")"
   ]
  },
  {
   "cell_type": "code",
   "execution_count": 45,
   "metadata": {},
   "outputs": [],
   "source": [
    "chroma1_model = keras.Sequential([\n",
    "    keras.layers.Dense(256, input_shape=(16000,)),\n",
    "    keras.layers.Dense(128, activation=tf.nn.relu),\n",
    "    keras.layers.Dense(3, activation=tf.nn.softmax)\n",
    "])\n",
    "chroma1_model.compile(optimizer='adam', \n",
    "              loss='sparse_categorical_crossentropy',\n",
    "              metrics=['accuracy'])"
   ]
  },
  {
   "cell_type": "code",
   "execution_count": 46,
   "metadata": {},
   "outputs": [
    {
     "name": "stdout",
     "output_type": "stream",
     "text": [
      "Epoch 1/10\n",
      " - 2s - loss: 0.8436 - acc: 0.6605\n",
      "Epoch 2/10\n",
      " - 2s - loss: 0.4824 - acc: 0.8341\n",
      "Epoch 3/10\n",
      " - 2s - loss: 0.3628 - acc: 0.9035\n",
      "Epoch 4/10\n",
      " - 2s - loss: 0.2971 - acc: 0.9338\n",
      "Epoch 5/10\n",
      " - 2s - loss: 0.2443 - acc: 0.9534\n",
      "Epoch 6/10\n",
      " - 2s - loss: 0.2171 - acc: 0.9610\n",
      "Epoch 7/10\n",
      " - 2s - loss: 0.1784 - acc: 0.9729\n",
      "Epoch 8/10\n",
      " - 2s - loss: 0.1540 - acc: 0.9826\n",
      "Epoch 9/10\n",
      " - 2s - loss: 0.1350 - acc: 0.9837\n",
      "Epoch 10/10\n",
      " - 2s - loss: 0.1139 - acc: 0.9881\n"
     ]
    },
    {
     "data": {
      "text/plain": [
       "<keras.callbacks.History at 0xaa0adf5f98>"
      ]
     },
     "execution_count": 46,
     "metadata": {},
     "output_type": "execute_result"
    }
   ],
   "source": [
    "chroma1_model.fit(X_train[X_train[\"Chroma\"] < 4].drop(\"Chroma\", axis=1), y_train[X_train[\"Chroma\"] < 4], epochs=10, verbose=2)"
   ]
  },
  {
   "cell_type": "code",
   "execution_count": 47,
   "metadata": {},
   "outputs": [
    {
     "name": "stdout",
     "output_type": "stream",
     "text": [
      "90/90 [==============================] - ETA:  - 0s 1ms/step\n"
     ]
    },
    {
     "data": {
      "text/plain": [
       "0.8777777804268732"
      ]
     },
     "execution_count": 47,
     "metadata": {},
     "output_type": "execute_result"
    }
   ],
   "source": [
    "val_loss, val_acc = chroma1_model.evaluate(X_val[X_val[\"Chroma\"] < 4].drop(\"Chroma\", axis=1), y_val[X_val[\"Chroma\"] < 4])\n",
    "val_acc"
   ]
  },
  {
   "cell_type": "code",
   "execution_count": null,
   "metadata": {},
   "outputs": [],
   "source": []
  },
  {
   "cell_type": "code",
   "execution_count": 48,
   "metadata": {},
   "outputs": [],
   "source": [
    "train_dataset = Pool(data=X_train[X_train[\"Chroma\"] < 4].drop(\"Chroma\", axis=1),\n",
    "                     label=y_train[X_train[\"Chroma\"] < 4])\n",
    "eval_dataset = Pool(data=X_val[X_val[\"Chroma\"] < 4].drop(\"Chroma\", axis=1),\n",
    "                    label=y_val[X_val[\"Chroma\"] < 4])\n",
    "model = CatBoostClassifier(iterations=1000, # 1000-2000\n",
    "                           learning_rate=0.05, # 0.05\n",
    "                           depth=8, # 8\n",
    "                           loss_function='MultiClass', \n",
    "                           task_type=\"GPU\")"
   ]
  },
  {
   "cell_type": "code",
   "execution_count": 49,
   "metadata": {},
   "outputs": [
    {
     "name": "stdout",
     "output_type": "stream",
     "text": [
      "0:\tlearn: -1.0782318\ttotal: 797ms\tremaining: 13m 15s\n",
      "1:\tlearn: -1.0529453\ttotal: 1.46s\tremaining: 12m 6s\n",
      "2:\tlearn: -1.0283759\ttotal: 2.18s\tremaining: 12m 3s\n",
      "3:\tlearn: -1.0056996\ttotal: 2.95s\tremaining: 12m 13s\n",
      "4:\tlearn: -0.9881254\ttotal: 3.65s\tremaining: 12m 5s\n",
      "5:\tlearn: -0.9710125\ttotal: 4.43s\tremaining: 12m 14s\n",
      "6:\tlearn: -0.9568709\ttotal: 5.18s\tremaining: 12m 14s\n",
      "7:\tlearn: -0.9417715\ttotal: 5.93s\tremaining: 12m 15s\n",
      "8:\tlearn: -0.9269320\ttotal: 6.69s\tremaining: 12m 16s\n",
      "9:\tlearn: -0.9096072\ttotal: 7.44s\tremaining: 12m 16s\n",
      "10:\tlearn: -0.8929343\ttotal: 8.16s\tremaining: 12m 13s\n",
      "11:\tlearn: -0.8790913\ttotal: 8.84s\tremaining: 12m 8s\n",
      "12:\tlearn: -0.8680456\ttotal: 9.59s\tremaining: 12m 8s\n",
      "13:\tlearn: -0.8554821\ttotal: 10.3s\tremaining: 12m 8s\n",
      "14:\tlearn: -0.8417349\ttotal: 11.1s\tremaining: 12m 10s\n",
      "15:\tlearn: -0.8281639\ttotal: 11.9s\tremaining: 12m 12s\n",
      "16:\tlearn: -0.8174048\ttotal: 12.7s\tremaining: 12m 11s\n",
      "17:\tlearn: -0.8073553\ttotal: 13.4s\tremaining: 12m 10s\n",
      "18:\tlearn: -0.7952337\ttotal: 14.2s\tremaining: 12m 11s\n",
      "19:\tlearn: -0.7794453\ttotal: 14.9s\tremaining: 12m 9s\n",
      "20:\tlearn: -0.7651040\ttotal: 15.7s\tremaining: 12m 13s\n",
      "21:\tlearn: -0.7533274\ttotal: 16.5s\tremaining: 12m 12s\n",
      "22:\tlearn: -0.7420875\ttotal: 17.3s\tremaining: 12m 14s\n",
      "23:\tlearn: -0.7306523\ttotal: 18.1s\tremaining: 12m 17s\n",
      "24:\tlearn: -0.7219239\ttotal: 18.9s\tremaining: 12m 17s\n",
      "25:\tlearn: -0.7123967\ttotal: 19.8s\tremaining: 12m 20s\n",
      "26:\tlearn: -0.7020256\ttotal: 20.5s\tremaining: 12m 20s\n",
      "27:\tlearn: -0.6914891\ttotal: 21.3s\tremaining: 12m 20s\n",
      "28:\tlearn: -0.6817927\ttotal: 22.1s\tremaining: 12m 20s\n",
      "29:\tlearn: -0.6704528\ttotal: 23s\tremaining: 12m 22s\n",
      "30:\tlearn: -0.6616526\ttotal: 23.8s\tremaining: 12m 23s\n",
      "31:\tlearn: -0.6548811\ttotal: 24.5s\tremaining: 12m 21s\n",
      "32:\tlearn: -0.6461984\ttotal: 25.3s\tremaining: 12m 20s\n",
      "33:\tlearn: -0.6376890\ttotal: 26.1s\tremaining: 12m 21s\n",
      "34:\tlearn: -0.6298930\ttotal: 26.9s\tremaining: 12m 21s\n",
      "35:\tlearn: -0.6206276\ttotal: 27.7s\tremaining: 12m 21s\n",
      "36:\tlearn: -0.6114928\ttotal: 28.5s\tremaining: 12m 22s\n",
      "37:\tlearn: -0.6019866\ttotal: 29.4s\tremaining: 12m 23s\n",
      "38:\tlearn: -0.5930273\ttotal: 30.1s\tremaining: 12m 22s\n",
      "39:\tlearn: -0.5851850\ttotal: 31s\tremaining: 12m 23s\n",
      "40:\tlearn: -0.5793701\ttotal: 31.7s\tremaining: 12m 20s\n",
      "41:\tlearn: -0.5725609\ttotal: 32.4s\tremaining: 12m 20s\n",
      "42:\tlearn: -0.5665665\ttotal: 33.2s\tremaining: 12m 18s\n",
      "43:\tlearn: -0.5571847\ttotal: 34s\tremaining: 12m 18s\n",
      "44:\tlearn: -0.5497125\ttotal: 34.9s\tremaining: 12m 19s\n",
      "45:\tlearn: -0.5425216\ttotal: 35.6s\tremaining: 12m 18s\n",
      "46:\tlearn: -0.5355612\ttotal: 36.4s\tremaining: 12m 17s\n",
      "47:\tlearn: -0.5291257\ttotal: 37.2s\tremaining: 12m 17s\n",
      "48:\tlearn: -0.5227662\ttotal: 37.9s\tremaining: 12m 16s\n",
      "49:\tlearn: -0.5187297\ttotal: 38.7s\tremaining: 12m 15s\n",
      "50:\tlearn: -0.5123553\ttotal: 39.5s\tremaining: 12m 15s\n",
      "51:\tlearn: -0.5074859\ttotal: 40.4s\tremaining: 12m 15s\n",
      "52:\tlearn: -0.5011636\ttotal: 41.2s\tremaining: 12m 16s\n",
      "53:\tlearn: -0.4955650\ttotal: 42s\tremaining: 12m 16s\n",
      "54:\tlearn: -0.4913253\ttotal: 42.8s\tremaining: 12m 15s\n",
      "55:\tlearn: -0.4844832\ttotal: 43.6s\tremaining: 12m 14s\n",
      "56:\tlearn: -0.4772871\ttotal: 44.4s\tremaining: 12m 15s\n",
      "57:\tlearn: -0.4709717\ttotal: 45.2s\tremaining: 12m 14s\n",
      "58:\tlearn: -0.4647520\ttotal: 46s\tremaining: 12m 14s\n",
      "59:\tlearn: -0.4582269\ttotal: 46.8s\tremaining: 12m 13s\n",
      "60:\tlearn: -0.4535567\ttotal: 47.7s\tremaining: 12m 13s\n",
      "61:\tlearn: -0.4472628\ttotal: 48.5s\tremaining: 12m 14s\n",
      "62:\tlearn: -0.4427579\ttotal: 49.3s\tremaining: 12m 13s\n",
      "63:\tlearn: -0.4373088\ttotal: 50.1s\tremaining: 12m 13s\n",
      "64:\tlearn: -0.4331747\ttotal: 50.9s\tremaining: 12m 11s\n",
      "65:\tlearn: -0.4283429\ttotal: 51.8s\tremaining: 12m 12s\n",
      "66:\tlearn: -0.4229457\ttotal: 52.6s\tremaining: 12m 12s\n",
      "67:\tlearn: -0.4189064\ttotal: 53.5s\tremaining: 12m 13s\n",
      "68:\tlearn: -0.4145144\ttotal: 54.4s\tremaining: 12m 13s\n",
      "69:\tlearn: -0.4100796\ttotal: 55.2s\tremaining: 12m 13s\n",
      "70:\tlearn: -0.4052530\ttotal: 56s\tremaining: 12m 13s\n",
      "71:\tlearn: -0.4003081\ttotal: 56.9s\tremaining: 12m 13s\n",
      "72:\tlearn: -0.3949343\ttotal: 57.7s\tremaining: 12m 13s\n",
      "73:\tlearn: -0.3913997\ttotal: 58.6s\tremaining: 12m 12s\n",
      "74:\tlearn: -0.3866418\ttotal: 59.4s\tremaining: 12m 12s\n",
      "75:\tlearn: -0.3817479\ttotal: 1m\tremaining: 12m 12s\n",
      "76:\tlearn: -0.3771741\ttotal: 1m 1s\tremaining: 12m 11s\n",
      "77:\tlearn: -0.3719674\ttotal: 1m 1s\tremaining: 12m 10s\n",
      "78:\tlearn: -0.3678029\ttotal: 1m 2s\tremaining: 12m 10s\n",
      "79:\tlearn: -0.3635031\ttotal: 1m 3s\tremaining: 12m 11s\n",
      "80:\tlearn: -0.3591307\ttotal: 1m 4s\tremaining: 12m 11s\n",
      "81:\tlearn: -0.3552642\ttotal: 1m 5s\tremaining: 12m 11s\n",
      "82:\tlearn: -0.3518161\ttotal: 1m 6s\tremaining: 12m 11s\n",
      "83:\tlearn: -0.3480827\ttotal: 1m 7s\tremaining: 12m 10s\n",
      "84:\tlearn: -0.3454395\ttotal: 1m 7s\tremaining: 12m 9s\n",
      "85:\tlearn: -0.3433294\ttotal: 1m 8s\tremaining: 12m 8s\n",
      "86:\tlearn: -0.3394206\ttotal: 1m 9s\tremaining: 12m 8s\n",
      "87:\tlearn: -0.3351653\ttotal: 1m 10s\tremaining: 12m 8s\n",
      "88:\tlearn: -0.3322997\ttotal: 1m 11s\tremaining: 12m 8s\n",
      "89:\tlearn: -0.3286104\ttotal: 1m 12s\tremaining: 12m 8s\n",
      "90:\tlearn: -0.3254363\ttotal: 1m 12s\tremaining: 12m 8s\n",
      "91:\tlearn: -0.3218057\ttotal: 1m 13s\tremaining: 12m 7s\n",
      "92:\tlearn: -0.3181000\ttotal: 1m 14s\tremaining: 12m 7s\n",
      "93:\tlearn: -0.3148921\ttotal: 1m 15s\tremaining: 12m 6s\n",
      "94:\tlearn: -0.3118630\ttotal: 1m 16s\tremaining: 12m 6s\n",
      "95:\tlearn: -0.3086387\ttotal: 1m 17s\tremaining: 12m 6s\n",
      "96:\tlearn: -0.3051286\ttotal: 1m 18s\tremaining: 12m 6s\n",
      "97:\tlearn: -0.3026095\ttotal: 1m 18s\tremaining: 12m 6s\n",
      "98:\tlearn: -0.2990235\ttotal: 1m 19s\tremaining: 12m 5s\n",
      "99:\tlearn: -0.2959778\ttotal: 1m 20s\tremaining: 12m 5s\n",
      "100:\tlearn: -0.2924295\ttotal: 1m 21s\tremaining: 12m 4s\n",
      "101:\tlearn: -0.2901051\ttotal: 1m 22s\tremaining: 12m 4s\n",
      "102:\tlearn: -0.2868505\ttotal: 1m 23s\tremaining: 12m 4s\n",
      "103:\tlearn: -0.2836794\ttotal: 1m 23s\tremaining: 12m 3s\n",
      "104:\tlearn: -0.2805860\ttotal: 1m 24s\tremaining: 12m 2s\n",
      "105:\tlearn: -0.2777065\ttotal: 1m 25s\tremaining: 12m 2s\n",
      "106:\tlearn: -0.2747223\ttotal: 1m 26s\tremaining: 12m 2s\n",
      "107:\tlearn: -0.2724228\ttotal: 1m 27s\tremaining: 12m 1s\n",
      "108:\tlearn: -0.2698346\ttotal: 1m 28s\tremaining: 12m\n",
      "109:\tlearn: -0.2681761\ttotal: 1m 28s\tremaining: 11m 59s\n",
      "110:\tlearn: -0.2656100\ttotal: 1m 29s\tremaining: 11m 58s\n",
      "111:\tlearn: -0.2628337\ttotal: 1m 30s\tremaining: 11m 58s\n",
      "112:\tlearn: -0.2611440\ttotal: 1m 31s\tremaining: 11m 57s\n",
      "113:\tlearn: -0.2588318\ttotal: 1m 32s\tremaining: 11m 56s\n",
      "114:\tlearn: -0.2561186\ttotal: 1m 33s\tremaining: 11m 55s\n",
      "115:\tlearn: -0.2535964\ttotal: 1m 34s\tremaining: 11m 56s\n",
      "116:\tlearn: -0.2512718\ttotal: 1m 34s\tremaining: 11m 56s\n",
      "117:\tlearn: -0.2492402\ttotal: 1m 35s\tremaining: 11m 56s\n",
      "118:\tlearn: -0.2470607\ttotal: 1m 36s\tremaining: 11m 55s\n",
      "119:\tlearn: -0.2456157\ttotal: 1m 37s\tremaining: 11m 54s\n",
      "120:\tlearn: -0.2431231\ttotal: 1m 38s\tremaining: 11m 53s\n",
      "121:\tlearn: -0.2404729\ttotal: 1m 39s\tremaining: 11m 53s\n",
      "122:\tlearn: -0.2384205\ttotal: 1m 39s\tremaining: 11m 52s\n",
      "123:\tlearn: -0.2364508\ttotal: 1m 40s\tremaining: 11m 51s\n",
      "124:\tlearn: -0.2338779\ttotal: 1m 41s\tremaining: 11m 50s\n",
      "125:\tlearn: -0.2319239\ttotal: 1m 42s\tremaining: 11m 49s\n",
      "126:\tlearn: -0.2298517\ttotal: 1m 43s\tremaining: 11m 49s\n",
      "127:\tlearn: -0.2279093\ttotal: 1m 43s\tremaining: 11m 48s\n",
      "128:\tlearn: -0.2264539\ttotal: 1m 44s\tremaining: 11m 47s\n",
      "129:\tlearn: -0.2244251\ttotal: 1m 45s\tremaining: 11m 47s\n",
      "130:\tlearn: -0.2227252\ttotal: 1m 46s\tremaining: 11m 47s\n",
      "131:\tlearn: -0.2213492\ttotal: 1m 47s\tremaining: 11m 46s\n",
      "132:\tlearn: -0.2200975\ttotal: 1m 48s\tremaining: 11m 45s\n",
      "133:\tlearn: -0.2186758\ttotal: 1m 49s\tremaining: 11m 45s\n",
      "134:\tlearn: -0.2166062\ttotal: 1m 49s\tremaining: 11m 44s\n",
      "135:\tlearn: -0.2145107\ttotal: 1m 50s\tremaining: 11m 44s\n",
      "136:\tlearn: -0.2132681\ttotal: 1m 51s\tremaining: 11m 43s\n",
      "137:\tlearn: -0.2113541\ttotal: 1m 52s\tremaining: 11m 43s\n",
      "138:\tlearn: -0.2093791\ttotal: 1m 53s\tremaining: 11m 42s\n",
      "139:\tlearn: -0.2075882\ttotal: 1m 54s\tremaining: 11m 41s\n",
      "140:\tlearn: -0.2056743\ttotal: 1m 55s\tremaining: 11m 41s\n",
      "141:\tlearn: -0.2040403\ttotal: 1m 56s\tremaining: 11m 40s\n",
      "142:\tlearn: -0.2020237\ttotal: 1m 56s\tremaining: 11m 40s\n",
      "143:\tlearn: -0.2005991\ttotal: 1m 57s\tremaining: 11m 39s\n",
      "144:\tlearn: -0.1989817\ttotal: 1m 58s\tremaining: 11m 39s\n",
      "145:\tlearn: -0.1971670\ttotal: 1m 59s\tremaining: 11m 38s\n",
      "146:\tlearn: -0.1955886\ttotal: 2m\tremaining: 11m 38s\n",
      "147:\tlearn: -0.1937034\ttotal: 2m 1s\tremaining: 11m 37s\n",
      "148:\tlearn: -0.1924981\ttotal: 2m 1s\tremaining: 11m 36s\n",
      "149:\tlearn: -0.1909432\ttotal: 2m 2s\tremaining: 11m 35s\n",
      "150:\tlearn: -0.1893328\ttotal: 2m 3s\tremaining: 11m 35s\n"
     ]
    },
    {
     "name": "stdout",
     "output_type": "stream",
     "text": [
      "151:\tlearn: -0.1879417\ttotal: 2m 4s\tremaining: 11m 34s\n",
      "152:\tlearn: -0.1861813\ttotal: 2m 5s\tremaining: 11m 33s\n",
      "153:\tlearn: -0.1845960\ttotal: 2m 6s\tremaining: 11m 32s\n",
      "154:\tlearn: -0.1828005\ttotal: 2m 6s\tremaining: 11m 31s\n",
      "155:\tlearn: -0.1811706\ttotal: 2m 7s\tremaining: 11m 31s\n",
      "156:\tlearn: -0.1795785\ttotal: 2m 8s\tremaining: 11m 29s\n",
      "157:\tlearn: -0.1780262\ttotal: 2m 9s\tremaining: 11m 29s\n",
      "158:\tlearn: -0.1768173\ttotal: 2m 10s\tremaining: 11m 28s\n",
      "159:\tlearn: -0.1758738\ttotal: 2m 10s\tremaining: 11m 27s\n",
      "160:\tlearn: -0.1749950\ttotal: 2m 11s\tremaining: 11m 26s\n",
      "161:\tlearn: -0.1737244\ttotal: 2m 12s\tremaining: 11m 25s\n",
      "162:\tlearn: -0.1722929\ttotal: 2m 13s\tremaining: 11m 24s\n",
      "163:\tlearn: -0.1707408\ttotal: 2m 14s\tremaining: 11m 23s\n",
      "164:\tlearn: -0.1699486\ttotal: 2m 14s\tremaining: 11m 22s\n",
      "165:\tlearn: -0.1685890\ttotal: 2m 15s\tremaining: 11m 20s\n",
      "166:\tlearn: -0.1671896\ttotal: 2m 16s\tremaining: 11m 20s\n",
      "167:\tlearn: -0.1658998\ttotal: 2m 17s\tremaining: 11m 19s\n",
      "168:\tlearn: -0.1645928\ttotal: 2m 18s\tremaining: 11m 18s\n",
      "169:\tlearn: -0.1632372\ttotal: 2m 18s\tremaining: 11m 18s\n",
      "170:\tlearn: -0.1625041\ttotal: 2m 19s\tremaining: 11m 17s\n",
      "171:\tlearn: -0.1616928\ttotal: 2m 20s\tremaining: 11m 16s\n",
      "172:\tlearn: -0.1602364\ttotal: 2m 21s\tremaining: 11m 15s\n",
      "173:\tlearn: -0.1591767\ttotal: 2m 22s\tremaining: 11m 15s\n",
      "174:\tlearn: -0.1579192\ttotal: 2m 23s\tremaining: 11m 14s\n",
      "175:\tlearn: -0.1565568\ttotal: 2m 23s\tremaining: 11m 13s\n",
      "176:\tlearn: -0.1552266\ttotal: 2m 24s\tremaining: 11m 13s\n",
      "177:\tlearn: -0.1539701\ttotal: 2m 25s\tremaining: 11m 12s\n",
      "178:\tlearn: -0.1526829\ttotal: 2m 26s\tremaining: 11m 11s\n",
      "179:\tlearn: -0.1510912\ttotal: 2m 27s\tremaining: 11m 10s\n",
      "180:\tlearn: -0.1500974\ttotal: 2m 27s\tremaining: 11m 9s\n",
      "181:\tlearn: -0.1489402\ttotal: 2m 28s\tremaining: 11m 8s\n",
      "182:\tlearn: -0.1479715\ttotal: 2m 29s\tremaining: 11m 7s\n",
      "183:\tlearn: -0.1469310\ttotal: 2m 30s\tremaining: 11m 6s\n",
      "184:\tlearn: -0.1461796\ttotal: 2m 31s\tremaining: 11m 5s\n",
      "185:\tlearn: -0.1450340\ttotal: 2m 31s\tremaining: 11m 5s\n",
      "186:\tlearn: -0.1438125\ttotal: 2m 32s\tremaining: 11m 4s\n",
      "187:\tlearn: -0.1426977\ttotal: 2m 33s\tremaining: 11m 3s\n",
      "188:\tlearn: -0.1419133\ttotal: 2m 34s\tremaining: 11m 3s\n",
      "189:\tlearn: -0.1412163\ttotal: 2m 35s\tremaining: 11m 2s\n",
      "190:\tlearn: -0.1398747\ttotal: 2m 36s\tremaining: 11m 1s\n",
      "191:\tlearn: -0.1390731\ttotal: 2m 36s\tremaining: 11m\n",
      "192:\tlearn: -0.1379197\ttotal: 2m 37s\tremaining: 10m 59s\n",
      "193:\tlearn: -0.1367219\ttotal: 2m 38s\tremaining: 10m 58s\n",
      "194:\tlearn: -0.1357391\ttotal: 2m 39s\tremaining: 10m 57s\n",
      "195:\tlearn: -0.1345157\ttotal: 2m 40s\tremaining: 10m 56s\n",
      "196:\tlearn: -0.1338664\ttotal: 2m 40s\tremaining: 10m 55s\n",
      "197:\tlearn: -0.1330925\ttotal: 2m 41s\tremaining: 10m 55s\n",
      "198:\tlearn: -0.1320558\ttotal: 2m 42s\tremaining: 10m 54s\n",
      "199:\tlearn: -0.1313478\ttotal: 2m 43s\tremaining: 10m 53s\n",
      "200:\tlearn: -0.1304356\ttotal: 2m 44s\tremaining: 10m 53s\n",
      "201:\tlearn: -0.1294393\ttotal: 2m 45s\tremaining: 10m 52s\n",
      "202:\tlearn: -0.1284073\ttotal: 2m 46s\tremaining: 10m 51s\n",
      "203:\tlearn: -0.1274980\ttotal: 2m 46s\tremaining: 10m 51s\n",
      "204:\tlearn: -0.1267872\ttotal: 2m 47s\tremaining: 10m 50s\n",
      "205:\tlearn: -0.1258102\ttotal: 2m 48s\tremaining: 10m 49s\n",
      "206:\tlearn: -0.1252227\ttotal: 2m 49s\tremaining: 10m 49s\n",
      "207:\tlearn: -0.1246785\ttotal: 2m 50s\tremaining: 10m 48s\n",
      "208:\tlearn: -0.1236280\ttotal: 2m 51s\tremaining: 10m 47s\n",
      "209:\tlearn: -0.1224172\ttotal: 2m 51s\tremaining: 10m 46s\n",
      "210:\tlearn: -0.1215807\ttotal: 2m 52s\tremaining: 10m 45s\n",
      "211:\tlearn: -0.1211127\ttotal: 2m 53s\tremaining: 10m 45s\n",
      "212:\tlearn: -0.1203348\ttotal: 2m 54s\tremaining: 10m 44s\n",
      "213:\tlearn: -0.1198201\ttotal: 2m 55s\tremaining: 10m 43s\n",
      "214:\tlearn: -0.1189555\ttotal: 2m 56s\tremaining: 10m 43s\n",
      "215:\tlearn: -0.1179824\ttotal: 2m 57s\tremaining: 10m 42s\n",
      "216:\tlearn: -0.1172555\ttotal: 2m 57s\tremaining: 10m 42s\n",
      "217:\tlearn: -0.1166684\ttotal: 2m 58s\tremaining: 10m 41s\n",
      "218:\tlearn: -0.1159098\ttotal: 2m 59s\tremaining: 10m 40s\n",
      "219:\tlearn: -0.1153992\ttotal: 3m\tremaining: 10m 40s\n",
      "220:\tlearn: -0.1146914\ttotal: 3m 1s\tremaining: 10m 39s\n",
      "221:\tlearn: -0.1138960\ttotal: 3m 2s\tremaining: 10m 38s\n",
      "222:\tlearn: -0.1132919\ttotal: 3m 3s\tremaining: 10m 38s\n",
      "223:\tlearn: -0.1125236\ttotal: 3m 3s\tremaining: 10m 37s\n",
      "224:\tlearn: -0.1118689\ttotal: 3m 4s\tremaining: 10m 36s\n",
      "225:\tlearn: -0.1110403\ttotal: 3m 5s\tremaining: 10m 36s\n",
      "226:\tlearn: -0.1103074\ttotal: 3m 6s\tremaining: 10m 35s\n",
      "227:\tlearn: -0.1098084\ttotal: 3m 7s\tremaining: 10m 34s\n",
      "228:\tlearn: -0.1092208\ttotal: 3m 8s\tremaining: 10m 33s\n",
      "229:\tlearn: -0.1086129\ttotal: 3m 9s\tremaining: 10m 32s\n",
      "230:\tlearn: -0.1079073\ttotal: 3m 9s\tremaining: 10m 31s\n",
      "231:\tlearn: -0.1071461\ttotal: 3m 10s\tremaining: 10m 31s\n",
      "232:\tlearn: -0.1064889\ttotal: 3m 11s\tremaining: 10m 30s\n",
      "233:\tlearn: -0.1057788\ttotal: 3m 12s\tremaining: 10m 29s\n",
      "234:\tlearn: -0.1051899\ttotal: 3m 13s\tremaining: 10m 28s\n",
      "235:\tlearn: -0.1046012\ttotal: 3m 14s\tremaining: 10m 28s\n",
      "236:\tlearn: -0.1038951\ttotal: 3m 14s\tremaining: 10m 27s\n",
      "237:\tlearn: -0.1033513\ttotal: 3m 15s\tremaining: 10m 26s\n",
      "238:\tlearn: -0.1027444\ttotal: 3m 16s\tremaining: 10m 25s\n",
      "239:\tlearn: -0.1022434\ttotal: 3m 17s\tremaining: 10m 24s\n",
      "240:\tlearn: -0.1016269\ttotal: 3m 18s\tremaining: 10m 23s\n",
      "241:\tlearn: -0.1012104\ttotal: 3m 18s\tremaining: 10m 22s\n",
      "242:\tlearn: -0.1006164\ttotal: 3m 19s\tremaining: 10m 21s\n",
      "243:\tlearn: -0.0999613\ttotal: 3m 20s\tremaining: 10m 21s\n",
      "244:\tlearn: -0.0993430\ttotal: 3m 21s\tremaining: 10m 20s\n",
      "245:\tlearn: -0.0987572\ttotal: 3m 22s\tremaining: 10m 19s\n",
      "246:\tlearn: -0.0982593\ttotal: 3m 22s\tremaining: 10m 18s\n",
      "247:\tlearn: -0.0976782\ttotal: 3m 23s\tremaining: 10m 17s\n",
      "248:\tlearn: -0.0971297\ttotal: 3m 24s\tremaining: 10m 16s\n",
      "249:\tlearn: -0.0967309\ttotal: 3m 25s\tremaining: 10m 16s\n",
      "250:\tlearn: -0.0962957\ttotal: 3m 26s\tremaining: 10m 15s\n",
      "251:\tlearn: -0.0956937\ttotal: 3m 27s\tremaining: 10m 14s\n",
      "252:\tlearn: -0.0950794\ttotal: 3m 27s\tremaining: 10m 13s\n",
      "253:\tlearn: -0.0946827\ttotal: 3m 28s\tremaining: 10m 12s\n",
      "254:\tlearn: -0.0941111\ttotal: 3m 29s\tremaining: 10m 11s\n",
      "255:\tlearn: -0.0935857\ttotal: 3m 30s\tremaining: 10m 10s\n",
      "256:\tlearn: -0.0929890\ttotal: 3m 30s\tremaining: 10m 9s\n",
      "257:\tlearn: -0.0925202\ttotal: 3m 31s\tremaining: 10m 8s\n",
      "258:\tlearn: -0.0919500\ttotal: 3m 32s\tremaining: 10m 7s\n",
      "259:\tlearn: -0.0913612\ttotal: 3m 33s\tremaining: 10m 6s\n",
      "260:\tlearn: -0.0908182\ttotal: 3m 34s\tremaining: 10m 5s\n",
      "261:\tlearn: -0.0904576\ttotal: 3m 34s\tremaining: 10m 5s\n",
      "262:\tlearn: -0.0899179\ttotal: 3m 35s\tremaining: 10m 4s\n",
      "263:\tlearn: -0.0894637\ttotal: 3m 36s\tremaining: 10m 3s\n",
      "264:\tlearn: -0.0891013\ttotal: 3m 37s\tremaining: 10m 2s\n",
      "265:\tlearn: -0.0888100\ttotal: 3m 38s\tremaining: 10m 1s\n",
      "266:\tlearn: -0.0882963\ttotal: 3m 38s\tremaining: 10m 1s\n",
      "267:\tlearn: -0.0878057\ttotal: 3m 39s\tremaining: 10m\n",
      "268:\tlearn: -0.0873816\ttotal: 3m 40s\tremaining: 9m 59s\n",
      "269:\tlearn: -0.0868151\ttotal: 3m 41s\tremaining: 9m 58s\n",
      "270:\tlearn: -0.0862499\ttotal: 3m 42s\tremaining: 9m 57s\n",
      "271:\tlearn: -0.0857340\ttotal: 3m 42s\tremaining: 9m 56s\n",
      "272:\tlearn: -0.0851428\ttotal: 3m 43s\tremaining: 9m 55s\n",
      "273:\tlearn: -0.0847459\ttotal: 3m 44s\tremaining: 9m 55s\n",
      "274:\tlearn: -0.0844101\ttotal: 3m 45s\tremaining: 9m 53s\n",
      "275:\tlearn: -0.0840456\ttotal: 3m 46s\tremaining: 9m 53s\n",
      "276:\tlearn: -0.0836047\ttotal: 3m 46s\tremaining: 9m 52s\n",
      "277:\tlearn: -0.0832448\ttotal: 3m 47s\tremaining: 9m 51s\n",
      "278:\tlearn: -0.0829483\ttotal: 3m 48s\tremaining: 9m 50s\n",
      "279:\tlearn: -0.0826061\ttotal: 3m 49s\tremaining: 9m 49s\n",
      "280:\tlearn: -0.0821250\ttotal: 3m 50s\tremaining: 9m 49s\n",
      "281:\tlearn: -0.0815706\ttotal: 3m 51s\tremaining: 9m 48s\n",
      "282:\tlearn: -0.0812326\ttotal: 3m 51s\tremaining: 9m 47s\n",
      "283:\tlearn: -0.0809505\ttotal: 3m 52s\tremaining: 9m 46s\n",
      "284:\tlearn: -0.0805999\ttotal: 3m 53s\tremaining: 9m 45s\n",
      "285:\tlearn: -0.0801173\ttotal: 3m 54s\tremaining: 9m 44s\n",
      "286:\tlearn: -0.0797414\ttotal: 3m 55s\tremaining: 9m 43s\n",
      "287:\tlearn: -0.0792633\ttotal: 3m 55s\tremaining: 9m 43s\n",
      "288:\tlearn: -0.0790008\ttotal: 3m 56s\tremaining: 9m 42s\n",
      "289:\tlearn: -0.0786619\ttotal: 3m 57s\tremaining: 9m 41s\n",
      "290:\tlearn: -0.0782482\ttotal: 3m 58s\tremaining: 9m 40s\n",
      "291:\tlearn: -0.0778419\ttotal: 3m 58s\tremaining: 9m 39s\n",
      "292:\tlearn: -0.0775942\ttotal: 3m 59s\tremaining: 9m 38s\n",
      "293:\tlearn: -0.0772244\ttotal: 4m\tremaining: 9m 37s\n",
      "294:\tlearn: -0.0768663\ttotal: 4m 1s\tremaining: 9m 36s\n",
      "295:\tlearn: -0.0765854\ttotal: 4m 2s\tremaining: 9m 35s\n",
      "296:\tlearn: -0.0763546\ttotal: 4m 2s\tremaining: 9m 34s\n",
      "297:\tlearn: -0.0759966\ttotal: 4m 3s\tremaining: 9m 33s\n",
      "298:\tlearn: -0.0756703\ttotal: 4m 4s\tremaining: 9m 32s\n"
     ]
    },
    {
     "name": "stdout",
     "output_type": "stream",
     "text": [
      "299:\tlearn: -0.0752404\ttotal: 4m 5s\tremaining: 9m 31s\n",
      "300:\tlearn: -0.0748711\ttotal: 4m 5s\tremaining: 9m 31s\n",
      "301:\tlearn: -0.0746383\ttotal: 4m 6s\tremaining: 9m 29s\n",
      "302:\tlearn: -0.0743958\ttotal: 4m 7s\tremaining: 9m 29s\n",
      "303:\tlearn: -0.0741195\ttotal: 4m 8s\tremaining: 9m 28s\n",
      "304:\tlearn: -0.0737479\ttotal: 4m 9s\tremaining: 9m 27s\n",
      "305:\tlearn: -0.0733313\ttotal: 4m 9s\tremaining: 9m 26s\n",
      "306:\tlearn: -0.0729222\ttotal: 4m 10s\tremaining: 9m 25s\n",
      "307:\tlearn: -0.0726030\ttotal: 4m 11s\tremaining: 9m 24s\n",
      "308:\tlearn: -0.0723011\ttotal: 4m 12s\tremaining: 9m 24s\n",
      "309:\tlearn: -0.0718733\ttotal: 4m 13s\tremaining: 9m 23s\n",
      "310:\tlearn: -0.0716028\ttotal: 4m 13s\tremaining: 9m 22s\n",
      "311:\tlearn: -0.0712217\ttotal: 4m 14s\tremaining: 9m 21s\n",
      "312:\tlearn: -0.0709776\ttotal: 4m 15s\tremaining: 9m 20s\n",
      "313:\tlearn: -0.0707183\ttotal: 4m 16s\tremaining: 9m 19s\n",
      "314:\tlearn: -0.0704200\ttotal: 4m 17s\tremaining: 9m 19s\n",
      "315:\tlearn: -0.0701125\ttotal: 4m 17s\tremaining: 9m 17s\n",
      "316:\tlearn: -0.0697702\ttotal: 4m 18s\tremaining: 9m 16s\n",
      "317:\tlearn: -0.0695991\ttotal: 4m 19s\tremaining: 9m 16s\n",
      "318:\tlearn: -0.0692558\ttotal: 4m 20s\tremaining: 9m 15s\n",
      "319:\tlearn: -0.0689027\ttotal: 4m 20s\tremaining: 9m 14s\n",
      "320:\tlearn: -0.0685759\ttotal: 4m 21s\tremaining: 9m 13s\n",
      "321:\tlearn: -0.0681515\ttotal: 4m 22s\tremaining: 9m 12s\n",
      "322:\tlearn: -0.0678937\ttotal: 4m 23s\tremaining: 9m 11s\n",
      "323:\tlearn: -0.0675106\ttotal: 4m 23s\tremaining: 9m 10s\n",
      "324:\tlearn: -0.0672610\ttotal: 4m 24s\tremaining: 9m 9s\n",
      "325:\tlearn: -0.0669213\ttotal: 4m 25s\tremaining: 9m 8s\n",
      "326:\tlearn: -0.0666890\ttotal: 4m 26s\tremaining: 9m 8s\n",
      "327:\tlearn: -0.0664957\ttotal: 4m 27s\tremaining: 9m 7s\n",
      "328:\tlearn: -0.0662867\ttotal: 4m 27s\tremaining: 9m 6s\n",
      "329:\tlearn: -0.0659782\ttotal: 4m 28s\tremaining: 9m 5s\n",
      "330:\tlearn: -0.0657086\ttotal: 4m 29s\tremaining: 9m 4s\n",
      "331:\tlearn: -0.0653614\ttotal: 4m 30s\tremaining: 9m 4s\n",
      "332:\tlearn: -0.0650019\ttotal: 4m 31s\tremaining: 9m 3s\n",
      "333:\tlearn: -0.0646836\ttotal: 4m 32s\tremaining: 9m 2s\n",
      "334:\tlearn: -0.0644217\ttotal: 4m 32s\tremaining: 9m 1s\n",
      "335:\tlearn: -0.0642408\ttotal: 4m 33s\tremaining: 9m\n",
      "336:\tlearn: -0.0639594\ttotal: 4m 34s\tremaining: 8m 59s\n",
      "337:\tlearn: -0.0637929\ttotal: 4m 35s\tremaining: 8m 58s\n",
      "338:\tlearn: -0.0636053\ttotal: 4m 36s\tremaining: 8m 58s\n",
      "339:\tlearn: -0.0632384\ttotal: 4m 36s\tremaining: 8m 57s\n",
      "340:\tlearn: -0.0629732\ttotal: 4m 37s\tremaining: 8m 56s\n",
      "341:\tlearn: -0.0626350\ttotal: 4m 38s\tremaining: 8m 56s\n",
      "342:\tlearn: -0.0623580\ttotal: 4m 39s\tremaining: 8m 55s\n",
      "343:\tlearn: -0.0620996\ttotal: 4m 40s\tremaining: 8m 54s\n",
      "344:\tlearn: -0.0619408\ttotal: 4m 40s\tremaining: 8m 53s\n",
      "345:\tlearn: -0.0616322\ttotal: 4m 41s\tremaining: 8m 52s\n",
      "346:\tlearn: -0.0614255\ttotal: 4m 42s\tremaining: 8m 51s\n",
      "347:\tlearn: -0.0611367\ttotal: 4m 43s\tremaining: 8m 50s\n",
      "348:\tlearn: -0.0608422\ttotal: 4m 44s\tremaining: 8m 50s\n",
      "349:\tlearn: -0.0605902\ttotal: 4m 44s\tremaining: 8m 49s\n",
      "350:\tlearn: -0.0604078\ttotal: 4m 45s\tremaining: 8m 48s\n",
      "351:\tlearn: -0.0601866\ttotal: 4m 46s\tremaining: 8m 47s\n",
      "352:\tlearn: -0.0598950\ttotal: 4m 47s\tremaining: 8m 46s\n",
      "353:\tlearn: -0.0595753\ttotal: 4m 48s\tremaining: 8m 45s\n",
      "354:\tlearn: -0.0593007\ttotal: 4m 49s\tremaining: 8m 45s\n",
      "355:\tlearn: -0.0590152\ttotal: 4m 49s\tremaining: 8m 44s\n",
      "356:\tlearn: -0.0588220\ttotal: 4m 50s\tremaining: 8m 43s\n",
      "357:\tlearn: -0.0585826\ttotal: 4m 51s\tremaining: 8m 42s\n",
      "358:\tlearn: -0.0582981\ttotal: 4m 52s\tremaining: 8m 41s\n",
      "359:\tlearn: -0.0580704\ttotal: 4m 53s\tremaining: 8m 41s\n",
      "360:\tlearn: -0.0578545\ttotal: 4m 53s\tremaining: 8m 40s\n",
      "361:\tlearn: -0.0576619\ttotal: 4m 54s\tremaining: 8m 39s\n",
      "362:\tlearn: -0.0574552\ttotal: 4m 55s\tremaining: 8m 38s\n",
      "363:\tlearn: -0.0572509\ttotal: 4m 56s\tremaining: 8m 37s\n",
      "364:\tlearn: -0.0570192\ttotal: 4m 57s\tremaining: 8m 36s\n",
      "365:\tlearn: -0.0567797\ttotal: 4m 57s\tremaining: 8m 35s\n",
      "366:\tlearn: -0.0565620\ttotal: 4m 58s\tremaining: 8m 35s\n",
      "367:\tlearn: -0.0563060\ttotal: 4m 59s\tremaining: 8m 34s\n",
      "368:\tlearn: -0.0561019\ttotal: 5m\tremaining: 8m 33s\n",
      "369:\tlearn: -0.0559322\ttotal: 5m\tremaining: 8m 32s\n",
      "370:\tlearn: -0.0557726\ttotal: 5m 1s\tremaining: 8m 31s\n",
      "371:\tlearn: -0.0555132\ttotal: 5m 2s\tremaining: 8m 30s\n",
      "372:\tlearn: -0.0552924\ttotal: 5m 3s\tremaining: 8m 29s\n",
      "373:\tlearn: -0.0551262\ttotal: 5m 4s\tremaining: 8m 29s\n",
      "374:\tlearn: -0.0549327\ttotal: 5m 4s\tremaining: 8m 28s\n",
      "375:\tlearn: -0.0548012\ttotal: 5m 5s\tremaining: 8m 27s\n",
      "376:\tlearn: -0.0546470\ttotal: 5m 6s\tremaining: 8m 26s\n",
      "377:\tlearn: -0.0544209\ttotal: 5m 7s\tremaining: 8m 25s\n",
      "378:\tlearn: -0.0542771\ttotal: 5m 8s\tremaining: 8m 24s\n",
      "379:\tlearn: -0.0540602\ttotal: 5m 8s\tremaining: 8m 24s\n",
      "380:\tlearn: -0.0538633\ttotal: 5m 9s\tremaining: 8m 23s\n",
      "381:\tlearn: -0.0537281\ttotal: 5m 10s\tremaining: 8m 22s\n",
      "382:\tlearn: -0.0535049\ttotal: 5m 11s\tremaining: 8m 21s\n",
      "383:\tlearn: -0.0532929\ttotal: 5m 11s\tremaining: 8m 20s\n",
      "384:\tlearn: -0.0530298\ttotal: 5m 12s\tremaining: 8m 19s\n",
      "385:\tlearn: -0.0527851\ttotal: 5m 13s\tremaining: 8m 18s\n",
      "386:\tlearn: -0.0525902\ttotal: 5m 14s\tremaining: 8m 17s\n",
      "387:\tlearn: -0.0524066\ttotal: 5m 15s\tremaining: 8m 17s\n",
      "388:\tlearn: -0.0522807\ttotal: 5m 15s\tremaining: 8m 16s\n",
      "389:\tlearn: -0.0521544\ttotal: 5m 16s\tremaining: 8m 15s\n",
      "390:\tlearn: -0.0520184\ttotal: 5m 17s\tremaining: 8m 14s\n",
      "391:\tlearn: -0.0518711\ttotal: 5m 18s\tremaining: 8m 13s\n",
      "392:\tlearn: -0.0516202\ttotal: 5m 18s\tremaining: 8m 12s\n",
      "393:\tlearn: -0.0514750\ttotal: 5m 19s\tremaining: 8m 11s\n",
      "394:\tlearn: -0.0512516\ttotal: 5m 20s\tremaining: 8m 10s\n",
      "395:\tlearn: -0.0510582\ttotal: 5m 21s\tremaining: 8m 10s\n",
      "396:\tlearn: -0.0508863\ttotal: 5m 22s\tremaining: 8m 9s\n",
      "397:\tlearn: -0.0507741\ttotal: 5m 22s\tremaining: 8m 8s\n",
      "398:\tlearn: -0.0506494\ttotal: 5m 23s\tremaining: 8m 7s\n",
      "399:\tlearn: -0.0504363\ttotal: 5m 24s\tremaining: 8m 6s\n",
      "400:\tlearn: -0.0502223\ttotal: 5m 25s\tremaining: 8m 5s\n",
      "401:\tlearn: -0.0500302\ttotal: 5m 26s\tremaining: 8m 4s\n",
      "402:\tlearn: -0.0498145\ttotal: 5m 26s\tremaining: 8m 3s\n",
      "403:\tlearn: -0.0495731\ttotal: 5m 27s\tremaining: 8m 3s\n",
      "404:\tlearn: -0.0493742\ttotal: 5m 28s\tremaining: 8m 2s\n",
      "405:\tlearn: -0.0492058\ttotal: 5m 29s\tremaining: 8m 1s\n",
      "406:\tlearn: -0.0489248\ttotal: 5m 29s\tremaining: 8m\n",
      "407:\tlearn: -0.0487588\ttotal: 5m 30s\tremaining: 7m 59s\n",
      "408:\tlearn: -0.0485765\ttotal: 5m 31s\tremaining: 7m 58s\n",
      "409:\tlearn: -0.0484460\ttotal: 5m 32s\tremaining: 7m 57s\n",
      "410:\tlearn: -0.0481921\ttotal: 5m 32s\tremaining: 7m 57s\n",
      "411:\tlearn: -0.0480642\ttotal: 5m 33s\tremaining: 7m 56s\n",
      "412:\tlearn: -0.0479642\ttotal: 5m 34s\tremaining: 7m 55s\n",
      "413:\tlearn: -0.0478583\ttotal: 5m 35s\tremaining: 7m 54s\n",
      "414:\tlearn: -0.0477366\ttotal: 5m 35s\tremaining: 7m 53s\n",
      "415:\tlearn: -0.0476468\ttotal: 5m 36s\tremaining: 7m 52s\n",
      "416:\tlearn: -0.0475044\ttotal: 5m 37s\tremaining: 7m 51s\n",
      "417:\tlearn: -0.0472892\ttotal: 5m 38s\tremaining: 7m 50s\n",
      "418:\tlearn: -0.0471540\ttotal: 5m 38s\tremaining: 7m 50s\n",
      "419:\tlearn: -0.0469271\ttotal: 5m 39s\tremaining: 7m 49s\n",
      "420:\tlearn: -0.0467703\ttotal: 5m 40s\tremaining: 7m 48s\n",
      "421:\tlearn: -0.0465894\ttotal: 5m 41s\tremaining: 7m 47s\n",
      "422:\tlearn: -0.0464502\ttotal: 5m 42s\tremaining: 7m 46s\n",
      "423:\tlearn: -0.0463249\ttotal: 5m 42s\tremaining: 7m 45s\n",
      "424:\tlearn: -0.0462108\ttotal: 5m 43s\tremaining: 7m 44s\n",
      "425:\tlearn: -0.0460573\ttotal: 5m 44s\tremaining: 7m 43s\n",
      "426:\tlearn: -0.0459416\ttotal: 5m 45s\tremaining: 7m 43s\n",
      "427:\tlearn: -0.0457784\ttotal: 5m 45s\tremaining: 7m 42s\n",
      "428:\tlearn: -0.0455929\ttotal: 5m 46s\tremaining: 7m 41s\n",
      "429:\tlearn: -0.0454345\ttotal: 5m 47s\tremaining: 7m 40s\n",
      "430:\tlearn: -0.0452736\ttotal: 5m 48s\tremaining: 7m 39s\n",
      "431:\tlearn: -0.0451330\ttotal: 5m 48s\tremaining: 7m 38s\n",
      "432:\tlearn: -0.0449726\ttotal: 5m 49s\tremaining: 7m 37s\n",
      "433:\tlearn: -0.0448702\ttotal: 5m 50s\tremaining: 7m 37s\n",
      "434:\tlearn: -0.0447306\ttotal: 5m 51s\tremaining: 7m 36s\n",
      "435:\tlearn: -0.0446315\ttotal: 5m 51s\tremaining: 7m 35s\n",
      "436:\tlearn: -0.0444884\ttotal: 5m 52s\tremaining: 7m 34s\n",
      "437:\tlearn: -0.0443580\ttotal: 5m 53s\tremaining: 7m 33s\n",
      "438:\tlearn: -0.0441334\ttotal: 5m 54s\tremaining: 7m 33s\n",
      "439:\tlearn: -0.0440382\ttotal: 5m 55s\tremaining: 7m 32s\n",
      "440:\tlearn: -0.0439627\ttotal: 5m 56s\tremaining: 7m 31s\n",
      "441:\tlearn: -0.0438375\ttotal: 5m 56s\tremaining: 7m 30s\n",
      "442:\tlearn: -0.0437554\ttotal: 5m 57s\tremaining: 7m 29s\n",
      "443:\tlearn: -0.0436076\ttotal: 5m 58s\tremaining: 7m 29s\n",
      "444:\tlearn: -0.0433698\ttotal: 5m 59s\tremaining: 7m 28s\n",
      "445:\tlearn: -0.0431641\ttotal: 6m\tremaining: 7m 27s\n",
      "446:\tlearn: -0.0430341\ttotal: 6m 1s\tremaining: 7m 26s\n",
      "447:\tlearn: -0.0428791\ttotal: 6m 1s\tremaining: 7m 25s\n",
      "448:\tlearn: -0.0427891\ttotal: 6m 2s\tremaining: 7m 24s\n",
      "449:\tlearn: -0.0426925\ttotal: 6m 3s\tremaining: 7m 24s\n"
     ]
    },
    {
     "name": "stdout",
     "output_type": "stream",
     "text": [
      "450:\tlearn: -0.0425482\ttotal: 6m 4s\tremaining: 7m 23s\n",
      "451:\tlearn: -0.0424217\ttotal: 6m 4s\tremaining: 7m 22s\n",
      "452:\tlearn: -0.0422581\ttotal: 6m 5s\tremaining: 7m 21s\n",
      "453:\tlearn: -0.0421223\ttotal: 6m 6s\tremaining: 7m 20s\n",
      "454:\tlearn: -0.0420021\ttotal: 6m 7s\tremaining: 7m 20s\n",
      "455:\tlearn: -0.0418274\ttotal: 6m 8s\tremaining: 7m 19s\n",
      "456:\tlearn: -0.0416691\ttotal: 6m 9s\tremaining: 7m 18s\n",
      "457:\tlearn: -0.0415512\ttotal: 6m 9s\tremaining: 7m 17s\n",
      "458:\tlearn: -0.0414658\ttotal: 6m 10s\tremaining: 7m 16s\n",
      "459:\tlearn: -0.0413804\ttotal: 6m 11s\tremaining: 7m 16s\n",
      "460:\tlearn: -0.0412636\ttotal: 6m 12s\tremaining: 7m 15s\n",
      "461:\tlearn: -0.0411045\ttotal: 6m 12s\tremaining: 7m 14s\n",
      "462:\tlearn: -0.0409441\ttotal: 6m 13s\tremaining: 7m 13s\n",
      "463:\tlearn: -0.0408491\ttotal: 6m 14s\tremaining: 7m 12s\n",
      "464:\tlearn: -0.0407674\ttotal: 6m 15s\tremaining: 7m 11s\n",
      "465:\tlearn: -0.0406026\ttotal: 6m 15s\tremaining: 7m 10s\n",
      "466:\tlearn: -0.0405419\ttotal: 6m 16s\tremaining: 7m 9s\n",
      "467:\tlearn: -0.0404456\ttotal: 6m 17s\tremaining: 7m 9s\n",
      "468:\tlearn: -0.0403269\ttotal: 6m 18s\tremaining: 7m 8s\n",
      "469:\tlearn: -0.0402155\ttotal: 6m 19s\tremaining: 7m 7s\n",
      "470:\tlearn: -0.0401603\ttotal: 6m 20s\tremaining: 7m 6s\n",
      "471:\tlearn: -0.0400086\ttotal: 6m 20s\tremaining: 7m 6s\n",
      "472:\tlearn: -0.0399262\ttotal: 6m 21s\tremaining: 7m 5s\n",
      "473:\tlearn: -0.0398069\ttotal: 6m 22s\tremaining: 7m 4s\n",
      "474:\tlearn: -0.0396550\ttotal: 6m 23s\tremaining: 7m 3s\n",
      "475:\tlearn: -0.0395266\ttotal: 6m 23s\tremaining: 7m 2s\n",
      "476:\tlearn: -0.0393638\ttotal: 6m 24s\tremaining: 7m 1s\n",
      "477:\tlearn: -0.0392576\ttotal: 6m 25s\tremaining: 7m 1s\n",
      "478:\tlearn: -0.0390752\ttotal: 6m 26s\tremaining: 7m\n",
      "479:\tlearn: -0.0390052\ttotal: 6m 27s\tremaining: 6m 59s\n",
      "480:\tlearn: -0.0388266\ttotal: 6m 27s\tremaining: 6m 58s\n",
      "481:\tlearn: -0.0387567\ttotal: 6m 28s\tremaining: 6m 57s\n",
      "482:\tlearn: -0.0386172\ttotal: 6m 29s\tremaining: 6m 56s\n",
      "483:\tlearn: -0.0384694\ttotal: 6m 30s\tremaining: 6m 55s\n",
      "484:\tlearn: -0.0383226\ttotal: 6m 30s\tremaining: 6m 55s\n",
      "485:\tlearn: -0.0382230\ttotal: 6m 31s\tremaining: 6m 54s\n",
      "486:\tlearn: -0.0381216\ttotal: 6m 32s\tremaining: 6m 53s\n",
      "487:\tlearn: -0.0379995\ttotal: 6m 33s\tremaining: 6m 52s\n",
      "488:\tlearn: -0.0378854\ttotal: 6m 34s\tremaining: 6m 51s\n",
      "489:\tlearn: -0.0377546\ttotal: 6m 35s\tremaining: 6m 51s\n",
      "490:\tlearn: -0.0376002\ttotal: 6m 35s\tremaining: 6m 50s\n",
      "491:\tlearn: -0.0374808\ttotal: 6m 36s\tremaining: 6m 49s\n",
      "492:\tlearn: -0.0373547\ttotal: 6m 37s\tremaining: 6m 48s\n",
      "493:\tlearn: -0.0372528\ttotal: 6m 38s\tremaining: 6m 48s\n",
      "494:\tlearn: -0.0371289\ttotal: 6m 39s\tremaining: 6m 47s\n",
      "495:\tlearn: -0.0370031\ttotal: 6m 39s\tremaining: 6m 46s\n",
      "496:\tlearn: -0.0369316\ttotal: 6m 40s\tremaining: 6m 45s\n",
      "497:\tlearn: -0.0368275\ttotal: 6m 41s\tremaining: 6m 44s\n",
      "498:\tlearn: -0.0367182\ttotal: 6m 42s\tremaining: 6m 43s\n",
      "499:\tlearn: -0.0365980\ttotal: 6m 43s\tremaining: 6m 43s\n",
      "500:\tlearn: -0.0365361\ttotal: 6m 43s\tremaining: 6m 42s\n",
      "501:\tlearn: -0.0364123\ttotal: 6m 44s\tremaining: 6m 41s\n",
      "502:\tlearn: -0.0363020\ttotal: 6m 45s\tremaining: 6m 40s\n",
      "503:\tlearn: -0.0362114\ttotal: 6m 46s\tremaining: 6m 39s\n",
      "504:\tlearn: -0.0361317\ttotal: 6m 47s\tremaining: 6m 38s\n",
      "505:\tlearn: -0.0360115\ttotal: 6m 47s\tremaining: 6m 38s\n",
      "506:\tlearn: -0.0359218\ttotal: 6m 48s\tremaining: 6m 37s\n",
      "507:\tlearn: -0.0358474\ttotal: 6m 49s\tremaining: 6m 36s\n",
      "508:\tlearn: -0.0357073\ttotal: 6m 49s\tremaining: 6m 35s\n",
      "509:\tlearn: -0.0355832\ttotal: 6m 50s\tremaining: 6m 34s\n",
      "510:\tlearn: -0.0355240\ttotal: 6m 51s\tremaining: 6m 33s\n",
      "511:\tlearn: -0.0354272\ttotal: 6m 52s\tremaining: 6m 32s\n",
      "512:\tlearn: -0.0353595\ttotal: 6m 52s\tremaining: 6m 31s\n",
      "513:\tlearn: -0.0352673\ttotal: 6m 53s\tremaining: 6m 31s\n",
      "514:\tlearn: -0.0351731\ttotal: 6m 54s\tremaining: 6m 30s\n",
      "515:\tlearn: -0.0350953\ttotal: 6m 55s\tremaining: 6m 29s\n",
      "516:\tlearn: -0.0349697\ttotal: 6m 55s\tremaining: 6m 28s\n",
      "517:\tlearn: -0.0348605\ttotal: 6m 56s\tremaining: 6m 27s\n",
      "518:\tlearn: -0.0347465\ttotal: 6m 57s\tremaining: 6m 26s\n",
      "519:\tlearn: -0.0346409\ttotal: 6m 58s\tremaining: 6m 25s\n",
      "520:\tlearn: -0.0345229\ttotal: 6m 59s\tremaining: 6m 25s\n",
      "521:\tlearn: -0.0344550\ttotal: 6m 59s\tremaining: 6m 24s\n",
      "522:\tlearn: -0.0343786\ttotal: 7m\tremaining: 6m 23s\n",
      "523:\tlearn: -0.0342342\ttotal: 7m 1s\tremaining: 6m 22s\n",
      "524:\tlearn: -0.0341303\ttotal: 7m 2s\tremaining: 6m 21s\n",
      "525:\tlearn: -0.0340656\ttotal: 7m 2s\tremaining: 6m 21s\n",
      "526:\tlearn: -0.0339409\ttotal: 7m 3s\tremaining: 6m 20s\n",
      "527:\tlearn: -0.0338635\ttotal: 7m 4s\tremaining: 6m 19s\n",
      "528:\tlearn: -0.0337512\ttotal: 7m 5s\tremaining: 6m 18s\n",
      "529:\tlearn: -0.0336514\ttotal: 7m 5s\tremaining: 6m 17s\n",
      "530:\tlearn: -0.0335592\ttotal: 7m 6s\tremaining: 6m 16s\n",
      "531:\tlearn: -0.0334613\ttotal: 7m 7s\tremaining: 6m 15s\n",
      "532:\tlearn: -0.0333959\ttotal: 7m 8s\tremaining: 6m 15s\n",
      "533:\tlearn: -0.0333273\ttotal: 7m 8s\tremaining: 6m 14s\n",
      "534:\tlearn: -0.0332097\ttotal: 7m 9s\tremaining: 6m 13s\n",
      "535:\tlearn: -0.0331465\ttotal: 7m 10s\tremaining: 6m 12s\n",
      "536:\tlearn: -0.0330984\ttotal: 7m 11s\tremaining: 6m 11s\n",
      "537:\tlearn: -0.0330249\ttotal: 7m 11s\tremaining: 6m 10s\n",
      "538:\tlearn: -0.0329667\ttotal: 7m 12s\tremaining: 6m 9s\n",
      "539:\tlearn: -0.0329043\ttotal: 7m 13s\tremaining: 6m 9s\n",
      "540:\tlearn: -0.0328319\ttotal: 7m 14s\tremaining: 6m 8s\n",
      "541:\tlearn: -0.0327595\ttotal: 7m 14s\tremaining: 6m 7s\n",
      "542:\tlearn: -0.0326637\ttotal: 7m 15s\tremaining: 6m 6s\n",
      "543:\tlearn: -0.0325484\ttotal: 7m 16s\tremaining: 6m 5s\n",
      "544:\tlearn: -0.0324533\ttotal: 7m 17s\tremaining: 6m 4s\n",
      "545:\tlearn: -0.0323643\ttotal: 7m 17s\tremaining: 6m 4s\n",
      "546:\tlearn: -0.0322797\ttotal: 7m 18s\tremaining: 6m 3s\n",
      "547:\tlearn: -0.0322348\ttotal: 7m 19s\tremaining: 6m 2s\n",
      "548:\tlearn: -0.0321472\ttotal: 7m 20s\tremaining: 6m 1s\n",
      "549:\tlearn: -0.0320577\ttotal: 7m 20s\tremaining: 6m\n",
      "550:\tlearn: -0.0319099\ttotal: 7m 21s\tremaining: 5m 59s\n",
      "551:\tlearn: -0.0318126\ttotal: 7m 22s\tremaining: 5m 59s\n",
      "552:\tlearn: -0.0317106\ttotal: 7m 23s\tremaining: 5m 58s\n",
      "553:\tlearn: -0.0316449\ttotal: 7m 23s\tremaining: 5m 57s\n",
      "554:\tlearn: -0.0315653\ttotal: 7m 24s\tremaining: 5m 56s\n",
      "555:\tlearn: -0.0314810\ttotal: 7m 25s\tremaining: 5m 55s\n",
      "556:\tlearn: -0.0313820\ttotal: 7m 26s\tremaining: 5m 54s\n",
      "557:\tlearn: -0.0312864\ttotal: 7m 26s\tremaining: 5m 54s\n",
      "558:\tlearn: -0.0312107\ttotal: 7m 27s\tremaining: 5m 53s\n",
      "559:\tlearn: -0.0311230\ttotal: 7m 28s\tremaining: 5m 52s\n",
      "560:\tlearn: -0.0310668\ttotal: 7m 29s\tremaining: 5m 51s\n",
      "561:\tlearn: -0.0309823\ttotal: 7m 30s\tremaining: 5m 50s\n",
      "562:\tlearn: -0.0309227\ttotal: 7m 30s\tremaining: 5m 49s\n",
      "563:\tlearn: -0.0308589\ttotal: 7m 31s\tremaining: 5m 49s\n",
      "564:\tlearn: -0.0307700\ttotal: 7m 32s\tremaining: 5m 48s\n",
      "565:\tlearn: -0.0307191\ttotal: 7m 33s\tremaining: 5m 47s\n",
      "566:\tlearn: -0.0306240\ttotal: 7m 33s\tremaining: 5m 46s\n",
      "567:\tlearn: -0.0305713\ttotal: 7m 34s\tremaining: 5m 45s\n",
      "568:\tlearn: -0.0305193\ttotal: 7m 35s\tremaining: 5m 44s\n",
      "569:\tlearn: -0.0304431\ttotal: 7m 35s\tremaining: 5m 43s\n",
      "570:\tlearn: -0.0303391\ttotal: 7m 36s\tremaining: 5m 43s\n",
      "571:\tlearn: -0.0302647\ttotal: 7m 37s\tremaining: 5m 42s\n",
      "572:\tlearn: -0.0302027\ttotal: 7m 38s\tremaining: 5m 41s\n",
      "573:\tlearn: -0.0301542\ttotal: 7m 39s\tremaining: 5m 40s\n",
      "574:\tlearn: -0.0300620\ttotal: 7m 39s\tremaining: 5m 39s\n",
      "575:\tlearn: -0.0299975\ttotal: 7m 40s\tremaining: 5m 39s\n",
      "576:\tlearn: -0.0299029\ttotal: 7m 41s\tremaining: 5m 38s\n",
      "577:\tlearn: -0.0298440\ttotal: 7m 41s\tremaining: 5m 37s\n",
      "578:\tlearn: -0.0297966\ttotal: 7m 42s\tremaining: 5m 36s\n",
      "579:\tlearn: -0.0297517\ttotal: 7m 43s\tremaining: 5m 35s\n",
      "580:\tlearn: -0.0296671\ttotal: 7m 44s\tremaining: 5m 34s\n",
      "581:\tlearn: -0.0296226\ttotal: 7m 45s\tremaining: 5m 34s\n",
      "582:\tlearn: -0.0295794\ttotal: 7m 46s\tremaining: 5m 33s\n",
      "583:\tlearn: -0.0295243\ttotal: 7m 46s\tremaining: 5m 32s\n",
      "584:\tlearn: -0.0294260\ttotal: 7m 47s\tremaining: 5m 31s\n",
      "585:\tlearn: -0.0293844\ttotal: 7m 48s\tremaining: 5m 30s\n",
      "586:\tlearn: -0.0293070\ttotal: 7m 48s\tremaining: 5m 29s\n",
      "587:\tlearn: -0.0292316\ttotal: 7m 49s\tremaining: 5m 29s\n",
      "588:\tlearn: -0.0291517\ttotal: 7m 50s\tremaining: 5m 28s\n",
      "589:\tlearn: -0.0290789\ttotal: 7m 51s\tremaining: 5m 27s\n",
      "590:\tlearn: -0.0290250\ttotal: 7m 51s\tremaining: 5m 26s\n",
      "591:\tlearn: -0.0289624\ttotal: 7m 52s\tremaining: 5m 25s\n",
      "592:\tlearn: -0.0288846\ttotal: 7m 53s\tremaining: 5m 24s\n",
      "593:\tlearn: -0.0288199\ttotal: 7m 53s\tremaining: 5m 23s\n",
      "594:\tlearn: -0.0287508\ttotal: 7m 54s\tremaining: 5m 23s\n",
      "595:\tlearn: -0.0286914\ttotal: 7m 55s\tremaining: 5m 22s\n",
      "596:\tlearn: -0.0286021\ttotal: 7m 56s\tremaining: 5m 21s\n",
      "597:\tlearn: -0.0285472\ttotal: 7m 56s\tremaining: 5m 20s\n",
      "598:\tlearn: -0.0285060\ttotal: 7m 57s\tremaining: 5m 19s\n",
      "599:\tlearn: -0.0284394\ttotal: 7m 58s\tremaining: 5m 18s\n"
     ]
    },
    {
     "name": "stdout",
     "output_type": "stream",
     "text": [
      "600:\tlearn: -0.0284034\ttotal: 7m 59s\tremaining: 5m 18s\n",
      "601:\tlearn: -0.0283519\ttotal: 7m 59s\tremaining: 5m 17s\n",
      "602:\tlearn: -0.0283022\ttotal: 8m\tremaining: 5m 16s\n",
      "603:\tlearn: -0.0282173\ttotal: 8m 1s\tremaining: 5m 15s\n",
      "604:\tlearn: -0.0281546\ttotal: 8m 2s\tremaining: 5m 14s\n",
      "605:\tlearn: -0.0281118\ttotal: 8m 2s\tremaining: 5m 13s\n",
      "606:\tlearn: -0.0280552\ttotal: 8m 3s\tremaining: 5m 13s\n",
      "607:\tlearn: -0.0279673\ttotal: 8m 4s\tremaining: 5m 12s\n",
      "608:\tlearn: -0.0278967\ttotal: 8m 4s\tremaining: 5m 11s\n",
      "609:\tlearn: -0.0278475\ttotal: 8m 5s\tremaining: 5m 10s\n",
      "610:\tlearn: -0.0277319\ttotal: 8m 6s\tremaining: 5m 9s\n",
      "611:\tlearn: -0.0276476\ttotal: 8m 7s\tremaining: 5m 8s\n",
      "612:\tlearn: -0.0275951\ttotal: 8m 7s\tremaining: 5m 7s\n",
      "613:\tlearn: -0.0275290\ttotal: 8m 8s\tremaining: 5m 7s\n",
      "614:\tlearn: -0.0274816\ttotal: 8m 9s\tremaining: 5m 6s\n",
      "615:\tlearn: -0.0273720\ttotal: 8m 9s\tremaining: 5m 5s\n",
      "616:\tlearn: -0.0272922\ttotal: 8m 10s\tremaining: 5m 4s\n",
      "617:\tlearn: -0.0272271\ttotal: 8m 11s\tremaining: 5m 3s\n",
      "618:\tlearn: -0.0271797\ttotal: 8m 12s\tremaining: 5m 2s\n",
      "619:\tlearn: -0.0271406\ttotal: 8m 12s\tremaining: 5m 2s\n",
      "620:\tlearn: -0.0271049\ttotal: 8m 13s\tremaining: 5m 1s\n",
      "621:\tlearn: -0.0270273\ttotal: 8m 14s\tremaining: 5m\n",
      "622:\tlearn: -0.0269538\ttotal: 8m 15s\tremaining: 4m 59s\n",
      "623:\tlearn: -0.0269176\ttotal: 8m 16s\tremaining: 4m 58s\n",
      "624:\tlearn: -0.0268583\ttotal: 8m 16s\tremaining: 4m 58s\n",
      "625:\tlearn: -0.0268059\ttotal: 8m 17s\tremaining: 4m 57s\n",
      "626:\tlearn: -0.0267346\ttotal: 8m 18s\tremaining: 4m 56s\n",
      "627:\tlearn: -0.0266921\ttotal: 8m 18s\tremaining: 4m 55s\n",
      "628:\tlearn: -0.0266345\ttotal: 8m 19s\tremaining: 4m 54s\n",
      "629:\tlearn: -0.0265646\ttotal: 8m 20s\tremaining: 4m 53s\n",
      "630:\tlearn: -0.0264869\ttotal: 8m 21s\tremaining: 4m 53s\n",
      "631:\tlearn: -0.0264302\ttotal: 8m 21s\tremaining: 4m 52s\n",
      "632:\tlearn: -0.0263693\ttotal: 8m 22s\tremaining: 4m 51s\n",
      "633:\tlearn: -0.0262756\ttotal: 8m 23s\tremaining: 4m 50s\n",
      "634:\tlearn: -0.0261939\ttotal: 8m 24s\tremaining: 4m 49s\n",
      "635:\tlearn: -0.0261520\ttotal: 8m 25s\tremaining: 4m 49s\n",
      "636:\tlearn: -0.0260863\ttotal: 8m 25s\tremaining: 4m 48s\n",
      "637:\tlearn: -0.0260458\ttotal: 8m 26s\tremaining: 4m 47s\n",
      "638:\tlearn: -0.0260088\ttotal: 8m 27s\tremaining: 4m 46s\n",
      "639:\tlearn: -0.0259411\ttotal: 8m 28s\tremaining: 4m 45s\n",
      "640:\tlearn: -0.0258857\ttotal: 8m 28s\tremaining: 4m 44s\n",
      "641:\tlearn: -0.0258418\ttotal: 8m 29s\tremaining: 4m 44s\n",
      "642:\tlearn: -0.0257664\ttotal: 8m 30s\tremaining: 4m 43s\n",
      "643:\tlearn: -0.0256997\ttotal: 8m 31s\tremaining: 4m 42s\n",
      "644:\tlearn: -0.0256564\ttotal: 8m 31s\tremaining: 4m 41s\n",
      "645:\tlearn: -0.0255969\ttotal: 8m 32s\tremaining: 4m 40s\n",
      "646:\tlearn: -0.0255611\ttotal: 8m 33s\tremaining: 4m 40s\n",
      "647:\tlearn: -0.0255084\ttotal: 8m 34s\tremaining: 4m 39s\n",
      "648:\tlearn: -0.0254419\ttotal: 8m 34s\tremaining: 4m 38s\n",
      "649:\tlearn: -0.0254139\ttotal: 8m 35s\tremaining: 4m 37s\n",
      "650:\tlearn: -0.0253768\ttotal: 8m 36s\tremaining: 4m 36s\n",
      "651:\tlearn: -0.0253016\ttotal: 8m 37s\tremaining: 4m 36s\n",
      "652:\tlearn: -0.0252555\ttotal: 8m 37s\tremaining: 4m 35s\n",
      "653:\tlearn: -0.0252132\ttotal: 8m 38s\tremaining: 4m 34s\n",
      "654:\tlearn: -0.0251725\ttotal: 8m 39s\tremaining: 4m 33s\n",
      "655:\tlearn: -0.0251162\ttotal: 8m 40s\tremaining: 4m 32s\n",
      "656:\tlearn: -0.0250734\ttotal: 8m 40s\tremaining: 4m 31s\n",
      "657:\tlearn: -0.0250339\ttotal: 8m 41s\tremaining: 4m 31s\n",
      "658:\tlearn: -0.0249740\ttotal: 8m 42s\tremaining: 4m 30s\n",
      "659:\tlearn: -0.0249204\ttotal: 8m 43s\tremaining: 4m 29s\n",
      "660:\tlearn: -0.0248741\ttotal: 8m 44s\tremaining: 4m 28s\n",
      "661:\tlearn: -0.0248355\ttotal: 8m 44s\tremaining: 4m 27s\n",
      "662:\tlearn: -0.0247894\ttotal: 8m 45s\tremaining: 4m 27s\n",
      "663:\tlearn: -0.0247575\ttotal: 8m 46s\tremaining: 4m 26s\n",
      "664:\tlearn: -0.0246995\ttotal: 8m 46s\tremaining: 4m 25s\n",
      "665:\tlearn: -0.0246370\ttotal: 8m 47s\tremaining: 4m 24s\n",
      "666:\tlearn: -0.0245736\ttotal: 8m 48s\tremaining: 4m 23s\n",
      "667:\tlearn: -0.0245081\ttotal: 8m 49s\tremaining: 4m 22s\n",
      "668:\tlearn: -0.0244742\ttotal: 8m 49s\tremaining: 4m 22s\n",
      "669:\tlearn: -0.0244401\ttotal: 8m 50s\tremaining: 4m 21s\n",
      "670:\tlearn: -0.0243926\ttotal: 8m 51s\tremaining: 4m 20s\n",
      "671:\tlearn: -0.0243590\ttotal: 8m 51s\tremaining: 4m 19s\n",
      "672:\tlearn: -0.0243045\ttotal: 8m 52s\tremaining: 4m 18s\n",
      "673:\tlearn: -0.0242337\ttotal: 8m 53s\tremaining: 4m 17s\n",
      "674:\tlearn: -0.0241997\ttotal: 8m 54s\tremaining: 4m 17s\n",
      "675:\tlearn: -0.0241325\ttotal: 8m 54s\tremaining: 4m 16s\n",
      "676:\tlearn: -0.0240759\ttotal: 8m 55s\tremaining: 4m 15s\n",
      "677:\tlearn: -0.0240415\ttotal: 8m 56s\tremaining: 4m 14s\n",
      "678:\tlearn: -0.0240081\ttotal: 8m 57s\tremaining: 4m 13s\n",
      "679:\tlearn: -0.0239626\ttotal: 8m 58s\tremaining: 4m 13s\n",
      "680:\tlearn: -0.0239253\ttotal: 8m 58s\tremaining: 4m 12s\n",
      "681:\tlearn: -0.0238747\ttotal: 8m 59s\tremaining: 4m 11s\n",
      "682:\tlearn: -0.0238181\ttotal: 9m\tremaining: 4m 10s\n",
      "683:\tlearn: -0.0237649\ttotal: 9m 1s\tremaining: 4m 10s\n",
      "684:\tlearn: -0.0237143\ttotal: 9m 2s\tremaining: 4m 9s\n",
      "685:\tlearn: -0.0236358\ttotal: 9m 2s\tremaining: 4m 8s\n",
      "686:\tlearn: -0.0235804\ttotal: 9m 3s\tremaining: 4m 7s\n",
      "687:\tlearn: -0.0235140\ttotal: 9m 4s\tremaining: 4m 6s\n",
      "688:\tlearn: -0.0234624\ttotal: 9m 5s\tremaining: 4m 6s\n",
      "689:\tlearn: -0.0234384\ttotal: 9m 5s\tremaining: 4m 5s\n",
      "690:\tlearn: -0.0233856\ttotal: 9m 6s\tremaining: 4m 4s\n",
      "691:\tlearn: -0.0233523\ttotal: 9m 7s\tremaining: 4m 3s\n",
      "692:\tlearn: -0.0232917\ttotal: 9m 8s\tremaining: 4m 2s\n",
      "693:\tlearn: -0.0232645\ttotal: 9m 8s\tremaining: 4m 1s\n",
      "694:\tlearn: -0.0232261\ttotal: 9m 9s\tremaining: 4m 1s\n",
      "695:\tlearn: -0.0231762\ttotal: 9m 10s\tremaining: 4m\n",
      "696:\tlearn: -0.0231171\ttotal: 9m 11s\tremaining: 3m 59s\n",
      "697:\tlearn: -0.0230870\ttotal: 9m 12s\tremaining: 3m 58s\n",
      "698:\tlearn: -0.0230466\ttotal: 9m 12s\tremaining: 3m 58s\n",
      "699:\tlearn: -0.0229824\ttotal: 9m 13s\tremaining: 3m 57s\n",
      "700:\tlearn: -0.0229243\ttotal: 9m 14s\tremaining: 3m 56s\n",
      "701:\tlearn: -0.0228908\ttotal: 9m 14s\tremaining: 3m 55s\n",
      "702:\tlearn: -0.0228689\ttotal: 9m 15s\tremaining: 3m 54s\n",
      "703:\tlearn: -0.0228356\ttotal: 9m 16s\tremaining: 3m 53s\n",
      "704:\tlearn: -0.0227641\ttotal: 9m 16s\tremaining: 3m 53s\n",
      "705:\tlearn: -0.0227265\ttotal: 9m 17s\tremaining: 3m 52s\n",
      "706:\tlearn: -0.0226777\ttotal: 9m 18s\tremaining: 3m 51s\n",
      "707:\tlearn: -0.0226443\ttotal: 9m 19s\tremaining: 3m 50s\n",
      "708:\tlearn: -0.0226199\ttotal: 9m 19s\tremaining: 3m 49s\n",
      "709:\tlearn: -0.0225666\ttotal: 9m 20s\tremaining: 3m 49s\n",
      "710:\tlearn: -0.0225301\ttotal: 9m 21s\tremaining: 3m 48s\n",
      "711:\tlearn: -0.0224817\ttotal: 9m 22s\tremaining: 3m 47s\n",
      "712:\tlearn: -0.0224486\ttotal: 9m 23s\tremaining: 3m 46s\n",
      "713:\tlearn: -0.0223970\ttotal: 9m 23s\tremaining: 3m 45s\n",
      "714:\tlearn: -0.0223546\ttotal: 9m 24s\tremaining: 3m 44s\n",
      "715:\tlearn: -0.0222806\ttotal: 9m 25s\tremaining: 3m 44s\n",
      "716:\tlearn: -0.0222367\ttotal: 9m 26s\tremaining: 3m 43s\n",
      "717:\tlearn: -0.0221918\ttotal: 9m 26s\tremaining: 3m 42s\n",
      "718:\tlearn: -0.0221383\ttotal: 9m 27s\tremaining: 3m 41s\n",
      "719:\tlearn: -0.0221101\ttotal: 9m 28s\tremaining: 3m 41s\n",
      "720:\tlearn: -0.0220614\ttotal: 9m 29s\tremaining: 3m 40s\n",
      "721:\tlearn: -0.0220186\ttotal: 9m 29s\tremaining: 3m 39s\n",
      "722:\tlearn: -0.0219854\ttotal: 9m 30s\tremaining: 3m 38s\n",
      "723:\tlearn: -0.0219536\ttotal: 9m 31s\tremaining: 3m 37s\n",
      "724:\tlearn: -0.0219050\ttotal: 9m 32s\tremaining: 3m 37s\n",
      "725:\tlearn: -0.0218510\ttotal: 9m 33s\tremaining: 3m 36s\n",
      "726:\tlearn: -0.0218148\ttotal: 9m 33s\tremaining: 3m 35s\n",
      "727:\tlearn: -0.0217689\ttotal: 9m 34s\tremaining: 3m 34s\n",
      "728:\tlearn: -0.0217134\ttotal: 9m 35s\tremaining: 3m 33s\n",
      "729:\tlearn: -0.0216508\ttotal: 9m 35s\tremaining: 3m 33s\n",
      "730:\tlearn: -0.0216115\ttotal: 9m 36s\tremaining: 3m 32s\n",
      "731:\tlearn: -0.0215691\ttotal: 9m 37s\tremaining: 3m 31s\n",
      "732:\tlearn: -0.0215221\ttotal: 9m 38s\tremaining: 3m 30s\n",
      "733:\tlearn: -0.0214669\ttotal: 9m 38s\tremaining: 3m 29s\n",
      "734:\tlearn: -0.0214320\ttotal: 9m 39s\tremaining: 3m 28s\n",
      "735:\tlearn: -0.0213920\ttotal: 9m 40s\tremaining: 3m 28s\n",
      "736:\tlearn: -0.0213680\ttotal: 9m 40s\tremaining: 3m 27s\n",
      "737:\tlearn: -0.0213179\ttotal: 9m 41s\tremaining: 3m 26s\n",
      "738:\tlearn: -0.0212904\ttotal: 9m 42s\tremaining: 3m 25s\n",
      "739:\tlearn: -0.0212404\ttotal: 9m 43s\tremaining: 3m 24s\n",
      "740:\tlearn: -0.0211944\ttotal: 9m 43s\tremaining: 3m 24s\n",
      "741:\tlearn: -0.0211549\ttotal: 9m 44s\tremaining: 3m 23s\n",
      "742:\tlearn: -0.0211081\ttotal: 9m 45s\tremaining: 3m 22s\n",
      "743:\tlearn: -0.0210813\ttotal: 9m 46s\tremaining: 3m 21s\n",
      "744:\tlearn: -0.0210328\ttotal: 9m 46s\tremaining: 3m 20s\n",
      "745:\tlearn: -0.0209817\ttotal: 9m 47s\tremaining: 3m 20s\n",
      "746:\tlearn: -0.0209360\ttotal: 9m 48s\tremaining: 3m 19s\n",
      "747:\tlearn: -0.0209023\ttotal: 9m 49s\tremaining: 3m 18s\n",
      "748:\tlearn: -0.0208631\ttotal: 9m 50s\tremaining: 3m 17s\n",
      "749:\tlearn: -0.0208230\ttotal: 9m 50s\tremaining: 3m 16s\n",
      "750:\tlearn: -0.0207917\ttotal: 9m 51s\tremaining: 3m 16s\n"
     ]
    },
    {
     "name": "stdout",
     "output_type": "stream",
     "text": [
      "751:\tlearn: -0.0207603\ttotal: 9m 52s\tremaining: 3m 15s\n",
      "752:\tlearn: -0.0207309\ttotal: 9m 53s\tremaining: 3m 14s\n",
      "753:\tlearn: -0.0207065\ttotal: 9m 54s\tremaining: 3m 13s\n",
      "754:\tlearn: -0.0206704\ttotal: 9m 54s\tremaining: 3m 12s\n",
      "755:\tlearn: -0.0206418\ttotal: 9m 55s\tremaining: 3m 12s\n",
      "756:\tlearn: -0.0206168\ttotal: 9m 56s\tremaining: 3m 11s\n",
      "757:\tlearn: -0.0205796\ttotal: 9m 56s\tremaining: 3m 10s\n",
      "758:\tlearn: -0.0205185\ttotal: 9m 57s\tremaining: 3m 9s\n",
      "759:\tlearn: -0.0204861\ttotal: 9m 58s\tremaining: 3m 8s\n",
      "760:\tlearn: -0.0204415\ttotal: 9m 59s\tremaining: 3m 8s\n",
      "761:\tlearn: -0.0203835\ttotal: 9m 59s\tremaining: 3m 7s\n",
      "762:\tlearn: -0.0203613\ttotal: 10m\tremaining: 3m 6s\n",
      "763:\tlearn: -0.0203310\ttotal: 10m 1s\tremaining: 3m 5s\n",
      "764:\tlearn: -0.0202976\ttotal: 10m 2s\tremaining: 3m 5s\n",
      "765:\tlearn: -0.0202614\ttotal: 10m 3s\tremaining: 3m 4s\n",
      "766:\tlearn: -0.0202360\ttotal: 10m 3s\tremaining: 3m 3s\n",
      "767:\tlearn: -0.0202102\ttotal: 10m 4s\tremaining: 3m 2s\n",
      "768:\tlearn: -0.0201750\ttotal: 10m 5s\tremaining: 3m 1s\n",
      "769:\tlearn: -0.0201389\ttotal: 10m 6s\tremaining: 3m 1s\n",
      "770:\tlearn: -0.0200982\ttotal: 10m 6s\tremaining: 3m\n",
      "771:\tlearn: -0.0200751\ttotal: 10m 7s\tremaining: 2m 59s\n",
      "772:\tlearn: -0.0200535\ttotal: 10m 8s\tremaining: 2m 58s\n",
      "773:\tlearn: -0.0200335\ttotal: 10m 9s\tremaining: 2m 57s\n",
      "774:\tlearn: -0.0199604\ttotal: 10m 9s\tremaining: 2m 57s\n",
      "775:\tlearn: -0.0199156\ttotal: 10m 10s\tremaining: 2m 56s\n",
      "776:\tlearn: -0.0198890\ttotal: 10m 11s\tremaining: 2m 55s\n",
      "777:\tlearn: -0.0198552\ttotal: 10m 12s\tremaining: 2m 54s\n",
      "778:\tlearn: -0.0198135\ttotal: 10m 12s\tremaining: 2m 53s\n",
      "779:\tlearn: -0.0197763\ttotal: 10m 13s\tremaining: 2m 53s\n",
      "780:\tlearn: -0.0197390\ttotal: 10m 14s\tremaining: 2m 52s\n",
      "781:\tlearn: -0.0197174\ttotal: 10m 14s\tremaining: 2m 51s\n",
      "782:\tlearn: -0.0196818\ttotal: 10m 15s\tremaining: 2m 50s\n",
      "783:\tlearn: -0.0196343\ttotal: 10m 16s\tremaining: 2m 49s\n",
      "784:\tlearn: -0.0196135\ttotal: 10m 16s\tremaining: 2m 48s\n",
      "785:\tlearn: -0.0195728\ttotal: 10m 17s\tremaining: 2m 48s\n",
      "786:\tlearn: -0.0195457\ttotal: 10m 18s\tremaining: 2m 47s\n",
      "787:\tlearn: -0.0195144\ttotal: 10m 19s\tremaining: 2m 46s\n",
      "788:\tlearn: -0.0194808\ttotal: 10m 19s\tremaining: 2m 45s\n",
      "789:\tlearn: -0.0194474\ttotal: 10m 20s\tremaining: 2m 44s\n",
      "790:\tlearn: -0.0194210\ttotal: 10m 21s\tremaining: 2m 44s\n",
      "791:\tlearn: -0.0193812\ttotal: 10m 21s\tremaining: 2m 43s\n",
      "792:\tlearn: -0.0193512\ttotal: 10m 22s\tremaining: 2m 42s\n",
      "793:\tlearn: -0.0193201\ttotal: 10m 23s\tremaining: 2m 41s\n",
      "794:\tlearn: -0.0192677\ttotal: 10m 24s\tremaining: 2m 40s\n",
      "795:\tlearn: -0.0192441\ttotal: 10m 24s\tremaining: 2m 40s\n",
      "796:\tlearn: -0.0191938\ttotal: 10m 25s\tremaining: 2m 39s\n",
      "797:\tlearn: -0.0191611\ttotal: 10m 26s\tremaining: 2m 38s\n",
      "798:\tlearn: -0.0191441\ttotal: 10m 26s\tremaining: 2m 37s\n",
      "799:\tlearn: -0.0191088\ttotal: 10m 27s\tremaining: 2m 36s\n",
      "800:\tlearn: -0.0190823\ttotal: 10m 28s\tremaining: 2m 36s\n",
      "801:\tlearn: -0.0190544\ttotal: 10m 29s\tremaining: 2m 35s\n",
      "802:\tlearn: -0.0190271\ttotal: 10m 30s\tremaining: 2m 34s\n",
      "803:\tlearn: -0.0189932\ttotal: 10m 30s\tremaining: 2m 33s\n",
      "804:\tlearn: -0.0189584\ttotal: 10m 31s\tremaining: 2m 32s\n",
      "805:\tlearn: -0.0189300\ttotal: 10m 32s\tremaining: 2m 32s\n",
      "806:\tlearn: -0.0188699\ttotal: 10m 33s\tremaining: 2m 31s\n",
      "807:\tlearn: -0.0188342\ttotal: 10m 33s\tremaining: 2m 30s\n",
      "808:\tlearn: -0.0188099\ttotal: 10m 34s\tremaining: 2m 29s\n",
      "809:\tlearn: -0.0187911\ttotal: 10m 35s\tremaining: 2m 29s\n",
      "810:\tlearn: -0.0187610\ttotal: 10m 36s\tremaining: 2m 28s\n",
      "811:\tlearn: -0.0187365\ttotal: 10m 36s\tremaining: 2m 27s\n",
      "812:\tlearn: -0.0186924\ttotal: 10m 37s\tremaining: 2m 26s\n",
      "813:\tlearn: -0.0186595\ttotal: 10m 38s\tremaining: 2m 25s\n",
      "814:\tlearn: -0.0186276\ttotal: 10m 39s\tremaining: 2m 25s\n",
      "815:\tlearn: -0.0185965\ttotal: 10m 39s\tremaining: 2m 24s\n",
      "816:\tlearn: -0.0185528\ttotal: 10m 40s\tremaining: 2m 23s\n",
      "817:\tlearn: -0.0185203\ttotal: 10m 41s\tremaining: 2m 22s\n",
      "818:\tlearn: -0.0185003\ttotal: 10m 42s\tremaining: 2m 21s\n",
      "819:\tlearn: -0.0184729\ttotal: 10m 42s\tremaining: 2m 21s\n",
      "820:\tlearn: -0.0184355\ttotal: 10m 43s\tremaining: 2m 20s\n",
      "821:\tlearn: -0.0183962\ttotal: 10m 44s\tremaining: 2m 19s\n",
      "822:\tlearn: -0.0183733\ttotal: 10m 45s\tremaining: 2m 18s\n",
      "823:\tlearn: -0.0183533\ttotal: 10m 45s\tremaining: 2m 17s\n",
      "824:\tlearn: -0.0183220\ttotal: 10m 46s\tremaining: 2m 17s\n",
      "825:\tlearn: -0.0182870\ttotal: 10m 47s\tremaining: 2m 16s\n",
      "826:\tlearn: -0.0182672\ttotal: 10m 47s\tremaining: 2m 15s\n",
      "827:\tlearn: -0.0182228\ttotal: 10m 48s\tremaining: 2m 14s\n",
      "828:\tlearn: -0.0181826\ttotal: 10m 49s\tremaining: 2m 13s\n",
      "829:\tlearn: -0.0181526\ttotal: 10m 50s\tremaining: 2m 13s\n",
      "830:\tlearn: -0.0181137\ttotal: 10m 50s\tremaining: 2m 12s\n",
      "831:\tlearn: -0.0180912\ttotal: 10m 51s\tremaining: 2m 11s\n",
      "832:\tlearn: -0.0180632\ttotal: 10m 52s\tremaining: 2m 10s\n",
      "833:\tlearn: -0.0180170\ttotal: 10m 53s\tremaining: 2m 9s\n",
      "834:\tlearn: -0.0179888\ttotal: 10m 53s\tremaining: 2m 9s\n",
      "835:\tlearn: -0.0179566\ttotal: 10m 54s\tremaining: 2m 8s\n",
      "836:\tlearn: -0.0179132\ttotal: 10m 55s\tremaining: 2m 7s\n",
      "837:\tlearn: -0.0178971\ttotal: 10m 56s\tremaining: 2m 6s\n",
      "838:\tlearn: -0.0178778\ttotal: 10m 56s\tremaining: 2m 6s\n",
      "839:\tlearn: -0.0178494\ttotal: 10m 57s\tremaining: 2m 5s\n",
      "840:\tlearn: -0.0178172\ttotal: 10m 58s\tremaining: 2m 4s\n",
      "841:\tlearn: -0.0177972\ttotal: 10m 59s\tremaining: 2m 3s\n",
      "842:\tlearn: -0.0177677\ttotal: 10m 59s\tremaining: 2m 2s\n",
      "843:\tlearn: -0.0177438\ttotal: 11m\tremaining: 2m 2s\n",
      "844:\tlearn: -0.0177112\ttotal: 11m 1s\tremaining: 2m 1s\n",
      "845:\tlearn: -0.0176944\ttotal: 11m 1s\tremaining: 2m\n",
      "846:\tlearn: -0.0176682\ttotal: 11m 2s\tremaining: 1m 59s\n",
      "847:\tlearn: -0.0176494\ttotal: 11m 3s\tremaining: 1m 58s\n",
      "848:\tlearn: -0.0176205\ttotal: 11m 4s\tremaining: 1m 58s\n",
      "849:\tlearn: -0.0175903\ttotal: 11m 4s\tremaining: 1m 57s\n",
      "850:\tlearn: -0.0175727\ttotal: 11m 5s\tremaining: 1m 56s\n",
      "851:\tlearn: -0.0175277\ttotal: 11m 6s\tremaining: 1m 55s\n",
      "852:\tlearn: -0.0175078\ttotal: 11m 7s\tremaining: 1m 54s\n",
      "853:\tlearn: -0.0174857\ttotal: 11m 8s\tremaining: 1m 54s\n",
      "854:\tlearn: -0.0174583\ttotal: 11m 8s\tremaining: 1m 53s\n",
      "855:\tlearn: -0.0174293\ttotal: 11m 9s\tremaining: 1m 52s\n",
      "856:\tlearn: -0.0173979\ttotal: 11m 10s\tremaining: 1m 51s\n",
      "857:\tlearn: -0.0173744\ttotal: 11m 11s\tremaining: 1m 51s\n",
      "858:\tlearn: -0.0173537\ttotal: 11m 12s\tremaining: 1m 50s\n",
      "859:\tlearn: -0.0173103\ttotal: 11m 12s\tremaining: 1m 49s\n",
      "860:\tlearn: -0.0172729\ttotal: 11m 13s\tremaining: 1m 48s\n",
      "861:\tlearn: -0.0172282\ttotal: 11m 14s\tremaining: 1m 47s\n",
      "862:\tlearn: -0.0171993\ttotal: 11m 14s\tremaining: 1m 47s\n",
      "863:\tlearn: -0.0171765\ttotal: 11m 15s\tremaining: 1m 46s\n",
      "864:\tlearn: -0.0171467\ttotal: 11m 16s\tremaining: 1m 45s\n",
      "865:\tlearn: -0.0171278\ttotal: 11m 17s\tremaining: 1m 44s\n",
      "866:\tlearn: -0.0171078\ttotal: 11m 18s\tremaining: 1m 44s\n",
      "867:\tlearn: -0.0170874\ttotal: 11m 18s\tremaining: 1m 43s\n",
      "868:\tlearn: -0.0170621\ttotal: 11m 19s\tremaining: 1m 42s\n",
      "869:\tlearn: -0.0170268\ttotal: 11m 20s\tremaining: 1m 41s\n",
      "870:\tlearn: -0.0169896\ttotal: 11m 21s\tremaining: 1m 40s\n",
      "871:\tlearn: -0.0169648\ttotal: 11m 21s\tremaining: 1m 40s\n",
      "872:\tlearn: -0.0169494\ttotal: 11m 22s\tremaining: 1m 39s\n",
      "873:\tlearn: -0.0169155\ttotal: 11m 23s\tremaining: 1m 38s\n",
      "874:\tlearn: -0.0168992\ttotal: 11m 23s\tremaining: 1m 37s\n",
      "875:\tlearn: -0.0168708\ttotal: 11m 24s\tremaining: 1m 36s\n",
      "876:\tlearn: -0.0168505\ttotal: 11m 25s\tremaining: 1m 36s\n",
      "877:\tlearn: -0.0168308\ttotal: 11m 26s\tremaining: 1m 35s\n",
      "878:\tlearn: -0.0168017\ttotal: 11m 26s\tremaining: 1m 34s\n",
      "879:\tlearn: -0.0167703\ttotal: 11m 27s\tremaining: 1m 33s\n",
      "880:\tlearn: -0.0167416\ttotal: 11m 28s\tremaining: 1m 32s\n",
      "881:\tlearn: -0.0167177\ttotal: 11m 29s\tremaining: 1m 32s\n",
      "882:\tlearn: -0.0166859\ttotal: 11m 29s\tremaining: 1m 31s\n",
      "883:\tlearn: -0.0166699\ttotal: 11m 30s\tremaining: 1m 30s\n",
      "884:\tlearn: -0.0166513\ttotal: 11m 31s\tremaining: 1m 29s\n",
      "885:\tlearn: -0.0166195\ttotal: 11m 32s\tremaining: 1m 29s\n",
      "886:\tlearn: -0.0165953\ttotal: 11m 32s\tremaining: 1m 28s\n",
      "887:\tlearn: -0.0165800\ttotal: 11m 33s\tremaining: 1m 27s\n",
      "888:\tlearn: -0.0165530\ttotal: 11m 34s\tremaining: 1m 26s\n",
      "889:\tlearn: -0.0165328\ttotal: 11m 35s\tremaining: 1m 25s\n",
      "890:\tlearn: -0.0165195\ttotal: 11m 35s\tremaining: 1m 25s\n",
      "891:\tlearn: -0.0165046\ttotal: 11m 36s\tremaining: 1m 24s\n",
      "892:\tlearn: -0.0164691\ttotal: 11m 37s\tremaining: 1m 23s\n",
      "893:\tlearn: -0.0164424\ttotal: 11m 38s\tremaining: 1m 22s\n",
      "894:\tlearn: -0.0164223\ttotal: 11m 38s\tremaining: 1m 21s\n",
      "895:\tlearn: -0.0164070\ttotal: 11m 39s\tremaining: 1m 21s\n",
      "896:\tlearn: -0.0163834\ttotal: 11m 40s\tremaining: 1m 20s\n",
      "897:\tlearn: -0.0163649\ttotal: 11m 41s\tremaining: 1m 19s\n",
      "898:\tlearn: -0.0163164\ttotal: 11m 41s\tremaining: 1m 18s\n"
     ]
    },
    {
     "name": "stdout",
     "output_type": "stream",
     "text": [
      "899:\tlearn: -0.0163003\ttotal: 11m 42s\tremaining: 1m 18s\n",
      "900:\tlearn: -0.0162815\ttotal: 11m 43s\tremaining: 1m 17s\n",
      "901:\tlearn: -0.0162642\ttotal: 11m 44s\tremaining: 1m 16s\n",
      "902:\tlearn: -0.0162267\ttotal: 11m 44s\tremaining: 1m 15s\n",
      "903:\tlearn: -0.0162022\ttotal: 11m 45s\tremaining: 1m 14s\n",
      "904:\tlearn: -0.0161563\ttotal: 11m 46s\tremaining: 1m 14s\n",
      "905:\tlearn: -0.0161376\ttotal: 11m 46s\tremaining: 1m 13s\n",
      "906:\tlearn: -0.0161142\ttotal: 11m 47s\tremaining: 1m 12s\n",
      "907:\tlearn: -0.0160962\ttotal: 11m 48s\tremaining: 1m 11s\n",
      "908:\tlearn: -0.0160821\ttotal: 11m 49s\tremaining: 1m 10s\n",
      "909:\tlearn: -0.0160500\ttotal: 11m 49s\tremaining: 1m 10s\n",
      "910:\tlearn: -0.0160335\ttotal: 11m 50s\tremaining: 1m 9s\n",
      "911:\tlearn: -0.0160069\ttotal: 11m 51s\tremaining: 1m 8s\n",
      "912:\tlearn: -0.0159754\ttotal: 11m 52s\tremaining: 1m 7s\n",
      "913:\tlearn: -0.0159547\ttotal: 11m 52s\tremaining: 1m 7s\n",
      "914:\tlearn: -0.0159332\ttotal: 11m 53s\tremaining: 1m 6s\n",
      "915:\tlearn: -0.0159132\ttotal: 11m 54s\tremaining: 1m 5s\n",
      "916:\tlearn: -0.0158833\ttotal: 11m 55s\tremaining: 1m 4s\n",
      "917:\tlearn: -0.0158686\ttotal: 11m 55s\tremaining: 1m 3s\n",
      "918:\tlearn: -0.0158524\ttotal: 11m 56s\tremaining: 1m 3s\n",
      "919:\tlearn: -0.0158179\ttotal: 11m 57s\tremaining: 1m 2s\n",
      "920:\tlearn: -0.0158012\ttotal: 11m 58s\tremaining: 1m 1s\n",
      "921:\tlearn: -0.0157772\ttotal: 11m 58s\tremaining: 1m\n",
      "922:\tlearn: -0.0157654\ttotal: 11m 59s\tremaining: 1m\n",
      "923:\tlearn: -0.0157454\ttotal: 12m\tremaining: 59.2s\n",
      "924:\tlearn: -0.0157308\ttotal: 12m 1s\tremaining: 58.5s\n",
      "925:\tlearn: -0.0156938\ttotal: 12m 1s\tremaining: 57.7s\n",
      "926:\tlearn: -0.0156761\ttotal: 12m 2s\tremaining: 56.9s\n",
      "927:\tlearn: -0.0156618\ttotal: 12m 2s\tremaining: 56.1s\n",
      "928:\tlearn: -0.0156363\ttotal: 12m 3s\tremaining: 55.3s\n",
      "929:\tlearn: -0.0156164\ttotal: 12m 4s\tremaining: 54.5s\n",
      "930:\tlearn: -0.0155920\ttotal: 12m 5s\tremaining: 53.7s\n",
      "931:\tlearn: -0.0155797\ttotal: 12m 5s\tremaining: 53s\n",
      "932:\tlearn: -0.0155442\ttotal: 12m 6s\tremaining: 52.2s\n",
      "933:\tlearn: -0.0155221\ttotal: 12m 7s\tremaining: 51.4s\n",
      "934:\tlearn: -0.0154956\ttotal: 12m 8s\tremaining: 50.6s\n",
      "935:\tlearn: -0.0154764\ttotal: 12m 8s\tremaining: 49.8s\n",
      "936:\tlearn: -0.0154531\ttotal: 12m 9s\tremaining: 49.1s\n",
      "937:\tlearn: -0.0154265\ttotal: 12m 10s\tremaining: 48.3s\n",
      "938:\tlearn: -0.0153976\ttotal: 12m 11s\tremaining: 47.5s\n",
      "939:\tlearn: -0.0153736\ttotal: 12m 11s\tremaining: 46.7s\n",
      "940:\tlearn: -0.0153488\ttotal: 12m 12s\tremaining: 45.9s\n",
      "941:\tlearn: -0.0153159\ttotal: 12m 13s\tremaining: 45.2s\n",
      "942:\tlearn: -0.0152896\ttotal: 12m 14s\tremaining: 44.4s\n",
      "943:\tlearn: -0.0152537\ttotal: 12m 14s\tremaining: 43.6s\n",
      "944:\tlearn: -0.0152208\ttotal: 12m 15s\tremaining: 42.8s\n",
      "945:\tlearn: -0.0151890\ttotal: 12m 16s\tremaining: 42s\n",
      "946:\tlearn: -0.0151700\ttotal: 12m 17s\tremaining: 41.2s\n",
      "947:\tlearn: -0.0151522\ttotal: 12m 17s\tremaining: 40.5s\n",
      "948:\tlearn: -0.0151208\ttotal: 12m 18s\tremaining: 39.7s\n",
      "949:\tlearn: -0.0151068\ttotal: 12m 19s\tremaining: 38.9s\n",
      "950:\tlearn: -0.0150803\ttotal: 12m 19s\tremaining: 38.1s\n",
      "951:\tlearn: -0.0150653\ttotal: 12m 20s\tremaining: 37.3s\n",
      "952:\tlearn: -0.0150513\ttotal: 12m 21s\tremaining: 36.6s\n",
      "953:\tlearn: -0.0150156\ttotal: 12m 22s\tremaining: 35.8s\n",
      "954:\tlearn: -0.0150014\ttotal: 12m 22s\tremaining: 35s\n",
      "955:\tlearn: -0.0149852\ttotal: 12m 23s\tremaining: 34.2s\n",
      "956:\tlearn: -0.0149604\ttotal: 12m 24s\tremaining: 33.4s\n",
      "957:\tlearn: -0.0149330\ttotal: 12m 24s\tremaining: 32.7s\n",
      "958:\tlearn: -0.0149002\ttotal: 12m 25s\tremaining: 31.9s\n",
      "959:\tlearn: -0.0148783\ttotal: 12m 26s\tremaining: 31.1s\n",
      "960:\tlearn: -0.0148649\ttotal: 12m 27s\tremaining: 30.3s\n",
      "961:\tlearn: -0.0148507\ttotal: 12m 27s\tremaining: 29.5s\n",
      "962:\tlearn: -0.0148230\ttotal: 12m 28s\tremaining: 28.8s\n",
      "963:\tlearn: -0.0148007\ttotal: 12m 29s\tremaining: 28s\n",
      "964:\tlearn: -0.0147866\ttotal: 12m 29s\tremaining: 27.2s\n",
      "965:\tlearn: -0.0147686\ttotal: 12m 30s\tremaining: 26.4s\n",
      "966:\tlearn: -0.0147535\ttotal: 12m 31s\tremaining: 25.6s\n",
      "967:\tlearn: -0.0147405\ttotal: 12m 32s\tremaining: 24.9s\n",
      "968:\tlearn: -0.0147079\ttotal: 12m 32s\tremaining: 24.1s\n",
      "969:\tlearn: -0.0146942\ttotal: 12m 33s\tremaining: 23.3s\n",
      "970:\tlearn: -0.0146783\ttotal: 12m 34s\tremaining: 22.5s\n",
      "971:\tlearn: -0.0146574\ttotal: 12m 34s\tremaining: 21.7s\n",
      "972:\tlearn: -0.0146420\ttotal: 12m 35s\tremaining: 21s\n",
      "973:\tlearn: -0.0146246\ttotal: 12m 36s\tremaining: 20.2s\n",
      "974:\tlearn: -0.0146076\ttotal: 12m 37s\tremaining: 19.4s\n",
      "975:\tlearn: -0.0145944\ttotal: 12m 37s\tremaining: 18.6s\n",
      "976:\tlearn: -0.0145748\ttotal: 12m 38s\tremaining: 17.9s\n",
      "977:\tlearn: -0.0145587\ttotal: 12m 39s\tremaining: 17.1s\n",
      "978:\tlearn: -0.0145281\ttotal: 12m 40s\tremaining: 16.3s\n",
      "979:\tlearn: -0.0145171\ttotal: 12m 40s\tremaining: 15.5s\n",
      "980:\tlearn: -0.0144880\ttotal: 12m 41s\tremaining: 14.7s\n",
      "981:\tlearn: -0.0144637\ttotal: 12m 42s\tremaining: 14s\n",
      "982:\tlearn: -0.0144440\ttotal: 12m 42s\tremaining: 13.2s\n",
      "983:\tlearn: -0.0144311\ttotal: 12m 43s\tremaining: 12.4s\n",
      "984:\tlearn: -0.0144171\ttotal: 12m 44s\tremaining: 11.6s\n",
      "985:\tlearn: -0.0143980\ttotal: 12m 44s\tremaining: 10.9s\n",
      "986:\tlearn: -0.0143867\ttotal: 12m 45s\tremaining: 10.1s\n",
      "987:\tlearn: -0.0143607\ttotal: 12m 46s\tremaining: 9.31s\n",
      "988:\tlearn: -0.0143438\ttotal: 12m 46s\tremaining: 8.53s\n",
      "989:\tlearn: -0.0143214\ttotal: 12m 47s\tremaining: 7.75s\n",
      "990:\tlearn: -0.0143015\ttotal: 12m 48s\tremaining: 6.98s\n",
      "991:\tlearn: -0.0142891\ttotal: 12m 49s\tremaining: 6.2s\n",
      "992:\tlearn: -0.0142727\ttotal: 12m 50s\tremaining: 5.43s\n",
      "993:\tlearn: -0.0142516\ttotal: 12m 50s\tremaining: 4.65s\n",
      "994:\tlearn: -0.0142372\ttotal: 12m 51s\tremaining: 3.88s\n",
      "995:\tlearn: -0.0142009\ttotal: 12m 52s\tremaining: 3.1s\n",
      "996:\tlearn: -0.0141885\ttotal: 12m 52s\tremaining: 2.33s\n",
      "997:\tlearn: -0.0141704\ttotal: 12m 53s\tremaining: 1.55s\n",
      "998:\tlearn: -0.0141549\ttotal: 12m 54s\tremaining: 775ms\n",
      "999:\tlearn: -0.0141416\ttotal: 12m 55s\tremaining: 0us\n"
     ]
    },
    {
     "data": {
      "text/plain": [
       "<catboost.core.CatBoostClassifier at 0xaa0086f400>"
      ]
     },
     "execution_count": 49,
     "metadata": {},
     "output_type": "execute_result"
    }
   ],
   "source": [
    "model.fit(train_dataset)"
   ]
  },
  {
   "cell_type": "code",
   "execution_count": 50,
   "metadata": {},
   "outputs": [],
   "source": [
    "preds_class = model.predict(eval_dataset)\n",
    "preds_class = preds_class.reshape((preds_class.shape[0],))"
   ]
  },
  {
   "cell_type": "code",
   "execution_count": 51,
   "metadata": {},
   "outputs": [
    {
     "data": {
      "text/plain": [
       "0.9222222222222223"
      ]
     },
     "execution_count": 51,
     "metadata": {},
     "output_type": "execute_result"
    }
   ],
   "source": [
    "(preds_class == y_val[X_val[\"Chroma\"] < 4]).mean()"
   ]
  }
 ],
 "metadata": {
  "kernelspec": {
   "display_name": "Python 3",
   "language": "python",
   "name": "python3"
  },
  "language_info": {
   "codemirror_mode": {
    "name": "ipython",
    "version": 3
   },
   "file_extension": ".py",
   "mimetype": "text/x-python",
   "name": "python",
   "nbconvert_exporter": "python",
   "pygments_lexer": "ipython3",
   "version": "3.7.3"
  }
 },
 "nbformat": 4,
 "nbformat_minor": 2
}
