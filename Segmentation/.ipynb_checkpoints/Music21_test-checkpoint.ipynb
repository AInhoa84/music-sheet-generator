{
 "cells": [
  {
   "cell_type": "markdown",
   "metadata": {},
   "source": [
    "Playing around with music21"
   ]
  },
  {
   "cell_type": "markdown",
   "metadata": {},
   "source": [
    "https://github.com/cuthbertLab/music21/issues/306"
   ]
  },
  {
   "cell_type": "code",
   "execution_count": 1,
   "metadata": {},
   "outputs": [],
   "source": [
    "import music21\n",
    "import sys\n",
    "import IPython"
   ]
  },
  {
   "cell_type": "code",
   "execution_count": 2,
   "metadata": {},
   "outputs": [],
   "source": [
    "from IPython.core.display import display, HTML, Javascript\n",
    "import json, random"
   ]
  },
  {
   "cell_type": "code",
   "execution_count": 3,
   "metadata": {},
   "outputs": [],
   "source": [
    "def showScore(score):\n",
    "    xml = open(score.write('musicxml')).read()\n",
    "    showMusicXML(xml)\n",
    "    \n",
    "def showMusicXML(xml):\n",
    "    DIV_ID = \"OSMD-div-\"+str(random.randint(0,1000000))\n",
    "    print(\"DIV_ID\", DIV_ID)\n",
    "    display(HTML('<div id=\"'+DIV_ID+'\">loading OpenSheetMusicDisplay</div>'))\n",
    "    \n",
    "    print('xml length:', len(xml))\n",
    "\n",
    "    script = \"\"\"\n",
    "    console.log(\"loadOSMD()\");\n",
    "    function loadOSMD() { \n",
    "        return new Promise(function(resolve, reject){\n",
    "\n",
    "            if (window.opensheetmusicdisplay) {\n",
    "                console.log(\"already loaded\")\n",
    "                return resolve(window.opensheetmusicdisplay)\n",
    "            }\n",
    "            console.log(\"loading osmd for the first time\")\n",
    "            // OSMD script has a 'define' call which conflicts with requirejs\n",
    "            var _define = window.define // save the define object \n",
    "            window.define = undefined // now the loaded script will ignore requirejs\n",
    "            var s = document.createElement( 'script' );\n",
    "            s.setAttribute( 'src', \"https://cdn.jsdelivr.net/npm/opensheetmusicdisplay@0.3.1/build/opensheetmusicdisplay.min.js\" );\n",
    "            //s.setAttribute( 'src', \"/custom/opensheetmusicdisplay.js\" );\n",
    "            s.onload=function(){\n",
    "                window.define = _define\n",
    "                console.log(\"loaded OSMD for the first time\",opensheetmusicdisplay)\n",
    "                resolve(opensheetmusicdisplay);\n",
    "            };\n",
    "            document.body.appendChild( s ); // browser will try to load the new script tag\n",
    "        }) \n",
    "    }\n",
    "    loadOSMD().then((OSMD)=>{\n",
    "        console.log(\"loaded OSMD\",OSMD)\n",
    "        var div_id = \"{{DIV_ID}}\";\n",
    "            console.log(div_id)\n",
    "        window.openSheetMusicDisplay = new OSMD.OpenSheetMusicDisplay(div_id);\n",
    "        openSheetMusicDisplay\n",
    "            .load({{data}})\n",
    "            .then(\n",
    "              function() {\n",
    "                console.log(\"rendering data\")\n",
    "                openSheetMusicDisplay.render();\n",
    "              }\n",
    "            );\n",
    "    })\n",
    "    \"\"\".replace('{{DIV_ID}}',DIV_ID).replace('{{data}}',json.dumps(xml))\n",
    "    display(Javascript(script))\n",
    "    return DIV_ID"
   ]
  },
  {
   "cell_type": "code",
   "execution_count": 34,
   "metadata": {},
   "outputs": [
    {
     "name": "stdout",
     "output_type": "stream",
     "text": [
      "DIV_ID OSMD-div-852266\n"
     ]
    },
    {
     "data": {
      "text/html": [
       "<div id=\"OSMD-div-852266\">loading OpenSheetMusicDisplay</div>"
      ],
      "text/plain": [
       "<IPython.core.display.HTML object>"
      ]
     },
     "metadata": {},
     "output_type": "display_data"
    },
    {
     "name": "stdout",
     "output_type": "stream",
     "text": [
      "xml length: 1730\n"
     ]
    },
    {
     "data": {
      "application/javascript": [
       "\n",
       "    console.log(\"loadOSMD()\");\n",
       "    function loadOSMD() { \n",
       "        return new Promise(function(resolve, reject){\n",
       "\n",
       "            if (window.opensheetmusicdisplay) {\n",
       "                console.log(\"already loaded\")\n",
       "                return resolve(window.opensheetmusicdisplay)\n",
       "            }\n",
       "            console.log(\"loading osmd for the first time\")\n",
       "            // OSMD script has a 'define' call which conflicts with requirejs\n",
       "            var _define = window.define // save the define object \n",
       "            window.define = undefined // now the loaded script will ignore requirejs\n",
       "            var s = document.createElement( 'script' );\n",
       "            s.setAttribute( 'src', \"https://cdn.jsdelivr.net/npm/opensheetmusicdisplay@0.3.1/build/opensheetmusicdisplay.min.js\" );\n",
       "            //s.setAttribute( 'src', \"/custom/opensheetmusicdisplay.js\" );\n",
       "            s.onload=function(){\n",
       "                window.define = _define\n",
       "                console.log(\"loaded OSMD for the first time\",opensheetmusicdisplay)\n",
       "                resolve(opensheetmusicdisplay);\n",
       "            };\n",
       "            document.body.appendChild( s ); // browser will try to load the new script tag\n",
       "        }) \n",
       "    }\n",
       "    loadOSMD().then((OSMD)=>{\n",
       "        console.log(\"loaded OSMD\",OSMD)\n",
       "        var div_id = \"OSMD-div-852266\";\n",
       "            console.log(div_id)\n",
       "        window.openSheetMusicDisplay = new OSMD.OpenSheetMusicDisplay(div_id);\n",
       "        openSheetMusicDisplay\n",
       "            .load(\"<?xml version=\\\"1.0\\\" encoding=\\\"utf-8\\\"?>\\n<!DOCTYPE score-partwise  PUBLIC \\\"-//Recordare//DTD MusicXML 3.0 Partwise//EN\\\" \\\"http://www.musicxml.org/dtds/partwise.dtd\\\">\\n<score-partwise version=\\\"3.0\\\">\\n  <movement-title />\\n  <identification>\\n    <creator type=\\\"composer\\\" />\\n    <encoding>\\n      <encoding-date>2019-04-23</encoding-date>\\n      <software>music21 v.5.5.0</software>\\n    </encoding>\\n  </identification>\\n  <defaults>\\n    <scaling>\\n      <millimeters>7</millimeters>\\n      <tenths>40</tenths>\\n    </scaling>\\n  </defaults>\\n  <part-list>\\n    <score-part id=\\\"Pcb996a7d857ce0f48075416e78089734\\\">\\n      <part-name />\\n    </score-part>\\n  </part-list>\\n  <!--=========================== Part 1 ===========================-->\\n  <part id=\\\"Pcb996a7d857ce0f48075416e78089734\\\">\\n    <!--========================= Measure 1 ==========================-->\\n    <measure number=\\\"1\\\">\\n      <attributes>\\n        <divisions>10080</divisions>\\n        <time>\\n          <beats>1</beats>\\n          <beat-type>4</beat-type>\\n        </time>\\n        <clef>\\n          <sign>G</sign>\\n          <line>2</line>\\n        </clef>\\n      </attributes>\\n      <note>\\n        <pitch>\\n          <step>C</step>\\n          <octave>4</octave>\\n        </pitch>\\n        <duration>10080</duration>\\n        <type>quarter</type>\\n      </note>\\n      <note>\\n        <chord />\\n        <pitch>\\n          <step>E</step>\\n          <octave>4</octave>\\n        </pitch>\\n        <duration>10080</duration>\\n        <type>quarter</type>\\n      </note>\\n      <note>\\n        <chord />\\n        <pitch>\\n          <step>G</step>\\n          <octave>4</octave>\\n        </pitch>\\n        <duration>10080</duration>\\n        <type>quarter</type>\\n      </note>\\n    </measure>\\n  </part>\\n</score-partwise>\\n\")\n",
       "            .then(\n",
       "              function() {\n",
       "                console.log(\"rendering data\")\n",
       "                openSheetMusicDisplay.render();\n",
       "              }\n",
       "            );\n",
       "    })\n",
       "    "
      ],
      "text/plain": [
       "<IPython.core.display.Javascript object>"
      ]
     },
     "metadata": {},
     "output_type": "display_data"
    }
   ],
   "source": [
    "import music21 as m21\n",
    "c = m21.chord.Chord(\"C4 E4 G4\")\n",
    "showScore(c)"
   ]
  },
  {
   "cell_type": "code",
   "execution_count": 38,
   "metadata": {},
   "outputs": [],
   "source": [
    "a = m21.clef.GClef()"
   ]
  },
  {
   "cell_type": "code",
   "execution_count": 42,
   "metadata": {},
   "outputs": [],
   "source": [
    "stream1 = m21.stream.Stream()\n",
    "stream1.append(m21.clef.GClef())\n",
    "f = m21.note.Note(\"F5\")\n",
    "f.quarterLength = 0.25\n",
    "g = m21.note.Note(\"G5\")\n",
    "stream1.append(f)\n",
    "stream1.append(g)"
   ]
  },
  {
   "cell_type": "code",
   "execution_count": 40,
   "metadata": {},
   "outputs": [
    {
     "data": {
      "text/plain": [
       "1.0"
      ]
     },
     "execution_count": 40,
     "metadata": {},
     "output_type": "execute_result"
    }
   ],
   "source": [
    "g.quarterLength"
   ]
  },
  {
   "cell_type": "code",
   "execution_count": 41,
   "metadata": {},
   "outputs": [
    {
     "name": "stdout",
     "output_type": "stream",
     "text": [
      "DIV_ID OSMD-div-108182\n"
     ]
    },
    {
     "data": {
      "text/html": [
       "<div id=\"OSMD-div-108182\">loading OpenSheetMusicDisplay</div>"
      ],
      "text/plain": [
       "<IPython.core.display.HTML object>"
      ]
     },
     "metadata": {},
     "output_type": "display_data"
    },
    {
     "name": "stdout",
     "output_type": "stream",
     "text": [
      "xml length: 1580\n"
     ]
    },
    {
     "data": {
      "application/javascript": [
       "\n",
       "    console.log(\"loadOSMD()\");\n",
       "    function loadOSMD() { \n",
       "        return new Promise(function(resolve, reject){\n",
       "\n",
       "            if (window.opensheetmusicdisplay) {\n",
       "                console.log(\"already loaded\")\n",
       "                return resolve(window.opensheetmusicdisplay)\n",
       "            }\n",
       "            console.log(\"loading osmd for the first time\")\n",
       "            // OSMD script has a 'define' call which conflicts with requirejs\n",
       "            var _define = window.define // save the define object \n",
       "            window.define = undefined // now the loaded script will ignore requirejs\n",
       "            var s = document.createElement( 'script' );\n",
       "            s.setAttribute( 'src', \"https://cdn.jsdelivr.net/npm/opensheetmusicdisplay@0.3.1/build/opensheetmusicdisplay.min.js\" );\n",
       "            //s.setAttribute( 'src', \"/custom/opensheetmusicdisplay.js\" );\n",
       "            s.onload=function(){\n",
       "                window.define = _define\n",
       "                console.log(\"loaded OSMD for the first time\",opensheetmusicdisplay)\n",
       "                resolve(opensheetmusicdisplay);\n",
       "            };\n",
       "            document.body.appendChild( s ); // browser will try to load the new script tag\n",
       "        }) \n",
       "    }\n",
       "    loadOSMD().then((OSMD)=>{\n",
       "        console.log(\"loaded OSMD\",OSMD)\n",
       "        var div_id = \"OSMD-div-108182\";\n",
       "            console.log(div_id)\n",
       "        window.openSheetMusicDisplay = new OSMD.OpenSheetMusicDisplay(div_id);\n",
       "        openSheetMusicDisplay\n",
       "            .load(\"<?xml version=\\\"1.0\\\" encoding=\\\"utf-8\\\"?>\\n<!DOCTYPE score-partwise  PUBLIC \\\"-//Recordare//DTD MusicXML 3.0 Partwise//EN\\\" \\\"http://www.musicxml.org/dtds/partwise.dtd\\\">\\n<score-partwise version=\\\"3.0\\\">\\n  <movement-title />\\n  <identification>\\n    <creator type=\\\"composer\\\" />\\n    <encoding>\\n      <encoding-date>2019-04-23</encoding-date>\\n      <software>music21 v.5.5.0</software>\\n    </encoding>\\n  </identification>\\n  <defaults>\\n    <scaling>\\n      <millimeters>7</millimeters>\\n      <tenths>40</tenths>\\n    </scaling>\\n  </defaults>\\n  <part-list>\\n    <score-part id=\\\"P72928ce54f2bb00a1d55d3ad411e99d3\\\">\\n      <part-name />\\n    </score-part>\\n  </part-list>\\n  <!--=========================== Part 1 ===========================-->\\n  <part id=\\\"P72928ce54f2bb00a1d55d3ad411e99d3\\\">\\n    <!--========================= Measure 1 ==========================-->\\n    <measure number=\\\"1\\\">\\n      <attributes>\\n        <divisions>10080</divisions>\\n        <time>\\n          <beats>4</beats>\\n          <beat-type>4</beat-type>\\n        </time>\\n        <clef>\\n          <sign>G</sign>\\n        </clef>\\n      </attributes>\\n      <note>\\n        <pitch>\\n          <step>F</step>\\n          <octave>5</octave>\\n        </pitch>\\n        <duration>2520</duration>\\n        <type>16th</type>\\n      </note>\\n      <note>\\n        <pitch>\\n          <step>G</step>\\n          <octave>5</octave>\\n        </pitch>\\n        <duration>10080</duration>\\n        <type>quarter</type>\\n      </note>\\n      <barline location=\\\"right\\\">\\n        <bar-style>light-heavy</bar-style>\\n      </barline>\\n    </measure>\\n  </part>\\n</score-partwise>\\n\")\n",
       "            .then(\n",
       "              function() {\n",
       "                console.log(\"rendering data\")\n",
       "                openSheetMusicDisplay.render();\n",
       "              }\n",
       "            );\n",
       "    })\n",
       "    "
      ],
      "text/plain": [
       "<IPython.core.display.Javascript object>"
      ]
     },
     "metadata": {},
     "output_type": "display_data"
    }
   ],
   "source": [
    "showScore(stream1)"
   ]
  },
  {
   "cell_type": "code",
   "execution_count": 10,
   "metadata": {},
   "outputs": [
    {
     "data": {
      "text/plain": [
       "'quarter'"
      ]
     },
     "execution_count": 10,
     "metadata": {},
     "output_type": "execute_result"
    }
   ],
   "source": [
    "f.duration.type = \"half\""
   ]
  },
  {
   "cell_type": "code",
   "execution_count": 19,
   "metadata": {},
   "outputs": [
    {
     "data": {
      "text/plain": [
       "0.5"
      ]
     },
     "execution_count": 19,
     "metadata": {},
     "output_type": "execute_result"
    }
   ],
   "source": [
    "f.quarterLength"
   ]
  },
  {
   "cell_type": "code",
   "execution_count": null,
   "metadata": {},
   "outputs": [],
   "source": []
  }
 ],
 "metadata": {
  "kernelspec": {
   "display_name": "Python 3",
   "language": "python",
   "name": "python3"
  },
  "language_info": {
   "codemirror_mode": {
    "name": "ipython",
    "version": 3
   },
   "file_extension": ".py",
   "mimetype": "text/x-python",
   "name": "python",
   "nbconvert_exporter": "python",
   "pygments_lexer": "ipython3",
   "version": "3.7.3"
  }
 },
 "nbformat": 4,
 "nbformat_minor": 2
}
