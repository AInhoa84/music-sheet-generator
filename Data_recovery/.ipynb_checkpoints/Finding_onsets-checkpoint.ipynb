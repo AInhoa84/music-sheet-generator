{
 "cells": [
  {
   "cell_type": "code",
   "execution_count": 6,
   "metadata": {},
   "outputs": [],
   "source": [
    "import numpy as np\n",
    "import pandas as pd\n",
    "import matplotlib.pyplot as plt\n",
    "from tqdm import tqdm_notebook as tqdm"
   ]
  },
  {
   "cell_type": "code",
   "execution_count": 7,
   "metadata": {},
   "outputs": [],
   "source": [
    "%run ../Utilities/Utilities.ipynb"
   ]
  },
  {
   "cell_type": "code",
   "execution_count": 3,
   "metadata": {},
   "outputs": [],
   "source": [
    "wave = waveform(\"../Samples/Guitar/Riffs/Guitar_noamp_riff1.mp3\")"
   ]
  },
  {
   "cell_type": "code",
   "execution_count": 4,
   "metadata": {},
   "outputs": [
    {
     "data": {
      "text/plain": [
       "[<matplotlib.lines.Line2D at 0x2372c7ba58>]"
      ]
     },
     "execution_count": 4,
     "metadata": {},
     "output_type": "execute_result"
    },
    {
     "data": {
      "image/png": "[encoded data removed]",
      "text/plain": [
       "<Figure size 432x288 with 1 Axes>"
      ]
     },
     "metadata": {
      "needs_background": "light"
     },
     "output_type": "display_data"
    }
   ],
   "source": [
    "plt.plot(wave.y)"
   ]
  },
  {
   "cell_type": "code",
   "execution_count": 18,
   "metadata": {},
   "outputs": [],
   "source": [
    "data = pd.read_pickle(\"../Data/Guitar/acc-onset-data-600.pkl\")\n",
    "data = data.reset_index(drop=True)"
   ]
  },
  {
   "cell_type": "code",
   "execution_count": 19,
   "metadata": {},
   "outputs": [
    {
     "data": {
      "text/plain": [
       "(35364, 601)"
      ]
     },
     "execution_count": 19,
     "metadata": {},
     "output_type": "execute_result"
    }
   ],
   "source": [
    "data.shape"
   ]
  },
  {
   "cell_type": "code",
   "execution_count": 20,
   "metadata": {},
   "outputs": [
    {
     "data": {
      "text/html": [
       "<div>\n",
       "<style scoped>\n",
       "    .dataframe tbody tr th:only-of-type {\n",
       "        vertical-align: middle;\n",
       "    }\n",
       "\n",
       "    .dataframe tbody tr th {\n",
       "        vertical-align: top;\n",
       "    }\n",
       "\n",
       "    .dataframe thead th {\n",
       "        text-align: right;\n",
       "    }\n",
       "</style>\n",
       "<table border=\"1\" class=\"dataframe\">\n",
       "  <thead>\n",
       "    <tr style=\"text-align: right;\">\n",
       "      <th></th>\n",
       "      <th>x0</th>\n",
       "      <th>x1</th>\n",
       "      <th>x2</th>\n",
       "      <th>x3</th>\n",
       "      <th>x4</th>\n",
       "      <th>x5</th>\n",
       "      <th>x6</th>\n",
       "      <th>x7</th>\n",
       "      <th>x8</th>\n",
       "      <th>x9</th>\n",
       "      <th>...</th>\n",
       "      <th>x591</th>\n",
       "      <th>x592</th>\n",
       "      <th>x593</th>\n",
       "      <th>x594</th>\n",
       "      <th>x595</th>\n",
       "      <th>x596</th>\n",
       "      <th>x597</th>\n",
       "      <th>x598</th>\n",
       "      <th>x599</th>\n",
       "      <th>Onset</th>\n",
       "    </tr>\n",
       "  </thead>\n",
       "  <tbody>\n",
       "    <tr>\n",
       "      <th>0</th>\n",
       "      <td>-1.411976e-08</td>\n",
       "      <td>2.059209e-08</td>\n",
       "      <td>-2.808909e-08</td>\n",
       "      <td>3.631411e-08</td>\n",
       "      <td>-4.495251e-08</td>\n",
       "      <td>5.355798e-08</td>\n",
       "      <td>-6.164548e-08</td>\n",
       "      <td>6.849540e-08</td>\n",
       "      <td>-7.332064e-08</td>\n",
       "      <td>7.550226e-08</td>\n",
       "      <td>...</td>\n",
       "      <td>0.033447</td>\n",
       "      <td>0.008309</td>\n",
       "      <td>-0.011516</td>\n",
       "      <td>-0.025170</td>\n",
       "      <td>-0.032877</td>\n",
       "      <td>-0.032329</td>\n",
       "      <td>-0.026874</td>\n",
       "      <td>-0.017087</td>\n",
       "      <td>-0.004858</td>\n",
       "      <td>1</td>\n",
       "    </tr>\n",
       "    <tr>\n",
       "      <th>1</th>\n",
       "      <td>5.355798e-08</td>\n",
       "      <td>-6.164548e-08</td>\n",
       "      <td>6.849540e-08</td>\n",
       "      <td>-7.332064e-08</td>\n",
       "      <td>7.550226e-08</td>\n",
       "      <td>-7.370453e-08</td>\n",
       "      <td>6.713571e-08</td>\n",
       "      <td>-5.485790e-08</td>\n",
       "      <td>3.667029e-08</td>\n",
       "      <td>-1.059699e-08</td>\n",
       "      <td>...</td>\n",
       "      <td>-0.032329</td>\n",
       "      <td>-0.026874</td>\n",
       "      <td>-0.017087</td>\n",
       "      <td>-0.004858</td>\n",
       "      <td>-0.000802</td>\n",
       "      <td>-0.006340</td>\n",
       "      <td>-0.006521</td>\n",
       "      <td>-0.003236</td>\n",
       "      <td>-0.004814</td>\n",
       "      <td>1</td>\n",
       "    </tr>\n",
       "    <tr>\n",
       "      <th>2</th>\n",
       "      <td>-7.370453e-08</td>\n",
       "      <td>6.713571e-08</td>\n",
       "      <td>-5.485790e-08</td>\n",
       "      <td>3.667029e-08</td>\n",
       "      <td>-1.059699e-08</td>\n",
       "      <td>-2.339038e-08</td>\n",
       "      <td>6.565655e-08</td>\n",
       "      <td>-1.153532e-07</td>\n",
       "      <td>1.742983e-07</td>\n",
       "      <td>-2.411773e-07</td>\n",
       "      <td>...</td>\n",
       "      <td>-0.006340</td>\n",
       "      <td>-0.006521</td>\n",
       "      <td>-0.003236</td>\n",
       "      <td>-0.004814</td>\n",
       "      <td>0.000218</td>\n",
       "      <td>0.012180</td>\n",
       "      <td>0.014176</td>\n",
       "      <td>0.004820</td>\n",
       "      <td>-0.003207</td>\n",
       "      <td>1</td>\n",
       "    </tr>\n",
       "    <tr>\n",
       "      <th>3</th>\n",
       "      <td>-2.339038e-08</td>\n",
       "      <td>6.565655e-08</td>\n",
       "      <td>-1.153532e-07</td>\n",
       "      <td>1.742983e-07</td>\n",
       "      <td>-2.411773e-07</td>\n",
       "      <td>3.154823e-07</td>\n",
       "      <td>-3.966111e-07</td>\n",
       "      <td>4.837916e-07</td>\n",
       "      <td>-5.784677e-07</td>\n",
       "      <td>6.824820e-07</td>\n",
       "      <td>...</td>\n",
       "      <td>0.012180</td>\n",
       "      <td>0.014176</td>\n",
       "      <td>0.004820</td>\n",
       "      <td>-0.003207</td>\n",
       "      <td>-0.007844</td>\n",
       "      <td>-0.014513</td>\n",
       "      <td>-0.015743</td>\n",
       "      <td>-0.006942</td>\n",
       "      <td>0.004603</td>\n",
       "      <td>1</td>\n",
       "    </tr>\n",
       "    <tr>\n",
       "      <th>4</th>\n",
       "      <td>3.154823e-07</td>\n",
       "      <td>-3.966111e-07</td>\n",
       "      <td>4.837916e-07</td>\n",
       "      <td>-5.784677e-07</td>\n",
       "      <td>6.824820e-07</td>\n",
       "      <td>-8.022673e-07</td>\n",
       "      <td>9.590208e-07</td>\n",
       "      <td>-1.205293e-06</td>\n",
       "      <td>1.774021e-06</td>\n",
       "      <td>-4.851471e-06</td>\n",
       "      <td>...</td>\n",
       "      <td>-0.014513</td>\n",
       "      <td>-0.015743</td>\n",
       "      <td>-0.006942</td>\n",
       "      <td>0.004603</td>\n",
       "      <td>0.006032</td>\n",
       "      <td>-0.004603</td>\n",
       "      <td>-0.011957</td>\n",
       "      <td>-0.008607</td>\n",
       "      <td>-0.001816</td>\n",
       "      <td>1</td>\n",
       "    </tr>\n",
       "  </tbody>\n",
       "</table>\n",
       "<p>5 rows × 601 columns</p>\n",
       "</div>"
      ],
      "text/plain": [
       "             x0            x1            x2            x3            x4  \\\n",
       "0 -1.411976e-08  2.059209e-08 -2.808909e-08  3.631411e-08 -4.495251e-08   \n",
       "1  5.355798e-08 -6.164548e-08  6.849540e-08 -7.332064e-08  7.550226e-08   \n",
       "2 -7.370453e-08  6.713571e-08 -5.485790e-08  3.667029e-08 -1.059699e-08   \n",
       "3 -2.339038e-08  6.565655e-08 -1.153532e-07  1.742983e-07 -2.411773e-07   \n",
       "4  3.154823e-07 -3.966111e-07  4.837916e-07 -5.784677e-07  6.824820e-07   \n",
       "\n",
       "             x5            x6            x7            x8            x9  ...  \\\n",
       "0  5.355798e-08 -6.164548e-08  6.849540e-08 -7.332064e-08  7.550226e-08  ...   \n",
       "1 -7.370453e-08  6.713571e-08 -5.485790e-08  3.667029e-08 -1.059699e-08  ...   \n",
       "2 -2.339038e-08  6.565655e-08 -1.153532e-07  1.742983e-07 -2.411773e-07  ...   \n",
       "3  3.154823e-07 -3.966111e-07  4.837916e-07 -5.784677e-07  6.824820e-07  ...   \n",
       "4 -8.022673e-07  9.590208e-07 -1.205293e-06  1.774021e-06 -4.851471e-06  ...   \n",
       "\n",
       "       x591      x592      x593      x594      x595      x596      x597  \\\n",
       "0  0.033447  0.008309 -0.011516 -0.025170 -0.032877 -0.032329 -0.026874   \n",
       "1 -0.032329 -0.026874 -0.017087 -0.004858 -0.000802 -0.006340 -0.006521   \n",
       "2 -0.006340 -0.006521 -0.003236 -0.004814  0.000218  0.012180  0.014176   \n",
       "3  0.012180  0.014176  0.004820 -0.003207 -0.007844 -0.014513 -0.015743   \n",
       "4 -0.014513 -0.015743 -0.006942  0.004603  0.006032 -0.004603 -0.011957   \n",
       "\n",
       "       x598      x599  Onset  \n",
       "0 -0.017087 -0.004858      1  \n",
       "1 -0.003236 -0.004814      1  \n",
       "2  0.004820 -0.003207      1  \n",
       "3 -0.006942  0.004603      1  \n",
       "4 -0.008607 -0.001816      1  \n",
       "\n",
       "[5 rows x 601 columns]"
      ]
     },
     "execution_count": 20,
     "metadata": {},
     "output_type": "execute_result"
    }
   ],
   "source": [
    "data.head()"
   ]
  },
  {
   "cell_type": "code",
   "execution_count": 54,
   "metadata": {},
   "outputs": [
    {
     "data": {
      "application/vnd.jupyter.widget-view+json": {
       "model_id": "ad1f577bb7424bee9b9208e995d4fd59",
       "version_major": 2,
       "version_minor": 0
      },
      "text/plain": [
       "HBox(children=(IntProgress(value=0, max=32636), HTML(value='')))"
      ]
     },
     "metadata": {},
     "output_type": "display_data"
    },
    {
     "name": "stdout",
     "output_type": "stream",
     "text": [
      "0 100\n",
      "2 3950\n",
      "4 6000\n",
      "5 6100\n",
      "8 10000\n",
      "9 10100\n",
      "12 12000\n",
      "13 12100\n",
      "16 14000\n",
      "20 16000\n",
      "23 19900\n",
      "25 20900\n",
      "27 21900\n"
     ]
    }
   ],
   "source": [
    "found = [0]\n",
    "last = 0\n",
    "for index, row in tqdm(data.iterrows(), total=data.shape[0]):\n",
    "    target = row[:300]\n",
    "    for i in range(found[-1], wave.y.shape[0] - 300):\n",
    "        if np.all(wave.y[i:i+300] == target) and row[-1]:\n",
    "            print(index, i)\n",
    "            found.append(i)\n",
    "            last = index\n",
    "            break\n",
    "    if index - last > 10:\n",
    "        break"
   ]
  },
  {
   "cell_type": "code",
   "execution_count": 56,
   "metadata": {},
   "outputs": [
    {
     "data": {
      "image/png": "[encoded data removed]",
      "text/plain": [
       "<Figure size 432x288 with 1 Axes>"
      ]
     },
     "metadata": {
      "needs_background": "light"
     },
     "output_type": "display_data"
    }
   ],
   "source": [
    "plt.plot(wave.y)\n",
    "for x in found[1:]:\n",
    "    plt.axvline(x, color=\"r\")"
   ]
  },
  {
   "cell_type": "markdown",
   "metadata": {},
   "source": [
    "## Data recovery for all files"
   ]
  },
  {
   "cell_type": "code",
   "execution_count": 8,
   "metadata": {},
   "outputs": [],
   "source": [
    "import os\n",
    "import shutil"
   ]
  },
  {
   "cell_type": "code",
   "execution_count": 17,
   "metadata": {},
   "outputs": [],
   "source": [
    "def recover_onsets(wave, data, samples):\n",
    "    found = [0]\n",
    "    last = 0 # row index of the last onset that was matched\n",
    "    for index, row in tqdm(data.iterrows(), leave=False, total=data.shape[0]):\n",
    "        target = row[:samples]\n",
    "        # start searching inside the wave at the location where the last onset was found\n",
    "        for i in range(found[-1], wave.y.shape[0] - samples, 50):\n",
    "            if np.all(wave.y[i:i+samples] == target) and row[-1]:\n",
    "                found.append(i)\n",
    "                last = index\n",
    "                break\n",
    "        # after 100 rows without any matches we consider all onsets have been found\n",
    "        if (index - last > 100) and last:\n",
    "            break\n",
    "    return found[1:]"
   ]
  },
  {
   "cell_type": "code",
   "execution_count": 10,
   "metadata": {},
   "outputs": [],
   "source": [
    "unrecovered_path = \"../Samples/Guitar/Unrecovered_riffs/\""
   ]
  },
  {
   "cell_type": "code",
   "execution_count": 22,
   "metadata": {},
   "outputs": [
    {
     "data": {
      "application/vnd.jupyter.widget-view+json": {
       "model_id": "aa4d7b034ffd459b9d07303fac2e6298",
       "version_major": 2,
       "version_minor": 0
      },
      "text/plain": [
       "HBox(children=(IntProgress(value=0, max=46), HTML(value='')))"
      ]
     },
     "metadata": {},
     "output_type": "display_data"
    },
    {
     "data": {
      "application/vnd.jupyter.widget-view+json": {
       "model_id": "2f82dba8092b4d12b7489c7858c8777b",
       "version_major": 2,
       "version_minor": 0
      },
      "text/plain": [
       "HBox(children=(IntProgress(value=0, max=35364), HTML(value='')))"
      ]
     },
     "metadata": {},
     "output_type": "display_data"
    },
    {
     "name": "stdout",
     "output_type": "stream",
     "text": [
      "Found 8 onsets in Guitar_noamp_riff10_4.mp3\n"
     ]
    },
    {
     "data": {
      "application/vnd.jupyter.widget-view+json": {
       "model_id": "",
       "version_major": 2,
       "version_minor": 0
      },
      "text/plain": [
       "HBox(children=(IntProgress(value=0, max=35364), HTML(value='')))"
      ]
     },
     "metadata": {},
     "output_type": "display_data"
    },
    {
     "name": "stdout",
     "output_type": "stream",
     "text": [
      "Found 0 onsets in Guitar_noamp_riff11_10.mp3\n"
     ]
    },
    {
     "data": {
      "application/vnd.jupyter.widget-view+json": {
       "model_id": "",
       "version_major": 2,
       "version_minor": 0
      },
      "text/plain": [
       "HBox(children=(IntProgress(value=0, max=35364), HTML(value='')))"
      ]
     },
     "metadata": {},
     "output_type": "display_data"
    },
    {
     "name": "stdout",
     "output_type": "stream",
     "text": [
      "Found 0 onsets in Guitar_noamp_riff11_11.mp3\n"
     ]
    },
    {
     "data": {
      "application/vnd.jupyter.widget-view+json": {
       "model_id": "",
       "version_major": 2,
       "version_minor": 0
      },
      "text/plain": [
       "HBox(children=(IntProgress(value=0, max=35364), HTML(value='')))"
      ]
     },
     "metadata": {},
     "output_type": "display_data"
    },
    {
     "name": "stdout",
     "output_type": "stream",
     "text": [
      "Found 0 onsets in Guitar_noamp_riff11_12.mp3\n"
     ]
    },
    {
     "data": {
      "application/vnd.jupyter.widget-view+json": {
       "model_id": "",
       "version_major": 2,
       "version_minor": 0
      },
      "text/plain": [
       "HBox(children=(IntProgress(value=0, max=35364), HTML(value='')))"
      ]
     },
     "metadata": {},
     "output_type": "display_data"
    },
    {
     "name": "stdout",
     "output_type": "stream",
     "text": [
      "Found 0 onsets in Guitar_noamp_riff11_13.mp3\n"
     ]
    },
    {
     "data": {
      "application/vnd.jupyter.widget-view+json": {
       "model_id": "",
       "version_major": 2,
       "version_minor": 0
      },
      "text/plain": [
       "HBox(children=(IntProgress(value=0, max=35364), HTML(value='')))"
      ]
     },
     "metadata": {},
     "output_type": "display_data"
    },
    {
     "name": "stdout",
     "output_type": "stream",
     "text": [
      "Found 0 onsets in Guitar_noamp_riff11_14.mp3\n"
     ]
    },
    {
     "data": {
      "application/vnd.jupyter.widget-view+json": {
       "model_id": "",
       "version_major": 2,
       "version_minor": 0
      },
      "text/plain": [
       "HBox(children=(IntProgress(value=0, max=35364), HTML(value='')))"
      ]
     },
     "metadata": {},
     "output_type": "display_data"
    },
    {
     "name": "stdout",
     "output_type": "stream",
     "text": [
      "Found 0 onsets in Guitar_noamp_riff11_15.mp3\n"
     ]
    },
    {
     "data": {
      "application/vnd.jupyter.widget-view+json": {
       "model_id": "",
       "version_major": 2,
       "version_minor": 0
      },
      "text/plain": [
       "HBox(children=(IntProgress(value=0, max=35364), HTML(value='')))"
      ]
     },
     "metadata": {},
     "output_type": "display_data"
    },
    {
     "name": "stdout",
     "output_type": "stream",
     "text": [
      "Found 0 onsets in Guitar_noamp_riff11_16.mp3\n"
     ]
    },
    {
     "data": {
      "application/vnd.jupyter.widget-view+json": {
       "model_id": "",
       "version_major": 2,
       "version_minor": 0
      },
      "text/plain": [
       "HBox(children=(IntProgress(value=0, max=35364), HTML(value='')))"
      ]
     },
     "metadata": {},
     "output_type": "display_data"
    },
    {
     "name": "stdout",
     "output_type": "stream",
     "text": [
      "Found 0 onsets in Guitar_noamp_riff11_17.mp3\n"
     ]
    },
    {
     "data": {
      "application/vnd.jupyter.widget-view+json": {
       "model_id": "",
       "version_major": 2,
       "version_minor": 0
      },
      "text/plain": [
       "HBox(children=(IntProgress(value=0, max=35364), HTML(value='')))"
      ]
     },
     "metadata": {},
     "output_type": "display_data"
    },
    {
     "name": "stdout",
     "output_type": "stream",
     "text": [
      "Found 0 onsets in Guitar_noamp_riff11_18.mp3\n"
     ]
    },
    {
     "data": {
      "application/vnd.jupyter.widget-view+json": {
       "model_id": "",
       "version_major": 2,
       "version_minor": 0
      },
      "text/plain": [
       "HBox(children=(IntProgress(value=0, max=35364), HTML(value='')))"
      ]
     },
     "metadata": {},
     "output_type": "display_data"
    },
    {
     "name": "stdout",
     "output_type": "stream",
     "text": [
      "Found 0 onsets in Guitar_noamp_riff11_19.mp3\n"
     ]
    },
    {
     "data": {
      "application/vnd.jupyter.widget-view+json": {
       "model_id": "67658357df804ba395e31a5a4634f651",
       "version_major": 2,
       "version_minor": 0
      },
      "text/plain": [
       "HBox(children=(IntProgress(value=0, max=35364), HTML(value='')))"
      ]
     },
     "metadata": {},
     "output_type": "display_data"
    },
    {
     "name": "stdout",
     "output_type": "stream",
     "text": [
      "Found 16 onsets in Guitar_noamp_riff11_2.mp3\n"
     ]
    },
    {
     "data": {
      "application/vnd.jupyter.widget-view+json": {
       "model_id": "4e4b3425174f4a4098ec1297d7cfe05c",
       "version_major": 2,
       "version_minor": 0
      },
      "text/plain": [
       "HBox(children=(IntProgress(value=0, max=35364), HTML(value='')))"
      ]
     },
     "metadata": {},
     "output_type": "display_data"
    },
    {
     "name": "stdout",
     "output_type": "stream",
     "text": [
      "Found 16 onsets in Guitar_noamp_riff11_3.mp3\n"
     ]
    },
    {
     "data": {
      "application/vnd.jupyter.widget-view+json": {
       "model_id": "486e2f39cda34280b9a5fba6ff2312cd",
       "version_major": 2,
       "version_minor": 0
      },
      "text/plain": [
       "HBox(children=(IntProgress(value=0, max=35364), HTML(value='')))"
      ]
     },
     "metadata": {},
     "output_type": "display_data"
    },
    {
     "name": "stdout",
     "output_type": "stream",
     "text": [
      "Found 15 onsets in Guitar_noamp_riff11_4.mp3\n"
     ]
    },
    {
     "data": {
      "application/vnd.jupyter.widget-view+json": {
       "model_id": "eab3515661f94d5b910996982486b7c1",
       "version_major": 2,
       "version_minor": 0
      },
      "text/plain": [
       "HBox(children=(IntProgress(value=0, max=35364), HTML(value='')))"
      ]
     },
     "metadata": {},
     "output_type": "display_data"
    },
    {
     "name": "stdout",
     "output_type": "stream",
     "text": [
      "Found 15 onsets in Guitar_noamp_riff11_5.mp3\n"
     ]
    },
    {
     "data": {
      "application/vnd.jupyter.widget-view+json": {
       "model_id": "cb1cc5a3e64c45e1b6f68f771097e07f",
       "version_major": 2,
       "version_minor": 0
      },
      "text/plain": [
       "HBox(children=(IntProgress(value=0, max=35364), HTML(value='')))"
      ]
     },
     "metadata": {},
     "output_type": "display_data"
    },
    {
     "name": "stdout",
     "output_type": "stream",
     "text": [
      "Found 16 onsets in Guitar_noamp_riff11_6.mp3\n"
     ]
    },
    {
     "data": {
      "application/vnd.jupyter.widget-view+json": {
       "model_id": "5687a27c5c014621828c8008ac04562a",
       "version_major": 2,
       "version_minor": 0
      },
      "text/plain": [
       "HBox(children=(IntProgress(value=0, max=35364), HTML(value='')))"
      ]
     },
     "metadata": {},
     "output_type": "display_data"
    },
    {
     "name": "stdout",
     "output_type": "stream",
     "text": [
      "Found 15 onsets in Guitar_noamp_riff11_7.mp3\n"
     ]
    },
    {
     "data": {
      "application/vnd.jupyter.widget-view+json": {
       "model_id": "",
       "version_major": 2,
       "version_minor": 0
      },
      "text/plain": [
       "HBox(children=(IntProgress(value=0, max=35364), HTML(value='')))"
      ]
     },
     "metadata": {},
     "output_type": "display_data"
    },
    {
     "name": "stdout",
     "output_type": "stream",
     "text": [
      "Found 0 onsets in Guitar_noamp_riff11_8.mp3\n"
     ]
    },
    {
     "data": {
      "application/vnd.jupyter.widget-view+json": {
       "model_id": "",
       "version_major": 2,
       "version_minor": 0
      },
      "text/plain": [
       "HBox(children=(IntProgress(value=0, max=35364), HTML(value='')))"
      ]
     },
     "metadata": {},
     "output_type": "display_data"
    },
    {
     "name": "stdout",
     "output_type": "stream",
     "text": [
      "Found 0 onsets in Guitar_noamp_riff11_9.mp3\n"
     ]
    },
    {
     "data": {
      "application/vnd.jupyter.widget-view+json": {
       "model_id": "9f91ba3e637b43b19d55ca03b04c8a3c",
       "version_major": 2,
       "version_minor": 0
      },
      "text/plain": [
       "HBox(children=(IntProgress(value=0, max=35364), HTML(value='')))"
      ]
     },
     "metadata": {},
     "output_type": "display_data"
    },
    {
     "name": "stdout",
     "output_type": "stream",
     "text": [
      "Found 6 onsets in Guitar_noamp_riff16_3.mp3\n"
     ]
    },
    {
     "data": {
      "application/vnd.jupyter.widget-view+json": {
       "model_id": "52ce41f8a466426d98e6a6528973c2ea",
       "version_major": 2,
       "version_minor": 0
      },
      "text/plain": [
       "HBox(children=(IntProgress(value=0, max=35364), HTML(value='')))"
      ]
     },
     "metadata": {},
     "output_type": "display_data"
    },
    {
     "name": "stdout",
     "output_type": "stream",
     "text": [
      "Found 8 onsets in Guitar_noamp_riff17_1.mp3\n"
     ]
    },
    {
     "data": {
      "application/vnd.jupyter.widget-view+json": {
       "model_id": "b217046ee2ba4f84a0f3e6ee451d7194",
       "version_major": 2,
       "version_minor": 0
      },
      "text/plain": [
       "HBox(children=(IntProgress(value=0, max=35364), HTML(value='')))"
      ]
     },
     "metadata": {},
     "output_type": "display_data"
    },
    {
     "name": "stdout",
     "output_type": "stream",
     "text": [
      "Found 10 onsets in Guitar_noamp_riff1_7.mp3\n"
     ]
    },
    {
     "data": {
      "application/vnd.jupyter.widget-view+json": {
       "model_id": "e2dc3bf403a24ddb958461c4a9b78dbd",
       "version_major": 2,
       "version_minor": 0
      },
      "text/plain": [
       "HBox(children=(IntProgress(value=0, max=35364), HTML(value='')))"
      ]
     },
     "metadata": {},
     "output_type": "display_data"
    },
    {
     "name": "stdout",
     "output_type": "stream",
     "text": [
      "Found 1 onsets in Guitar_noamp_riff2_11.mp3\n"
     ]
    },
    {
     "data": {
      "application/vnd.jupyter.widget-view+json": {
       "model_id": "",
       "version_major": 2,
       "version_minor": 0
      },
      "text/plain": [
       "HBox(children=(IntProgress(value=0, max=35364), HTML(value='')))"
      ]
     },
     "metadata": {},
     "output_type": "display_data"
    },
    {
     "name": "stdout",
     "output_type": "stream",
     "text": [
      "Found 0 onsets in Guitar_noamp_riff2_end.mp3\n"
     ]
    },
    {
     "data": {
      "application/vnd.jupyter.widget-view+json": {
       "model_id": "26f68fcdee234a62af9fcf7799903785",
       "version_major": 2,
       "version_minor": 0
      },
      "text/plain": [
       "HBox(children=(IntProgress(value=0, max=35364), HTML(value='')))"
      ]
     },
     "metadata": {},
     "output_type": "display_data"
    },
    {
     "name": "stdout",
     "output_type": "stream",
     "text": [
      "Found 9 onsets in Guitar_noamp_riff3_8.mp3\n"
     ]
    },
    {
     "data": {
      "application/vnd.jupyter.widget-view+json": {
       "model_id": "3295ea5f1cb941cd80383cac3a5e7735",
       "version_major": 2,
       "version_minor": 0
      },
      "text/plain": [
       "HBox(children=(IntProgress(value=0, max=35364), HTML(value='')))"
      ]
     },
     "metadata": {},
     "output_type": "display_data"
    },
    {
     "name": "stdout",
     "output_type": "stream",
     "text": [
      "Found 14 onsets in Guitar_noamp_riff4_2.mp3\n"
     ]
    },
    {
     "data": {
      "application/vnd.jupyter.widget-view+json": {
       "model_id": "86c91257e718484ea49e12f6b05390f6",
       "version_major": 2,
       "version_minor": 0
      },
      "text/plain": [
       "HBox(children=(IntProgress(value=0, max=35364), HTML(value='')))"
      ]
     },
     "metadata": {},
     "output_type": "display_data"
    },
    {
     "name": "stdout",
     "output_type": "stream",
     "text": [
      "Found 13 onsets in Guitar_noamp_riff4_3.mp3\n"
     ]
    },
    {
     "data": {
      "application/vnd.jupyter.widget-view+json": {
       "model_id": "d3599607afea49a8ae072085bea4ad2d",
       "version_major": 2,
       "version_minor": 0
      },
      "text/plain": [
       "HBox(children=(IntProgress(value=0, max=35364), HTML(value='')))"
      ]
     },
     "metadata": {},
     "output_type": "display_data"
    },
    {
     "name": "stdout",
     "output_type": "stream",
     "text": [
      "Found 12 onsets in Guitar_noamp_riff4_4.mp3\n"
     ]
    },
    {
     "data": {
      "application/vnd.jupyter.widget-view+json": {
       "model_id": "7628082ec0d14d93bf957127df4e7dae",
       "version_major": 2,
       "version_minor": 0
      },
      "text/plain": [
       "HBox(children=(IntProgress(value=0, max=35364), HTML(value='')))"
      ]
     },
     "metadata": {},
     "output_type": "display_data"
    },
    {
     "name": "stdout",
     "output_type": "stream",
     "text": [
      "Found 13 onsets in Guitar_noamp_riff4_5.mp3\n"
     ]
    },
    {
     "data": {
      "application/vnd.jupyter.widget-view+json": {
       "model_id": "a79c63f85a114795b94d17d8bcbfd93a",
       "version_major": 2,
       "version_minor": 0
      },
      "text/plain": [
       "HBox(children=(IntProgress(value=0, max=35364), HTML(value='')))"
      ]
     },
     "metadata": {},
     "output_type": "display_data"
    },
    {
     "name": "stdout",
     "output_type": "stream",
     "text": [
      "Found 14 onsets in Guitar_noamp_riff4_6.mp3\n"
     ]
    },
    {
     "data": {
      "application/vnd.jupyter.widget-view+json": {
       "model_id": "a483d3aa3af34e0d9ec7efe89bca9954",
       "version_major": 2,
       "version_minor": 0
      },
      "text/plain": [
       "HBox(children=(IntProgress(value=0, max=35364), HTML(value='')))"
      ]
     },
     "metadata": {},
     "output_type": "display_data"
    },
    {
     "name": "stdout",
     "output_type": "stream",
     "text": [
      "Found 14 onsets in Guitar_noamp_riff4_7.mp3\n"
     ]
    },
    {
     "data": {
      "application/vnd.jupyter.widget-view+json": {
       "model_id": "112fcd93e49f471287984dfd4866201f",
       "version_major": 2,
       "version_minor": 0
      },
      "text/plain": [
       "HBox(children=(IntProgress(value=0, max=35364), HTML(value='')))"
      ]
     },
     "metadata": {},
     "output_type": "display_data"
    },
    {
     "name": "stdout",
     "output_type": "stream",
     "text": [
      "Found 14 onsets in Guitar_noamp_riff4_8.mp3\n"
     ]
    },
    {
     "data": {
      "application/vnd.jupyter.widget-view+json": {
       "model_id": "",
       "version_major": 2,
       "version_minor": 0
      },
      "text/plain": [
       "HBox(children=(IntProgress(value=0, max=35364), HTML(value='')))"
      ]
     },
     "metadata": {},
     "output_type": "display_data"
    },
    {
     "name": "stdout",
     "output_type": "stream",
     "text": [
      "Found 0 onsets in Guitar_noamp_riff4_9.mp3\n"
     ]
    },
    {
     "data": {
      "application/vnd.jupyter.widget-view+json": {
       "model_id": "a58c5b7671e840eea1a54c6d1318bbb2",
       "version_major": 2,
       "version_minor": 0
      },
      "text/plain": [
       "HBox(children=(IntProgress(value=0, max=35364), HTML(value='')))"
      ]
     },
     "metadata": {},
     "output_type": "display_data"
    },
    {
     "name": "stdout",
     "output_type": "stream",
     "text": [
      "Found 1 onsets in Guitar_noamp_riff6.mp3\n"
     ]
    },
    {
     "data": {
      "application/vnd.jupyter.widget-view+json": {
       "model_id": "",
       "version_major": 2,
       "version_minor": 0
      },
      "text/plain": [
       "HBox(children=(IntProgress(value=0, max=35364), HTML(value='')))"
      ]
     },
     "metadata": {},
     "output_type": "display_data"
    },
    {
     "name": "stdout",
     "output_type": "stream",
     "text": [
      "Found 0 onsets in Guitar_noamp_riff8_10.mp3\n"
     ]
    },
    {
     "data": {
      "application/vnd.jupyter.widget-view+json": {
       "model_id": "",
       "version_major": 2,
       "version_minor": 0
      },
      "text/plain": [
       "HBox(children=(IntProgress(value=0, max=35364), HTML(value='')))"
      ]
     },
     "metadata": {},
     "output_type": "display_data"
    },
    {
     "name": "stdout",
     "output_type": "stream",
     "text": [
      "Found 0 onsets in Guitar_noamp_riff8_11.mp3\n"
     ]
    },
    {
     "data": {
      "application/vnd.jupyter.widget-view+json": {
       "model_id": "",
       "version_major": 2,
       "version_minor": 0
      },
      "text/plain": [
       "HBox(children=(IntProgress(value=0, max=35364), HTML(value='')))"
      ]
     },
     "metadata": {},
     "output_type": "display_data"
    },
    {
     "name": "stdout",
     "output_type": "stream",
     "text": [
      "Found 0 onsets in Guitar_noamp_riff8_12.mp3\n"
     ]
    },
    {
     "data": {
      "application/vnd.jupyter.widget-view+json": {
       "model_id": "",
       "version_major": 2,
       "version_minor": 0
      },
      "text/plain": [
       "HBox(children=(IntProgress(value=0, max=35364), HTML(value='')))"
      ]
     },
     "metadata": {},
     "output_type": "display_data"
    },
    {
     "name": "stdout",
     "output_type": "stream",
     "text": [
      "Found 0 onsets in Guitar_noamp_riff8_13.mp3\n"
     ]
    },
    {
     "data": {
      "application/vnd.jupyter.widget-view+json": {
       "model_id": "",
       "version_major": 2,
       "version_minor": 0
      },
      "text/plain": [
       "HBox(children=(IntProgress(value=0, max=35364), HTML(value='')))"
      ]
     },
     "metadata": {},
     "output_type": "display_data"
    },
    {
     "name": "stdout",
     "output_type": "stream",
     "text": [
      "Found 0 onsets in Guitar_noamp_riff8_14.mp3\n"
     ]
    },
    {
     "data": {
      "application/vnd.jupyter.widget-view+json": {
       "model_id": "",
       "version_major": 2,
       "version_minor": 0
      },
      "text/plain": [
       "HBox(children=(IntProgress(value=0, max=35364), HTML(value='')))"
      ]
     },
     "metadata": {},
     "output_type": "display_data"
    },
    {
     "name": "stdout",
     "output_type": "stream",
     "text": [
      "Found 0 onsets in Guitar_noamp_riff8_15.mp3\n"
     ]
    },
    {
     "data": {
      "application/vnd.jupyter.widget-view+json": {
       "model_id": "",
       "version_major": 2,
       "version_minor": 0
      },
      "text/plain": [
       "HBox(children=(IntProgress(value=0, max=35364), HTML(value='')))"
      ]
     },
     "metadata": {},
     "output_type": "display_data"
    },
    {
     "name": "stdout",
     "output_type": "stream",
     "text": [
      "Found 0 onsets in Guitar_noamp_riff8_16.mp3\n"
     ]
    },
    {
     "data": {
      "application/vnd.jupyter.widget-view+json": {
       "model_id": "",
       "version_major": 2,
       "version_minor": 0
      },
      "text/plain": [
       "HBox(children=(IntProgress(value=0, max=35364), HTML(value='')))"
      ]
     },
     "metadata": {},
     "output_type": "display_data"
    },
    {
     "name": "stdout",
     "output_type": "stream",
     "text": [
      "Found 0 onsets in Guitar_noamp_riff8_17.mp3\n"
     ]
    },
    {
     "data": {
      "application/vnd.jupyter.widget-view+json": {
       "model_id": "428e0b267f464b40983b7b6774290fc2",
       "version_major": 2,
       "version_minor": 0
      },
      "text/plain": [
       "HBox(children=(IntProgress(value=0, max=35364), HTML(value='')))"
      ]
     },
     "metadata": {},
     "output_type": "display_data"
    },
    {
     "name": "stdout",
     "output_type": "stream",
     "text": [
      "Found 6 onsets in Guitar_noamp_riff8_7.mp3\n"
     ]
    },
    {
     "data": {
      "application/vnd.jupyter.widget-view+json": {
       "model_id": "70ec41c9ec214cca95235b2f927e969f",
       "version_major": 2,
       "version_minor": 0
      },
      "text/plain": [
       "HBox(children=(IntProgress(value=0, max=35364), HTML(value='')))"
      ]
     },
     "metadata": {},
     "output_type": "display_data"
    },
    {
     "name": "stdout",
     "output_type": "stream",
     "text": [
      "Found 6 onsets in Guitar_noamp_riff8_8.mp3\n"
     ]
    },
    {
     "data": {
      "application/vnd.jupyter.widget-view+json": {
       "model_id": "",
       "version_major": 2,
       "version_minor": 0
      },
      "text/plain": [
       "HBox(children=(IntProgress(value=0, max=35364), HTML(value='')))"
      ]
     },
     "metadata": {},
     "output_type": "display_data"
    },
    {
     "name": "stdout",
     "output_type": "stream",
     "text": [
      "Found 0 onsets in Guitar_noamp_riff8_9.mp3\n"
     ]
    },
    {
     "data": {
      "application/vnd.jupyter.widget-view+json": {
       "model_id": "dd2a266367684dd0b8af405220151f66",
       "version_major": 2,
       "version_minor": 0
      },
      "text/plain": [
       "HBox(children=(IntProgress(value=0, max=35364), HTML(value='')))"
      ]
     },
     "metadata": {},
     "output_type": "display_data"
    },
    {
     "name": "stdout",
     "output_type": "stream",
     "text": [
      "Found 8 onsets in Guitar_noamp_riff9.mp3\n"
     ]
    }
   ],
   "source": [
    "unrecovered_files = os.listdir(unrecovered_path)\n",
    "try:\n",
    "    recovered_data = pd.read_pickle(\"../Data/Guitar/File_onset_data.pkl\")\n",
    "except:\n",
    "    recovered_data = pd.DataFrame()\n",
    "    \n",
    "pbar = tqdm(unrecovered_files)\n",
    "for filename in pbar:\n",
    "    pbar.set_description(\"Processing \" + filename)\n",
    "    wave = waveform(unrecovered_path + filename)\n",
    "    onsets = recover_onsets(wave, data, 600)\n",
    "    print(\"Found\", len(onsets), \"onsets in\", filename)\n",
    "    recovered_data = pd.concat([recovered_data, pd.DataFrame({\"File\": [filename], \"Onsets\": [onsets]})])\n",
    "    recovered_data.to_pickle(\"../Data/Guitar/File_onset_data.pkl\")\n",
    "    if len(onsets):\n",
    "        os.remove(unrecovered_path + filename)\n",
    "    else:\n",
    "        shutil.move(unrecovered_path + filename, \"../Samples/Guitar/Not_found/\" + filename)"
   ]
  },
  {
   "cell_type": "code",
   "execution_count": null,
   "metadata": {},
   "outputs": [],
   "source": []
  }
 ],
 "metadata": {
  "kernelspec": {
   "display_name": "Python 3",
   "language": "python",
   "name": "python3"
  },
  "language_info": {
   "codemirror_mode": {
    "name": "ipython",
    "version": 3
   },
   "file_extension": ".py",
   "mimetype": "text/x-python",
   "name": "python",
   "nbconvert_exporter": "python",
   "pygments_lexer": "ipython3",
   "version": "3.7.3"
  }
 },
 "nbformat": 4,
 "nbformat_minor": 2
}
