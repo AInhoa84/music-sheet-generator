{
 "cells": [
  {
   "cell_type": "code",
   "execution_count": 1,
   "metadata": {},
   "outputs": [],
   "source": [
    "import librosa\n",
    "import pandas as pd\n",
    "import os\n",
    "import numpy as np\n",
    "import matplotlib.pyplot as plt\n",
    "from tqdm import tqdm_notebook as tqdm"
   ]
  },
  {
   "cell_type": "code",
   "execution_count": 2,
   "metadata": {},
   "outputs": [],
   "source": [
    "y, sr = librosa.load(\"../Samples/Piano/PN_ab-ba_piano.mp3\", mono=False)"
   ]
  },
  {
   "cell_type": "code",
   "execution_count": 3,
   "metadata": {},
   "outputs": [],
   "source": [
    "y = librosa.core.to_mono(y)\n",
    "y = librosa.resample(y, sr, 8000)\n",
    "y = y[np.argwhere(y >= 0.001)[0][0]:]"
   ]
  },
  {
   "cell_type": "code",
   "execution_count": 4,
   "metadata": {},
   "outputs": [],
   "source": [
    "note_table = pd.read_csv(\"../Utilities/Note_table.tsv\", header=0, sep=\"\\t\")"
   ]
  },
  {
   "cell_type": "code",
   "execution_count": 7,
   "metadata": {},
   "outputs": [],
   "source": [
    "def long_file_to_data(file, rs, note_table):\n",
    "    y, sr = librosa.load(file, mono=False)\n",
    "    y = librosa.core.to_mono(y)\n",
    "    y = librosa.resample(y, sr, rs)\n",
    "    y = y[np.argwhere(y >= 0.001)[0][0]:]\n",
    "\n",
    "    df = pd.DataFrame(columns=[\"x{}\".format(i) for i in range(16000)]+[\"Freq\", \"Note\"])\n",
    "    notes = list(note_table.iloc[37:72][\"Note\"])\n",
    "\n",
    "    for i in tqdm(range(0, 16000*35, 16000), total = 35, leave = False):\n",
    "        df = df.append(pd.DataFrame({**{\"x{}\".format(j): [y[j+i]] for j in range(16000)}, \n",
    "                                    **{\"Freq\": [librosa.note_to_hz(notes[int(i/16000)])],\n",
    "                                      \"Note\": [notes[int(i/16000)]]}}))\n",
    "    return df"
   ]
  },
  {
   "cell_type": "code",
   "execution_count": 6,
   "metadata": {},
   "outputs": [
    {
     "data": {
      "text/html": [
       "<div>\n",
       "<style scoped>\n",
       "    .dataframe tbody tr th:only-of-type {\n",
       "        vertical-align: middle;\n",
       "    }\n",
       "\n",
       "    .dataframe tbody tr th {\n",
       "        vertical-align: top;\n",
       "    }\n",
       "\n",
       "    .dataframe thead th {\n",
       "        text-align: right;\n",
       "    }\n",
       "</style>\n",
       "<table border=\"1\" class=\"dataframe\">\n",
       "  <thead>\n",
       "    <tr style=\"text-align: right;\">\n",
       "      <th></th>\n",
       "      <th>x0</th>\n",
       "      <th>x1</th>\n",
       "      <th>x2</th>\n",
       "      <th>x3</th>\n",
       "      <th>x4</th>\n",
       "      <th>x5</th>\n",
       "      <th>x6</th>\n",
       "      <th>x7</th>\n",
       "      <th>x8</th>\n",
       "      <th>x9</th>\n",
       "      <th>...</th>\n",
       "      <th>x15992</th>\n",
       "      <th>x15993</th>\n",
       "      <th>x15994</th>\n",
       "      <th>x15995</th>\n",
       "      <th>x15996</th>\n",
       "      <th>x15997</th>\n",
       "      <th>x15998</th>\n",
       "      <th>x15999</th>\n",
       "      <th>Freq</th>\n",
       "      <th>Note</th>\n",
       "    </tr>\n",
       "  </thead>\n",
       "  <tbody>\n",
       "    <tr>\n",
       "      <th>0</th>\n",
       "      <td>0.001465</td>\n",
       "      <td>0.001681</td>\n",
       "      <td>0.005331</td>\n",
       "      <td>-0.002838</td>\n",
       "      <td>-0.015286</td>\n",
       "      <td>-0.009736</td>\n",
       "      <td>0.015490</td>\n",
       "      <td>0.010337</td>\n",
       "      <td>0.001405</td>\n",
       "      <td>0.002371</td>\n",
       "      <td>...</td>\n",
       "      <td>0.003488</td>\n",
       "      <td>0.001495</td>\n",
       "      <td>-0.001752</td>\n",
       "      <td>-0.002831</td>\n",
       "      <td>-0.002337</td>\n",
       "      <td>-0.002936</td>\n",
       "      <td>-0.005293</td>\n",
       "      <td>-0.007221</td>\n",
       "      <td>138.591315</td>\n",
       "      <td>C#3</td>\n",
       "    </tr>\n",
       "    <tr>\n",
       "      <th>0</th>\n",
       "      <td>-0.008995</td>\n",
       "      <td>-0.013210</td>\n",
       "      <td>-0.014460</td>\n",
       "      <td>-0.016820</td>\n",
       "      <td>-0.016346</td>\n",
       "      <td>-0.013873</td>\n",
       "      <td>-0.015907</td>\n",
       "      <td>-0.014268</td>\n",
       "      <td>-0.007894</td>\n",
       "      <td>-0.003954</td>\n",
       "      <td>...</td>\n",
       "      <td>-0.021490</td>\n",
       "      <td>-0.023198</td>\n",
       "      <td>-0.019781</td>\n",
       "      <td>-0.015293</td>\n",
       "      <td>-0.012494</td>\n",
       "      <td>-0.012988</td>\n",
       "      <td>-0.014049</td>\n",
       "      <td>-0.012630</td>\n",
       "      <td>146.832384</td>\n",
       "      <td>D3</td>\n",
       "    </tr>\n",
       "    <tr>\n",
       "      <th>0</th>\n",
       "      <td>-0.009459</td>\n",
       "      <td>-0.008396</td>\n",
       "      <td>-0.008832</td>\n",
       "      <td>-0.012935</td>\n",
       "      <td>-0.010718</td>\n",
       "      <td>-0.002320</td>\n",
       "      <td>-0.002686</td>\n",
       "      <td>-0.000303</td>\n",
       "      <td>0.002634</td>\n",
       "      <td>0.000839</td>\n",
       "      <td>...</td>\n",
       "      <td>-0.001041</td>\n",
       "      <td>-0.000368</td>\n",
       "      <td>0.002192</td>\n",
       "      <td>0.005376</td>\n",
       "      <td>0.007840</td>\n",
       "      <td>0.006027</td>\n",
       "      <td>0.003115</td>\n",
       "      <td>0.003368</td>\n",
       "      <td>155.563492</td>\n",
       "      <td>D#3</td>\n",
       "    </tr>\n",
       "    <tr>\n",
       "      <th>0</th>\n",
       "      <td>0.009730</td>\n",
       "      <td>0.016409</td>\n",
       "      <td>0.019472</td>\n",
       "      <td>0.015838</td>\n",
       "      <td>0.014779</td>\n",
       "      <td>0.016792</td>\n",
       "      <td>0.015904</td>\n",
       "      <td>0.019331</td>\n",
       "      <td>0.021950</td>\n",
       "      <td>0.020994</td>\n",
       "      <td>...</td>\n",
       "      <td>-0.009846</td>\n",
       "      <td>-0.014612</td>\n",
       "      <td>-0.016278</td>\n",
       "      <td>-0.014461</td>\n",
       "      <td>-0.012089</td>\n",
       "      <td>-0.009292</td>\n",
       "      <td>-0.008961</td>\n",
       "      <td>-0.012282</td>\n",
       "      <td>164.813778</td>\n",
       "      <td>E3</td>\n",
       "    </tr>\n",
       "    <tr>\n",
       "      <th>0</th>\n",
       "      <td>-0.016608</td>\n",
       "      <td>-0.018866</td>\n",
       "      <td>-0.018244</td>\n",
       "      <td>-0.014823</td>\n",
       "      <td>-0.010421</td>\n",
       "      <td>-0.010667</td>\n",
       "      <td>-0.005970</td>\n",
       "      <td>-0.000487</td>\n",
       "      <td>-0.005703</td>\n",
       "      <td>-0.009161</td>\n",
       "      <td>...</td>\n",
       "      <td>-0.017786</td>\n",
       "      <td>-0.018655</td>\n",
       "      <td>-0.018373</td>\n",
       "      <td>-0.018204</td>\n",
       "      <td>-0.018803</td>\n",
       "      <td>-0.017219</td>\n",
       "      <td>-0.015150</td>\n",
       "      <td>-0.011934</td>\n",
       "      <td>174.614116</td>\n",
       "      <td>F3</td>\n",
       "    </tr>\n",
       "  </tbody>\n",
       "</table>\n",
       "<p>5 rows × 16002 columns</p>\n",
       "</div>"
      ],
      "text/plain": [
       "         x0        x1        x2        x3        x4        x5        x6  \\\n",
       "0  0.001465  0.001681  0.005331 -0.002838 -0.015286 -0.009736  0.015490   \n",
       "0 -0.008995 -0.013210 -0.014460 -0.016820 -0.016346 -0.013873 -0.015907   \n",
       "0 -0.009459 -0.008396 -0.008832 -0.012935 -0.010718 -0.002320 -0.002686   \n",
       "0  0.009730  0.016409  0.019472  0.015838  0.014779  0.016792  0.015904   \n",
       "0 -0.016608 -0.018866 -0.018244 -0.014823 -0.010421 -0.010667 -0.005970   \n",
       "\n",
       "         x7        x8        x9  ...     x15992    x15993    x15994    x15995  \\\n",
       "0  0.010337  0.001405  0.002371  ...   0.003488  0.001495 -0.001752 -0.002831   \n",
       "0 -0.014268 -0.007894 -0.003954  ...  -0.021490 -0.023198 -0.019781 -0.015293   \n",
       "0 -0.000303  0.002634  0.000839  ...  -0.001041 -0.000368  0.002192  0.005376   \n",
       "0  0.019331  0.021950  0.020994  ...  -0.009846 -0.014612 -0.016278 -0.014461   \n",
       "0 -0.000487 -0.005703 -0.009161  ...  -0.017786 -0.018655 -0.018373 -0.018204   \n",
       "\n",
       "     x15996    x15997    x15998    x15999        Freq  Note  \n",
       "0 -0.002337 -0.002936 -0.005293 -0.007221  138.591315   C#3  \n",
       "0 -0.012494 -0.012988 -0.014049 -0.012630  146.832384    D3  \n",
       "0  0.007840  0.006027  0.003115  0.003368  155.563492   D#3  \n",
       "0 -0.012089 -0.009292 -0.008961 -0.012282  164.813778    E3  \n",
       "0 -0.018803 -0.017219 -0.015150 -0.011934  174.614116    F3  \n",
       "\n",
       "[5 rows x 16002 columns]"
      ]
     },
     "execution_count": 6,
     "metadata": {},
     "output_type": "execute_result"
    }
   ],
   "source": [
    "test = long_file_to_data(\"../Samples/Piano/PN_ab-ba_piano.mp3\", 8000, note_table)\n",
    "test.head()"
   ]
  },
  {
   "cell_type": "code",
   "execution_count": 8,
   "metadata": {},
   "outputs": [],
   "source": [
    "def dir_to_data(directory, rs, note_table):\n",
    "    data = pd.DataFrame(columns=[\"x{}\".format(i) for i in range(16000)]+[\"Freq\", \"Note\"])\n",
    "    pbar = tqdm(os.listdir(directory))\n",
    "    \n",
    "    for file in pbar:\n",
    "        pbar.set_description(\"Processing %s\" % file)\n",
    "        df = long_file_to_data(directory + file, rs, note_table)\n",
    "        data = data.append(df)\n",
    "        \n",
    "    data = data.reset_index().drop(\"index\", axis=1)\n",
    "    return data"
   ]
  },
  {
   "cell_type": "code",
   "execution_count": 9,
   "metadata": {},
   "outputs": [
    {
     "data": {
      "application/vnd.jupyter.widget-view+json": {
       "model_id": "4e1adfdb36ff485b85676bc33d14e758",
       "version_major": 2,
       "version_minor": 0
      },
      "text/plain": [
       "HBox(children=(IntProgress(value=0, max=20), HTML(value='')))"
      ]
     },
     "metadata": {},
     "output_type": "display_data"
    },
    {
     "data": {
      "application/vnd.jupyter.widget-view+json": {
       "model_id": "",
       "version_major": 2,
       "version_minor": 0
      },
      "text/plain": [
       "HBox(children=(IntProgress(value=0, max=35), HTML(value='')))"
      ]
     },
     "metadata": {},
     "output_type": "display_data"
    },
    {
     "data": {
      "application/vnd.jupyter.widget-view+json": {
       "model_id": "",
       "version_major": 2,
       "version_minor": 0
      },
      "text/plain": [
       "HBox(children=(IntProgress(value=0, max=35), HTML(value='')))"
      ]
     },
     "metadata": {},
     "output_type": "display_data"
    },
    {
     "data": {
      "application/vnd.jupyter.widget-view+json": {
       "model_id": "",
       "version_major": 2,
       "version_minor": 0
      },
      "text/plain": [
       "HBox(children=(IntProgress(value=0, max=35), HTML(value='')))"
      ]
     },
     "metadata": {},
     "output_type": "display_data"
    },
    {
     "data": {
      "application/vnd.jupyter.widget-view+json": {
       "model_id": "",
       "version_major": 2,
       "version_minor": 0
      },
      "text/plain": [
       "HBox(children=(IntProgress(value=0, max=35), HTML(value='')))"
      ]
     },
     "metadata": {},
     "output_type": "display_data"
    },
    {
     "data": {
      "application/vnd.jupyter.widget-view+json": {
       "model_id": "",
       "version_major": 2,
       "version_minor": 0
      },
      "text/plain": [
       "HBox(children=(IntProgress(value=0, max=35), HTML(value='')))"
      ]
     },
     "metadata": {},
     "output_type": "display_data"
    },
    {
     "data": {
      "application/vnd.jupyter.widget-view+json": {
       "model_id": "",
       "version_major": 2,
       "version_minor": 0
      },
      "text/plain": [
       "HBox(children=(IntProgress(value=0, max=35), HTML(value='')))"
      ]
     },
     "metadata": {},
     "output_type": "display_data"
    },
    {
     "data": {
      "application/vnd.jupyter.widget-view+json": {
       "model_id": "",
       "version_major": 2,
       "version_minor": 0
      },
      "text/plain": [
       "HBox(children=(IntProgress(value=0, max=35), HTML(value='')))"
      ]
     },
     "metadata": {},
     "output_type": "display_data"
    },
    {
     "data": {
      "application/vnd.jupyter.widget-view+json": {
       "model_id": "",
       "version_major": 2,
       "version_minor": 0
      },
      "text/plain": [
       "HBox(children=(IntProgress(value=0, max=35), HTML(value='')))"
      ]
     },
     "metadata": {},
     "output_type": "display_data"
    },
    {
     "data": {
      "application/vnd.jupyter.widget-view+json": {
       "model_id": "",
       "version_major": 2,
       "version_minor": 0
      },
      "text/plain": [
       "HBox(children=(IntProgress(value=0, max=35), HTML(value='')))"
      ]
     },
     "metadata": {},
     "output_type": "display_data"
    },
    {
     "data": {
      "application/vnd.jupyter.widget-view+json": {
       "model_id": "",
       "version_major": 2,
       "version_minor": 0
      },
      "text/plain": [
       "HBox(children=(IntProgress(value=0, max=35), HTML(value='')))"
      ]
     },
     "metadata": {},
     "output_type": "display_data"
    },
    {
     "data": {
      "application/vnd.jupyter.widget-view+json": {
       "model_id": "",
       "version_major": 2,
       "version_minor": 0
      },
      "text/plain": [
       "HBox(children=(IntProgress(value=0, max=35), HTML(value='')))"
      ]
     },
     "metadata": {},
     "output_type": "display_data"
    },
    {
     "data": {
      "application/vnd.jupyter.widget-view+json": {
       "model_id": "",
       "version_major": 2,
       "version_minor": 0
      },
      "text/plain": [
       "HBox(children=(IntProgress(value=0, max=35), HTML(value='')))"
      ]
     },
     "metadata": {},
     "output_type": "display_data"
    },
    {
     "data": {
      "application/vnd.jupyter.widget-view+json": {
       "model_id": "",
       "version_major": 2,
       "version_minor": 0
      },
      "text/plain": [
       "HBox(children=(IntProgress(value=0, max=35), HTML(value='')))"
      ]
     },
     "metadata": {},
     "output_type": "display_data"
    },
    {
     "data": {
      "application/vnd.jupyter.widget-view+json": {
       "model_id": "",
       "version_major": 2,
       "version_minor": 0
      },
      "text/plain": [
       "HBox(children=(IntProgress(value=0, max=35), HTML(value='')))"
      ]
     },
     "metadata": {},
     "output_type": "display_data"
    },
    {
     "data": {
      "application/vnd.jupyter.widget-view+json": {
       "model_id": "",
       "version_major": 2,
       "version_minor": 0
      },
      "text/plain": [
       "HBox(children=(IntProgress(value=0, max=35), HTML(value='')))"
      ]
     },
     "metadata": {},
     "output_type": "display_data"
    },
    {
     "data": {
      "application/vnd.jupyter.widget-view+json": {
       "model_id": "",
       "version_major": 2,
       "version_minor": 0
      },
      "text/plain": [
       "HBox(children=(IntProgress(value=0, max=35), HTML(value='')))"
      ]
     },
     "metadata": {},
     "output_type": "display_data"
    },
    {
     "data": {
      "application/vnd.jupyter.widget-view+json": {
       "model_id": "",
       "version_major": 2,
       "version_minor": 0
      },
      "text/plain": [
       "HBox(children=(IntProgress(value=0, max=35), HTML(value='')))"
      ]
     },
     "metadata": {},
     "output_type": "display_data"
    },
    {
     "data": {
      "application/vnd.jupyter.widget-view+json": {
       "model_id": "",
       "version_major": 2,
       "version_minor": 0
      },
      "text/plain": [
       "HBox(children=(IntProgress(value=0, max=35), HTML(value='')))"
      ]
     },
     "metadata": {},
     "output_type": "display_data"
    },
    {
     "data": {
      "application/vnd.jupyter.widget-view+json": {
       "model_id": "",
       "version_major": 2,
       "version_minor": 0
      },
      "text/plain": [
       "HBox(children=(IntProgress(value=0, max=35), HTML(value='')))"
      ]
     },
     "metadata": {},
     "output_type": "display_data"
    },
    {
     "data": {
      "application/vnd.jupyter.widget-view+json": {
       "model_id": "",
       "version_major": 2,
       "version_minor": 0
      },
      "text/plain": [
       "HBox(children=(IntProgress(value=0, max=35), HTML(value='')))"
      ]
     },
     "metadata": {},
     "output_type": "display_data"
    },
    {
     "name": "stdout",
     "output_type": "stream",
     "text": [
      "\n"
     ]
    }
   ],
   "source": [
    "data = dir_to_data(\"../Samples/Piano/\", 8000, note_table)"
   ]
  },
  {
   "cell_type": "code",
   "execution_count": 10,
   "metadata": {},
   "outputs": [
    {
     "data": {
      "text/html": [
       "<div>\n",
       "<style scoped>\n",
       "    .dataframe tbody tr th:only-of-type {\n",
       "        vertical-align: middle;\n",
       "    }\n",
       "\n",
       "    .dataframe tbody tr th {\n",
       "        vertical-align: top;\n",
       "    }\n",
       "\n",
       "    .dataframe thead th {\n",
       "        text-align: right;\n",
       "    }\n",
       "</style>\n",
       "<table border=\"1\" class=\"dataframe\">\n",
       "  <thead>\n",
       "    <tr style=\"text-align: right;\">\n",
       "      <th></th>\n",
       "      <th>x0</th>\n",
       "      <th>x1</th>\n",
       "      <th>x2</th>\n",
       "      <th>x3</th>\n",
       "      <th>x4</th>\n",
       "      <th>x5</th>\n",
       "      <th>x6</th>\n",
       "      <th>x7</th>\n",
       "      <th>x8</th>\n",
       "      <th>x9</th>\n",
       "      <th>...</th>\n",
       "      <th>x15992</th>\n",
       "      <th>x15993</th>\n",
       "      <th>x15994</th>\n",
       "      <th>x15995</th>\n",
       "      <th>x15996</th>\n",
       "      <th>x15997</th>\n",
       "      <th>x15998</th>\n",
       "      <th>x15999</th>\n",
       "      <th>Freq</th>\n",
       "      <th>Note</th>\n",
       "    </tr>\n",
       "  </thead>\n",
       "  <tbody>\n",
       "    <tr>\n",
       "      <th>454</th>\n",
       "      <td>-0.001518</td>\n",
       "      <td>-0.000073</td>\n",
       "      <td>0.000967</td>\n",
       "      <td>0.000750</td>\n",
       "      <td>-0.011523</td>\n",
       "      <td>-0.013985</td>\n",
       "      <td>-0.006740</td>\n",
       "      <td>-0.014535</td>\n",
       "      <td>-0.015739</td>\n",
       "      <td>-0.008548</td>\n",
       "      <td>...</td>\n",
       "      <td>-0.000233</td>\n",
       "      <td>-0.000562</td>\n",
       "      <td>-0.000790</td>\n",
       "      <td>-0.000849</td>\n",
       "      <td>-0.001058</td>\n",
       "      <td>-0.001141</td>\n",
       "      <td>-0.001220</td>\n",
       "      <td>-0.000619</td>\n",
       "      <td>987.766603</td>\n",
       "      <td>B5</td>\n",
       "    </tr>\n",
       "    <tr>\n",
       "      <th>627</th>\n",
       "      <td>0.008955</td>\n",
       "      <td>0.008659</td>\n",
       "      <td>0.004075</td>\n",
       "      <td>-0.000044</td>\n",
       "      <td>0.010740</td>\n",
       "      <td>0.030237</td>\n",
       "      <td>0.032356</td>\n",
       "      <td>0.024585</td>\n",
       "      <td>0.021640</td>\n",
       "      <td>0.011586</td>\n",
       "      <td>...</td>\n",
       "      <td>-0.013797</td>\n",
       "      <td>-0.010566</td>\n",
       "      <td>-0.004219</td>\n",
       "      <td>0.006336</td>\n",
       "      <td>0.013959</td>\n",
       "      <td>0.022246</td>\n",
       "      <td>0.024227</td>\n",
       "      <td>0.014691</td>\n",
       "      <td>880.000000</td>\n",
       "      <td>A5</td>\n",
       "    </tr>\n",
       "    <tr>\n",
       "      <th>68</th>\n",
       "      <td>-0.001030</td>\n",
       "      <td>0.000970</td>\n",
       "      <td>0.000898</td>\n",
       "      <td>0.002767</td>\n",
       "      <td>0.000395</td>\n",
       "      <td>0.002585</td>\n",
       "      <td>0.005665</td>\n",
       "      <td>0.004855</td>\n",
       "      <td>-0.009341</td>\n",
       "      <td>-0.015881</td>\n",
       "      <td>...</td>\n",
       "      <td>-0.001390</td>\n",
       "      <td>-0.000393</td>\n",
       "      <td>0.001560</td>\n",
       "      <td>0.002413</td>\n",
       "      <td>0.002488</td>\n",
       "      <td>0.002946</td>\n",
       "      <td>0.002877</td>\n",
       "      <td>0.002185</td>\n",
       "      <td>932.327523</td>\n",
       "      <td>A#5</td>\n",
       "    </tr>\n",
       "    <tr>\n",
       "      <th>210</th>\n",
       "      <td>0.004597</td>\n",
       "      <td>-0.000471</td>\n",
       "      <td>-0.000078</td>\n",
       "      <td>-0.001410</td>\n",
       "      <td>-0.000679</td>\n",
       "      <td>0.009749</td>\n",
       "      <td>0.008255</td>\n",
       "      <td>0.005261</td>\n",
       "      <td>0.001069</td>\n",
       "      <td>-0.001669</td>\n",
       "      <td>...</td>\n",
       "      <td>-0.000931</td>\n",
       "      <td>0.001803</td>\n",
       "      <td>0.000210</td>\n",
       "      <td>-0.005868</td>\n",
       "      <td>-0.013043</td>\n",
       "      <td>-0.018671</td>\n",
       "      <td>-0.016300</td>\n",
       "      <td>-0.013097</td>\n",
       "      <td>138.591315</td>\n",
       "      <td>C#3</td>\n",
       "    </tr>\n",
       "    <tr>\n",
       "      <th>422</th>\n",
       "      <td>-0.013485</td>\n",
       "      <td>-0.014930</td>\n",
       "      <td>-0.018205</td>\n",
       "      <td>-0.022209</td>\n",
       "      <td>-0.028268</td>\n",
       "      <td>-0.032563</td>\n",
       "      <td>-0.029401</td>\n",
       "      <td>-0.022914</td>\n",
       "      <td>-0.017538</td>\n",
       "      <td>-0.010760</td>\n",
       "      <td>...</td>\n",
       "      <td>0.010625</td>\n",
       "      <td>0.010590</td>\n",
       "      <td>0.012063</td>\n",
       "      <td>0.014085</td>\n",
       "      <td>0.014440</td>\n",
       "      <td>0.013940</td>\n",
       "      <td>0.014798</td>\n",
       "      <td>0.016646</td>\n",
       "      <td>155.563492</td>\n",
       "      <td>D#3</td>\n",
       "    </tr>\n",
       "  </tbody>\n",
       "</table>\n",
       "<p>5 rows × 16002 columns</p>\n",
       "</div>"
      ],
      "text/plain": [
       "           x0        x1        x2        x3        x4        x5        x6  \\\n",
       "454 -0.001518 -0.000073  0.000967  0.000750 -0.011523 -0.013985 -0.006740   \n",
       "627  0.008955  0.008659  0.004075 -0.000044  0.010740  0.030237  0.032356   \n",
       "68  -0.001030  0.000970  0.000898  0.002767  0.000395  0.002585  0.005665   \n",
       "210  0.004597 -0.000471 -0.000078 -0.001410 -0.000679  0.009749  0.008255   \n",
       "422 -0.013485 -0.014930 -0.018205 -0.022209 -0.028268 -0.032563 -0.029401   \n",
       "\n",
       "           x7        x8        x9  ...     x15992    x15993    x15994  \\\n",
       "454 -0.014535 -0.015739 -0.008548  ...  -0.000233 -0.000562 -0.000790   \n",
       "627  0.024585  0.021640  0.011586  ...  -0.013797 -0.010566 -0.004219   \n",
       "68   0.004855 -0.009341 -0.015881  ...  -0.001390 -0.000393  0.001560   \n",
       "210  0.005261  0.001069 -0.001669  ...  -0.000931  0.001803  0.000210   \n",
       "422 -0.022914 -0.017538 -0.010760  ...   0.010625  0.010590  0.012063   \n",
       "\n",
       "       x15995    x15996    x15997    x15998    x15999        Freq  Note  \n",
       "454 -0.000849 -0.001058 -0.001141 -0.001220 -0.000619  987.766603    B5  \n",
       "627  0.006336  0.013959  0.022246  0.024227  0.014691  880.000000    A5  \n",
       "68   0.002413  0.002488  0.002946  0.002877  0.002185  932.327523   A#5  \n",
       "210 -0.005868 -0.013043 -0.018671 -0.016300 -0.013097  138.591315   C#3  \n",
       "422  0.014085  0.014440  0.013940  0.014798  0.016646  155.563492   D#3  \n",
       "\n",
       "[5 rows x 16002 columns]"
      ]
     },
     "execution_count": 10,
     "metadata": {},
     "output_type": "execute_result"
    }
   ],
   "source": [
    "data.sample(5)"
   ]
  },
  {
   "cell_type": "code",
   "execution_count": 11,
   "metadata": {},
   "outputs": [
    {
     "data": {
      "text/plain": [
       "(700, 16002)"
      ]
     },
     "execution_count": 11,
     "metadata": {},
     "output_type": "execute_result"
    }
   ],
   "source": [
    "data.shape"
   ]
  },
  {
   "cell_type": "code",
   "execution_count": 12,
   "metadata": {},
   "outputs": [],
   "source": [
    "data.drop(\"Note\", axis=1).to_csv(\"data_freq.tsv\", index=False, sep=\"\\t\")"
   ]
  },
  {
   "cell_type": "code",
   "execution_count": 13,
   "metadata": {},
   "outputs": [],
   "source": [
    "data.drop(\"Freq\", axis=1).to_csv(\"data_note.tsv\", index=False, sep=\"\\t\")"
   ]
  },
  {
   "cell_type": "code",
   "execution_count": 2,
   "metadata": {},
   "outputs": [],
   "source": [
    "data = pd.read_csv(\"data_freq.tsv\", sep=\"\\t\", header=0)"
   ]
  },
  {
   "cell_type": "code",
   "execution_count": 5,
   "metadata": {},
   "outputs": [
    {
     "data": {
      "text/plain": [
       "array([ 0.0014648 ,  0.00168076,  0.00533115, ..., -0.00293616,\n",
       "       -0.0052928 , -0.00722118])"
      ]
     },
     "execution_count": 5,
     "metadata": {},
     "output_type": "execute_result"
    }
   ],
   "source": [
    "data.drop(\"Freq\", axis=1).iloc[0].values"
   ]
  },
  {
   "cell_type": "code",
   "execution_count": 7,
   "metadata": {},
   "outputs": [
    {
     "data": {
      "text/plain": [
       "[<matplotlib.lines.Line2D at 0x5e52464400>]"
      ]
     },
     "execution_count": 7,
     "metadata": {},
     "output_type": "execute_result"
    },
    {
     "data": {
      "image/png": "[encoded data removed]",
      "text/plain": [
       "<Figure size 432x288 with 1 Axes>"
      ]
     },
     "metadata": {
      "needs_background": "light"
     },
     "output_type": "display_data"
    }
   ],
   "source": [
    "plt.plot(data.drop(\"Freq\", axis=1).iloc[0].values)"
   ]
  }
 ],
 "metadata": {
  "kernelspec": {
   "display_name": "Python 3",
   "language": "python",
   "name": "python3"
  },
  "language_info": {
   "codemirror_mode": {
    "name": "ipython",
    "version": 3
   },
   "file_extension": ".py",
   "mimetype": "text/x-python",
   "name": "python",
   "nbconvert_exporter": "python",
   "pygments_lexer": "ipython3",
   "version": "3.7.0"
  }
 },
 "nbformat": 4,
 "nbformat_minor": 2
}
