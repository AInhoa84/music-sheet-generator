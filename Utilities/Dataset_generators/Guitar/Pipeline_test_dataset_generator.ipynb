{
 "cells": [
  {
   "cell_type": "code",
   "execution_count": 15,
   "metadata": {},
   "outputs": [],
   "source": [
    "import librosa\n",
    "import pandas as pd\n",
    "import os\n",
    "import numpy as np\n",
    "import matplotlib.pyplot as plt\n",
    "from tqdm import tqdm_notebook as tqdm\n",
    "import IPython.display as ipd"
   ]
  },
  {
   "cell_type": "markdown",
   "metadata": {},
   "source": [
    "Saving each note as {fret, string, value}"
   ]
  },
  {
   "cell_type": "code",
   "execution_count": 16,
   "metadata": {},
   "outputs": [],
   "source": [
    "try:\n",
    "    data = pd.read_pickle(\"../../../Data/Guitar/pipeline_test.pkl\")\n",
    "except:\n",
    "    data = pd.DataFrame()"
   ]
  },
  {
   "cell_type": "markdown",
   "metadata": {},
   "source": [
    "Write the basic structure for each riff"
   ]
  },
  {
   "cell_type": "code",
   "execution_count": 31,
   "metadata": {},
   "outputs": [],
   "source": [
    "basic_struct = np.array([[5, 3, 0.5],\n",
    "                         [5, 3, 0.5],\n",
    "                         [2, 3, 0.5],\n",
    "                         [2, 3, 0.5],\n",
    "                         [4, 3, 0.5],\n",
    "                         [4, 3, 0.5],\n",
    "                         [5, 3, 0.5],\n",
    "                         [5, 3, 0.5],\n",
    "                         [7, 3, 0.5],\n",
    "                         [7, 3, 0.5],\n",
    "                         [5, 3, 0.5],\n",
    "                         [5, 3, 0.5],\n",
    "                         [5, 2, 0.5],\n",
    "                         [5, 2, 0.5],\n",
    "                         [4, 3, 0.5],\n",
    "                         [4, 3, 0.5]])"
   ]
  },
  {
   "cell_type": "markdown",
   "metadata": {},
   "source": [
    "Manually change range, riff and tempo"
   ]
  },
  {
   "cell_type": "code",
   "execution_count": 32,
   "metadata": {},
   "outputs": [],
   "source": [
    "for i in range(6):\n",
    "    data = data.append({\"Riff\": \"28-\"+str(i), \"Tempo\": 100, \"Sheet\": basic_struct.tolist()}, ignore_index=True)\n",
    "    basic_struct = np.array(basic_struct)\n",
    "    basic_struct[:,0] += 1"
   ]
  },
  {
   "cell_type": "code",
   "execution_count": 33,
   "metadata": {},
   "outputs": [
    {
     "data": {
      "text/html": [
       "<div>\n",
       "<style scoped>\n",
       "    .dataframe tbody tr th:only-of-type {\n",
       "        vertical-align: middle;\n",
       "    }\n",
       "\n",
       "    .dataframe tbody tr th {\n",
       "        vertical-align: top;\n",
       "    }\n",
       "\n",
       "    .dataframe thead th {\n",
       "        text-align: right;\n",
       "    }\n",
       "</style>\n",
       "<table border=\"1\" class=\"dataframe\">\n",
       "  <thead>\n",
       "    <tr style=\"text-align: right;\">\n",
       "      <th></th>\n",
       "      <th>Riff</th>\n",
       "      <th>Sheet</th>\n",
       "      <th>Tempo</th>\n",
       "      <th>N_notes</th>\n",
       "    </tr>\n",
       "  </thead>\n",
       "  <tbody>\n",
       "    <tr>\n",
       "      <th>58</th>\n",
       "      <td>28-1</td>\n",
       "      <td>[[6.0, 3.0, 0.5], [6.0, 3.0, 0.5], [3.0, 3.0, ...</td>\n",
       "      <td>100.0</td>\n",
       "      <td>NaN</td>\n",
       "    </tr>\n",
       "    <tr>\n",
       "      <th>59</th>\n",
       "      <td>28-2</td>\n",
       "      <td>[[7.0, 3.0, 0.5], [7.0, 3.0, 0.5], [4.0, 3.0, ...</td>\n",
       "      <td>100.0</td>\n",
       "      <td>NaN</td>\n",
       "    </tr>\n",
       "    <tr>\n",
       "      <th>60</th>\n",
       "      <td>28-3</td>\n",
       "      <td>[[8.0, 3.0, 0.5], [8.0, 3.0, 0.5], [5.0, 3.0, ...</td>\n",
       "      <td>100.0</td>\n",
       "      <td>NaN</td>\n",
       "    </tr>\n",
       "    <tr>\n",
       "      <th>61</th>\n",
       "      <td>28-4</td>\n",
       "      <td>[[9.0, 3.0, 0.5], [9.0, 3.0, 0.5], [6.0, 3.0, ...</td>\n",
       "      <td>100.0</td>\n",
       "      <td>NaN</td>\n",
       "    </tr>\n",
       "    <tr>\n",
       "      <th>62</th>\n",
       "      <td>28-5</td>\n",
       "      <td>[[10.0, 3.0, 0.5], [10.0, 3.0, 0.5], [7.0, 3.0...</td>\n",
       "      <td>100.0</td>\n",
       "      <td>NaN</td>\n",
       "    </tr>\n",
       "  </tbody>\n",
       "</table>\n",
       "</div>"
      ],
      "text/plain": [
       "    Riff                                              Sheet  Tempo  N_notes\n",
       "58  28-1  [[6.0, 3.0, 0.5], [6.0, 3.0, 0.5], [3.0, 3.0, ...  100.0      NaN\n",
       "59  28-2  [[7.0, 3.0, 0.5], [7.0, 3.0, 0.5], [4.0, 3.0, ...  100.0      NaN\n",
       "60  28-3  [[8.0, 3.0, 0.5], [8.0, 3.0, 0.5], [5.0, 3.0, ...  100.0      NaN\n",
       "61  28-4  [[9.0, 3.0, 0.5], [9.0, 3.0, 0.5], [6.0, 3.0, ...  100.0      NaN\n",
       "62  28-5  [[10.0, 3.0, 0.5], [10.0, 3.0, 0.5], [7.0, 3.0...  100.0      NaN"
      ]
     },
     "execution_count": 33,
     "metadata": {},
     "output_type": "execute_result"
    }
   ],
   "source": [
    "data.tail()"
   ]
  },
  {
   "cell_type": "code",
   "execution_count": 34,
   "metadata": {},
   "outputs": [],
   "source": [
    "data.to_pickle(\"../../../Data/Guitar/pipeline_test.pkl\")"
   ]
  },
  {
   "cell_type": "code",
   "execution_count": null,
   "metadata": {},
   "outputs": [],
   "source": []
  }
 ],
 "metadata": {
  "kernelspec": {
   "display_name": "Python 3",
   "language": "python",
   "name": "python3"
  },
  "language_info": {
   "codemirror_mode": {
    "name": "ipython",
    "version": 3
   },
   "file_extension": ".py",
   "mimetype": "text/x-python",
   "name": "python",
   "nbconvert_exporter": "python",
   "pygments_lexer": "ipython3",
   "version": "3.7.3"
  }
 },
 "nbformat": 4,
 "nbformat_minor": 2
}
