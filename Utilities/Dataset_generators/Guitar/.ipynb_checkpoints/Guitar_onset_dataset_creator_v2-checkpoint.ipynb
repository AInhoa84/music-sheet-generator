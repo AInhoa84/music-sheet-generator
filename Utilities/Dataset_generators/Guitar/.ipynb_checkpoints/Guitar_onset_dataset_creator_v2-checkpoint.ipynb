{
 "cells": [
  {
   "cell_type": "code",
   "execution_count": 2,
   "metadata": {},
   "outputs": [],
   "source": [
    "import matplotlib.pyplot as plt\n",
    "import numpy as np\n",
    "import pandas as pd"
   ]
  },
  {
   "cell_type": "code",
   "execution_count": 3,
   "metadata": {},
   "outputs": [],
   "source": [
    "from ipywidgets import interact, interactive, fixed, interact_manual, FloatSlider\n",
    "from ipykernel.pylab.backend_inline import flush_figures\n",
    "from IPython.display import display\n",
    "from ipywidgets import Button, jslink, Checkbox\n",
    "%matplotlib inline"
   ]
  },
  {
   "cell_type": "code",
   "execution_count": 33,
   "metadata": {},
   "outputs": [],
   "source": [
    "data = pd.DataFrame(columns=[\"File\", \"Onsets\"])\n",
    "onsets = []"
   ]
  },
  {
   "cell_type": "code",
   "execution_count": 23,
   "metadata": {},
   "outputs": [],
   "source": [
    "def f(x):\n",
    "    plt.figure(figsize=(18,6))\n",
    "    plt.plot(y)\n",
    "    plt.axvline(x=int(x), color=\"r\")\n",
    "    print(onsets)"
   ]
  },
  {
   "cell_type": "code",
   "execution_count": 7,
   "metadata": {},
   "outputs": [],
   "source": [
    "def add_onset(onset):\n",
    "    onsets.append(onset)\n",
    "\n",
    "def add_data(vals, df, filename):\n",
    "    df = pd.concat([df, pd.DataFrame({\"File\": [filename], \"Onsets\": [vals]})]).reset_index(drop=True)\n",
    "    global data\n",
    "    data = df.copy()\n",
    "    global onsets\n",
    "    onsets = []"
   ]
  },
  {
   "cell_type": "code",
   "execution_count": 17,
   "metadata": {},
   "outputs": [],
   "source": [
    "def on_onset_button_clicked(b):\n",
    "    add_onset(int(slider.value))\n",
    "    \n",
    "def on_data_button_clicked(b):\n",
    "    add_data(onsets, data, filename)"
   ]
  },
  {
   "cell_type": "code",
   "execution_count": 18,
   "metadata": {},
   "outputs": [
    {
     "name": "stderr",
     "output_type": "stream",
     "text": [
      "Using TensorFlow backend.\n"
     ]
    }
   ],
   "source": [
    "%run ../../Utilities.ipynb"
   ]
  },
  {
   "cell_type": "code",
   "execution_count": 35,
   "metadata": {},
   "outputs": [],
   "source": [
    "filename = \"Guitar_noamp_riff11_9.mp3\""
   ]
  },
  {
   "cell_type": "code",
   "execution_count": 36,
   "metadata": {},
   "outputs": [],
   "source": [
    "y = load_file(\"../../../Samples/Guitar/Riffs/\" + filename, 8000)"
   ]
  },
  {
   "cell_type": "code",
   "execution_count": 37,
   "metadata": {},
   "outputs": [
    {
     "data": {
      "application/vnd.jupyter.widget-view+json": {
       "model_id": "c6b4d6f0c6cf400e99eb84d89ca020c1",
       "version_major": 2,
       "version_minor": 0
      },
      "text/plain": [
       "interactive(children=(FloatSlider(value=0.0, continuous_update=False, description='x', max=16513.0, step=50.0)…"
      ]
     },
     "metadata": {},
     "output_type": "display_data"
    },
    {
     "data": {
      "application/vnd.jupyter.widget-view+json": {
       "model_id": "5e3cf41923674d8084aab9ace8daa00a",
       "version_major": 2,
       "version_minor": 0
      },
      "text/plain": [
       "Button(description='Add onset', style=ButtonStyle())"
      ]
     },
     "metadata": {},
     "output_type": "display_data"
    },
    {
     "data": {
      "application/vnd.jupyter.widget-view+json": {
       "model_id": "a0e017406be843dfa0421c1385131002",
       "version_major": 2,
       "version_minor": 0
      },
      "text/plain": [
       "Button(description='Add onsets to data', style=ButtonStyle())"
      ]
     },
     "metadata": {},
     "output_type": "display_data"
    }
   ],
   "source": [
    "slider = FloatSlider(min=0, max=len(y), step=50, continuous_update=False)\n",
    "interact(f, x=slider)\n",
    "onset_button = Button(description=\"Add onset\")\n",
    "data_button = Button(description=\"Add onsets to data\")\n",
    "display(onset_button, data_button)\n",
    "onset_button.on_click(on_onset_button_clicked)\n",
    "data_button.on_click(on_data_button_clicked)"
   ]
  },
  {
   "cell_type": "code",
   "execution_count": 39,
   "metadata": {},
   "outputs": [
    {
     "data": {
      "text/html": [
       "<div>\n",
       "<style scoped>\n",
       "    .dataframe tbody tr th:only-of-type {\n",
       "        vertical-align: middle;\n",
       "    }\n",
       "\n",
       "    .dataframe tbody tr th {\n",
       "        vertical-align: top;\n",
       "    }\n",
       "\n",
       "    .dataframe thead th {\n",
       "        text-align: right;\n",
       "    }\n",
       "</style>\n",
       "<table border=\"1\" class=\"dataframe\">\n",
       "  <thead>\n",
       "    <tr style=\"text-align: right;\">\n",
       "      <th></th>\n",
       "      <th>File</th>\n",
       "      <th>Onsets</th>\n",
       "    </tr>\n",
       "  </thead>\n",
       "  <tbody>\n",
       "    <tr>\n",
       "      <th>0</th>\n",
       "      <td>Guitar_noamp_riff11_8.mp3</td>\n",
       "      <td>[200, 1250, 2300, 3150, 4250, 5150, 6200, 7150...</td>\n",
       "    </tr>\n",
       "    <tr>\n",
       "      <th>1</th>\n",
       "      <td>Guitar_noamp_riff11_9.mp3</td>\n",
       "      <td>[300, 1250, 2150, 3200, 4250, 5250, 6300, 7200...</td>\n",
       "    </tr>\n",
       "  </tbody>\n",
       "</table>\n",
       "</div>"
      ],
      "text/plain": [
       "                        File  \\\n",
       "0  Guitar_noamp_riff11_8.mp3   \n",
       "1  Guitar_noamp_riff11_9.mp3   \n",
       "\n",
       "                                              Onsets  \n",
       "0  [200, 1250, 2300, 3150, 4250, 5150, 6200, 7150...  \n",
       "1  [300, 1250, 2150, 3200, 4250, 5250, 6300, 7200...  "
      ]
     },
     "execution_count": 39,
     "metadata": {},
     "output_type": "execute_result"
    }
   ],
   "source": [
    "data"
   ]
  },
  {
   "cell_type": "code",
   "execution_count": 40,
   "metadata": {},
   "outputs": [],
   "source": [
    "data.to_pickle(\"../../../Data/Guitar/temp.pkl\")"
   ]
  },
  {
   "cell_type": "code",
   "execution_count": 44,
   "metadata": {},
   "outputs": [],
   "source": [
    "old = pd.read_pickle(\"../../../Data/Guitar/File_onset_data_corrected.pkl\")"
   ]
  },
  {
   "cell_type": "code",
   "execution_count": 46,
   "metadata": {},
   "outputs": [],
   "source": [
    "new = pd.concat([old, data])"
   ]
  },
  {
   "cell_type": "code",
   "execution_count": 48,
   "metadata": {},
   "outputs": [],
   "source": [
    "new.to_pickle(\"../../../Data/Guitar/File_onset_data_corrected.pkl\")"
   ]
  },
  {
   "cell_type": "code",
   "execution_count": null,
   "metadata": {},
   "outputs": [],
   "source": []
  }
 ],
 "metadata": {
  "kernelspec": {
   "display_name": "Python 3",
   "language": "python",
   "name": "python3"
  },
  "language_info": {
   "codemirror_mode": {
    "name": "ipython",
    "version": 3
   },
   "file_extension": ".py",
   "mimetype": "text/x-python",
   "name": "python",
   "nbconvert_exporter": "python",
   "pygments_lexer": "ipython3",
   "version": "3.7.3"
  }
 },
 "nbformat": 4,
 "nbformat_minor": 2
}
