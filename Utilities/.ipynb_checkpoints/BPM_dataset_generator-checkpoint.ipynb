{
 "cells": [
  {
   "cell_type": "code",
   "execution_count": 11,
   "metadata": {},
   "outputs": [],
   "source": [
    "import numpy as np\n",
    "import matplotlib.pyplot as plt\n",
    "import pandas as pd\n",
    "import pickle\n",
    "from tqdm import tqdm_notebook as tqdm"
   ]
  },
  {
   "cell_type": "code",
   "execution_count": 1,
   "metadata": {},
   "outputs": [
    {
     "name": "stderr",
     "output_type": "stream",
     "text": [
      "Using TensorFlow backend.\n"
     ]
    }
   ],
   "source": [
    "%run ../Utilities/Utilities.ipynb"
   ]
  },
  {
   "cell_type": "code",
   "execution_count": 93,
   "metadata": {},
   "outputs": [],
   "source": [
    "def durations_to_data(values, bpm):\n",
    "    try:\n",
    "        data = pd.read_pickle(\"../Data/Guitar/bpm-data.pkl\")\n",
    "    except:\n",
    "        data = pd.DataFrame()\n",
    "        \n",
    "    if len(values) == 8:\n",
    "        for _ in tqdm(range(20)):\n",
    "            bpm_distorted = bpm + np.random.randint(-20, 20)\n",
    "            durations = np.array(values)/bpm_distorted * 60\n",
    "\n",
    "            for i in range(200):\n",
    "                np.random.shuffle(durations)\n",
    "                durations_distorted = np.random.normal(durations, np.array(durations)*0.1)\n",
    "                data = data.append(pd.DataFrame({**{\"d{}\".format(j): durations_distorted[j] for j in range(len(durations_distorted))},\n",
    "                                          **{\"bpm\": [bpm_distorted]}}))\n",
    "                data = data.reset_index(drop=True)\n",
    "                data.to_pickle(\"../Data/Guitar/bpm-data.pkl\")\n",
    "    \n",
    "    else:\n",
    "        return \"List length not equal to 8\""
   ]
  },
  {
   "cell_type": "code",
   "execution_count": 132,
   "metadata": {},
   "outputs": [
    {
     "data": {
      "application/vnd.jupyter.widget-view+json": {
       "model_id": "0fc05b633b0a42e9b009e13738d20b59",
       "version_major": 2,
       "version_minor": 0
      },
      "text/plain": [
       "HBox(children=(IntProgress(value=0, max=20), HTML(value='')))"
      ]
     },
     "metadata": {},
     "output_type": "display_data"
    },
    {
     "name": "stdout",
     "output_type": "stream",
     "text": [
      "\n"
     ]
    }
   ],
   "source": [
    "durations_to_data([1, 1, 1, 0.25, 0.25, 0.5, 1, 2], 120)"
   ]
  },
  {
   "cell_type": "code",
   "execution_count": 128,
   "metadata": {},
   "outputs": [],
   "source": [
    "a = pd.read_pickle(\"../Data/Guitar/bpm-data.pkl\")"
   ]
  },
  {
   "cell_type": "code",
   "execution_count": 129,
   "metadata": {},
   "outputs": [
    {
     "data": {
      "text/plain": [
       "(76900, 9)"
      ]
     },
     "execution_count": 129,
     "metadata": {},
     "output_type": "execute_result"
    }
   ],
   "source": [
    "a.shape"
   ]
  },
  {
   "cell_type": "code",
   "execution_count": null,
   "metadata": {},
   "outputs": [],
   "source": []
  }
 ],
 "metadata": {
  "kernelspec": {
   "display_name": "Python 3",
   "language": "python",
   "name": "python3"
  },
  "language_info": {
   "codemirror_mode": {
    "name": "ipython",
    "version": 3
   },
   "file_extension": ".py",
   "mimetype": "text/x-python",
   "name": "python",
   "nbconvert_exporter": "python",
   "pygments_lexer": "ipython3",
   "version": "3.7.3"
  }
 },
 "nbformat": 4,
 "nbformat_minor": 2
}
