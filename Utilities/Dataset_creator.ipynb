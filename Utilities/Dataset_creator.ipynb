{
 "cells": [
  {
   "cell_type": "code",
   "execution_count": 1,
   "metadata": {},
   "outputs": [],
   "source": [
    "import librosa\n",
    "import pandas as pd\n",
    "import os\n",
    "import numpy as np\n",
    "import matplotlib.pyplot as plt\n",
    "from tqdm import tqdm_notebook as tqdm"
   ]
  },
  {
   "cell_type": "code",
   "execution_count": 2,
   "metadata": {},
   "outputs": [],
   "source": [
    "note_table = pd.read_csv(\"../Utilities/Note_table.tsv\", header=0, sep=\"\\t\")"
   ]
  },
  {
   "cell_type": "markdown",
   "metadata": {},
   "source": [
    "## FL"
   ]
  },
  {
   "cell_type": "code",
   "execution_count": 5,
   "metadata": {},
   "outputs": [],
   "source": [
    "def FL_file_to_data(file, rs, note_table):\n",
    "    y, sr = librosa.load(file, mono=False)\n",
    "    y = librosa.core.to_mono(y)\n",
    "    y = librosa.resample(y, sr, rs)\n",
    "    y = y[np.argwhere(y >= 0.001)[0][0]:]\n",
    "\n",
    "    df = pd.DataFrame(columns=[\"x{}\".format(i) for i in range(16000)]+[\"Note\", \"Piano\"])\n",
    "    notes = list(note_table.iloc[37:72][\"Note\"])\n",
    "\n",
    "    for i in tqdm(range(0, 16000*35, 16000), total = 35, leave = False):\n",
    "        df = df.append(pd.DataFrame({**{\"x{}\".format(j): [y[j+i]] for j in range(16000)}, \n",
    "                                    **{\"Note\": [notes[int(i/16000)]], \"Piano\": [file.split(\".\")[0]]}}))\n",
    "    return df"
   ]
  },
  {
   "cell_type": "code",
   "execution_count": 6,
   "metadata": {},
   "outputs": [],
   "source": [
    "def FL_dir_to_data(directory, rs, note_table):\n",
    "    data = pd.DataFrame(columns=[\"x{}\".format(i) for i in range(16000)]+[\"Note\", \"Piano\"])\n",
    "    pbar = tqdm(os.listdir(directory))\n",
    "    \n",
    "    for file in pbar:\n",
    "        pbar.set_description(\"Processing %s\" % file)\n",
    "        df = FL_file_to_data(directory + file, rs, note_table)\n",
    "        data = data.append(df)\n",
    "        \n",
    "    data = data.reset_index().drop(\"index\", axis=1)\n",
    "    return data"
   ]
  },
  {
   "cell_type": "code",
   "execution_count": 7,
   "metadata": {},
   "outputs": [
    {
     "data": {
      "application/vnd.jupyter.widget-view+json": {
       "model_id": "c1a3178cf75c41dca8fcdce234df15ca",
       "version_major": 2,
       "version_minor": 0
      },
      "text/plain": [
       "HBox(children=(IntProgress(value=0, max=20), HTML(value='')))"
      ]
     },
     "metadata": {},
     "output_type": "display_data"
    },
    {
     "data": {
      "application/vnd.jupyter.widget-view+json": {
       "model_id": "",
       "version_major": 2,
       "version_minor": 0
      },
      "text/plain": [
       "HBox(children=(IntProgress(value=0, max=35), HTML(value='')))"
      ]
     },
     "metadata": {},
     "output_type": "display_data"
    },
    {
     "data": {
      "application/vnd.jupyter.widget-view+json": {
       "model_id": "",
       "version_major": 2,
       "version_minor": 0
      },
      "text/plain": [
       "HBox(children=(IntProgress(value=0, max=35), HTML(value='')))"
      ]
     },
     "metadata": {},
     "output_type": "display_data"
    },
    {
     "data": {
      "application/vnd.jupyter.widget-view+json": {
       "model_id": "",
       "version_major": 2,
       "version_minor": 0
      },
      "text/plain": [
       "HBox(children=(IntProgress(value=0, max=35), HTML(value='')))"
      ]
     },
     "metadata": {},
     "output_type": "display_data"
    },
    {
     "data": {
      "application/vnd.jupyter.widget-view+json": {
       "model_id": "",
       "version_major": 2,
       "version_minor": 0
      },
      "text/plain": [
       "HBox(children=(IntProgress(value=0, max=35), HTML(value='')))"
      ]
     },
     "metadata": {},
     "output_type": "display_data"
    },
    {
     "data": {
      "application/vnd.jupyter.widget-view+json": {
       "model_id": "",
       "version_major": 2,
       "version_minor": 0
      },
      "text/plain": [
       "HBox(children=(IntProgress(value=0, max=35), HTML(value='')))"
      ]
     },
     "metadata": {},
     "output_type": "display_data"
    },
    {
     "data": {
      "application/vnd.jupyter.widget-view+json": {
       "model_id": "",
       "version_major": 2,
       "version_minor": 0
      },
      "text/plain": [
       "HBox(children=(IntProgress(value=0, max=35), HTML(value='')))"
      ]
     },
     "metadata": {},
     "output_type": "display_data"
    },
    {
     "data": {
      "application/vnd.jupyter.widget-view+json": {
       "model_id": "",
       "version_major": 2,
       "version_minor": 0
      },
      "text/plain": [
       "HBox(children=(IntProgress(value=0, max=35), HTML(value='')))"
      ]
     },
     "metadata": {},
     "output_type": "display_data"
    },
    {
     "data": {
      "application/vnd.jupyter.widget-view+json": {
       "model_id": "",
       "version_major": 2,
       "version_minor": 0
      },
      "text/plain": [
       "HBox(children=(IntProgress(value=0, max=35), HTML(value='')))"
      ]
     },
     "metadata": {},
     "output_type": "display_data"
    },
    {
     "data": {
      "application/vnd.jupyter.widget-view+json": {
       "model_id": "",
       "version_major": 2,
       "version_minor": 0
      },
      "text/plain": [
       "HBox(children=(IntProgress(value=0, max=35), HTML(value='')))"
      ]
     },
     "metadata": {},
     "output_type": "display_data"
    },
    {
     "data": {
      "application/vnd.jupyter.widget-view+json": {
       "model_id": "",
       "version_major": 2,
       "version_minor": 0
      },
      "text/plain": [
       "HBox(children=(IntProgress(value=0, max=35), HTML(value='')))"
      ]
     },
     "metadata": {},
     "output_type": "display_data"
    },
    {
     "data": {
      "application/vnd.jupyter.widget-view+json": {
       "model_id": "",
       "version_major": 2,
       "version_minor": 0
      },
      "text/plain": [
       "HBox(children=(IntProgress(value=0, max=35), HTML(value='')))"
      ]
     },
     "metadata": {},
     "output_type": "display_data"
    },
    {
     "data": {
      "application/vnd.jupyter.widget-view+json": {
       "model_id": "",
       "version_major": 2,
       "version_minor": 0
      },
      "text/plain": [
       "HBox(children=(IntProgress(value=0, max=35), HTML(value='')))"
      ]
     },
     "metadata": {},
     "output_type": "display_data"
    },
    {
     "data": {
      "application/vnd.jupyter.widget-view+json": {
       "model_id": "",
       "version_major": 2,
       "version_minor": 0
      },
      "text/plain": [
       "HBox(children=(IntProgress(value=0, max=35), HTML(value='')))"
      ]
     },
     "metadata": {},
     "output_type": "display_data"
    },
    {
     "data": {
      "application/vnd.jupyter.widget-view+json": {
       "model_id": "",
       "version_major": 2,
       "version_minor": 0
      },
      "text/plain": [
       "HBox(children=(IntProgress(value=0, max=35), HTML(value='')))"
      ]
     },
     "metadata": {},
     "output_type": "display_data"
    },
    {
     "data": {
      "application/vnd.jupyter.widget-view+json": {
       "model_id": "",
       "version_major": 2,
       "version_minor": 0
      },
      "text/plain": [
       "HBox(children=(IntProgress(value=0, max=35), HTML(value='')))"
      ]
     },
     "metadata": {},
     "output_type": "display_data"
    },
    {
     "data": {
      "application/vnd.jupyter.widget-view+json": {
       "model_id": "",
       "version_major": 2,
       "version_minor": 0
      },
      "text/plain": [
       "HBox(children=(IntProgress(value=0, max=35), HTML(value='')))"
      ]
     },
     "metadata": {},
     "output_type": "display_data"
    },
    {
     "data": {
      "application/vnd.jupyter.widget-view+json": {
       "model_id": "",
       "version_major": 2,
       "version_minor": 0
      },
      "text/plain": [
       "HBox(children=(IntProgress(value=0, max=35), HTML(value='')))"
      ]
     },
     "metadata": {},
     "output_type": "display_data"
    },
    {
     "data": {
      "application/vnd.jupyter.widget-view+json": {
       "model_id": "",
       "version_major": 2,
       "version_minor": 0
      },
      "text/plain": [
       "HBox(children=(IntProgress(value=0, max=35), HTML(value='')))"
      ]
     },
     "metadata": {},
     "output_type": "display_data"
    },
    {
     "data": {
      "application/vnd.jupyter.widget-view+json": {
       "model_id": "",
       "version_major": 2,
       "version_minor": 0
      },
      "text/plain": [
       "HBox(children=(IntProgress(value=0, max=35), HTML(value='')))"
      ]
     },
     "metadata": {},
     "output_type": "display_data"
    },
    {
     "data": {
      "application/vnd.jupyter.widget-view+json": {
       "model_id": "",
       "version_major": 2,
       "version_minor": 0
      },
      "text/plain": [
       "HBox(children=(IntProgress(value=0, max=35), HTML(value='')))"
      ]
     },
     "metadata": {},
     "output_type": "display_data"
    },
    {
     "name": "stdout",
     "output_type": "stream",
     "text": [
      "\n"
     ]
    }
   ],
   "source": [
    "data = FL_dir_to_data(\"../Samples/Piano/FL/\", 8000, note_table)"
   ]
  },
  {
   "cell_type": "markdown",
   "metadata": {},
   "source": [
    "## Ivy"
   ]
  },
  {
   "cell_type": "code",
   "execution_count": 8,
   "metadata": {},
   "outputs": [
    {
     "data": {
      "text/html": [
       "<div>\n",
       "<style scoped>\n",
       "    .dataframe tbody tr th:only-of-type {\n",
       "        vertical-align: middle;\n",
       "    }\n",
       "\n",
       "    .dataframe tbody tr th {\n",
       "        vertical-align: top;\n",
       "    }\n",
       "\n",
       "    .dataframe thead th {\n",
       "        text-align: right;\n",
       "    }\n",
       "</style>\n",
       "<table border=\"1\" class=\"dataframe\">\n",
       "  <thead>\n",
       "    <tr style=\"text-align: right;\">\n",
       "      <th></th>\n",
       "      <th>Note</th>\n",
       "      <th>Freq</th>\n",
       "    </tr>\n",
       "  </thead>\n",
       "  <tbody>\n",
       "    <tr>\n",
       "      <th>37</th>\n",
       "      <td>C#3</td>\n",
       "      <td>138.591315</td>\n",
       "    </tr>\n",
       "  </tbody>\n",
       "</table>\n",
       "</div>"
      ],
      "text/plain": [
       "   Note        Freq\n",
       "37  C#3  138.591315"
      ]
     },
     "execution_count": 8,
     "metadata": {},
     "output_type": "execute_result"
    }
   ],
   "source": [
    "note_table[note_table[\"Note\"]==\"C#3\"]"
   ]
  },
  {
   "cell_type": "code",
   "execution_count": 9,
   "metadata": {},
   "outputs": [
    {
     "data": {
      "text/plain": [
       "Note        C#3\n",
       "Freq    138.591\n",
       "Name: 37, dtype: object"
      ]
     },
     "execution_count": 9,
     "metadata": {},
     "output_type": "execute_result"
    }
   ],
   "source": [
    "note_table.iloc[29+8]"
   ]
  },
  {
   "cell_type": "code",
   "execution_count": 10,
   "metadata": {},
   "outputs": [
    {
     "data": {
      "text/plain": [
       "'29'"
      ]
     },
     "execution_count": 10,
     "metadata": {},
     "output_type": "execute_result"
    }
   ],
   "source": [
    "\"../Samples/Piano/Ivy_audio/29-PedalOffForte1Ambient.mp3\".split(\"/\")[-1].split(\"-\")[0]"
   ]
  },
  {
   "cell_type": "code",
   "execution_count": 11,
   "metadata": {},
   "outputs": [],
   "source": [
    "def Ivy_file_to_data(file, rs, note_table):\n",
    "    y, sr = librosa.load(file, mono=False)\n",
    "    y = librosa.core.to_mono(y)\n",
    "    y = librosa.resample(y, sr, rs)\n",
    "    \n",
    "    df = pd.DataFrame({\"x{}\".format(j): [y[j]] for j in range(16000)})\n",
    "    note = note_table.iloc[int(file.split(\"/\")[-1].split(\"-\")[0])+8][\"Note\"]\n",
    "    df[\"Note\"] = note\n",
    "    \n",
    "    return df"
   ]
  },
  {
   "cell_type": "code",
   "execution_count": 12,
   "metadata": {},
   "outputs": [],
   "source": [
    "test = Ivy_file_to_data(\"../Samples/Piano/Ivy_audio/29-PedalOffForte1Ambient.mp3\", 8000, note_table)"
   ]
  },
  {
   "cell_type": "code",
   "execution_count": 13,
   "metadata": {},
   "outputs": [
    {
     "data": {
      "text/plain": [
       "[<matplotlib.lines.Line2D at 0x3ccd70aef0>]"
      ]
     },
     "execution_count": 13,
     "metadata": {},
     "output_type": "execute_result"
    },
    {
     "data": {
      "image/png": "[encoded data removed]",
      "text/plain": [
       "<Figure size 432x288 with 1 Axes>"
      ]
     },
     "metadata": {
      "needs_background": "light"
     },
     "output_type": "display_data"
    }
   ],
   "source": [
    "plt.plot(test.drop(\"Note\", axis=1).iloc[0].values)"
   ]
  },
  {
   "cell_type": "code",
   "execution_count": 14,
   "metadata": {},
   "outputs": [],
   "source": [
    "def Ivy_dir_to_data(directory, rs, note_table):\n",
    "    data = pd.DataFrame(columns=[\"x{}\".format(i) for i in range(16000)]+[\"Note\"])\n",
    "    pbar = tqdm(os.listdir(directory))\n",
    "    \n",
    "    for file in pbar:\n",
    "        pbar.set_description(\"Processing %s\" % file)\n",
    "        df = Ivy_file_to_data(directory + file, rs, note_table)\n",
    "        data = data.append(df)\n",
    "        \n",
    "    data[\"Piano\"] = \"Ivy\"\n",
    "    data = data.reset_index().drop(\"index\", axis=1)\n",
    "    return data"
   ]
  },
  {
   "cell_type": "markdown",
   "metadata": {},
   "source": [
    "Takes about 40 min"
   ]
  },
  {
   "cell_type": "code",
   "execution_count": 15,
   "metadata": {},
   "outputs": [
    {
     "data": {
      "application/vnd.jupyter.widget-view+json": {
       "model_id": "8d3a88f6214d4d1a8338a39396c2a036",
       "version_major": 2,
       "version_minor": 0
      },
      "text/plain": [
       "HBox(children=(IntProgress(value=0, max=1400), HTML(value='')))"
      ]
     },
     "metadata": {},
     "output_type": "display_data"
    },
    {
     "name": "stdout",
     "output_type": "stream",
     "text": [
      "\n"
     ]
    }
   ],
   "source": [
    "data_ivy = Ivy_dir_to_data(\"../Samples/Piano/Ivy_audio/\", 8000, note_table)"
   ]
  },
  {
   "cell_type": "code",
   "execution_count": 16,
   "metadata": {},
   "outputs": [
    {
     "data": {
      "text/html": [
       "<div>\n",
       "<style scoped>\n",
       "    .dataframe tbody tr th:only-of-type {\n",
       "        vertical-align: middle;\n",
       "    }\n",
       "\n",
       "    .dataframe tbody tr th {\n",
       "        vertical-align: top;\n",
       "    }\n",
       "\n",
       "    .dataframe thead th {\n",
       "        text-align: right;\n",
       "    }\n",
       "</style>\n",
       "<table border=\"1\" class=\"dataframe\">\n",
       "  <thead>\n",
       "    <tr style=\"text-align: right;\">\n",
       "      <th></th>\n",
       "      <th>x0</th>\n",
       "      <th>x1</th>\n",
       "      <th>x2</th>\n",
       "      <th>x3</th>\n",
       "      <th>x4</th>\n",
       "      <th>x5</th>\n",
       "      <th>x6</th>\n",
       "      <th>x7</th>\n",
       "      <th>x8</th>\n",
       "      <th>x9</th>\n",
       "      <th>...</th>\n",
       "      <th>x15992</th>\n",
       "      <th>x15993</th>\n",
       "      <th>x15994</th>\n",
       "      <th>x15995</th>\n",
       "      <th>x15996</th>\n",
       "      <th>x15997</th>\n",
       "      <th>x15998</th>\n",
       "      <th>x15999</th>\n",
       "      <th>Note</th>\n",
       "      <th>Piano</th>\n",
       "    </tr>\n",
       "  </thead>\n",
       "  <tbody>\n",
       "    <tr>\n",
       "      <th>0</th>\n",
       "      <td>0.000010</td>\n",
       "      <td>0.000016</td>\n",
       "      <td>0.000015</td>\n",
       "      <td>0.000041</td>\n",
       "      <td>0.000048</td>\n",
       "      <td>0.000044</td>\n",
       "      <td>0.000048</td>\n",
       "      <td>0.000044</td>\n",
       "      <td>0.000054</td>\n",
       "      <td>0.000078</td>\n",
       "      <td>...</td>\n",
       "      <td>-0.006035</td>\n",
       "      <td>-0.003293</td>\n",
       "      <td>0.001875</td>\n",
       "      <td>0.004712</td>\n",
       "      <td>0.005227</td>\n",
       "      <td>0.008205</td>\n",
       "      <td>0.011982</td>\n",
       "      <td>0.013801</td>\n",
       "      <td>C#3</td>\n",
       "      <td>Ivy</td>\n",
       "    </tr>\n",
       "    <tr>\n",
       "      <th>1</th>\n",
       "      <td>-0.000050</td>\n",
       "      <td>-0.000042</td>\n",
       "      <td>0.000023</td>\n",
       "      <td>0.000034</td>\n",
       "      <td>0.000101</td>\n",
       "      <td>0.000057</td>\n",
       "      <td>0.000065</td>\n",
       "      <td>0.000072</td>\n",
       "      <td>0.000073</td>\n",
       "      <td>0.000102</td>\n",
       "      <td>...</td>\n",
       "      <td>0.011403</td>\n",
       "      <td>0.017056</td>\n",
       "      <td>0.017290</td>\n",
       "      <td>0.015712</td>\n",
       "      <td>0.015505</td>\n",
       "      <td>0.011613</td>\n",
       "      <td>0.012289</td>\n",
       "      <td>0.011390</td>\n",
       "      <td>C#3</td>\n",
       "      <td>Ivy</td>\n",
       "    </tr>\n",
       "    <tr>\n",
       "      <th>2</th>\n",
       "      <td>0.000018</td>\n",
       "      <td>0.000033</td>\n",
       "      <td>0.000029</td>\n",
       "      <td>0.000032</td>\n",
       "      <td>0.000029</td>\n",
       "      <td>0.000051</td>\n",
       "      <td>0.000072</td>\n",
       "      <td>0.000078</td>\n",
       "      <td>0.000089</td>\n",
       "      <td>0.000100</td>\n",
       "      <td>...</td>\n",
       "      <td>0.009590</td>\n",
       "      <td>0.008375</td>\n",
       "      <td>0.007070</td>\n",
       "      <td>0.003943</td>\n",
       "      <td>0.002195</td>\n",
       "      <td>0.002724</td>\n",
       "      <td>0.000688</td>\n",
       "      <td>-0.003558</td>\n",
       "      <td>C#3</td>\n",
       "      <td>Ivy</td>\n",
       "    </tr>\n",
       "    <tr>\n",
       "      <th>3</th>\n",
       "      <td>0.000725</td>\n",
       "      <td>0.002514</td>\n",
       "      <td>0.003072</td>\n",
       "      <td>0.002683</td>\n",
       "      <td>0.001682</td>\n",
       "      <td>0.000231</td>\n",
       "      <td>-0.001103</td>\n",
       "      <td>-0.001602</td>\n",
       "      <td>-0.000866</td>\n",
       "      <td>0.000914</td>\n",
       "      <td>...</td>\n",
       "      <td>0.009279</td>\n",
       "      <td>0.009543</td>\n",
       "      <td>0.008122</td>\n",
       "      <td>0.004733</td>\n",
       "      <td>0.001924</td>\n",
       "      <td>-0.000192</td>\n",
       "      <td>0.003165</td>\n",
       "      <td>0.009916</td>\n",
       "      <td>C#3</td>\n",
       "      <td>Ivy</td>\n",
       "    </tr>\n",
       "    <tr>\n",
       "      <th>4</th>\n",
       "      <td>-0.000027</td>\n",
       "      <td>-0.000051</td>\n",
       "      <td>-0.000040</td>\n",
       "      <td>-0.000032</td>\n",
       "      <td>-0.000046</td>\n",
       "      <td>-0.000062</td>\n",
       "      <td>-0.000058</td>\n",
       "      <td>-0.000034</td>\n",
       "      <td>-0.000034</td>\n",
       "      <td>-0.000062</td>\n",
       "      <td>...</td>\n",
       "      <td>-0.001590</td>\n",
       "      <td>-0.001646</td>\n",
       "      <td>-0.001592</td>\n",
       "      <td>-0.001760</td>\n",
       "      <td>-0.001824</td>\n",
       "      <td>-0.001481</td>\n",
       "      <td>-0.001105</td>\n",
       "      <td>-0.000834</td>\n",
       "      <td>C#3</td>\n",
       "      <td>Ivy</td>\n",
       "    </tr>\n",
       "  </tbody>\n",
       "</table>\n",
       "<p>5 rows × 16002 columns</p>\n",
       "</div>"
      ],
      "text/plain": [
       "         x0        x1        x2        x3        x4        x5        x6  \\\n",
       "0  0.000010  0.000016  0.000015  0.000041  0.000048  0.000044  0.000048   \n",
       "1 -0.000050 -0.000042  0.000023  0.000034  0.000101  0.000057  0.000065   \n",
       "2  0.000018  0.000033  0.000029  0.000032  0.000029  0.000051  0.000072   \n",
       "3  0.000725  0.002514  0.003072  0.002683  0.001682  0.000231 -0.001103   \n",
       "4 -0.000027 -0.000051 -0.000040 -0.000032 -0.000046 -0.000062 -0.000058   \n",
       "\n",
       "         x7        x8        x9  ...    x15992    x15993    x15994    x15995  \\\n",
       "0  0.000044  0.000054  0.000078  ... -0.006035 -0.003293  0.001875  0.004712   \n",
       "1  0.000072  0.000073  0.000102  ...  0.011403  0.017056  0.017290  0.015712   \n",
       "2  0.000078  0.000089  0.000100  ...  0.009590  0.008375  0.007070  0.003943   \n",
       "3 -0.001602 -0.000866  0.000914  ...  0.009279  0.009543  0.008122  0.004733   \n",
       "4 -0.000034 -0.000034 -0.000062  ... -0.001590 -0.001646 -0.001592 -0.001760   \n",
       "\n",
       "     x15996    x15997    x15998    x15999  Note  Piano  \n",
       "0  0.005227  0.008205  0.011982  0.013801   C#3    Ivy  \n",
       "1  0.015505  0.011613  0.012289  0.011390   C#3    Ivy  \n",
       "2  0.002195  0.002724  0.000688 -0.003558   C#3    Ivy  \n",
       "3  0.001924 -0.000192  0.003165  0.009916   C#3    Ivy  \n",
       "4 -0.001824 -0.001481 -0.001105 -0.000834   C#3    Ivy  \n",
       "\n",
       "[5 rows x 16002 columns]"
      ]
     },
     "execution_count": 16,
     "metadata": {},
     "output_type": "execute_result"
    }
   ],
   "source": [
    "data_ivy.head()"
   ]
  },
  {
   "cell_type": "code",
   "execution_count": 17,
   "metadata": {},
   "outputs": [
    {
     "data": {
      "text/plain": [
       "(1400, 16002)"
      ]
     },
     "execution_count": 17,
     "metadata": {},
     "output_type": "execute_result"
    }
   ],
   "source": [
    "data_ivy.shape"
   ]
  },
  {
   "cell_type": "code",
   "execution_count": 18,
   "metadata": {},
   "outputs": [],
   "source": [
    "data = data.append(data_ivy)"
   ]
  },
  {
   "cell_type": "code",
   "execution_count": 19,
   "metadata": {},
   "outputs": [
    {
     "data": {
      "text/plain": [
       "(2100, 16002)"
      ]
     },
     "execution_count": 19,
     "metadata": {},
     "output_type": "execute_result"
    }
   ],
   "source": [
    "data.shape"
   ]
  },
  {
   "cell_type": "code",
   "execution_count": 20,
   "metadata": {},
   "outputs": [],
   "source": [
    "data.to_pickle(\"data-FL-Ivy.pkl\")"
   ]
  },
  {
   "cell_type": "code",
   "execution_count": 21,
   "metadata": {},
   "outputs": [],
   "source": [
    "data.to_csv(\"data-FL-Ivy.tsv\", sep=\"\\t\", index=False)"
   ]
  },
  {
   "cell_type": "markdown",
   "metadata": {},
   "source": [
    "##  Estate Grand LE"
   ]
  },
  {
   "cell_type": "code",
   "execution_count": 22,
   "metadata": {},
   "outputs": [],
   "source": [
    "data = pd.read_pickle(\"data-FL-Ivy.pkl\")"
   ]
  },
  {
   "cell_type": "code",
   "execution_count": 23,
   "metadata": {},
   "outputs": [
    {
     "data": {
      "text/plain": [
       "'A#3'"
      ]
     },
     "execution_count": 23,
     "metadata": {},
     "output_type": "execute_result"
    }
   ],
   "source": [
    "\"PDL DWN IN-A#3_0001.mp3\".split(\"-\")[1].split(\"_\")[0]"
   ]
  },
  {
   "cell_type": "markdown",
   "metadata": {},
   "source": [
    "Notes are an octave up here..."
   ]
  },
  {
   "cell_type": "code",
   "execution_count": 24,
   "metadata": {},
   "outputs": [],
   "source": [
    "def estateLE_file_to_data(file, rs, note_table):\n",
    "    y, sr = librosa.load(file, mono=False)\n",
    "    y = librosa.core.to_mono(y)\n",
    "    y = librosa.resample(y, sr, rs)\n",
    "    \n",
    "    df = pd.DataFrame({\"x{}\".format(j): [y[j]] for j in range(16000)})\n",
    "    note = file.split(\"-\")[1].split(\"_\")[0].split(\".\")[0]\n",
    "    note = note[:-1] + str(int(note[-1])+1)\n",
    "    df[\"Note\"] = note\n",
    "    \n",
    "    return df"
   ]
  },
  {
   "cell_type": "code",
   "execution_count": 25,
   "metadata": {},
   "outputs": [],
   "source": [
    "test = estateLE_file_to_data(\"../Samples/Piano/Estate_Grand_LE/PDL DWN IN-A#2-A#2.mp3\", 8000, note_table)"
   ]
  },
  {
   "cell_type": "code",
   "execution_count": 26,
   "metadata": {},
   "outputs": [
    {
     "data": {
      "text/plain": [
       "[<matplotlib.lines.Line2D at 0x3ccb8dab00>]"
      ]
     },
     "execution_count": 26,
     "metadata": {},
     "output_type": "execute_result"
    },
    {
     "data": {
      "image/png": "[encoded data removed]",
      "text/plain": [
       "<Figure size 432x288 with 1 Axes>"
      ]
     },
     "metadata": {
      "needs_background": "light"
     },
     "output_type": "display_data"
    }
   ],
   "source": [
    "plt.plot(test.drop(\"Note\", axis=1).iloc[0].values)"
   ]
  },
  {
   "cell_type": "code",
   "execution_count": 27,
   "metadata": {},
   "outputs": [],
   "source": [
    "def estateLE_dir_to_data(directory, rs, note_table):\n",
    "    data = pd.DataFrame(columns=[\"x{}\".format(i) for i in range(16000)]+[\"Note\"])\n",
    "    pbar = tqdm(os.listdir(directory))\n",
    "    \n",
    "    for file in pbar:\n",
    "        pbar.set_description(\"Processing %s\" % file)\n",
    "        df = estateLE_file_to_data(directory + file, rs, note_table)\n",
    "        data = data.append(df)\n",
    "      \n",
    "    data[\"Piano\"] = \"EstateLE\"\n",
    "    data = data.reset_index().drop(\"index\", axis=1)\n",
    "    return data"
   ]
  },
  {
   "cell_type": "markdown",
   "metadata": {},
   "source": [
    "Takes around 6 min"
   ]
  },
  {
   "cell_type": "code",
   "execution_count": 28,
   "metadata": {},
   "outputs": [
    {
     "data": {
      "application/vnd.jupyter.widget-view+json": {
       "model_id": "93af0d00617a42d68056e98144682a0a",
       "version_major": 2,
       "version_minor": 0
      },
      "text/plain": [
       "HBox(children=(IntProgress(value=0, max=222), HTML(value='')))"
      ]
     },
     "metadata": {},
     "output_type": "display_data"
    },
    {
     "name": "stdout",
     "output_type": "stream",
     "text": [
      "\n"
     ]
    }
   ],
   "source": [
    "data_estateLE = estateLE_dir_to_data(\"../Samples/Piano/Estate_Grand_LE/\", 8000, note_table)"
   ]
  },
  {
   "cell_type": "code",
   "execution_count": 29,
   "metadata": {},
   "outputs": [],
   "source": [
    "data = data.append(data_estateLE)"
   ]
  },
  {
   "cell_type": "code",
   "execution_count": 30,
   "metadata": {},
   "outputs": [
    {
     "data": {
      "text/plain": [
       "array(['C#3', 'D3', 'D#3', 'E3', 'F3', 'F#3', 'G3', 'G#3', 'A3', 'A#3',\n",
       "       'B3', 'C4', 'C#4', 'D4', 'D#4', 'E4', 'F4', 'F#4', 'G4', 'G#4',\n",
       "       'A4', 'A#4', 'B4', 'C5', 'C#5', 'D5', 'D#5', 'E5', 'F5', 'F#5',\n",
       "       'G5', 'G#5', 'A5', 'A#5', 'B5'], dtype=object)"
      ]
     },
     "execution_count": 30,
     "metadata": {},
     "output_type": "execute_result"
    }
   ],
   "source": [
    "data[\"Note\"].unique()"
   ]
  },
  {
   "cell_type": "code",
   "execution_count": 31,
   "metadata": {},
   "outputs": [],
   "source": [
    "data.to_pickle(\"data-piano-large.pkl\")"
   ]
  },
  {
   "cell_type": "code",
   "execution_count": 32,
   "metadata": {},
   "outputs": [],
   "source": [
    "data.to_csv(\"data-piano-large.tsv\", sep=\"\\t\", index=False)"
   ]
  },
  {
   "cell_type": "markdown",
   "metadata": {},
   "source": [
    "## City Piano"
   ]
  },
  {
   "cell_type": "code",
   "execution_count": 33,
   "metadata": {},
   "outputs": [],
   "source": [
    "data = pd.read_pickle(\"data-piano-large.pkl\")"
   ]
  },
  {
   "cell_type": "code",
   "execution_count": 34,
   "metadata": {},
   "outputs": [
    {
     "data": {
      "text/plain": [
       "'A#3'"
      ]
     },
     "execution_count": 34,
     "metadata": {},
     "output_type": "execute_result"
    }
   ],
   "source": [
    "\"../Samples/Piano/City_piano/A#3-1-48.mp3\".split(\"/\")[-1].split(\"-\")[0]"
   ]
  },
  {
   "cell_type": "code",
   "execution_count": 35,
   "metadata": {},
   "outputs": [],
   "source": [
    "def city_file_to_data(file, rs, note_table):\n",
    "    y, sr = librosa.load(file, mono=False)\n",
    "    y = librosa.core.to_mono(y)\n",
    "    y = librosa.resample(y, sr, rs)\n",
    "    \n",
    "    df = pd.DataFrame({\"x{}\".format(j): [y[j]] for j in range(16000)})\n",
    "    note = file.split(\"/\")[-1].split(\"-\")[0]\n",
    "    df[\"Note\"] = note\n",
    "    \n",
    "    return df"
   ]
  },
  {
   "cell_type": "code",
   "execution_count": 36,
   "metadata": {},
   "outputs": [],
   "source": [
    "test = city_file_to_data(\"../Samples/Piano/City_piano/A#3-1-48.mp3\", 8000, note_table)"
   ]
  },
  {
   "cell_type": "code",
   "execution_count": 37,
   "metadata": {},
   "outputs": [
    {
     "data": {
      "text/plain": [
       "[<matplotlib.lines.Line2D at 0x3ccaf66d30>]"
      ]
     },
     "execution_count": 37,
     "metadata": {},
     "output_type": "execute_result"
    },
    {
     "data": {
      "image/png": "[encoded data removed]",
      "text/plain": [
       "<Figure size 432x288 with 1 Axes>"
      ]
     },
     "metadata": {
      "needs_background": "light"
     },
     "output_type": "display_data"
    }
   ],
   "source": [
    "plt.plot(test.drop(\"Note\", axis=1).iloc[0].values)"
   ]
  },
  {
   "cell_type": "code",
   "execution_count": 38,
   "metadata": {},
   "outputs": [],
   "source": [
    "def city_dir_to_data(directory, rs, note_table):\n",
    "    data = pd.DataFrame(columns=[\"x{}\".format(i) for i in range(16000)]+[\"Note\"])\n",
    "    pbar = tqdm(os.listdir(directory))\n",
    "    \n",
    "    for file in pbar:\n",
    "        pbar.set_description(\"Processing %s\" % file)\n",
    "        df = city_file_to_data(directory + file, rs, note_table)\n",
    "        data = data.append(df)\n",
    "        \n",
    "    data[\"Piano\"] = \"City\"\n",
    "    data = data.reset_index().drop(\"index\", axis=1)\n",
    "    return data"
   ]
  },
  {
   "cell_type": "markdown",
   "metadata": {},
   "source": [
    "Takes around 3 min"
   ]
  },
  {
   "cell_type": "code",
   "execution_count": 39,
   "metadata": {},
   "outputs": [
    {
     "data": {
      "application/vnd.jupyter.widget-view+json": {
       "model_id": "b4174186e8384acfbb9b5aa6b1a5bf4b",
       "version_major": 2,
       "version_minor": 0
      },
      "text/plain": [
       "HBox(children=(IntProgress(value=0, max=140), HTML(value='')))"
      ]
     },
     "metadata": {},
     "output_type": "display_data"
    },
    {
     "name": "stdout",
     "output_type": "stream",
     "text": [
      "\n"
     ]
    }
   ],
   "source": [
    "data_city = city_dir_to_data(\"../Samples/Piano/City_piano/\", 8000, note_table)"
   ]
  },
  {
   "cell_type": "code",
   "execution_count": 40,
   "metadata": {},
   "outputs": [],
   "source": [
    "data = data.append(data_city)"
   ]
  },
  {
   "cell_type": "code",
   "execution_count": 41,
   "metadata": {},
   "outputs": [
    {
     "data": {
      "text/plain": [
       "array(['C#3', 'D3', 'D#3', 'E3', 'F3', 'F#3', 'G3', 'G#3', 'A3', 'A#3',\n",
       "       'B3', 'C4', 'C#4', 'D4', 'D#4', 'E4', 'F4', 'F#4', 'G4', 'G#4',\n",
       "       'A4', 'A#4', 'B4', 'C5', 'C#5', 'D5', 'D#5', 'E5', 'F5', 'F#5',\n",
       "       'G5', 'G#5', 'A5', 'A#5', 'B5'], dtype=object)"
      ]
     },
     "execution_count": 41,
     "metadata": {},
     "output_type": "execute_result"
    }
   ],
   "source": [
    "data[\"Note\"].unique()"
   ]
  },
  {
   "cell_type": "code",
   "execution_count": 42,
   "metadata": {},
   "outputs": [
    {
     "data": {
      "text/plain": [
       "(2462, 16002)"
      ]
     },
     "execution_count": 42,
     "metadata": {},
     "output_type": "execute_result"
    }
   ],
   "source": [
    "data.shape"
   ]
  },
  {
   "cell_type": "code",
   "execution_count": 43,
   "metadata": {},
   "outputs": [],
   "source": [
    "data.to_pickle(\"data-piano-large.pkl\")"
   ]
  },
  {
   "cell_type": "code",
   "execution_count": 44,
   "metadata": {},
   "outputs": [],
   "source": [
    "data.to_csv(\"data-piano-large.tsv\", sep=\"\\t\", index=False)"
   ]
  },
  {
   "cell_type": "markdown",
   "metadata": {},
   "source": [
    "## Iowa"
   ]
  },
  {
   "cell_type": "code",
   "execution_count": 45,
   "metadata": {},
   "outputs": [],
   "source": [
    "data = pd.read_pickle(\"data-piano-large.pkl\")"
   ]
  },
  {
   "cell_type": "markdown",
   "metadata": {},
   "source": [
    "Here the \"b\" instead of \"#\" notation is used"
   ]
  },
  {
   "cell_type": "code",
   "execution_count": 46,
   "metadata": {},
   "outputs": [],
   "source": [
    "def iowa_file_to_data(file, rs, note_table):\n",
    "    y, sr = librosa.load(file, mono=False)\n",
    "    y = librosa.core.to_mono(y)\n",
    "    y = librosa.resample(y, sr, rs)\n",
    "    \n",
    "    df = pd.DataFrame({\"x{}\".format(j): [y[j]] for j in range(16000)})\n",
    "    note = file.split(\"/\")[-1].split(\"-\")[0]\n",
    "    note = librosa.hz_to_note(librosa.note_to_hz(note))\n",
    "    df[\"Note\"] = note\n",
    "    \n",
    "    return df"
   ]
  },
  {
   "cell_type": "code",
   "execution_count": 47,
   "metadata": {},
   "outputs": [],
   "source": [
    "test = city_file_to_data(\"../Samples/Piano/Iowa_piano/A3-1-48.mp3\", 8000, note_table)"
   ]
  },
  {
   "cell_type": "code",
   "execution_count": 48,
   "metadata": {},
   "outputs": [
    {
     "data": {
      "text/plain": [
       "[<matplotlib.lines.Line2D at 0x3ccaf62c88>]"
      ]
     },
     "execution_count": 48,
     "metadata": {},
     "output_type": "execute_result"
    },
    {
     "data": {
      "image/png": "[encoded data removed]",
      "text/plain": [
       "<Figure size 432x288 with 1 Axes>"
      ]
     },
     "metadata": {
      "needs_background": "light"
     },
     "output_type": "display_data"
    }
   ],
   "source": [
    "plt.plot(test.drop(\"Note\", axis=1).iloc[0].values)"
   ]
  },
  {
   "cell_type": "code",
   "execution_count": 49,
   "metadata": {},
   "outputs": [],
   "source": [
    "def iowa_dir_to_data(directory, rs, note_table):\n",
    "    data = pd.DataFrame(columns=[\"x{}\".format(i) for i in range(16000)]+[\"Note\"])\n",
    "    pbar = tqdm(os.listdir(directory))\n",
    "    \n",
    "    for file in pbar:\n",
    "        pbar.set_description(\"Processing %s\" % file)\n",
    "        df = iowa_file_to_data(directory + file, rs, note_table)\n",
    "        data = data.append(df)\n",
    "        \n",
    "    data[\"Piano\"] = \"Iowa\"\n",
    "    data = data.reset_index().drop(\"index\", axis=1)\n",
    "    return data"
   ]
  },
  {
   "cell_type": "markdown",
   "metadata": {},
   "source": [
    "Takes around 2 min"
   ]
  },
  {
   "cell_type": "code",
   "execution_count": 50,
   "metadata": {},
   "outputs": [
    {
     "data": {
      "application/vnd.jupyter.widget-view+json": {
       "model_id": "1106eb0c9dbc4b79b65779e315d712c8",
       "version_major": 2,
       "version_minor": 0
      },
      "text/plain": [
       "HBox(children=(IntProgress(value=0, max=103), HTML(value='')))"
      ]
     },
     "metadata": {},
     "output_type": "display_data"
    },
    {
     "name": "stdout",
     "output_type": "stream",
     "text": [
      "\n"
     ]
    }
   ],
   "source": [
    "data_iowa = iowa_dir_to_data(\"../Samples/Piano/Iowa_piano/\", 8000, note_table)"
   ]
  },
  {
   "cell_type": "code",
   "execution_count": 51,
   "metadata": {},
   "outputs": [
    {
     "data": {
      "text/plain": [
       "array(['A3', 'A4', 'A5', 'G#3', 'G#4', 'G#5', 'B3', 'B4', 'B5', 'A#3',\n",
       "       'A#4', 'A#5', 'C4', 'C5', 'D3', 'D4', 'D5', 'C#3', 'C#4', 'C#5',\n",
       "       'E3', 'E4', 'E5', 'D#3', 'D#4', 'D#5', 'F3', 'F4', 'F5', 'G3',\n",
       "       'G4', 'G5', 'F#3', 'F#4', 'F#5'], dtype=object)"
      ]
     },
     "execution_count": 51,
     "metadata": {},
     "output_type": "execute_result"
    }
   ],
   "source": [
    "data_iowa[\"Note\"].unique()"
   ]
  },
  {
   "cell_type": "code",
   "execution_count": 52,
   "metadata": {},
   "outputs": [],
   "source": [
    "data = data.append(data_iowa)"
   ]
  },
  {
   "cell_type": "code",
   "execution_count": 53,
   "metadata": {},
   "outputs": [
    {
     "data": {
      "text/plain": [
       "(2565, 16002)"
      ]
     },
     "execution_count": 53,
     "metadata": {},
     "output_type": "execute_result"
    }
   ],
   "source": [
    "data.shape"
   ]
  },
  {
   "cell_type": "code",
   "execution_count": 54,
   "metadata": {},
   "outputs": [],
   "source": [
    "data.to_pickle(\"data-piano-large.pkl\")"
   ]
  },
  {
   "cell_type": "code",
   "execution_count": 55,
   "metadata": {},
   "outputs": [],
   "source": [
    "data.to_csv(\"data-piano-large.tsv\", sep=\"\\t\", index=False)"
   ]
  },
  {
   "cell_type": "markdown",
   "metadata": {},
   "source": [
    "## Kawai"
   ]
  },
  {
   "cell_type": "code",
   "execution_count": 56,
   "metadata": {},
   "outputs": [],
   "source": [
    "data = pd.read_pickle(\"data-piano-large.pkl\")"
   ]
  },
  {
   "cell_type": "code",
   "execution_count": 57,
   "metadata": {},
   "outputs": [],
   "source": [
    "def kawai_file_to_data(file, rs, note_table):\n",
    "    y, sr = librosa.load(file, mono=False)\n",
    "    y = librosa.core.to_mono(y)\n",
    "    y = librosa.resample(y, sr, rs)\n",
    "    \n",
    "    df = pd.DataFrame({\"x{}\".format(j): [y[j]] for j in range(16000)})\n",
    "    note = file.split(\"/\")[-1].split(\"v\")[0]\n",
    "    df[\"Note\"] = note\n",
    "    \n",
    "    return df"
   ]
  },
  {
   "cell_type": "code",
   "execution_count": 58,
   "metadata": {},
   "outputs": [],
   "source": [
    "test = kawai_file_to_data(\"../Samples/Piano/Kawai_upright_piano/A3vH.mp3\", 8000, note_table)"
   ]
  },
  {
   "cell_type": "code",
   "execution_count": 59,
   "metadata": {},
   "outputs": [
    {
     "data": {
      "text/plain": [
       "[<matplotlib.lines.Line2D at 0x3ccd6049b0>]"
      ]
     },
     "execution_count": 59,
     "metadata": {},
     "output_type": "execute_result"
    },
    {
     "data": {
      "image/png": "[encoded data removed]",
      "text/plain": [
       "<Figure size 432x288 with 1 Axes>"
      ]
     },
     "metadata": {
      "needs_background": "light"
     },
     "output_type": "display_data"
    }
   ],
   "source": [
    "plt.plot(test.drop(\"Note\", axis=1).iloc[0].values)"
   ]
  },
  {
   "cell_type": "code",
   "execution_count": 60,
   "metadata": {},
   "outputs": [],
   "source": [
    "def kawai_dir_to_data(directory, rs, note_table):\n",
    "    data = pd.DataFrame(columns=[\"x{}\".format(i) for i in range(16000)]+[\"Note\"])\n",
    "    pbar = tqdm(os.listdir(directory))\n",
    "    \n",
    "    for file in pbar:\n",
    "        pbar.set_description(\"Processing %s\" % file)\n",
    "        df = kawai_file_to_data(directory + file, rs, note_table)\n",
    "        data = data.append(df)\n",
    "        \n",
    "    data[\"Piano\"] = \"Kawai\"\n",
    "    data = data.reset_index().drop(\"index\", axis=1)\n",
    "    return data"
   ]
  },
  {
   "cell_type": "code",
   "execution_count": 61,
   "metadata": {},
   "outputs": [
    {
     "data": {
      "application/vnd.jupyter.widget-view+json": {
       "model_id": "57c58d70402048c8b98c5cb6094b4922",
       "version_major": 2,
       "version_minor": 0
      },
      "text/plain": [
       "HBox(children=(IntProgress(value=0, max=20), HTML(value='')))"
      ]
     },
     "metadata": {},
     "output_type": "display_data"
    },
    {
     "name": "stdout",
     "output_type": "stream",
     "text": [
      "\n"
     ]
    }
   ],
   "source": [
    "data_kawai = kawai_dir_to_data(\"../Samples/Piano/Kawai_upright_piano/\", 8000, note_table)"
   ]
  },
  {
   "cell_type": "code",
   "execution_count": 62,
   "metadata": {},
   "outputs": [
    {
     "data": {
      "text/plain": [
       "array(['A3', 'A4', 'A5', 'B3', 'B4', 'B5', 'C5', 'D#3', 'D#4', 'D#5',\n",
       "       'F#3', 'F#4'], dtype=object)"
      ]
     },
     "execution_count": 62,
     "metadata": {},
     "output_type": "execute_result"
    }
   ],
   "source": [
    "data_kawai[\"Note\"].unique()"
   ]
  },
  {
   "cell_type": "code",
   "execution_count": 63,
   "metadata": {},
   "outputs": [],
   "source": [
    "data = data.append(data_kawai)"
   ]
  },
  {
   "cell_type": "code",
   "execution_count": 64,
   "metadata": {},
   "outputs": [],
   "source": [
    "data.to_pickle(\"data-piano-large.pkl\")"
   ]
  },
  {
   "cell_type": "code",
   "execution_count": 65,
   "metadata": {},
   "outputs": [],
   "source": [
    "data.to_csv(\"data-piano-large.tsv\", sep=\"\\t\", index=False)"
   ]
  },
  {
   "cell_type": "markdown",
   "metadata": {},
   "source": [
    "## Salamander"
   ]
  },
  {
   "cell_type": "code",
   "execution_count": 66,
   "metadata": {},
   "outputs": [],
   "source": [
    "data = pd.read_pickle(\"data-piano-large.pkl\")"
   ]
  },
  {
   "cell_type": "code",
   "execution_count": 67,
   "metadata": {},
   "outputs": [],
   "source": [
    "test = kawai_file_to_data(\"../Samples/Piano/Salamander/A3v1.mp3\", 8000, note_table)"
   ]
  },
  {
   "cell_type": "code",
   "execution_count": 68,
   "metadata": {},
   "outputs": [
    {
     "data": {
      "text/plain": [
       "[<matplotlib.lines.Line2D at 0x3ccafb2898>]"
      ]
     },
     "execution_count": 68,
     "metadata": {},
     "output_type": "execute_result"
    },
    {
     "data": {
      "image/png": "[encoded data removed]",
      "text/plain": [
       "<Figure size 432x288 with 1 Axes>"
      ]
     },
     "metadata": {
      "needs_background": "light"
     },
     "output_type": "display_data"
    }
   ],
   "source": [
    "plt.plot(test.drop(\"Note\", axis=1).iloc[0].values)"
   ]
  },
  {
   "cell_type": "markdown",
   "metadata": {},
   "source": [
    "We can use the kawai function"
   ]
  },
  {
   "cell_type": "code",
   "execution_count": 69,
   "metadata": {},
   "outputs": [
    {
     "data": {
      "application/vnd.jupyter.widget-view+json": {
       "model_id": "52914449f8044689b3cf33f7c41930b6",
       "version_major": 2,
       "version_minor": 0
      },
      "text/plain": [
       "HBox(children=(IntProgress(value=0, max=20), HTML(value='')))"
      ]
     },
     "metadata": {},
     "output_type": "display_data"
    },
    {
     "name": "stdout",
     "output_type": "stream",
     "text": [
      "\n"
     ]
    }
   ],
   "source": [
    "data_salamander = kawai_dir_to_data(\"../Samples/Piano/Kawai_upright_piano/\", 8000, note_table)"
   ]
  },
  {
   "cell_type": "code",
   "execution_count": 70,
   "metadata": {},
   "outputs": [],
   "source": [
    "data_salamander[\"Piano\"] = \"Salamander\""
   ]
  },
  {
   "cell_type": "code",
   "execution_count": 71,
   "metadata": {},
   "outputs": [
    {
     "data": {
      "text/plain": [
       "array(['A3', 'A4', 'A5', 'B3', 'B4', 'B5', 'C5', 'D#3', 'D#4', 'D#5',\n",
       "       'F#3', 'F#4'], dtype=object)"
      ]
     },
     "execution_count": 71,
     "metadata": {},
     "output_type": "execute_result"
    }
   ],
   "source": [
    "data_salamander[\"Note\"].unique()"
   ]
  },
  {
   "cell_type": "code",
   "execution_count": 72,
   "metadata": {},
   "outputs": [],
   "source": [
    "data = data.append(data_salamander)"
   ]
  },
  {
   "cell_type": "code",
   "execution_count": 73,
   "metadata": {},
   "outputs": [
    {
     "data": {
      "text/plain": [
       "(2605, 16002)"
      ]
     },
     "execution_count": 73,
     "metadata": {},
     "output_type": "execute_result"
    }
   ],
   "source": [
    "data.shape"
   ]
  },
  {
   "cell_type": "code",
   "execution_count": 74,
   "metadata": {},
   "outputs": [],
   "source": [
    "data.to_pickle(\"data-piano-large.pkl\")"
   ]
  },
  {
   "cell_type": "code",
   "execution_count": 75,
   "metadata": {},
   "outputs": [],
   "source": [
    "data.to_csv(\"data-piano-large.tsv\", sep=\"\\t\", index=False)"
   ]
  },
  {
   "cell_type": "markdown",
   "metadata": {},
   "source": [
    "## Baldwin"
   ]
  },
  {
   "cell_type": "code",
   "execution_count": 76,
   "metadata": {},
   "outputs": [],
   "source": [
    "data = pd.read_pickle(\"data-piano-large.pkl\")"
   ]
  },
  {
   "cell_type": "markdown",
   "metadata": {},
   "source": [
    "Notes are an octave up"
   ]
  },
  {
   "cell_type": "code",
   "execution_count": 77,
   "metadata": {},
   "outputs": [
    {
     "data": {
      "text/plain": [
       "'A3'"
      ]
     },
     "execution_count": 77,
     "metadata": {},
     "output_type": "execute_result"
    }
   ],
   "source": [
    "note = \"../Samples/Piano/Baldwin/Colour_Piano_Down37_a2.mp3\".split(\"/\")[-1].split(\"_\")[-1].split(\".\")[0]\n",
    "note = note[:-1] + str(int(note[-1])+1)\n",
    "note.upper()"
   ]
  },
  {
   "cell_type": "code",
   "execution_count": 78,
   "metadata": {},
   "outputs": [],
   "source": [
    "def baldwin_file_to_data(file, rs, note_table):\n",
    "    y, sr = librosa.load(file, mono=False)\n",
    "    y = librosa.core.to_mono(y)\n",
    "    y = librosa.resample(y, sr, rs)\n",
    "    \n",
    "    if y.shape[0] >= 16000:\n",
    "        df = pd.DataFrame({\"x{}\".format(j): [y[j]] for j in range(16000)})\n",
    "        note = file.split(\"/\")[-1].split(\"_\")[-1].split(\".\")[0]\n",
    "        note = (note[:-1] + str(int(note[-1])+1)).upper()\n",
    "\n",
    "        notes = list(note_table[\"Note\"][37:72])\n",
    "\n",
    "        if note in notes:\n",
    "            df[\"Note\"] = note\n",
    "\n",
    "        return df"
   ]
  },
  {
   "cell_type": "code",
   "execution_count": 79,
   "metadata": {},
   "outputs": [],
   "source": [
    "test = baldwin_file_to_data(\"../Samples/Piano/Baldwin/Colour_Piano_Down37_a2.mp3\", 8000, note_table)"
   ]
  },
  {
   "cell_type": "code",
   "execution_count": 80,
   "metadata": {},
   "outputs": [
    {
     "data": {
      "text/plain": [
       "[<matplotlib.lines.Line2D at 0x3c800ccac8>]"
      ]
     },
     "execution_count": 80,
     "metadata": {},
     "output_type": "execute_result"
    },
    {
     "data": {
      "image/png": "[encoded data removed]",
      "text/plain": [
       "<Figure size 432x288 with 1 Axes>"
      ]
     },
     "metadata": {
      "needs_background": "light"
     },
     "output_type": "display_data"
    }
   ],
   "source": [
    "plt.plot(test.drop(\"Note\", axis=1).iloc[0].values)"
   ]
  },
  {
   "cell_type": "code",
   "execution_count": 81,
   "metadata": {},
   "outputs": [],
   "source": [
    "def baldwin_dir_to_data(directory, rs, note_table):\n",
    "    data = pd.DataFrame(columns=[\"x{}\".format(i) for i in range(16000)]+[\"Note\"])\n",
    "    pbar = tqdm(os.listdir(directory))\n",
    "    \n",
    "    for file in pbar:\n",
    "        pbar.set_description(\"Processing %s\" % file)\n",
    "        df = baldwin_file_to_data(directory + file, rs, note_table)\n",
    "        data = data.append(df)\n",
    "        \n",
    "    data[\"Piano\"] = \"Baldwin\"\n",
    "    data = data.reset_index().drop(\"index\", axis=1)\n",
    "    return data"
   ]
  },
  {
   "cell_type": "markdown",
   "metadata": {},
   "source": [
    "Takes around 7 min"
   ]
  },
  {
   "cell_type": "code",
   "execution_count": 82,
   "metadata": {},
   "outputs": [
    {
     "data": {
      "application/vnd.jupyter.widget-view+json": {
       "model_id": "c065a347ec7c4151ac65a0e7233d54ba",
       "version_major": 2,
       "version_minor": 0
      },
      "text/plain": [
       "HBox(children=(IntProgress(value=0, max=453), HTML(value='')))"
      ]
     },
     "metadata": {},
     "output_type": "display_data"
    },
    {
     "name": "stderr",
     "output_type": "stream",
     "text": [
      "e:\\anaconda\\envs\\tfm\\lib\\site-packages\\pandas\\core\\frame.py:6692: FutureWarning: Sorting because non-concatenation axis is not aligned. A future version\n",
      "of pandas will change to not sort by default.\n",
      "\n",
      "To accept the future behavior, pass 'sort=False'.\n",
      "\n",
      "To retain the current behavior and silence the warning, pass 'sort=True'.\n",
      "\n",
      "  sort=sort)\n"
     ]
    },
    {
     "name": "stdout",
     "output_type": "stream",
     "text": [
      "\n"
     ]
    }
   ],
   "source": [
    "data_baldwin = baldwin_dir_to_data(\"../Samples/Piano/Baldwin/\", 8000, note_table)"
   ]
  },
  {
   "cell_type": "code",
   "execution_count": 83,
   "metadata": {},
   "outputs": [],
   "source": [
    "data_baldwin = data_baldwin.drop(data_baldwin[data_baldwin[\"Note\"].isna()].index)"
   ]
  },
  {
   "cell_type": "code",
   "execution_count": 84,
   "metadata": {},
   "outputs": [
    {
     "data": {
      "text/plain": [
       "array(['A3', 'C#3', 'A4', 'C#4', 'F3', 'F4', 'A5', 'C#5', 'F5'],\n",
       "      dtype=object)"
      ]
     },
     "execution_count": 84,
     "metadata": {},
     "output_type": "execute_result"
    }
   ],
   "source": [
    "data_baldwin[\"Note\"].unique()"
   ]
  },
  {
   "cell_type": "code",
   "execution_count": 85,
   "metadata": {},
   "outputs": [],
   "source": [
    "data = data.append(data_baldwin)"
   ]
  },
  {
   "cell_type": "code",
   "execution_count": 86,
   "metadata": {},
   "outputs": [],
   "source": [
    "data.to_pickle(\"data-piano-xl.pkl\")"
   ]
  },
  {
   "cell_type": "code",
   "execution_count": 87,
   "metadata": {},
   "outputs": [],
   "source": [
    "data.to_csv(\"data-piano-xl.tsv\", sep=\"\\t\", index=False)"
   ]
  },
  {
   "cell_type": "markdown",
   "metadata": {},
   "source": [
    "## A111-A112"
   ]
  },
  {
   "cell_type": "code",
   "execution_count": 88,
   "metadata": {},
   "outputs": [
    {
     "data": {
      "text/plain": [
       "'F#2'"
      ]
     },
     "execution_count": 88,
     "metadata": {},
     "output_type": "execute_result"
    }
   ],
   "source": [
    "\"../Samples/Piano/A112-1d-2/0m-042-F#2.mp3\".split(\"/\")[-1].split(\"-\")[-1].split(\".\")[0]"
   ]
  },
  {
   "cell_type": "code",
   "execution_count": 89,
   "metadata": {},
   "outputs": [],
   "source": [
    "def A112_file_to_data(file, rs, note_table):\n",
    "    y, sr = librosa.load(file, mono=False)\n",
    "    y = librosa.core.to_mono(y)\n",
    "    y = librosa.resample(y, sr, rs)\n",
    "    \n",
    "    if y.shape[0] >= 16000:\n",
    "        df = pd.DataFrame({\"x{}\".format(j): [y[j]] for j in range(16000)})\n",
    "        note = file.split(\"/\")[-1].split(\"-\")[-1].split(\".\")[0]\n",
    "\n",
    "        notes = list(note_table[\"Note\"][37:72])\n",
    "\n",
    "        if note in notes:\n",
    "            df[\"Note\"] = note\n",
    "\n",
    "        return df"
   ]
  },
  {
   "cell_type": "code",
   "execution_count": 90,
   "metadata": {},
   "outputs": [],
   "source": [
    "test = A112_file_to_data(\"../Samples/Piano/A112-1d-2/0m-057-A3.mp3\", 8000, note_table)"
   ]
  },
  {
   "cell_type": "code",
   "execution_count": 91,
   "metadata": {},
   "outputs": [
    {
     "data": {
      "text/plain": [
       "[<matplotlib.lines.Line2D at 0x3c801c9400>]"
      ]
     },
     "execution_count": 91,
     "metadata": {},
     "output_type": "execute_result"
    },
    {
     "data": {
      "image/png": "[encoded data removed]",
      "text/plain": [
       "<Figure size 432x288 with 1 Axes>"
      ]
     },
     "metadata": {
      "needs_background": "light"
     },
     "output_type": "display_data"
    }
   ],
   "source": [
    "plt.plot(test.drop(\"Note\", axis=1).iloc[0].values)"
   ]
  },
  {
   "cell_type": "code",
   "execution_count": 92,
   "metadata": {},
   "outputs": [],
   "source": [
    "def A112_dir_to_data(directory, rs, note_table):\n",
    "    data = pd.DataFrame(columns=[\"x{}\".format(i) for i in range(16000)]+[\"Note\"])\n",
    "    pbar = tqdm(os.listdir(directory))\n",
    "    \n",
    "    for file in pbar:\n",
    "        pbar.set_description(\"Processing %s\" % file)\n",
    "        df = A112_file_to_data(directory + file, rs, note_table)\n",
    "        data = data.append(df)\n",
    "        \n",
    "    data[\"Piano\"] = \"A111-A112\"\n",
    "    data = data.reset_index().drop(\"index\", axis=1)\n",
    "    return data"
   ]
  },
  {
   "cell_type": "markdown",
   "metadata": {},
   "source": [
    "Takes around 4 min"
   ]
  },
  {
   "cell_type": "code",
   "execution_count": 93,
   "metadata": {},
   "outputs": [
    {
     "data": {
      "application/vnd.jupyter.widget-view+json": {
       "model_id": "43684f63288d4144b076f01518501da8",
       "version_major": 2,
       "version_minor": 0
      },
      "text/plain": [
       "HBox(children=(IntProgress(value=0, max=210), HTML(value='')))"
      ]
     },
     "metadata": {},
     "output_type": "display_data"
    },
    {
     "name": "stdout",
     "output_type": "stream",
     "text": [
      "\n"
     ]
    }
   ],
   "source": [
    "data_A112 = A112_dir_to_data(\"../Samples/Piano/A112-1d-2/\", 8000, note_table)"
   ]
  },
  {
   "cell_type": "code",
   "execution_count": 94,
   "metadata": {},
   "outputs": [],
   "source": [
    "data_A112 = data_A112.drop(data_A112[data_A112[\"Note\"].isna()].index)"
   ]
  },
  {
   "cell_type": "code",
   "execution_count": 95,
   "metadata": {},
   "outputs": [
    {
     "data": {
      "text/plain": [
       "array(['D#3', 'F#3', 'A3', 'C4', 'D#4', 'F#4', 'A4', 'C5', 'D#5', 'F#5',\n",
       "       'A5'], dtype=object)"
      ]
     },
     "execution_count": 95,
     "metadata": {},
     "output_type": "execute_result"
    }
   ],
   "source": [
    "data_A112[\"Note\"].unique()"
   ]
  },
  {
   "cell_type": "code",
   "execution_count": 96,
   "metadata": {},
   "outputs": [],
   "source": [
    "data = data.append(data_A112)"
   ]
  },
  {
   "cell_type": "code",
   "execution_count": 97,
   "metadata": {},
   "outputs": [],
   "source": [
    "data.to_pickle(\"data-piano-xl.pkl\")"
   ]
  },
  {
   "cell_type": "code",
   "execution_count": 98,
   "metadata": {},
   "outputs": [],
   "source": [
    "data.to_csv(\"data-piano-xl.tsv\", sep=\"\\t\", index=False)"
   ]
  },
  {
   "cell_type": "markdown",
   "metadata": {},
   "source": [
    "Takes around 4 min"
   ]
  },
  {
   "cell_type": "code",
   "execution_count": 99,
   "metadata": {},
   "outputs": [
    {
     "data": {
      "application/vnd.jupyter.widget-view+json": {
       "model_id": "5396c63d407c48a882d20163c95b56b5",
       "version_major": 2,
       "version_minor": 0
      },
      "text/plain": [
       "HBox(children=(IntProgress(value=0, max=210), HTML(value='')))"
      ]
     },
     "metadata": {},
     "output_type": "display_data"
    },
    {
     "name": "stdout",
     "output_type": "stream",
     "text": [
      "\n"
     ]
    }
   ],
   "source": [
    "data_A112 = A112_dir_to_data(\"../Samples/Piano/A112-1d-1/\", 8000, note_table)"
   ]
  },
  {
   "cell_type": "code",
   "execution_count": 100,
   "metadata": {},
   "outputs": [],
   "source": [
    "data_A112 = data_A112.drop(data_A112[data_A112[\"Note\"].isna()].index)"
   ]
  },
  {
   "cell_type": "code",
   "execution_count": 101,
   "metadata": {},
   "outputs": [
    {
     "data": {
      "text/plain": [
       "array(['D#3', 'F#3', 'A3', 'C4', 'D#4', 'F#4', 'A4', 'C5', 'D#5', 'F#5',\n",
       "       'A5'], dtype=object)"
      ]
     },
     "execution_count": 101,
     "metadata": {},
     "output_type": "execute_result"
    }
   ],
   "source": [
    "data_A112[\"Note\"].unique()"
   ]
  },
  {
   "cell_type": "code",
   "execution_count": 102,
   "metadata": {},
   "outputs": [],
   "source": [
    "data = data.append(data_A112)"
   ]
  },
  {
   "cell_type": "code",
   "execution_count": 103,
   "metadata": {},
   "outputs": [
    {
     "data": {
      "text/plain": [
       "(2927, 16002)"
      ]
     },
     "execution_count": 103,
     "metadata": {},
     "output_type": "execute_result"
    }
   ],
   "source": [
    "data.shape"
   ]
  },
  {
   "cell_type": "code",
   "execution_count": 104,
   "metadata": {},
   "outputs": [],
   "source": [
    "data.to_pickle(\"data-piano-xl.pkl\")"
   ]
  },
  {
   "cell_type": "code",
   "execution_count": 105,
   "metadata": {},
   "outputs": [],
   "source": [
    "data.to_csv(\"data-piano-xl.tsv\", sep=\"\\t\", index=False)"
   ]
  },
  {
   "cell_type": "markdown",
   "metadata": {},
   "source": [
    "Takes around 5 min"
   ]
  },
  {
   "cell_type": "code",
   "execution_count": 106,
   "metadata": {},
   "outputs": [
    {
     "data": {
      "application/vnd.jupyter.widget-view+json": {
       "model_id": "b43e386ac0984d12980b55e3c6636854",
       "version_major": 2,
       "version_minor": 0
      },
      "text/plain": [
       "HBox(children=(IntProgress(value=0, max=210), HTML(value='')))"
      ]
     },
     "metadata": {},
     "output_type": "display_data"
    },
    {
     "name": "stdout",
     "output_type": "stream",
     "text": [
      "\n"
     ]
    }
   ],
   "source": [
    "data_A112 = A112_dir_to_data(\"../Samples/Piano/A111-1w-1/\", 8000, note_table)"
   ]
  },
  {
   "cell_type": "code",
   "execution_count": 107,
   "metadata": {},
   "outputs": [],
   "source": [
    "data_A112 = data_A112.drop(data_A112[data_A112[\"Note\"].isna()].index)"
   ]
  },
  {
   "cell_type": "code",
   "execution_count": 108,
   "metadata": {},
   "outputs": [
    {
     "data": {
      "text/plain": [
       "array(['D#3', 'F#3', 'A3', 'C4', 'D#4', 'F#4', 'A4', 'C5', 'D#5', 'F#5',\n",
       "       'A5'], dtype=object)"
      ]
     },
     "execution_count": 108,
     "metadata": {},
     "output_type": "execute_result"
    }
   ],
   "source": [
    "data_A112[\"Note\"].unique()"
   ]
  },
  {
   "cell_type": "code",
   "execution_count": 109,
   "metadata": {},
   "outputs": [],
   "source": [
    "data = data.append(data_A112)"
   ]
  },
  {
   "cell_type": "code",
   "execution_count": 110,
   "metadata": {},
   "outputs": [
    {
     "data": {
      "text/plain": [
       "(3004, 16002)"
      ]
     },
     "execution_count": 110,
     "metadata": {},
     "output_type": "execute_result"
    }
   ],
   "source": [
    "data.shape"
   ]
  },
  {
   "cell_type": "code",
   "execution_count": 111,
   "metadata": {},
   "outputs": [],
   "source": [
    "data.to_pickle(\"data-piano-xl.pkl\")"
   ]
  },
  {
   "cell_type": "code",
   "execution_count": 112,
   "metadata": {},
   "outputs": [],
   "source": [
    "data.to_csv(\"data-piano-xl.tsv\", sep=\"\\t\", index=False)"
   ]
  },
  {
   "cell_type": "markdown",
   "metadata": {},
   "source": [
    "Takes around 4 min"
   ]
  },
  {
   "cell_type": "code",
   "execution_count": 113,
   "metadata": {},
   "outputs": [
    {
     "data": {
      "application/vnd.jupyter.widget-view+json": {
       "model_id": "99e760fcf9a040c5884135260a98d0e7",
       "version_major": 2,
       "version_minor": 0
      },
      "text/plain": [
       "HBox(children=(IntProgress(value=0, max=210), HTML(value='')))"
      ]
     },
     "metadata": {},
     "output_type": "display_data"
    },
    {
     "name": "stdout",
     "output_type": "stream",
     "text": [
      "\n"
     ]
    }
   ],
   "source": [
    "data_A112 = A112_dir_to_data(\"../Samples/Piano/A111-1w-2/\", 8000, note_table)"
   ]
  },
  {
   "cell_type": "code",
   "execution_count": 114,
   "metadata": {},
   "outputs": [],
   "source": [
    "data_A112 = data_A112.drop(data_A112[data_A112[\"Note\"].isna()].index)"
   ]
  },
  {
   "cell_type": "code",
   "execution_count": 115,
   "metadata": {},
   "outputs": [
    {
     "data": {
      "text/plain": [
       "array(['D#3', 'F#3', 'A3', 'C4', 'D#4', 'F#4', 'A4', 'C5', 'D#5', 'F#5',\n",
       "       'A5'], dtype=object)"
      ]
     },
     "execution_count": 115,
     "metadata": {},
     "output_type": "execute_result"
    }
   ],
   "source": [
    "data_A112[\"Note\"].unique()"
   ]
  },
  {
   "cell_type": "code",
   "execution_count": 116,
   "metadata": {},
   "outputs": [],
   "source": [
    "data = data.append(data_A112)"
   ]
  },
  {
   "cell_type": "code",
   "execution_count": 117,
   "metadata": {},
   "outputs": [
    {
     "data": {
      "text/plain": [
       "(3081, 16002)"
      ]
     },
     "execution_count": 117,
     "metadata": {},
     "output_type": "execute_result"
    }
   ],
   "source": [
    "data.shape"
   ]
  },
  {
   "cell_type": "code",
   "execution_count": 118,
   "metadata": {},
   "outputs": [],
   "source": [
    "data.to_pickle(\"data-piano-xl.pkl\")"
   ]
  },
  {
   "cell_type": "code",
   "execution_count": 119,
   "metadata": {},
   "outputs": [],
   "source": [
    "data.to_csv(\"data-piano-xl.tsv\", sep=\"\\t\", index=False)"
   ]
  },
  {
   "cell_type": "markdown",
   "metadata": {},
   "source": [
    "## Keppy"
   ]
  },
  {
   "cell_type": "code",
   "execution_count": 120,
   "metadata": {},
   "outputs": [],
   "source": [
    "data = pd.read_pickle(\"data-piano-xl.pkl\")"
   ]
  },
  {
   "cell_type": "code",
   "execution_count": 121,
   "metadata": {},
   "outputs": [
    {
     "data": {
      "text/plain": [
       "49"
      ]
     },
     "execution_count": 121,
     "metadata": {},
     "output_type": "execute_result"
    }
   ],
   "source": [
    "librosa.note_to_midi(\"C#3\")"
   ]
  },
  {
   "cell_type": "code",
   "execution_count": 122,
   "metadata": {},
   "outputs": [
    {
     "data": {
      "text/plain": [
       "49"
      ]
     },
     "execution_count": 122,
     "metadata": {},
     "output_type": "execute_result"
    }
   ],
   "source": [
    "int(\"../KEPSREC048.mp3\".split(\"/\")[-1].split(\".\")[0].replace(\"KEPSREC\",\"\"))+1"
   ]
  },
  {
   "cell_type": "code",
   "execution_count": 123,
   "metadata": {},
   "outputs": [],
   "source": [
    "def keppy_file_to_data(file, rs, note_table):\n",
    "    y, sr = librosa.load(file, mono=False)\n",
    "    y = librosa.core.to_mono(y)\n",
    "    y = librosa.resample(y, sr, rs)\n",
    "    \n",
    "    if y.shape[0] >= 16000:\n",
    "        df = pd.DataFrame({\"x{}\".format(j): [y[j]] for j in range(16000)})\n",
    "        note = librosa.midi_to_note(int(file.split(\"/\")[-1].split(\".\")[0].replace(\"KEPSREC\",\"\"))+1)\n",
    "\n",
    "        notes = list(note_table[\"Note\"][37:72])\n",
    "\n",
    "        if note in notes:\n",
    "            df[\"Note\"] = note\n",
    "\n",
    "        return df"
   ]
  },
  {
   "cell_type": "code",
   "execution_count": 124,
   "metadata": {},
   "outputs": [],
   "source": [
    "test = keppy_file_to_data(\"../Samples/Piano/Keppy/KEPSREC050.mp3\", 8000, note_table)"
   ]
  },
  {
   "cell_type": "code",
   "execution_count": 125,
   "metadata": {},
   "outputs": [
    {
     "data": {
      "text/plain": [
       "[<matplotlib.lines.Line2D at 0x3ccd5745c0>]"
      ]
     },
     "execution_count": 125,
     "metadata": {},
     "output_type": "execute_result"
    },
    {
     "data": {
      "image/png": "[encoded data removed]",
      "text/plain": [
       "<Figure size 432x288 with 1 Axes>"
      ]
     },
     "metadata": {
      "needs_background": "light"
     },
     "output_type": "display_data"
    }
   ],
   "source": [
    "plt.plot(test.drop(\"Note\", axis=1).iloc[0].values)"
   ]
  },
  {
   "cell_type": "code",
   "execution_count": 126,
   "metadata": {},
   "outputs": [],
   "source": [
    "def keppy_dir_to_data(directory, rs, note_table):\n",
    "    data = pd.DataFrame(columns=[\"x{}\".format(i) for i in range(16000)]+[\"Note\"])\n",
    "    pbar = tqdm(os.listdir(directory))\n",
    "    \n",
    "    for file in pbar:\n",
    "        pbar.set_description(\"Processing %s\" % file)\n",
    "        df = keppy_file_to_data(directory + file, rs, note_table)\n",
    "        data = data.append(df)\n",
    "        \n",
    "    data[\"Piano\"] = \"Keppy\"\n",
    "    data = data.reset_index().drop(\"index\", axis=1)\n",
    "    return data"
   ]
  },
  {
   "cell_type": "markdown",
   "metadata": {},
   "source": [
    "Takes around 3 min"
   ]
  },
  {
   "cell_type": "code",
   "execution_count": 127,
   "metadata": {},
   "outputs": [
    {
     "data": {
      "application/vnd.jupyter.widget-view+json": {
       "model_id": "b64f80b77cd04749a767d4a1f7ae91a9",
       "version_major": 2,
       "version_minor": 0
      },
      "text/plain": [
       "HBox(children=(IntProgress(value=0, max=88), HTML(value='')))"
      ]
     },
     "metadata": {},
     "output_type": "display_data"
    },
    {
     "name": "stderr",
     "output_type": "stream",
     "text": [
      "e:\\anaconda\\envs\\tfm\\lib\\site-packages\\pandas\\core\\frame.py:6692: FutureWarning: Sorting because non-concatenation axis is not aligned. A future version\n",
      "of pandas will change to not sort by default.\n",
      "\n",
      "To accept the future behavior, pass 'sort=False'.\n",
      "\n",
      "To retain the current behavior and silence the warning, pass 'sort=True'.\n",
      "\n",
      "  sort=sort)\n"
     ]
    },
    {
     "name": "stdout",
     "output_type": "stream",
     "text": [
      "\n"
     ]
    }
   ],
   "source": [
    "data_keppy = keppy_dir_to_data(\"../Samples/Piano/Keppy/\", 8000, note_table)"
   ]
  },
  {
   "cell_type": "code",
   "execution_count": 128,
   "metadata": {},
   "outputs": [],
   "source": [
    "data_keppy = data_keppy.drop(data_keppy[data_keppy[\"Note\"].isna()].index)"
   ]
  },
  {
   "cell_type": "code",
   "execution_count": 129,
   "metadata": {},
   "outputs": [
    {
     "data": {
      "text/plain": [
       "array(['C#3', 'D3', 'D#3', 'E3', 'F3', 'F#3', 'G3', 'G#3', 'A3', 'A#3',\n",
       "       'B3', 'C4', 'C#4', 'D4', 'D#4', 'E4', 'F4', 'F#4', 'G4', 'G#4',\n",
       "       'A4', 'A#4', 'B4', 'C5', 'C#5', 'D5', 'D#5', 'E5', 'F5', 'F#5',\n",
       "       'G5', 'G#5', 'A5', 'A#5', 'B5'], dtype=object)"
      ]
     },
     "execution_count": 129,
     "metadata": {},
     "output_type": "execute_result"
    }
   ],
   "source": [
    "data_keppy[\"Note\"].unique()"
   ]
  },
  {
   "cell_type": "code",
   "execution_count": 130,
   "metadata": {},
   "outputs": [],
   "source": [
    "data = data.append(data_keppy)"
   ]
  },
  {
   "cell_type": "code",
   "execution_count": 131,
   "metadata": {},
   "outputs": [
    {
     "data": {
      "text/plain": [
       "(3116, 16002)"
      ]
     },
     "execution_count": 131,
     "metadata": {},
     "output_type": "execute_result"
    }
   ],
   "source": [
    "data.shape"
   ]
  },
  {
   "cell_type": "code",
   "execution_count": 132,
   "metadata": {},
   "outputs": [],
   "source": [
    "data.to_pickle(\"data-piano-xl.pkl\")"
   ]
  },
  {
   "cell_type": "code",
   "execution_count": 133,
   "metadata": {},
   "outputs": [],
   "source": [
    "data.to_csv(\"data-piano-xl.tsv\", sep=\"\\t\", index=False)"
   ]
  },
  {
   "cell_type": "markdown",
   "metadata": {},
   "source": [
    "## Basilica "
   ]
  },
  {
   "cell_type": "code",
   "execution_count": 134,
   "metadata": {},
   "outputs": [
    {
     "data": {
      "text/plain": [
       "49"
      ]
     },
     "execution_count": 134,
     "metadata": {},
     "output_type": "execute_result"
    }
   ],
   "source": [
    "int(\"../F_Sustain-15.mp3\".split(\"/\")[-1].split(\"-\")[-1].split(\".\")[0])+34"
   ]
  },
  {
   "cell_type": "code",
   "execution_count": 135,
   "metadata": {},
   "outputs": [],
   "source": [
    "def basilica_file_to_data(file, rs, note_table):\n",
    "    y, sr = librosa.load(file, mono=False)\n",
    "    y = librosa.core.to_mono(y)\n",
    "    y = librosa.resample(y, sr, rs)\n",
    "    \n",
    "    if y.shape[0] >= 16000:\n",
    "        df = pd.DataFrame({\"x{}\".format(j): [y[j]] for j in range(16000)})\n",
    "        note = librosa.midi_to_note(int(file.split(\"/\")[-1].split(\"-\")[-1].split(\".\")[0])+34)\n",
    "\n",
    "        notes = list(note_table[\"Note\"][37:72])\n",
    "\n",
    "        if note in notes:\n",
    "            df[\"Note\"] = note\n",
    "\n",
    "        return df"
   ]
  },
  {
   "cell_type": "code",
   "execution_count": 136,
   "metadata": {},
   "outputs": [],
   "source": [
    "test = basilica_file_to_data(\"../Samples/Piano/Basilica_Grand/FF-18.mp3\", 8000, note_table)"
   ]
  },
  {
   "cell_type": "code",
   "execution_count": 137,
   "metadata": {},
   "outputs": [
    {
     "data": {
      "text/plain": [
       "[<matplotlib.lines.Line2D at 0x3c8110b438>]"
      ]
     },
     "execution_count": 137,
     "metadata": {},
     "output_type": "execute_result"
    },
    {
     "data": {
      "image/png": "[encoded data removed]",
      "text/plain": [
       "<Figure size 432x288 with 1 Axes>"
      ]
     },
     "metadata": {
      "needs_background": "light"
     },
     "output_type": "display_data"
    }
   ],
   "source": [
    "plt.plot(test.drop(\"Note\", axis=1).iloc[0].values)"
   ]
  },
  {
   "cell_type": "code",
   "execution_count": 138,
   "metadata": {},
   "outputs": [],
   "source": [
    "def basilica_dir_to_data(directory, rs, note_table):\n",
    "    data = pd.DataFrame(columns=[\"x{}\".format(i) for i in range(16000)]+[\"Note\"])\n",
    "    pbar = tqdm(os.listdir(directory))\n",
    "    \n",
    "    for file in pbar:\n",
    "        pbar.set_description(\"Processing %s\" % file)\n",
    "        df = basilica_file_to_data(directory + file, rs, note_table)\n",
    "        data = data.append(df)\n",
    "        \n",
    "    data[\"Piano\"] = \"Basilica\"\n",
    "    data = data.reset_index().drop(\"index\", axis=1)\n",
    "    data = data.drop(data[data[\"Note\"].isna()].index)\n",
    "    return data"
   ]
  },
  {
   "cell_type": "markdown",
   "metadata": {},
   "source": [
    "Takes around 10 min"
   ]
  },
  {
   "cell_type": "code",
   "execution_count": 139,
   "metadata": {},
   "outputs": [
    {
     "data": {
      "application/vnd.jupyter.widget-view+json": {
       "model_id": "b4ffabcce05a4946ae4c3491774145e8",
       "version_major": 2,
       "version_minor": 0
      },
      "text/plain": [
       "HBox(children=(IntProgress(value=0, max=234), HTML(value='')))"
      ]
     },
     "metadata": {},
     "output_type": "display_data"
    },
    {
     "name": "stdout",
     "output_type": "stream",
     "text": [
      "\n"
     ]
    }
   ],
   "source": [
    "data_basilica_grand = basilica_dir_to_data(\"../Samples/Piano/Basilica_Grand/\", 8000, note_table)"
   ]
  },
  {
   "cell_type": "code",
   "execution_count": 140,
   "metadata": {},
   "outputs": [
    {
     "data": {
      "text/plain": [
       "array(['C#3', 'D3', 'D#3', 'E3', 'F3', 'F#3', 'G3', 'G#3', 'A#3', 'B3',\n",
       "       'C4', 'C#4', 'D4', 'D#4', 'E4'], dtype=object)"
      ]
     },
     "execution_count": 140,
     "metadata": {},
     "output_type": "execute_result"
    }
   ],
   "source": [
    "data_basilica_grand[\"Note\"].unique()"
   ]
  },
  {
   "cell_type": "code",
   "execution_count": 141,
   "metadata": {},
   "outputs": [],
   "source": [
    "data = data.append(data_basilica_grand)"
   ]
  },
  {
   "cell_type": "code",
   "execution_count": 142,
   "metadata": {},
   "outputs": [
    {
     "data": {
      "text/plain": [
       "(3311, 16002)"
      ]
     },
     "execution_count": 142,
     "metadata": {},
     "output_type": "execute_result"
    }
   ],
   "source": [
    "data.shape"
   ]
  },
  {
   "cell_type": "code",
   "execution_count": 143,
   "metadata": {},
   "outputs": [],
   "source": [
    "data.to_pickle(\"data-piano-xl.pkl\")"
   ]
  },
  {
   "cell_type": "code",
   "execution_count": 144,
   "metadata": {},
   "outputs": [],
   "source": [
    "data.to_csv(\"data-piano-xl.tsv\", sep=\"\\t\", index=False)"
   ]
  },
  {
   "cell_type": "markdown",
   "metadata": {},
   "source": [
    "Takes around 10 min"
   ]
  },
  {
   "cell_type": "code",
   "execution_count": 145,
   "metadata": {},
   "outputs": [
    {
     "data": {
      "application/vnd.jupyter.widget-view+json": {
       "model_id": "e6d25f3510894171b8760b5a8d4fed4f",
       "version_major": 2,
       "version_minor": 0
      },
      "text/plain": [
       "HBox(children=(IntProgress(value=0, max=275), HTML(value='')))"
      ]
     },
     "metadata": {},
     "output_type": "display_data"
    },
    {
     "name": "stdout",
     "output_type": "stream",
     "text": [
      "\n"
     ]
    }
   ],
   "source": [
    "data_basilica_upright = basilica_dir_to_data(\"../Samples/Piano/Basilica_Upright/\", 8000, note_table)"
   ]
  },
  {
   "cell_type": "code",
   "execution_count": 146,
   "metadata": {},
   "outputs": [
    {
     "data": {
      "text/plain": [
       "array(['C#3', 'D3', 'D#3', 'E3', 'F3', 'F#3', 'G3', 'G#3', 'A3', 'B3',\n",
       "       'C4', 'C#4', 'D4', 'D#4', 'E4', 'F4', 'F#4', 'G4', 'G#4', 'A4',\n",
       "       'A#4'], dtype=object)"
      ]
     },
     "execution_count": 146,
     "metadata": {},
     "output_type": "execute_result"
    }
   ],
   "source": [
    "data_basilica_upright[\"Note\"].unique()"
   ]
  },
  {
   "cell_type": "code",
   "execution_count": 147,
   "metadata": {},
   "outputs": [],
   "source": [
    "data = data.append(data_basilica_upright)"
   ]
  },
  {
   "cell_type": "code",
   "execution_count": 148,
   "metadata": {},
   "outputs": [
    {
     "data": {
      "text/plain": [
       "(3572, 16002)"
      ]
     },
     "execution_count": 148,
     "metadata": {},
     "output_type": "execute_result"
    }
   ],
   "source": [
    "data.shape"
   ]
  },
  {
   "cell_type": "code",
   "execution_count": 149,
   "metadata": {},
   "outputs": [],
   "source": [
    "data.to_pickle(\"data-piano-xl.pkl\")"
   ]
  },
  {
   "cell_type": "code",
   "execution_count": 150,
   "metadata": {},
   "outputs": [],
   "source": [
    "data.to_csv(\"data-piano-xl.tsv\", sep=\"\\t\", index=False)"
   ]
  },
  {
   "cell_type": "markdown",
   "metadata": {},
   "source": [
    "## Binaural"
   ]
  },
  {
   "cell_type": "code",
   "execution_count": 151,
   "metadata": {},
   "outputs": [
    {
     "data": {
      "text/plain": [
       "49"
      ]
     },
     "execution_count": 151,
     "metadata": {},
     "output_type": "execute_result"
    }
   ],
   "source": [
    "int(\"../AccSus-12.mp3\".split(\"/\")[-1].split(\"-\")[-1].split(\".\")[0])+37"
   ]
  },
  {
   "cell_type": "code",
   "execution_count": 152,
   "metadata": {},
   "outputs": [],
   "source": [
    "def binaural_file_to_data(file, rs, note_table):\n",
    "    y, sr = librosa.load(file, mono=False)\n",
    "    y = librosa.core.to_mono(y)\n",
    "    y = librosa.resample(y, sr, rs)\n",
    "    \n",
    "    if y.shape[0] >= 16000:\n",
    "        df = pd.DataFrame({\"x{}\".format(j): [y[j]] for j in range(16000)})\n",
    "        note = librosa.midi_to_note(int(file.split(\"/\")[-1].split(\"-\")[-1].split(\".\")[0])+37)\n",
    "\n",
    "        notes = list(note_table[\"Note\"][37:72])\n",
    "\n",
    "        if note in notes:\n",
    "            df[\"Note\"] = note\n",
    "\n",
    "        return df"
   ]
  },
  {
   "cell_type": "code",
   "execution_count": 153,
   "metadata": {},
   "outputs": [],
   "source": [
    "test = binaural_file_to_data(\"../Samples/Piano/Binaural/AccSus-15.mp3\", 8000, note_table)"
   ]
  },
  {
   "cell_type": "code",
   "execution_count": 154,
   "metadata": {},
   "outputs": [
    {
     "data": {
      "text/plain": [
       "[<matplotlib.lines.Line2D at 0x3c80c129b0>]"
      ]
     },
     "execution_count": 154,
     "metadata": {},
     "output_type": "execute_result"
    },
    {
     "data": {
      "image/png": "[encoded data removed]",
      "text/plain": [
       "<Figure size 432x288 with 1 Axes>"
      ]
     },
     "metadata": {
      "needs_background": "light"
     },
     "output_type": "display_data"
    }
   ],
   "source": [
    "plt.plot(test.drop(\"Note\", axis=1).iloc[0].values)"
   ]
  },
  {
   "cell_type": "code",
   "execution_count": 155,
   "metadata": {},
   "outputs": [],
   "source": [
    "def binaural_dir_to_data(directory, rs, note_table):\n",
    "    data = pd.DataFrame(columns=[\"x{}\".format(i) for i in range(16000)]+[\"Note\"])\n",
    "    pbar = tqdm(os.listdir(directory))\n",
    "    \n",
    "    for file in pbar:\n",
    "        pbar.set_description(\"Processing %s\" % file)\n",
    "        df = binaural_file_to_data(directory + file, rs, note_table)\n",
    "        data = data.append(df)\n",
    "        \n",
    "    data[\"Piano\"] = \"Binaural\"\n",
    "    data = data.reset_index().drop(\"index\", axis=1)\n",
    "    data = data.drop(data[data[\"Note\"].isna()].index)\n",
    "    return data"
   ]
  },
  {
   "cell_type": "markdown",
   "metadata": {},
   "source": [
    "Takes around 5 min"
   ]
  },
  {
   "cell_type": "code",
   "execution_count": 156,
   "metadata": {},
   "outputs": [
    {
     "data": {
      "application/vnd.jupyter.widget-view+json": {
       "model_id": "3486ddaf0c124039bb25d1c7a5672212",
       "version_major": 2,
       "version_minor": 0
      },
      "text/plain": [
       "HBox(children=(IntProgress(value=0, max=172), HTML(value='')))"
      ]
     },
     "metadata": {},
     "output_type": "display_data"
    },
    {
     "name": "stdout",
     "output_type": "stream",
     "text": [
      "\n"
     ]
    }
   ],
   "source": [
    "data_binaural = binaural_dir_to_data(\"../Samples/Piano/Binaural/\", 8000, note_table)"
   ]
  },
  {
   "cell_type": "code",
   "execution_count": 157,
   "metadata": {},
   "outputs": [
    {
     "data": {
      "text/plain": [
       "array(['C#3', 'D3', 'D#3', 'E3', 'F3', 'F#3', 'G3', 'G#3', 'A3', 'A#3',\n",
       "       'B3', 'C4', 'C#4', 'D4', 'D#4', 'E4', 'F4', 'F#4', 'G4', 'G#4',\n",
       "       'A4', 'A#4', 'B4', 'C5', 'C#5', 'D5', 'D#5', 'E5'], dtype=object)"
      ]
     },
     "execution_count": 157,
     "metadata": {},
     "output_type": "execute_result"
    }
   ],
   "source": [
    "data_binaural[\"Note\"].unique()"
   ]
  },
  {
   "cell_type": "code",
   "execution_count": 158,
   "metadata": {},
   "outputs": [],
   "source": [
    "data = data.append(data_binaural)"
   ]
  },
  {
   "cell_type": "code",
   "execution_count": 4,
   "metadata": {},
   "outputs": [],
   "source": [
    "data = pd.read_pickle(\"data-piano-xl.pkl\")"
   ]
  },
  {
   "cell_type": "code",
   "execution_count": 5,
   "metadata": {},
   "outputs": [
    {
     "data": {
      "text/plain": [
       "(3690, 16002)"
      ]
     },
     "execution_count": 5,
     "metadata": {},
     "output_type": "execute_result"
    }
   ],
   "source": [
    "data.shape"
   ]
  },
  {
   "cell_type": "code",
   "execution_count": 6,
   "metadata": {},
   "outputs": [],
   "source": [
    "data = data.reset_index(drop=True)"
   ]
  },
  {
   "cell_type": "code",
   "execution_count": 7,
   "metadata": {},
   "outputs": [
    {
     "data": {
      "text/plain": [
       "RangeIndex(start=0, stop=3690, step=1)"
      ]
     },
     "execution_count": 7,
     "metadata": {},
     "output_type": "execute_result"
    }
   ],
   "source": [
    "data.index"
   ]
  },
  {
   "cell_type": "code",
   "execution_count": 8,
   "metadata": {},
   "outputs": [
    {
     "data": {
      "text/html": [
       "<div>\n",
       "<style scoped>\n",
       "    .dataframe tbody tr th:only-of-type {\n",
       "        vertical-align: middle;\n",
       "    }\n",
       "\n",
       "    .dataframe tbody tr th {\n",
       "        vertical-align: top;\n",
       "    }\n",
       "\n",
       "    .dataframe thead th {\n",
       "        text-align: right;\n",
       "    }\n",
       "</style>\n",
       "<table border=\"1\" class=\"dataframe\">\n",
       "  <thead>\n",
       "    <tr style=\"text-align: right;\">\n",
       "      <th></th>\n",
       "      <th>Note</th>\n",
       "      <th>Piano</th>\n",
       "      <th>x0</th>\n",
       "      <th>x1</th>\n",
       "      <th>x10</th>\n",
       "      <th>x100</th>\n",
       "      <th>x1000</th>\n",
       "      <th>x10000</th>\n",
       "      <th>x10001</th>\n",
       "      <th>x10002</th>\n",
       "      <th>...</th>\n",
       "      <th>x9990</th>\n",
       "      <th>x9991</th>\n",
       "      <th>x9992</th>\n",
       "      <th>x9993</th>\n",
       "      <th>x9994</th>\n",
       "      <th>x9995</th>\n",
       "      <th>x9996</th>\n",
       "      <th>x9997</th>\n",
       "      <th>x9998</th>\n",
       "      <th>x9999</th>\n",
       "    </tr>\n",
       "  </thead>\n",
       "  <tbody>\n",
       "    <tr>\n",
       "      <th>0</th>\n",
       "      <td>C#3</td>\n",
       "      <td></td>\n",
       "      <td>0.001465</td>\n",
       "      <td>0.001681</td>\n",
       "      <td>-0.003332</td>\n",
       "      <td>-0.085601</td>\n",
       "      <td>0.027263</td>\n",
       "      <td>-0.017232</td>\n",
       "      <td>-0.017911</td>\n",
       "      <td>-0.015474</td>\n",
       "      <td>...</td>\n",
       "      <td>-0.057110</td>\n",
       "      <td>-0.053847</td>\n",
       "      <td>-0.055972</td>\n",
       "      <td>-0.063948</td>\n",
       "      <td>-0.070374</td>\n",
       "      <td>-0.071525</td>\n",
       "      <td>-0.063825</td>\n",
       "      <td>-0.053222</td>\n",
       "      <td>-0.040445</td>\n",
       "      <td>-0.025969</td>\n",
       "    </tr>\n",
       "    <tr>\n",
       "      <th>1</th>\n",
       "      <td>D3</td>\n",
       "      <td></td>\n",
       "      <td>-0.008995</td>\n",
       "      <td>-0.013210</td>\n",
       "      <td>-0.001074</td>\n",
       "      <td>0.030163</td>\n",
       "      <td>0.011829</td>\n",
       "      <td>-0.037716</td>\n",
       "      <td>-0.041193</td>\n",
       "      <td>-0.036609</td>\n",
       "      <td>...</td>\n",
       "      <td>0.023882</td>\n",
       "      <td>0.015125</td>\n",
       "      <td>0.006958</td>\n",
       "      <td>-0.000051</td>\n",
       "      <td>-0.006389</td>\n",
       "      <td>-0.012335</td>\n",
       "      <td>-0.015986</td>\n",
       "      <td>-0.014184</td>\n",
       "      <td>-0.016138</td>\n",
       "      <td>-0.026822</td>\n",
       "    </tr>\n",
       "    <tr>\n",
       "      <th>2</th>\n",
       "      <td>D#3</td>\n",
       "      <td></td>\n",
       "      <td>-0.009459</td>\n",
       "      <td>-0.008396</td>\n",
       "      <td>0.000469</td>\n",
       "      <td>-0.074676</td>\n",
       "      <td>-0.072720</td>\n",
       "      <td>-0.018720</td>\n",
       "      <td>-0.029227</td>\n",
       "      <td>-0.034730</td>\n",
       "      <td>...</td>\n",
       "      <td>-0.020182</td>\n",
       "      <td>-0.020823</td>\n",
       "      <td>-0.026093</td>\n",
       "      <td>-0.027968</td>\n",
       "      <td>-0.028771</td>\n",
       "      <td>-0.027233</td>\n",
       "      <td>-0.026755</td>\n",
       "      <td>-0.027093</td>\n",
       "      <td>-0.021920</td>\n",
       "      <td>-0.015127</td>\n",
       "    </tr>\n",
       "    <tr>\n",
       "      <th>3</th>\n",
       "      <td>E3</td>\n",
       "      <td></td>\n",
       "      <td>0.009730</td>\n",
       "      <td>0.016409</td>\n",
       "      <td>0.019059</td>\n",
       "      <td>-0.009557</td>\n",
       "      <td>-0.049355</td>\n",
       "      <td>-0.015189</td>\n",
       "      <td>-0.015596</td>\n",
       "      <td>-0.009794</td>\n",
       "      <td>...</td>\n",
       "      <td>0.016486</td>\n",
       "      <td>0.012219</td>\n",
       "      <td>0.008654</td>\n",
       "      <td>0.010368</td>\n",
       "      <td>0.011409</td>\n",
       "      <td>0.008565</td>\n",
       "      <td>0.006487</td>\n",
       "      <td>0.004673</td>\n",
       "      <td>-0.000184</td>\n",
       "      <td>-0.008019</td>\n",
       "    </tr>\n",
       "    <tr>\n",
       "      <th>4</th>\n",
       "      <td>F3</td>\n",
       "      <td></td>\n",
       "      <td>-0.016608</td>\n",
       "      <td>-0.018866</td>\n",
       "      <td>-0.008605</td>\n",
       "      <td>-0.076572</td>\n",
       "      <td>-0.018510</td>\n",
       "      <td>0.000989</td>\n",
       "      <td>-0.002783</td>\n",
       "      <td>-0.006584</td>\n",
       "      <td>...</td>\n",
       "      <td>0.032499</td>\n",
       "      <td>0.027350</td>\n",
       "      <td>0.026474</td>\n",
       "      <td>0.028012</td>\n",
       "      <td>0.025396</td>\n",
       "      <td>0.018985</td>\n",
       "      <td>0.013855</td>\n",
       "      <td>0.008943</td>\n",
       "      <td>0.004273</td>\n",
       "      <td>0.002611</td>\n",
       "    </tr>\n",
       "    <tr>\n",
       "      <th>5</th>\n",
       "      <td>F#3</td>\n",
       "      <td></td>\n",
       "      <td>-0.008436</td>\n",
       "      <td>-0.007619</td>\n",
       "      <td>-0.007377</td>\n",
       "      <td>-0.009701</td>\n",
       "      <td>0.023271</td>\n",
       "      <td>0.005038</td>\n",
       "      <td>0.010505</td>\n",
       "      <td>0.009393</td>\n",
       "      <td>...</td>\n",
       "      <td>-0.016079</td>\n",
       "      <td>-0.014822</td>\n",
       "      <td>-0.005416</td>\n",
       "      <td>0.001201</td>\n",
       "      <td>0.000741</td>\n",
       "      <td>-0.003166</td>\n",
       "      <td>-0.004928</td>\n",
       "      <td>-0.004797</td>\n",
       "      <td>-0.005645</td>\n",
       "      <td>-0.003028</td>\n",
       "    </tr>\n",
       "    <tr>\n",
       "      <th>6</th>\n",
       "      <td>G3</td>\n",
       "      <td></td>\n",
       "      <td>0.013239</td>\n",
       "      <td>0.015854</td>\n",
       "      <td>0.021802</td>\n",
       "      <td>-0.068972</td>\n",
       "      <td>-0.077696</td>\n",
       "      <td>-0.025511</td>\n",
       "      <td>-0.016501</td>\n",
       "      <td>-0.008872</td>\n",
       "      <td>...</td>\n",
       "      <td>-0.038085</td>\n",
       "      <td>-0.042781</td>\n",
       "      <td>-0.047658</td>\n",
       "      <td>-0.050627</td>\n",
       "      <td>-0.045159</td>\n",
       "      <td>-0.038813</td>\n",
       "      <td>-0.038588</td>\n",
       "      <td>-0.034201</td>\n",
       "      <td>-0.031849</td>\n",
       "      <td>-0.032784</td>\n",
       "    </tr>\n",
       "    <tr>\n",
       "      <th>7</th>\n",
       "      <td>G#3</td>\n",
       "      <td></td>\n",
       "      <td>0.009295</td>\n",
       "      <td>0.013564</td>\n",
       "      <td>0.016822</td>\n",
       "      <td>-0.100063</td>\n",
       "      <td>0.072344</td>\n",
       "      <td>-0.001624</td>\n",
       "      <td>-0.006659</td>\n",
       "      <td>-0.008479</td>\n",
       "      <td>...</td>\n",
       "      <td>0.009683</td>\n",
       "      <td>0.012426</td>\n",
       "      <td>0.013523</td>\n",
       "      <td>0.010411</td>\n",
       "      <td>0.011525</td>\n",
       "      <td>0.010081</td>\n",
       "      <td>0.010020</td>\n",
       "      <td>0.010758</td>\n",
       "      <td>0.008308</td>\n",
       "      <td>0.006031</td>\n",
       "    </tr>\n",
       "    <tr>\n",
       "      <th>8</th>\n",
       "      <td>A3</td>\n",
       "      <td></td>\n",
       "      <td>0.005631</td>\n",
       "      <td>0.006369</td>\n",
       "      <td>-0.006200</td>\n",
       "      <td>-0.044597</td>\n",
       "      <td>0.078689</td>\n",
       "      <td>-0.008436</td>\n",
       "      <td>-0.013056</td>\n",
       "      <td>-0.012430</td>\n",
       "      <td>...</td>\n",
       "      <td>0.013361</td>\n",
       "      <td>0.013583</td>\n",
       "      <td>0.006056</td>\n",
       "      <td>0.004613</td>\n",
       "      <td>0.004174</td>\n",
       "      <td>0.002860</td>\n",
       "      <td>0.001550</td>\n",
       "      <td>0.002629</td>\n",
       "      <td>0.002566</td>\n",
       "      <td>-0.003975</td>\n",
       "    </tr>\n",
       "    <tr>\n",
       "      <th>9</th>\n",
       "      <td>A#3</td>\n",
       "      <td></td>\n",
       "      <td>0.001156</td>\n",
       "      <td>0.000137</td>\n",
       "      <td>-0.006675</td>\n",
       "      <td>-0.005024</td>\n",
       "      <td>-0.076027</td>\n",
       "      <td>0.009098</td>\n",
       "      <td>0.009041</td>\n",
       "      <td>0.012218</td>\n",
       "      <td>...</td>\n",
       "      <td>-0.010935</td>\n",
       "      <td>-0.016810</td>\n",
       "      <td>-0.016493</td>\n",
       "      <td>-0.009147</td>\n",
       "      <td>-0.003586</td>\n",
       "      <td>-0.002326</td>\n",
       "      <td>-0.003705</td>\n",
       "      <td>-0.001640</td>\n",
       "      <td>0.002187</td>\n",
       "      <td>0.009513</td>\n",
       "    </tr>\n",
       "    <tr>\n",
       "      <th>10</th>\n",
       "      <td>B3</td>\n",
       "      <td></td>\n",
       "      <td>-0.002136</td>\n",
       "      <td>-0.004288</td>\n",
       "      <td>0.005947</td>\n",
       "      <td>0.039708</td>\n",
       "      <td>-0.043338</td>\n",
       "      <td>-0.014497</td>\n",
       "      <td>-0.004125</td>\n",
       "      <td>0.004290</td>\n",
       "      <td>...</td>\n",
       "      <td>-0.007560</td>\n",
       "      <td>-0.009694</td>\n",
       "      <td>-0.017567</td>\n",
       "      <td>-0.027858</td>\n",
       "      <td>-0.036001</td>\n",
       "      <td>-0.039759</td>\n",
       "      <td>-0.037889</td>\n",
       "      <td>-0.035561</td>\n",
       "      <td>-0.031232</td>\n",
       "      <td>-0.023185</td>\n",
       "    </tr>\n",
       "    <tr>\n",
       "      <th>11</th>\n",
       "      <td>C4</td>\n",
       "      <td></td>\n",
       "      <td>0.004061</td>\n",
       "      <td>0.005644</td>\n",
       "      <td>-0.005521</td>\n",
       "      <td>0.047374</td>\n",
       "      <td>-0.032188</td>\n",
       "      <td>0.009148</td>\n",
       "      <td>0.008564</td>\n",
       "      <td>0.009666</td>\n",
       "      <td>...</td>\n",
       "      <td>-0.007954</td>\n",
       "      <td>0.000922</td>\n",
       "      <td>0.004931</td>\n",
       "      <td>0.003817</td>\n",
       "      <td>0.004568</td>\n",
       "      <td>0.004172</td>\n",
       "      <td>0.005230</td>\n",
       "      <td>0.009276</td>\n",
       "      <td>0.009688</td>\n",
       "      <td>0.009368</td>\n",
       "    </tr>\n",
       "    <tr>\n",
       "      <th>12</th>\n",
       "      <td>C#4</td>\n",
       "      <td></td>\n",
       "      <td>0.007480</td>\n",
       "      <td>0.009311</td>\n",
       "      <td>0.005534</td>\n",
       "      <td>0.109231</td>\n",
       "      <td>-0.010476</td>\n",
       "      <td>-0.020544</td>\n",
       "      <td>-0.029628</td>\n",
       "      <td>-0.037559</td>\n",
       "      <td>...</td>\n",
       "      <td>-0.012773</td>\n",
       "      <td>-0.020230</td>\n",
       "      <td>-0.018577</td>\n",
       "      <td>-0.014092</td>\n",
       "      <td>-0.012037</td>\n",
       "      <td>-0.006681</td>\n",
       "      <td>-0.000739</td>\n",
       "      <td>-0.002071</td>\n",
       "      <td>-0.009576</td>\n",
       "      <td>-0.015962</td>\n",
       "    </tr>\n",
       "    <tr>\n",
       "      <th>13</th>\n",
       "      <td>D4</td>\n",
       "      <td></td>\n",
       "      <td>0.003606</td>\n",
       "      <td>0.001744</td>\n",
       "      <td>-0.003810</td>\n",
       "      <td>-0.091598</td>\n",
       "      <td>0.052072</td>\n",
       "      <td>-0.002655</td>\n",
       "      <td>-0.001421</td>\n",
       "      <td>0.000784</td>\n",
       "      <td>...</td>\n",
       "      <td>0.002406</td>\n",
       "      <td>-0.000536</td>\n",
       "      <td>-0.001205</td>\n",
       "      <td>-0.001574</td>\n",
       "      <td>-0.001786</td>\n",
       "      <td>0.000848</td>\n",
       "      <td>0.003344</td>\n",
       "      <td>0.004334</td>\n",
       "      <td>0.002595</td>\n",
       "      <td>-0.000809</td>\n",
       "    </tr>\n",
       "    <tr>\n",
       "      <th>14</th>\n",
       "      <td>D#4</td>\n",
       "      <td></td>\n",
       "      <td>0.008109</td>\n",
       "      <td>0.007277</td>\n",
       "      <td>-0.003969</td>\n",
       "      <td>-0.087392</td>\n",
       "      <td>-0.012094</td>\n",
       "      <td>0.003143</td>\n",
       "      <td>0.002296</td>\n",
       "      <td>0.001368</td>\n",
       "      <td>...</td>\n",
       "      <td>0.012593</td>\n",
       "      <td>0.010643</td>\n",
       "      <td>0.007622</td>\n",
       "      <td>0.005871</td>\n",
       "      <td>0.004468</td>\n",
       "      <td>0.000745</td>\n",
       "      <td>-0.003038</td>\n",
       "      <td>-0.004580</td>\n",
       "      <td>-0.001734</td>\n",
       "      <td>0.002483</td>\n",
       "    </tr>\n",
       "    <tr>\n",
       "      <th>15</th>\n",
       "      <td>E4</td>\n",
       "      <td></td>\n",
       "      <td>0.002397</td>\n",
       "      <td>0.004099</td>\n",
       "      <td>0.000086</td>\n",
       "      <td>0.047775</td>\n",
       "      <td>0.013479</td>\n",
       "      <td>-0.003359</td>\n",
       "      <td>-0.004504</td>\n",
       "      <td>-0.005223</td>\n",
       "      <td>...</td>\n",
       "      <td>-0.004050</td>\n",
       "      <td>-0.004843</td>\n",
       "      <td>-0.004685</td>\n",
       "      <td>-0.007241</td>\n",
       "      <td>-0.012485</td>\n",
       "      <td>-0.015649</td>\n",
       "      <td>-0.011676</td>\n",
       "      <td>-0.006231</td>\n",
       "      <td>-0.002921</td>\n",
       "      <td>-0.002167</td>\n",
       "    </tr>\n",
       "    <tr>\n",
       "      <th>16</th>\n",
       "      <td>F4</td>\n",
       "      <td></td>\n",
       "      <td>0.006493</td>\n",
       "      <td>0.006947</td>\n",
       "      <td>-0.000744</td>\n",
       "      <td>-0.002327</td>\n",
       "      <td>0.019502</td>\n",
       "      <td>0.015350</td>\n",
       "      <td>0.011199</td>\n",
       "      <td>0.006958</td>\n",
       "      <td>...</td>\n",
       "      <td>0.006769</td>\n",
       "      <td>0.006966</td>\n",
       "      <td>0.006251</td>\n",
       "      <td>0.006546</td>\n",
       "      <td>0.006651</td>\n",
       "      <td>0.005110</td>\n",
       "      <td>0.003143</td>\n",
       "      <td>0.004635</td>\n",
       "      <td>0.007905</td>\n",
       "      <td>0.012682</td>\n",
       "    </tr>\n",
       "    <tr>\n",
       "      <th>17</th>\n",
       "      <td>F#4</td>\n",
       "      <td></td>\n",
       "      <td>0.004340</td>\n",
       "      <td>0.003860</td>\n",
       "      <td>0.006692</td>\n",
       "      <td>0.042322</td>\n",
       "      <td>-0.008253</td>\n",
       "      <td>0.009468</td>\n",
       "      <td>0.007827</td>\n",
       "      <td>0.006927</td>\n",
       "      <td>...</td>\n",
       "      <td>0.003449</td>\n",
       "      <td>0.004477</td>\n",
       "      <td>0.008648</td>\n",
       "      <td>0.008272</td>\n",
       "      <td>0.006121</td>\n",
       "      <td>0.002667</td>\n",
       "      <td>0.001969</td>\n",
       "      <td>0.005920</td>\n",
       "      <td>0.008449</td>\n",
       "      <td>0.009931</td>\n",
       "    </tr>\n",
       "    <tr>\n",
       "      <th>18</th>\n",
       "      <td>G4</td>\n",
       "      <td></td>\n",
       "      <td>-0.003143</td>\n",
       "      <td>-0.001737</td>\n",
       "      <td>0.002770</td>\n",
       "      <td>-0.033030</td>\n",
       "      <td>-0.029362</td>\n",
       "      <td>0.004809</td>\n",
       "      <td>0.006140</td>\n",
       "      <td>0.004692</td>\n",
       "      <td>...</td>\n",
       "      <td>-0.014564</td>\n",
       "      <td>-0.012795</td>\n",
       "      <td>-0.013935</td>\n",
       "      <td>-0.014039</td>\n",
       "      <td>-0.011779</td>\n",
       "      <td>-0.006882</td>\n",
       "      <td>-0.002790</td>\n",
       "      <td>-0.000824</td>\n",
       "      <td>-0.000548</td>\n",
       "      <td>-0.000017</td>\n",
       "    </tr>\n",
       "    <tr>\n",
       "      <th>19</th>\n",
       "      <td>G#4</td>\n",
       "      <td></td>\n",
       "      <td>-0.003712</td>\n",
       "      <td>-0.004967</td>\n",
       "      <td>0.000048</td>\n",
       "      <td>-0.038554</td>\n",
       "      <td>0.026129</td>\n",
       "      <td>-0.006742</td>\n",
       "      <td>-0.005199</td>\n",
       "      <td>-0.003432</td>\n",
       "      <td>...</td>\n",
       "      <td>0.002851</td>\n",
       "      <td>0.002876</td>\n",
       "      <td>0.002335</td>\n",
       "      <td>-0.000787</td>\n",
       "      <td>0.001915</td>\n",
       "      <td>0.002262</td>\n",
       "      <td>0.002112</td>\n",
       "      <td>0.000885</td>\n",
       "      <td>-0.000248</td>\n",
       "      <td>-0.001705</td>\n",
       "    </tr>\n",
       "    <tr>\n",
       "      <th>20</th>\n",
       "      <td>A4</td>\n",
       "      <td></td>\n",
       "      <td>0.000919</td>\n",
       "      <td>0.000026</td>\n",
       "      <td>-0.005866</td>\n",
       "      <td>0.018395</td>\n",
       "      <td>-0.022644</td>\n",
       "      <td>-0.000958</td>\n",
       "      <td>-0.003328</td>\n",
       "      <td>-0.003463</td>\n",
       "      <td>...</td>\n",
       "      <td>0.001820</td>\n",
       "      <td>0.001620</td>\n",
       "      <td>-0.000975</td>\n",
       "      <td>-0.000346</td>\n",
       "      <td>0.000836</td>\n",
       "      <td>0.001053</td>\n",
       "      <td>0.001583</td>\n",
       "      <td>0.002985</td>\n",
       "      <td>0.003058</td>\n",
       "      <td>0.000626</td>\n",
       "    </tr>\n",
       "    <tr>\n",
       "      <th>21</th>\n",
       "      <td>A#4</td>\n",
       "      <td></td>\n",
       "      <td>-0.001006</td>\n",
       "      <td>-0.001609</td>\n",
       "      <td>-0.007717</td>\n",
       "      <td>-0.024193</td>\n",
       "      <td>-0.010400</td>\n",
       "      <td>0.001403</td>\n",
       "      <td>0.003697</td>\n",
       "      <td>0.001487</td>\n",
       "      <td>...</td>\n",
       "      <td>-0.001144</td>\n",
       "      <td>-0.004163</td>\n",
       "      <td>-0.003419</td>\n",
       "      <td>-0.001010</td>\n",
       "      <td>-0.000660</td>\n",
       "      <td>0.000068</td>\n",
       "      <td>0.001077</td>\n",
       "      <td>0.001472</td>\n",
       "      <td>0.000288</td>\n",
       "      <td>0.000986</td>\n",
       "    </tr>\n",
       "    <tr>\n",
       "      <th>22</th>\n",
       "      <td>B4</td>\n",
       "      <td></td>\n",
       "      <td>0.000458</td>\n",
       "      <td>-0.000426</td>\n",
       "      <td>-0.001932</td>\n",
       "      <td>0.093056</td>\n",
       "      <td>-0.009330</td>\n",
       "      <td>-0.001002</td>\n",
       "      <td>0.000210</td>\n",
       "      <td>0.002871</td>\n",
       "      <td>...</td>\n",
       "      <td>0.012437</td>\n",
       "      <td>0.007445</td>\n",
       "      <td>-0.002518</td>\n",
       "      <td>-0.005378</td>\n",
       "      <td>-0.005480</td>\n",
       "      <td>-0.006010</td>\n",
       "      <td>-0.002973</td>\n",
       "      <td>-0.003124</td>\n",
       "      <td>-0.005615</td>\n",
       "      <td>-0.003692</td>\n",
       "    </tr>\n",
       "    <tr>\n",
       "      <th>23</th>\n",
       "      <td>C5</td>\n",
       "      <td></td>\n",
       "      <td>0.001255</td>\n",
       "      <td>0.001237</td>\n",
       "      <td>-0.005560</td>\n",
       "      <td>-0.015091</td>\n",
       "      <td>-0.040105</td>\n",
       "      <td>-0.004528</td>\n",
       "      <td>-0.003409</td>\n",
       "      <td>-0.001755</td>\n",
       "      <td>...</td>\n",
       "      <td>0.000261</td>\n",
       "      <td>0.005127</td>\n",
       "      <td>0.008286</td>\n",
       "      <td>0.006204</td>\n",
       "      <td>0.001526</td>\n",
       "      <td>0.000494</td>\n",
       "      <td>-0.001318</td>\n",
       "      <td>-0.003485</td>\n",
       "      <td>-0.003653</td>\n",
       "      <td>-0.004032</td>\n",
       "    </tr>\n",
       "    <tr>\n",
       "      <th>24</th>\n",
       "      <td>C#5</td>\n",
       "      <td></td>\n",
       "      <td>-0.001567</td>\n",
       "      <td>-0.000902</td>\n",
       "      <td>-0.002903</td>\n",
       "      <td>0.040889</td>\n",
       "      <td>0.025436</td>\n",
       "      <td>0.004165</td>\n",
       "      <td>-0.000445</td>\n",
       "      <td>-0.006611</td>\n",
       "      <td>...</td>\n",
       "      <td>-0.008542</td>\n",
       "      <td>-0.005458</td>\n",
       "      <td>0.000044</td>\n",
       "      <td>0.001962</td>\n",
       "      <td>0.004286</td>\n",
       "      <td>0.006189</td>\n",
       "      <td>0.006006</td>\n",
       "      <td>0.006095</td>\n",
       "      <td>0.004591</td>\n",
       "      <td>0.002922</td>\n",
       "    </tr>\n",
       "    <tr>\n",
       "      <th>25</th>\n",
       "      <td>D5</td>\n",
       "      <td></td>\n",
       "      <td>0.002084</td>\n",
       "      <td>0.001222</td>\n",
       "      <td>-0.027814</td>\n",
       "      <td>-0.052566</td>\n",
       "      <td>-0.027211</td>\n",
       "      <td>0.009748</td>\n",
       "      <td>0.008383</td>\n",
       "      <td>0.005780</td>\n",
       "      <td>...</td>\n",
       "      <td>-0.004131</td>\n",
       "      <td>-0.004985</td>\n",
       "      <td>-0.006891</td>\n",
       "      <td>-0.007723</td>\n",
       "      <td>-0.005739</td>\n",
       "      <td>-0.001874</td>\n",
       "      <td>0.001605</td>\n",
       "      <td>0.003160</td>\n",
       "      <td>0.004188</td>\n",
       "      <td>0.007354</td>\n",
       "    </tr>\n",
       "    <tr>\n",
       "      <th>26</th>\n",
       "      <td>D#5</td>\n",
       "      <td></td>\n",
       "      <td>0.001590</td>\n",
       "      <td>0.000124</td>\n",
       "      <td>-0.027762</td>\n",
       "      <td>-0.010472</td>\n",
       "      <td>0.007471</td>\n",
       "      <td>-0.002654</td>\n",
       "      <td>0.000578</td>\n",
       "      <td>0.005148</td>\n",
       "      <td>...</td>\n",
       "      <td>0.000827</td>\n",
       "      <td>-0.000320</td>\n",
       "      <td>-0.000914</td>\n",
       "      <td>-0.000579</td>\n",
       "      <td>-0.001582</td>\n",
       "      <td>-0.005153</td>\n",
       "      <td>-0.007144</td>\n",
       "      <td>-0.006246</td>\n",
       "      <td>-0.004816</td>\n",
       "      <td>-0.003858</td>\n",
       "    </tr>\n",
       "    <tr>\n",
       "      <th>27</th>\n",
       "      <td>E5</td>\n",
       "      <td></td>\n",
       "      <td>0.003121</td>\n",
       "      <td>0.002877</td>\n",
       "      <td>-0.030736</td>\n",
       "      <td>0.064903</td>\n",
       "      <td>0.022537</td>\n",
       "      <td>0.005341</td>\n",
       "      <td>0.006897</td>\n",
       "      <td>0.006173</td>\n",
       "      <td>...</td>\n",
       "      <td>-0.003262</td>\n",
       "      <td>-0.003662</td>\n",
       "      <td>-0.002186</td>\n",
       "      <td>-0.003727</td>\n",
       "      <td>-0.006893</td>\n",
       "      <td>-0.006673</td>\n",
       "      <td>-0.002350</td>\n",
       "      <td>0.000466</td>\n",
       "      <td>0.000924</td>\n",
       "      <td>0.002671</td>\n",
       "    </tr>\n",
       "    <tr>\n",
       "      <th>28</th>\n",
       "      <td>F5</td>\n",
       "      <td></td>\n",
       "      <td>0.005306</td>\n",
       "      <td>0.003300</td>\n",
       "      <td>-0.016996</td>\n",
       "      <td>-0.023491</td>\n",
       "      <td>-0.028917</td>\n",
       "      <td>-0.006073</td>\n",
       "      <td>-0.009521</td>\n",
       "      <td>-0.009079</td>\n",
       "      <td>...</td>\n",
       "      <td>-0.008883</td>\n",
       "      <td>-0.004247</td>\n",
       "      <td>0.001256</td>\n",
       "      <td>0.005344</td>\n",
       "      <td>0.009111</td>\n",
       "      <td>0.010399</td>\n",
       "      <td>0.007808</td>\n",
       "      <td>0.003795</td>\n",
       "      <td>-0.001126</td>\n",
       "      <td>-0.003905</td>\n",
       "    </tr>\n",
       "    <tr>\n",
       "      <th>29</th>\n",
       "      <td>F#5</td>\n",
       "      <td></td>\n",
       "      <td>-0.005563</td>\n",
       "      <td>-0.004443</td>\n",
       "      <td>-0.020310</td>\n",
       "      <td>0.067721</td>\n",
       "      <td>-0.068593</td>\n",
       "      <td>-0.009789</td>\n",
       "      <td>-0.012029</td>\n",
       "      <td>-0.009515</td>\n",
       "      <td>...</td>\n",
       "      <td>-0.013017</td>\n",
       "      <td>-0.009415</td>\n",
       "      <td>-0.001658</td>\n",
       "      <td>0.004269</td>\n",
       "      <td>0.009131</td>\n",
       "      <td>0.010136</td>\n",
       "      <td>0.008756</td>\n",
       "      <td>0.006551</td>\n",
       "      <td>0.001422</td>\n",
       "      <td>-0.004454</td>\n",
       "    </tr>\n",
       "    <tr>\n",
       "      <th>...</th>\n",
       "      <td>...</td>\n",
       "      <td>...</td>\n",
       "      <td>...</td>\n",
       "      <td>...</td>\n",
       "      <td>...</td>\n",
       "      <td>...</td>\n",
       "      <td>...</td>\n",
       "      <td>...</td>\n",
       "      <td>...</td>\n",
       "      <td>...</td>\n",
       "      <td>...</td>\n",
       "      <td>...</td>\n",
       "      <td>...</td>\n",
       "      <td>...</td>\n",
       "      <td>...</td>\n",
       "      <td>...</td>\n",
       "      <td>...</td>\n",
       "      <td>...</td>\n",
       "      <td>...</td>\n",
       "      <td>...</td>\n",
       "      <td>...</td>\n",
       "    </tr>\n",
       "    <tr>\n",
       "      <th>670</th>\n",
       "      <td>F#3</td>\n",
       "      <td></td>\n",
       "      <td>0.005608</td>\n",
       "      <td>0.003406</td>\n",
       "      <td>0.012790</td>\n",
       "      <td>0.138942</td>\n",
       "      <td>-0.035354</td>\n",
       "      <td>0.010146</td>\n",
       "      <td>0.009330</td>\n",
       "      <td>0.009554</td>\n",
       "      <td>...</td>\n",
       "      <td>0.018000</td>\n",
       "      <td>0.015010</td>\n",
       "      <td>0.010883</td>\n",
       "      <td>0.012078</td>\n",
       "      <td>0.011172</td>\n",
       "      <td>0.012574</td>\n",
       "      <td>0.016301</td>\n",
       "      <td>0.010887</td>\n",
       "      <td>0.007463</td>\n",
       "      <td>0.011418</td>\n",
       "    </tr>\n",
       "    <tr>\n",
       "      <th>671</th>\n",
       "      <td>G3</td>\n",
       "      <td></td>\n",
       "      <td>-0.029388</td>\n",
       "      <td>-0.022276</td>\n",
       "      <td>0.002669</td>\n",
       "      <td>-0.039695</td>\n",
       "      <td>0.109718</td>\n",
       "      <td>0.002853</td>\n",
       "      <td>0.000594</td>\n",
       "      <td>0.003685</td>\n",
       "      <td>...</td>\n",
       "      <td>-0.022081</td>\n",
       "      <td>-0.022743</td>\n",
       "      <td>-0.017453</td>\n",
       "      <td>-0.012426</td>\n",
       "      <td>-0.009296</td>\n",
       "      <td>-0.003954</td>\n",
       "      <td>0.003951</td>\n",
       "      <td>0.008988</td>\n",
       "      <td>0.008478</td>\n",
       "      <td>0.006146</td>\n",
       "    </tr>\n",
       "    <tr>\n",
       "      <th>672</th>\n",
       "      <td>G#3</td>\n",
       "      <td></td>\n",
       "      <td>-0.005395</td>\n",
       "      <td>-0.003804</td>\n",
       "      <td>0.029483</td>\n",
       "      <td>-0.039912</td>\n",
       "      <td>-0.023829</td>\n",
       "      <td>-0.002898</td>\n",
       "      <td>-0.002205</td>\n",
       "      <td>0.000040</td>\n",
       "      <td>...</td>\n",
       "      <td>-0.013994</td>\n",
       "      <td>-0.009744</td>\n",
       "      <td>-0.002006</td>\n",
       "      <td>0.006548</td>\n",
       "      <td>0.010651</td>\n",
       "      <td>0.009655</td>\n",
       "      <td>0.008458</td>\n",
       "      <td>0.006913</td>\n",
       "      <td>0.002626</td>\n",
       "      <td>-0.001360</td>\n",
       "    </tr>\n",
       "    <tr>\n",
       "      <th>673</th>\n",
       "      <td>A3</td>\n",
       "      <td></td>\n",
       "      <td>-0.000462</td>\n",
       "      <td>0.000667</td>\n",
       "      <td>0.025361</td>\n",
       "      <td>-0.052345</td>\n",
       "      <td>0.014103</td>\n",
       "      <td>0.002953</td>\n",
       "      <td>0.000288</td>\n",
       "      <td>0.002184</td>\n",
       "      <td>...</td>\n",
       "      <td>-0.017517</td>\n",
       "      <td>-0.013837</td>\n",
       "      <td>-0.009074</td>\n",
       "      <td>-0.004898</td>\n",
       "      <td>-0.003116</td>\n",
       "      <td>-0.002177</td>\n",
       "      <td>-0.000384</td>\n",
       "      <td>0.002593</td>\n",
       "      <td>0.004862</td>\n",
       "      <td>0.005784</td>\n",
       "    </tr>\n",
       "    <tr>\n",
       "      <th>674</th>\n",
       "      <td>A#3</td>\n",
       "      <td></td>\n",
       "      <td>-0.002216</td>\n",
       "      <td>-0.001955</td>\n",
       "      <td>0.011126</td>\n",
       "      <td>-0.009852</td>\n",
       "      <td>0.016688</td>\n",
       "      <td>0.004066</td>\n",
       "      <td>0.006676</td>\n",
       "      <td>0.004748</td>\n",
       "      <td>...</td>\n",
       "      <td>0.011155</td>\n",
       "      <td>0.014487</td>\n",
       "      <td>0.011614</td>\n",
       "      <td>0.006698</td>\n",
       "      <td>0.001596</td>\n",
       "      <td>-0.003948</td>\n",
       "      <td>-0.010066</td>\n",
       "      <td>-0.014512</td>\n",
       "      <td>-0.013861</td>\n",
       "      <td>-0.005339</td>\n",
       "    </tr>\n",
       "    <tr>\n",
       "      <th>675</th>\n",
       "      <td>B3</td>\n",
       "      <td></td>\n",
       "      <td>-0.000256</td>\n",
       "      <td>0.003045</td>\n",
       "      <td>0.022288</td>\n",
       "      <td>-0.186814</td>\n",
       "      <td>0.033116</td>\n",
       "      <td>0.001317</td>\n",
       "      <td>0.002033</td>\n",
       "      <td>0.005942</td>\n",
       "      <td>...</td>\n",
       "      <td>0.010068</td>\n",
       "      <td>0.008041</td>\n",
       "      <td>0.012347</td>\n",
       "      <td>0.016982</td>\n",
       "      <td>0.012373</td>\n",
       "      <td>0.001791</td>\n",
       "      <td>-0.002818</td>\n",
       "      <td>-0.000027</td>\n",
       "      <td>0.002938</td>\n",
       "      <td>0.003038</td>\n",
       "    </tr>\n",
       "    <tr>\n",
       "      <th>676</th>\n",
       "      <td>C4</td>\n",
       "      <td></td>\n",
       "      <td>-0.008104</td>\n",
       "      <td>-0.007724</td>\n",
       "      <td>0.007055</td>\n",
       "      <td>-0.033385</td>\n",
       "      <td>-0.066623</td>\n",
       "      <td>0.010417</td>\n",
       "      <td>0.005939</td>\n",
       "      <td>0.003378</td>\n",
       "      <td>...</td>\n",
       "      <td>0.011687</td>\n",
       "      <td>0.009138</td>\n",
       "      <td>0.010304</td>\n",
       "      <td>0.012223</td>\n",
       "      <td>0.010779</td>\n",
       "      <td>0.005908</td>\n",
       "      <td>0.001716</td>\n",
       "      <td>0.003114</td>\n",
       "      <td>0.007231</td>\n",
       "      <td>0.010441</td>\n",
       "    </tr>\n",
       "    <tr>\n",
       "      <th>677</th>\n",
       "      <td>C#4</td>\n",
       "      <td></td>\n",
       "      <td>0.003128</td>\n",
       "      <td>0.001317</td>\n",
       "      <td>0.012460</td>\n",
       "      <td>-0.059800</td>\n",
       "      <td>-0.008049</td>\n",
       "      <td>0.009386</td>\n",
       "      <td>0.009376</td>\n",
       "      <td>0.007918</td>\n",
       "      <td>...</td>\n",
       "      <td>-0.003648</td>\n",
       "      <td>0.001003</td>\n",
       "      <td>0.004710</td>\n",
       "      <td>0.005494</td>\n",
       "      <td>0.008928</td>\n",
       "      <td>0.014791</td>\n",
       "      <td>0.020017</td>\n",
       "      <td>0.021393</td>\n",
       "      <td>0.018438</td>\n",
       "      <td>0.013040</td>\n",
       "    </tr>\n",
       "    <tr>\n",
       "      <th>678</th>\n",
       "      <td>D4</td>\n",
       "      <td></td>\n",
       "      <td>0.001416</td>\n",
       "      <td>0.002131</td>\n",
       "      <td>0.011728</td>\n",
       "      <td>-0.326614</td>\n",
       "      <td>0.048544</td>\n",
       "      <td>0.000881</td>\n",
       "      <td>0.004300</td>\n",
       "      <td>0.005671</td>\n",
       "      <td>...</td>\n",
       "      <td>0.007683</td>\n",
       "      <td>0.005460</td>\n",
       "      <td>0.004869</td>\n",
       "      <td>0.004718</td>\n",
       "      <td>0.003735</td>\n",
       "      <td>0.002596</td>\n",
       "      <td>0.001339</td>\n",
       "      <td>-0.002780</td>\n",
       "      <td>-0.007587</td>\n",
       "      <td>-0.004944</td>\n",
       "    </tr>\n",
       "    <tr>\n",
       "      <th>679</th>\n",
       "      <td>D#4</td>\n",
       "      <td></td>\n",
       "      <td>0.004494</td>\n",
       "      <td>0.003092</td>\n",
       "      <td>-0.008672</td>\n",
       "      <td>-0.011633</td>\n",
       "      <td>0.019516</td>\n",
       "      <td>0.008285</td>\n",
       "      <td>0.001109</td>\n",
       "      <td>-0.000393</td>\n",
       "      <td>...</td>\n",
       "      <td>0.022666</td>\n",
       "      <td>0.021540</td>\n",
       "      <td>0.016904</td>\n",
       "      <td>0.013119</td>\n",
       "      <td>0.012320</td>\n",
       "      <td>0.014529</td>\n",
       "      <td>0.015629</td>\n",
       "      <td>0.013581</td>\n",
       "      <td>0.011503</td>\n",
       "      <td>0.011634</td>\n",
       "    </tr>\n",
       "    <tr>\n",
       "      <th>680</th>\n",
       "      <td>E4</td>\n",
       "      <td></td>\n",
       "      <td>-0.001653</td>\n",
       "      <td>0.001073</td>\n",
       "      <td>0.011465</td>\n",
       "      <td>0.104634</td>\n",
       "      <td>-0.093623</td>\n",
       "      <td>-0.019969</td>\n",
       "      <td>-0.021672</td>\n",
       "      <td>-0.014616</td>\n",
       "      <td>...</td>\n",
       "      <td>-0.017900</td>\n",
       "      <td>-0.018688</td>\n",
       "      <td>-0.024769</td>\n",
       "      <td>-0.030412</td>\n",
       "      <td>-0.029928</td>\n",
       "      <td>-0.025104</td>\n",
       "      <td>-0.019910</td>\n",
       "      <td>-0.016508</td>\n",
       "      <td>-0.015885</td>\n",
       "      <td>-0.017503</td>\n",
       "    </tr>\n",
       "    <tr>\n",
       "      <th>681</th>\n",
       "      <td>F4</td>\n",
       "      <td></td>\n",
       "      <td>0.002986</td>\n",
       "      <td>0.004793</td>\n",
       "      <td>-0.008748</td>\n",
       "      <td>0.104052</td>\n",
       "      <td>-0.045778</td>\n",
       "      <td>0.001101</td>\n",
       "      <td>0.002904</td>\n",
       "      <td>0.003485</td>\n",
       "      <td>...</td>\n",
       "      <td>-0.011158</td>\n",
       "      <td>-0.002269</td>\n",
       "      <td>0.004799</td>\n",
       "      <td>0.008432</td>\n",
       "      <td>0.009262</td>\n",
       "      <td>0.008737</td>\n",
       "      <td>0.008004</td>\n",
       "      <td>0.006875</td>\n",
       "      <td>0.004698</td>\n",
       "      <td>0.001856</td>\n",
       "    </tr>\n",
       "    <tr>\n",
       "      <th>682</th>\n",
       "      <td>F#4</td>\n",
       "      <td></td>\n",
       "      <td>0.000524</td>\n",
       "      <td>-0.000651</td>\n",
       "      <td>-0.006717</td>\n",
       "      <td>-0.104913</td>\n",
       "      <td>0.056322</td>\n",
       "      <td>0.004414</td>\n",
       "      <td>0.008271</td>\n",
       "      <td>0.011514</td>\n",
       "      <td>...</td>\n",
       "      <td>-0.017230</td>\n",
       "      <td>-0.011026</td>\n",
       "      <td>-0.005090</td>\n",
       "      <td>-0.002468</td>\n",
       "      <td>-0.000011</td>\n",
       "      <td>0.004530</td>\n",
       "      <td>0.006828</td>\n",
       "      <td>0.005604</td>\n",
       "      <td>0.004686</td>\n",
       "      <td>0.003967</td>\n",
       "    </tr>\n",
       "    <tr>\n",
       "      <th>683</th>\n",
       "      <td>G4</td>\n",
       "      <td></td>\n",
       "      <td>-0.004793</td>\n",
       "      <td>-0.008006</td>\n",
       "      <td>-0.010454</td>\n",
       "      <td>-0.043980</td>\n",
       "      <td>0.010857</td>\n",
       "      <td>-0.017509</td>\n",
       "      <td>-0.015516</td>\n",
       "      <td>-0.009347</td>\n",
       "      <td>...</td>\n",
       "      <td>0.004090</td>\n",
       "      <td>-0.000460</td>\n",
       "      <td>-0.003141</td>\n",
       "      <td>-0.002760</td>\n",
       "      <td>-0.000996</td>\n",
       "      <td>-0.001997</td>\n",
       "      <td>-0.006678</td>\n",
       "      <td>-0.011713</td>\n",
       "      <td>-0.013155</td>\n",
       "      <td>-0.015015</td>\n",
       "    </tr>\n",
       "    <tr>\n",
       "      <th>684</th>\n",
       "      <td>G#4</td>\n",
       "      <td></td>\n",
       "      <td>-0.003516</td>\n",
       "      <td>-0.003406</td>\n",
       "      <td>-0.012661</td>\n",
       "      <td>-0.073688</td>\n",
       "      <td>0.081106</td>\n",
       "      <td>0.000331</td>\n",
       "      <td>-0.003318</td>\n",
       "      <td>-0.008253</td>\n",
       "      <td>...</td>\n",
       "      <td>-0.000568</td>\n",
       "      <td>-0.003128</td>\n",
       "      <td>-0.003434</td>\n",
       "      <td>-0.002414</td>\n",
       "      <td>-0.001459</td>\n",
       "      <td>-0.002768</td>\n",
       "      <td>-0.003760</td>\n",
       "      <td>-0.002652</td>\n",
       "      <td>-0.000424</td>\n",
       "      <td>0.001178</td>\n",
       "    </tr>\n",
       "    <tr>\n",
       "      <th>685</th>\n",
       "      <td>A4</td>\n",
       "      <td></td>\n",
       "      <td>0.003254</td>\n",
       "      <td>0.005003</td>\n",
       "      <td>-0.015723</td>\n",
       "      <td>-0.073676</td>\n",
       "      <td>0.086996</td>\n",
       "      <td>-0.000133</td>\n",
       "      <td>0.001274</td>\n",
       "      <td>0.001272</td>\n",
       "      <td>...</td>\n",
       "      <td>0.001056</td>\n",
       "      <td>-0.003406</td>\n",
       "      <td>-0.010576</td>\n",
       "      <td>-0.013396</td>\n",
       "      <td>-0.011090</td>\n",
       "      <td>-0.009554</td>\n",
       "      <td>-0.009836</td>\n",
       "      <td>-0.010840</td>\n",
       "      <td>-0.009777</td>\n",
       "      <td>-0.004427</td>\n",
       "    </tr>\n",
       "    <tr>\n",
       "      <th>686</th>\n",
       "      <td>A#4</td>\n",
       "      <td></td>\n",
       "      <td>-0.008054</td>\n",
       "      <td>-0.007245</td>\n",
       "      <td>-0.024815</td>\n",
       "      <td>0.041667</td>\n",
       "      <td>0.058946</td>\n",
       "      <td>-0.001058</td>\n",
       "      <td>-0.000704</td>\n",
       "      <td>-0.001330</td>\n",
       "      <td>...</td>\n",
       "      <td>-0.003683</td>\n",
       "      <td>0.003054</td>\n",
       "      <td>0.007014</td>\n",
       "      <td>0.008131</td>\n",
       "      <td>0.009318</td>\n",
       "      <td>0.012763</td>\n",
       "      <td>0.016681</td>\n",
       "      <td>0.013381</td>\n",
       "      <td>0.006046</td>\n",
       "      <td>0.000770</td>\n",
       "    </tr>\n",
       "    <tr>\n",
       "      <th>687</th>\n",
       "      <td>B4</td>\n",
       "      <td></td>\n",
       "      <td>0.001832</td>\n",
       "      <td>0.006256</td>\n",
       "      <td>-0.009808</td>\n",
       "      <td>0.060609</td>\n",
       "      <td>0.065483</td>\n",
       "      <td>-0.001213</td>\n",
       "      <td>-0.005236</td>\n",
       "      <td>-0.010752</td>\n",
       "      <td>...</td>\n",
       "      <td>0.009913</td>\n",
       "      <td>0.012360</td>\n",
       "      <td>0.009591</td>\n",
       "      <td>0.006524</td>\n",
       "      <td>0.004395</td>\n",
       "      <td>-0.001717</td>\n",
       "      <td>-0.005098</td>\n",
       "      <td>-0.004839</td>\n",
       "      <td>-0.002268</td>\n",
       "      <td>0.001193</td>\n",
       "    </tr>\n",
       "    <tr>\n",
       "      <th>688</th>\n",
       "      <td>C5</td>\n",
       "      <td></td>\n",
       "      <td>-0.001902</td>\n",
       "      <td>-0.000164</td>\n",
       "      <td>-0.007557</td>\n",
       "      <td>-0.087007</td>\n",
       "      <td>-0.170233</td>\n",
       "      <td>0.002947</td>\n",
       "      <td>0.007002</td>\n",
       "      <td>0.008506</td>\n",
       "      <td>...</td>\n",
       "      <td>-0.005847</td>\n",
       "      <td>-0.008910</td>\n",
       "      <td>-0.011363</td>\n",
       "      <td>-0.013942</td>\n",
       "      <td>-0.013508</td>\n",
       "      <td>-0.013553</td>\n",
       "      <td>-0.009723</td>\n",
       "      <td>-0.004623</td>\n",
       "      <td>-0.003542</td>\n",
       "      <td>-0.000763</td>\n",
       "    </tr>\n",
       "    <tr>\n",
       "      <th>689</th>\n",
       "      <td>C#5</td>\n",
       "      <td></td>\n",
       "      <td>0.007453</td>\n",
       "      <td>0.008152</td>\n",
       "      <td>-0.013803</td>\n",
       "      <td>0.095105</td>\n",
       "      <td>-0.070866</td>\n",
       "      <td>0.000724</td>\n",
       "      <td>-0.000055</td>\n",
       "      <td>-0.002565</td>\n",
       "      <td>...</td>\n",
       "      <td>0.007947</td>\n",
       "      <td>0.003022</td>\n",
       "      <td>-0.000949</td>\n",
       "      <td>0.001404</td>\n",
       "      <td>0.006208</td>\n",
       "      <td>0.010786</td>\n",
       "      <td>0.014991</td>\n",
       "      <td>0.012276</td>\n",
       "      <td>0.007881</td>\n",
       "      <td>0.003161</td>\n",
       "    </tr>\n",
       "    <tr>\n",
       "      <th>690</th>\n",
       "      <td>D5</td>\n",
       "      <td></td>\n",
       "      <td>-0.000476</td>\n",
       "      <td>-0.002009</td>\n",
       "      <td>-0.007355</td>\n",
       "      <td>-0.193341</td>\n",
       "      <td>-0.147316</td>\n",
       "      <td>0.014271</td>\n",
       "      <td>0.010378</td>\n",
       "      <td>0.007974</td>\n",
       "      <td>...</td>\n",
       "      <td>-0.018673</td>\n",
       "      <td>-0.016436</td>\n",
       "      <td>-0.014072</td>\n",
       "      <td>-0.009541</td>\n",
       "      <td>-0.006439</td>\n",
       "      <td>-0.004388</td>\n",
       "      <td>0.000021</td>\n",
       "      <td>0.005579</td>\n",
       "      <td>0.011040</td>\n",
       "      <td>0.014928</td>\n",
       "    </tr>\n",
       "    <tr>\n",
       "      <th>691</th>\n",
       "      <td>D#5</td>\n",
       "      <td></td>\n",
       "      <td>0.003773</td>\n",
       "      <td>0.003626</td>\n",
       "      <td>-0.012563</td>\n",
       "      <td>-0.029753</td>\n",
       "      <td>0.037500</td>\n",
       "      <td>0.000747</td>\n",
       "      <td>0.007828</td>\n",
       "      <td>0.010130</td>\n",
       "      <td>...</td>\n",
       "      <td>-0.004418</td>\n",
       "      <td>-0.008533</td>\n",
       "      <td>-0.015608</td>\n",
       "      <td>-0.017806</td>\n",
       "      <td>-0.015646</td>\n",
       "      <td>-0.015931</td>\n",
       "      <td>-0.014712</td>\n",
       "      <td>-0.009917</td>\n",
       "      <td>-0.009533</td>\n",
       "      <td>-0.008236</td>\n",
       "    </tr>\n",
       "    <tr>\n",
       "      <th>692</th>\n",
       "      <td>E5</td>\n",
       "      <td></td>\n",
       "      <td>0.000836</td>\n",
       "      <td>0.000773</td>\n",
       "      <td>-0.003668</td>\n",
       "      <td>0.122967</td>\n",
       "      <td>0.006143</td>\n",
       "      <td>0.007087</td>\n",
       "      <td>0.005494</td>\n",
       "      <td>0.011266</td>\n",
       "      <td>...</td>\n",
       "      <td>-0.012029</td>\n",
       "      <td>-0.013627</td>\n",
       "      <td>-0.014266</td>\n",
       "      <td>-0.013456</td>\n",
       "      <td>-0.016031</td>\n",
       "      <td>-0.012732</td>\n",
       "      <td>-0.002505</td>\n",
       "      <td>0.003107</td>\n",
       "      <td>0.005206</td>\n",
       "      <td>0.008674</td>\n",
       "    </tr>\n",
       "    <tr>\n",
       "      <th>693</th>\n",
       "      <td>F5</td>\n",
       "      <td></td>\n",
       "      <td>0.001398</td>\n",
       "      <td>0.003664</td>\n",
       "      <td>-0.022195</td>\n",
       "      <td>-0.047067</td>\n",
       "      <td>-0.124661</td>\n",
       "      <td>-0.007244</td>\n",
       "      <td>-0.012319</td>\n",
       "      <td>-0.016312</td>\n",
       "      <td>...</td>\n",
       "      <td>0.015654</td>\n",
       "      <td>0.015933</td>\n",
       "      <td>0.017439</td>\n",
       "      <td>0.018729</td>\n",
       "      <td>0.016773</td>\n",
       "      <td>0.013204</td>\n",
       "      <td>0.009264</td>\n",
       "      <td>0.004892</td>\n",
       "      <td>0.000447</td>\n",
       "      <td>-0.003000</td>\n",
       "    </tr>\n",
       "    <tr>\n",
       "      <th>694</th>\n",
       "      <td>F#5</td>\n",
       "      <td></td>\n",
       "      <td>-0.000334</td>\n",
       "      <td>-0.000964</td>\n",
       "      <td>-0.013505</td>\n",
       "      <td>-0.149842</td>\n",
       "      <td>0.055305</td>\n",
       "      <td>-0.000986</td>\n",
       "      <td>-0.006045</td>\n",
       "      <td>-0.007435</td>\n",
       "      <td>...</td>\n",
       "      <td>0.001735</td>\n",
       "      <td>0.005212</td>\n",
       "      <td>0.009675</td>\n",
       "      <td>0.011714</td>\n",
       "      <td>0.010563</td>\n",
       "      <td>0.009405</td>\n",
       "      <td>0.008727</td>\n",
       "      <td>0.007460</td>\n",
       "      <td>0.005978</td>\n",
       "      <td>0.003681</td>\n",
       "    </tr>\n",
       "    <tr>\n",
       "      <th>695</th>\n",
       "      <td>G5</td>\n",
       "      <td></td>\n",
       "      <td>0.000702</td>\n",
       "      <td>0.001106</td>\n",
       "      <td>-0.008251</td>\n",
       "      <td>0.034691</td>\n",
       "      <td>0.086499</td>\n",
       "      <td>0.000924</td>\n",
       "      <td>0.007449</td>\n",
       "      <td>0.012103</td>\n",
       "      <td>...</td>\n",
       "      <td>-0.003081</td>\n",
       "      <td>-0.005681</td>\n",
       "      <td>-0.010662</td>\n",
       "      <td>-0.014866</td>\n",
       "      <td>-0.017385</td>\n",
       "      <td>-0.018796</td>\n",
       "      <td>-0.017224</td>\n",
       "      <td>-0.013160</td>\n",
       "      <td>-0.008474</td>\n",
       "      <td>-0.004139</td>\n",
       "    </tr>\n",
       "    <tr>\n",
       "      <th>696</th>\n",
       "      <td>G#5</td>\n",
       "      <td></td>\n",
       "      <td>-0.000403</td>\n",
       "      <td>-0.001701</td>\n",
       "      <td>-0.014564</td>\n",
       "      <td>0.145466</td>\n",
       "      <td>-0.046061</td>\n",
       "      <td>0.008719</td>\n",
       "      <td>0.005074</td>\n",
       "      <td>0.002318</td>\n",
       "      <td>...</td>\n",
       "      <td>-0.009549</td>\n",
       "      <td>-0.008002</td>\n",
       "      <td>-0.004051</td>\n",
       "      <td>0.000516</td>\n",
       "      <td>0.002937</td>\n",
       "      <td>0.006263</td>\n",
       "      <td>0.008583</td>\n",
       "      <td>0.010925</td>\n",
       "      <td>0.011883</td>\n",
       "      <td>0.010596</td>\n",
       "    </tr>\n",
       "    <tr>\n",
       "      <th>697</th>\n",
       "      <td>A5</td>\n",
       "      <td></td>\n",
       "      <td>0.000356</td>\n",
       "      <td>-0.000921</td>\n",
       "      <td>-0.019268</td>\n",
       "      <td>-0.035130</td>\n",
       "      <td>0.077508</td>\n",
       "      <td>0.011773</td>\n",
       "      <td>0.010059</td>\n",
       "      <td>0.007776</td>\n",
       "      <td>...</td>\n",
       "      <td>-0.015113</td>\n",
       "      <td>-0.013544</td>\n",
       "      <td>-0.010711</td>\n",
       "      <td>-0.006179</td>\n",
       "      <td>-0.001812</td>\n",
       "      <td>0.001956</td>\n",
       "      <td>0.007194</td>\n",
       "      <td>0.012668</td>\n",
       "      <td>0.016359</td>\n",
       "      <td>0.013982</td>\n",
       "    </tr>\n",
       "    <tr>\n",
       "      <th>698</th>\n",
       "      <td>A#5</td>\n",
       "      <td></td>\n",
       "      <td>0.000646</td>\n",
       "      <td>-0.001316</td>\n",
       "      <td>-0.024406</td>\n",
       "      <td>-0.130427</td>\n",
       "      <td>0.029468</td>\n",
       "      <td>0.000925</td>\n",
       "      <td>0.005419</td>\n",
       "      <td>0.006130</td>\n",
       "      <td>...</td>\n",
       "      <td>0.005910</td>\n",
       "      <td>0.003456</td>\n",
       "      <td>-0.001496</td>\n",
       "      <td>-0.005909</td>\n",
       "      <td>-0.007794</td>\n",
       "      <td>-0.006999</td>\n",
       "      <td>-0.007260</td>\n",
       "      <td>-0.008578</td>\n",
       "      <td>-0.007839</td>\n",
       "      <td>-0.004872</td>\n",
       "    </tr>\n",
       "    <tr>\n",
       "      <th>699</th>\n",
       "      <td>B5</td>\n",
       "      <td></td>\n",
       "      <td>0.000425</td>\n",
       "      <td>-0.002954</td>\n",
       "      <td>-0.003628</td>\n",
       "      <td>0.072861</td>\n",
       "      <td>-0.127126</td>\n",
       "      <td>-0.007604</td>\n",
       "      <td>-0.008588</td>\n",
       "      <td>-0.007442</td>\n",
       "      <td>...</td>\n",
       "      <td>0.000884</td>\n",
       "      <td>0.001313</td>\n",
       "      <td>0.003349</td>\n",
       "      <td>0.005120</td>\n",
       "      <td>0.007381</td>\n",
       "      <td>0.008206</td>\n",
       "      <td>0.005653</td>\n",
       "      <td>0.000616</td>\n",
       "      <td>-0.002166</td>\n",
       "      <td>-0.004269</td>\n",
       "    </tr>\n",
       "  </tbody>\n",
       "</table>\n",
       "<p>700 rows × 16002 columns</p>\n",
       "</div>"
      ],
      "text/plain": [
       "    Note Piano        x0        x1       x10      x100     x1000    x10000  \\\n",
       "0    C#3        0.001465  0.001681 -0.003332 -0.085601  0.027263 -0.017232   \n",
       "1     D3       -0.008995 -0.013210 -0.001074  0.030163  0.011829 -0.037716   \n",
       "2    D#3       -0.009459 -0.008396  0.000469 -0.074676 -0.072720 -0.018720   \n",
       "3     E3        0.009730  0.016409  0.019059 -0.009557 -0.049355 -0.015189   \n",
       "4     F3       -0.016608 -0.018866 -0.008605 -0.076572 -0.018510  0.000989   \n",
       "5    F#3       -0.008436 -0.007619 -0.007377 -0.009701  0.023271  0.005038   \n",
       "6     G3        0.013239  0.015854  0.021802 -0.068972 -0.077696 -0.025511   \n",
       "7    G#3        0.009295  0.013564  0.016822 -0.100063  0.072344 -0.001624   \n",
       "8     A3        0.005631  0.006369 -0.006200 -0.044597  0.078689 -0.008436   \n",
       "9    A#3        0.001156  0.000137 -0.006675 -0.005024 -0.076027  0.009098   \n",
       "10    B3       -0.002136 -0.004288  0.005947  0.039708 -0.043338 -0.014497   \n",
       "11    C4        0.004061  0.005644 -0.005521  0.047374 -0.032188  0.009148   \n",
       "12   C#4        0.007480  0.009311  0.005534  0.109231 -0.010476 -0.020544   \n",
       "13    D4        0.003606  0.001744 -0.003810 -0.091598  0.052072 -0.002655   \n",
       "14   D#4        0.008109  0.007277 -0.003969 -0.087392 -0.012094  0.003143   \n",
       "15    E4        0.002397  0.004099  0.000086  0.047775  0.013479 -0.003359   \n",
       "16    F4        0.006493  0.006947 -0.000744 -0.002327  0.019502  0.015350   \n",
       "17   F#4        0.004340  0.003860  0.006692  0.042322 -0.008253  0.009468   \n",
       "18    G4       -0.003143 -0.001737  0.002770 -0.033030 -0.029362  0.004809   \n",
       "19   G#4       -0.003712 -0.004967  0.000048 -0.038554  0.026129 -0.006742   \n",
       "20    A4        0.000919  0.000026 -0.005866  0.018395 -0.022644 -0.000958   \n",
       "21   A#4       -0.001006 -0.001609 -0.007717 -0.024193 -0.010400  0.001403   \n",
       "22    B4        0.000458 -0.000426 -0.001932  0.093056 -0.009330 -0.001002   \n",
       "23    C5        0.001255  0.001237 -0.005560 -0.015091 -0.040105 -0.004528   \n",
       "24   C#5       -0.001567 -0.000902 -0.002903  0.040889  0.025436  0.004165   \n",
       "25    D5        0.002084  0.001222 -0.027814 -0.052566 -0.027211  0.009748   \n",
       "26   D#5        0.001590  0.000124 -0.027762 -0.010472  0.007471 -0.002654   \n",
       "27    E5        0.003121  0.002877 -0.030736  0.064903  0.022537  0.005341   \n",
       "28    F5        0.005306  0.003300 -0.016996 -0.023491 -0.028917 -0.006073   \n",
       "29   F#5       -0.005563 -0.004443 -0.020310  0.067721 -0.068593 -0.009789   \n",
       "..   ...   ...       ...       ...       ...       ...       ...       ...   \n",
       "670  F#3        0.005608  0.003406  0.012790  0.138942 -0.035354  0.010146   \n",
       "671   G3       -0.029388 -0.022276  0.002669 -0.039695  0.109718  0.002853   \n",
       "672  G#3       -0.005395 -0.003804  0.029483 -0.039912 -0.023829 -0.002898   \n",
       "673   A3       -0.000462  0.000667  0.025361 -0.052345  0.014103  0.002953   \n",
       "674  A#3       -0.002216 -0.001955  0.011126 -0.009852  0.016688  0.004066   \n",
       "675   B3       -0.000256  0.003045  0.022288 -0.186814  0.033116  0.001317   \n",
       "676   C4       -0.008104 -0.007724  0.007055 -0.033385 -0.066623  0.010417   \n",
       "677  C#4        0.003128  0.001317  0.012460 -0.059800 -0.008049  0.009386   \n",
       "678   D4        0.001416  0.002131  0.011728 -0.326614  0.048544  0.000881   \n",
       "679  D#4        0.004494  0.003092 -0.008672 -0.011633  0.019516  0.008285   \n",
       "680   E4       -0.001653  0.001073  0.011465  0.104634 -0.093623 -0.019969   \n",
       "681   F4        0.002986  0.004793 -0.008748  0.104052 -0.045778  0.001101   \n",
       "682  F#4        0.000524 -0.000651 -0.006717 -0.104913  0.056322  0.004414   \n",
       "683   G4       -0.004793 -0.008006 -0.010454 -0.043980  0.010857 -0.017509   \n",
       "684  G#4       -0.003516 -0.003406 -0.012661 -0.073688  0.081106  0.000331   \n",
       "685   A4        0.003254  0.005003 -0.015723 -0.073676  0.086996 -0.000133   \n",
       "686  A#4       -0.008054 -0.007245 -0.024815  0.041667  0.058946 -0.001058   \n",
       "687   B4        0.001832  0.006256 -0.009808  0.060609  0.065483 -0.001213   \n",
       "688   C5       -0.001902 -0.000164 -0.007557 -0.087007 -0.170233  0.002947   \n",
       "689  C#5        0.007453  0.008152 -0.013803  0.095105 -0.070866  0.000724   \n",
       "690   D5       -0.000476 -0.002009 -0.007355 -0.193341 -0.147316  0.014271   \n",
       "691  D#5        0.003773  0.003626 -0.012563 -0.029753  0.037500  0.000747   \n",
       "692   E5        0.000836  0.000773 -0.003668  0.122967  0.006143  0.007087   \n",
       "693   F5        0.001398  0.003664 -0.022195 -0.047067 -0.124661 -0.007244   \n",
       "694  F#5       -0.000334 -0.000964 -0.013505 -0.149842  0.055305 -0.000986   \n",
       "695   G5        0.000702  0.001106 -0.008251  0.034691  0.086499  0.000924   \n",
       "696  G#5       -0.000403 -0.001701 -0.014564  0.145466 -0.046061  0.008719   \n",
       "697   A5        0.000356 -0.000921 -0.019268 -0.035130  0.077508  0.011773   \n",
       "698  A#5        0.000646 -0.001316 -0.024406 -0.130427  0.029468  0.000925   \n",
       "699   B5        0.000425 -0.002954 -0.003628  0.072861 -0.127126 -0.007604   \n",
       "\n",
       "       x10001    x10002  ...     x9990     x9991     x9992     x9993  \\\n",
       "0   -0.017911 -0.015474  ... -0.057110 -0.053847 -0.055972 -0.063948   \n",
       "1   -0.041193 -0.036609  ...  0.023882  0.015125  0.006958 -0.000051   \n",
       "2   -0.029227 -0.034730  ... -0.020182 -0.020823 -0.026093 -0.027968   \n",
       "3   -0.015596 -0.009794  ...  0.016486  0.012219  0.008654  0.010368   \n",
       "4   -0.002783 -0.006584  ...  0.032499  0.027350  0.026474  0.028012   \n",
       "5    0.010505  0.009393  ... -0.016079 -0.014822 -0.005416  0.001201   \n",
       "6   -0.016501 -0.008872  ... -0.038085 -0.042781 -0.047658 -0.050627   \n",
       "7   -0.006659 -0.008479  ...  0.009683  0.012426  0.013523  0.010411   \n",
       "8   -0.013056 -0.012430  ...  0.013361  0.013583  0.006056  0.004613   \n",
       "9    0.009041  0.012218  ... -0.010935 -0.016810 -0.016493 -0.009147   \n",
       "10  -0.004125  0.004290  ... -0.007560 -0.009694 -0.017567 -0.027858   \n",
       "11   0.008564  0.009666  ... -0.007954  0.000922  0.004931  0.003817   \n",
       "12  -0.029628 -0.037559  ... -0.012773 -0.020230 -0.018577 -0.014092   \n",
       "13  -0.001421  0.000784  ...  0.002406 -0.000536 -0.001205 -0.001574   \n",
       "14   0.002296  0.001368  ...  0.012593  0.010643  0.007622  0.005871   \n",
       "15  -0.004504 -0.005223  ... -0.004050 -0.004843 -0.004685 -0.007241   \n",
       "16   0.011199  0.006958  ...  0.006769  0.006966  0.006251  0.006546   \n",
       "17   0.007827  0.006927  ...  0.003449  0.004477  0.008648  0.008272   \n",
       "18   0.006140  0.004692  ... -0.014564 -0.012795 -0.013935 -0.014039   \n",
       "19  -0.005199 -0.003432  ...  0.002851  0.002876  0.002335 -0.000787   \n",
       "20  -0.003328 -0.003463  ...  0.001820  0.001620 -0.000975 -0.000346   \n",
       "21   0.003697  0.001487  ... -0.001144 -0.004163 -0.003419 -0.001010   \n",
       "22   0.000210  0.002871  ...  0.012437  0.007445 -0.002518 -0.005378   \n",
       "23  -0.003409 -0.001755  ...  0.000261  0.005127  0.008286  0.006204   \n",
       "24  -0.000445 -0.006611  ... -0.008542 -0.005458  0.000044  0.001962   \n",
       "25   0.008383  0.005780  ... -0.004131 -0.004985 -0.006891 -0.007723   \n",
       "26   0.000578  0.005148  ...  0.000827 -0.000320 -0.000914 -0.000579   \n",
       "27   0.006897  0.006173  ... -0.003262 -0.003662 -0.002186 -0.003727   \n",
       "28  -0.009521 -0.009079  ... -0.008883 -0.004247  0.001256  0.005344   \n",
       "29  -0.012029 -0.009515  ... -0.013017 -0.009415 -0.001658  0.004269   \n",
       "..        ...       ...  ...       ...       ...       ...       ...   \n",
       "670  0.009330  0.009554  ...  0.018000  0.015010  0.010883  0.012078   \n",
       "671  0.000594  0.003685  ... -0.022081 -0.022743 -0.017453 -0.012426   \n",
       "672 -0.002205  0.000040  ... -0.013994 -0.009744 -0.002006  0.006548   \n",
       "673  0.000288  0.002184  ... -0.017517 -0.013837 -0.009074 -0.004898   \n",
       "674  0.006676  0.004748  ...  0.011155  0.014487  0.011614  0.006698   \n",
       "675  0.002033  0.005942  ...  0.010068  0.008041  0.012347  0.016982   \n",
       "676  0.005939  0.003378  ...  0.011687  0.009138  0.010304  0.012223   \n",
       "677  0.009376  0.007918  ... -0.003648  0.001003  0.004710  0.005494   \n",
       "678  0.004300  0.005671  ...  0.007683  0.005460  0.004869  0.004718   \n",
       "679  0.001109 -0.000393  ...  0.022666  0.021540  0.016904  0.013119   \n",
       "680 -0.021672 -0.014616  ... -0.017900 -0.018688 -0.024769 -0.030412   \n",
       "681  0.002904  0.003485  ... -0.011158 -0.002269  0.004799  0.008432   \n",
       "682  0.008271  0.011514  ... -0.017230 -0.011026 -0.005090 -0.002468   \n",
       "683 -0.015516 -0.009347  ...  0.004090 -0.000460 -0.003141 -0.002760   \n",
       "684 -0.003318 -0.008253  ... -0.000568 -0.003128 -0.003434 -0.002414   \n",
       "685  0.001274  0.001272  ...  0.001056 -0.003406 -0.010576 -0.013396   \n",
       "686 -0.000704 -0.001330  ... -0.003683  0.003054  0.007014  0.008131   \n",
       "687 -0.005236 -0.010752  ...  0.009913  0.012360  0.009591  0.006524   \n",
       "688  0.007002  0.008506  ... -0.005847 -0.008910 -0.011363 -0.013942   \n",
       "689 -0.000055 -0.002565  ...  0.007947  0.003022 -0.000949  0.001404   \n",
       "690  0.010378  0.007974  ... -0.018673 -0.016436 -0.014072 -0.009541   \n",
       "691  0.007828  0.010130  ... -0.004418 -0.008533 -0.015608 -0.017806   \n",
       "692  0.005494  0.011266  ... -0.012029 -0.013627 -0.014266 -0.013456   \n",
       "693 -0.012319 -0.016312  ...  0.015654  0.015933  0.017439  0.018729   \n",
       "694 -0.006045 -0.007435  ...  0.001735  0.005212  0.009675  0.011714   \n",
       "695  0.007449  0.012103  ... -0.003081 -0.005681 -0.010662 -0.014866   \n",
       "696  0.005074  0.002318  ... -0.009549 -0.008002 -0.004051  0.000516   \n",
       "697  0.010059  0.007776  ... -0.015113 -0.013544 -0.010711 -0.006179   \n",
       "698  0.005419  0.006130  ...  0.005910  0.003456 -0.001496 -0.005909   \n",
       "699 -0.008588 -0.007442  ...  0.000884  0.001313  0.003349  0.005120   \n",
       "\n",
       "        x9994     x9995     x9996     x9997     x9998     x9999  \n",
       "0   -0.070374 -0.071525 -0.063825 -0.053222 -0.040445 -0.025969  \n",
       "1   -0.006389 -0.012335 -0.015986 -0.014184 -0.016138 -0.026822  \n",
       "2   -0.028771 -0.027233 -0.026755 -0.027093 -0.021920 -0.015127  \n",
       "3    0.011409  0.008565  0.006487  0.004673 -0.000184 -0.008019  \n",
       "4    0.025396  0.018985  0.013855  0.008943  0.004273  0.002611  \n",
       "5    0.000741 -0.003166 -0.004928 -0.004797 -0.005645 -0.003028  \n",
       "6   -0.045159 -0.038813 -0.038588 -0.034201 -0.031849 -0.032784  \n",
       "7    0.011525  0.010081  0.010020  0.010758  0.008308  0.006031  \n",
       "8    0.004174  0.002860  0.001550  0.002629  0.002566 -0.003975  \n",
       "9   -0.003586 -0.002326 -0.003705 -0.001640  0.002187  0.009513  \n",
       "10  -0.036001 -0.039759 -0.037889 -0.035561 -0.031232 -0.023185  \n",
       "11   0.004568  0.004172  0.005230  0.009276  0.009688  0.009368  \n",
       "12  -0.012037 -0.006681 -0.000739 -0.002071 -0.009576 -0.015962  \n",
       "13  -0.001786  0.000848  0.003344  0.004334  0.002595 -0.000809  \n",
       "14   0.004468  0.000745 -0.003038 -0.004580 -0.001734  0.002483  \n",
       "15  -0.012485 -0.015649 -0.011676 -0.006231 -0.002921 -0.002167  \n",
       "16   0.006651  0.005110  0.003143  0.004635  0.007905  0.012682  \n",
       "17   0.006121  0.002667  0.001969  0.005920  0.008449  0.009931  \n",
       "18  -0.011779 -0.006882 -0.002790 -0.000824 -0.000548 -0.000017  \n",
       "19   0.001915  0.002262  0.002112  0.000885 -0.000248 -0.001705  \n",
       "20   0.000836  0.001053  0.001583  0.002985  0.003058  0.000626  \n",
       "21  -0.000660  0.000068  0.001077  0.001472  0.000288  0.000986  \n",
       "22  -0.005480 -0.006010 -0.002973 -0.003124 -0.005615 -0.003692  \n",
       "23   0.001526  0.000494 -0.001318 -0.003485 -0.003653 -0.004032  \n",
       "24   0.004286  0.006189  0.006006  0.006095  0.004591  0.002922  \n",
       "25  -0.005739 -0.001874  0.001605  0.003160  0.004188  0.007354  \n",
       "26  -0.001582 -0.005153 -0.007144 -0.006246 -0.004816 -0.003858  \n",
       "27  -0.006893 -0.006673 -0.002350  0.000466  0.000924  0.002671  \n",
       "28   0.009111  0.010399  0.007808  0.003795 -0.001126 -0.003905  \n",
       "29   0.009131  0.010136  0.008756  0.006551  0.001422 -0.004454  \n",
       "..        ...       ...       ...       ...       ...       ...  \n",
       "670  0.011172  0.012574  0.016301  0.010887  0.007463  0.011418  \n",
       "671 -0.009296 -0.003954  0.003951  0.008988  0.008478  0.006146  \n",
       "672  0.010651  0.009655  0.008458  0.006913  0.002626 -0.001360  \n",
       "673 -0.003116 -0.002177 -0.000384  0.002593  0.004862  0.005784  \n",
       "674  0.001596 -0.003948 -0.010066 -0.014512 -0.013861 -0.005339  \n",
       "675  0.012373  0.001791 -0.002818 -0.000027  0.002938  0.003038  \n",
       "676  0.010779  0.005908  0.001716  0.003114  0.007231  0.010441  \n",
       "677  0.008928  0.014791  0.020017  0.021393  0.018438  0.013040  \n",
       "678  0.003735  0.002596  0.001339 -0.002780 -0.007587 -0.004944  \n",
       "679  0.012320  0.014529  0.015629  0.013581  0.011503  0.011634  \n",
       "680 -0.029928 -0.025104 -0.019910 -0.016508 -0.015885 -0.017503  \n",
       "681  0.009262  0.008737  0.008004  0.006875  0.004698  0.001856  \n",
       "682 -0.000011  0.004530  0.006828  0.005604  0.004686  0.003967  \n",
       "683 -0.000996 -0.001997 -0.006678 -0.011713 -0.013155 -0.015015  \n",
       "684 -0.001459 -0.002768 -0.003760 -0.002652 -0.000424  0.001178  \n",
       "685 -0.011090 -0.009554 -0.009836 -0.010840 -0.009777 -0.004427  \n",
       "686  0.009318  0.012763  0.016681  0.013381  0.006046  0.000770  \n",
       "687  0.004395 -0.001717 -0.005098 -0.004839 -0.002268  0.001193  \n",
       "688 -0.013508 -0.013553 -0.009723 -0.004623 -0.003542 -0.000763  \n",
       "689  0.006208  0.010786  0.014991  0.012276  0.007881  0.003161  \n",
       "690 -0.006439 -0.004388  0.000021  0.005579  0.011040  0.014928  \n",
       "691 -0.015646 -0.015931 -0.014712 -0.009917 -0.009533 -0.008236  \n",
       "692 -0.016031 -0.012732 -0.002505  0.003107  0.005206  0.008674  \n",
       "693  0.016773  0.013204  0.009264  0.004892  0.000447 -0.003000  \n",
       "694  0.010563  0.009405  0.008727  0.007460  0.005978  0.003681  \n",
       "695 -0.017385 -0.018796 -0.017224 -0.013160 -0.008474 -0.004139  \n",
       "696  0.002937  0.006263  0.008583  0.010925  0.011883  0.010596  \n",
       "697 -0.001812  0.001956  0.007194  0.012668  0.016359  0.013982  \n",
       "698 -0.007794 -0.006999 -0.007260 -0.008578 -0.007839 -0.004872  \n",
       "699  0.007381  0.008206  0.005653  0.000616 -0.002166 -0.004269  \n",
       "\n",
       "[700 rows x 16002 columns]"
      ]
     },
     "execution_count": 8,
     "metadata": {},
     "output_type": "execute_result"
    }
   ],
   "source": [
    "data[data[\"Piano\"] == \"\"]"
   ]
  },
  {
   "cell_type": "code",
   "execution_count": 9,
   "metadata": {},
   "outputs": [
    {
     "name": "stderr",
     "output_type": "stream",
     "text": [
      "e:\\anaconda\\envs\\tfm\\lib\\site-packages\\ipykernel_launcher.py:1: SettingWithCopyWarning: \n",
      "A value is trying to be set on a copy of a slice from a DataFrame.\n",
      "Try using .loc[row_indexer,col_indexer] = value instead\n",
      "\n",
      "See the caveats in the documentation: http://pandas.pydata.org/pandas-docs/stable/indexing.html#indexing-view-versus-copy\n",
      "  \"\"\"Entry point for launching an IPython kernel.\n"
     ]
    }
   ],
   "source": [
    "data.iloc[:700][\"Piano\"] = \"FL\""
   ]
  },
  {
   "cell_type": "code",
   "execution_count": 11,
   "metadata": {},
   "outputs": [
    {
     "data": {
      "text/plain": [
       "array(['FL', 'Ivy', 'EstateLE', 'City', 'Iowa', 'Kawai', 'Salamander',\n",
       "       'Baldwin', 'A111-A112', 'Keppy', 'Basilica', 'Binaural'],\n",
       "      dtype=object)"
      ]
     },
     "execution_count": 11,
     "metadata": {},
     "output_type": "execute_result"
    }
   ],
   "source": [
    "data[\"Piano\"].unique()"
   ]
  },
  {
   "cell_type": "code",
   "execution_count": 12,
   "metadata": {},
   "outputs": [],
   "source": [
    "data.to_pickle(\"data-piano-xl.pkl\")"
   ]
  },
  {
   "cell_type": "code",
   "execution_count": 13,
   "metadata": {},
   "outputs": [],
   "source": [
    "data.to_csv(\"data-piano-xl.tsv\", sep=\"\\t\", index=False)"
   ]
  }
 ],
 "metadata": {
  "kernelspec": {
   "display_name": "Python 3",
   "language": "python",
   "name": "python3"
  },
  "language_info": {
   "codemirror_mode": {
    "name": "ipython",
    "version": 3
   },
   "file_extension": ".py",
   "mimetype": "text/x-python",
   "name": "python",
   "nbconvert_exporter": "python",
   "pygments_lexer": "ipython3",
   "version": "3.7.3"
  }
 },
 "nbformat": 4,
 "nbformat_minor": 2
}
