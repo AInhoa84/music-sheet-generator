{
 "cells": [
  {
   "cell_type": "code",
   "execution_count": 32,
   "metadata": {},
   "outputs": [],
   "source": [
    "import guitarpro\n",
    "\n",
    "template = guitarpro.parse('../blank.gp5')\n",
    "measure_list = template.tracks[0].measures\n",
    "beat_list = template.tracks[0].measures[0].voices[0].beats\n",
    "#del beat_list[0]\n",
    "new_measure = guitarpro.Measure(template.tracks[0], header=template.tracks[0].measures[0].header)\n",
    "new_beat = guitarpro.Beat(template.tracks[0].measures[0].voices[0], duration=guitarpro.Duration(value=8))\n",
    "new_note = guitarpro.Note(new_beat, value=5, string=2, type=guitarpro.NoteType.normal)\n",
    "new_beat.notes.append(new_note)\n",
    "beat_list.append(new_beat)\n",
    "measure_list.append(new_measure)\n",
    "guitarpro.write(template, 'blank2.gp5')"
   ]
  },
  {
   "cell_type": "code",
   "execution_count": 31,
   "metadata": {},
   "outputs": [
    {
     "data": {
      "text/plain": [
       "<guitarpro.models.MeasureHeader at 0x57c13ac828>"
      ]
     },
     "execution_count": 31,
     "metadata": {},
     "output_type": "execute_result"
    }
   ],
   "source": [
    "template.tracks[0].measures[0].header"
   ]
  },
  {
   "cell_type": "code",
   "execution_count": 138,
   "metadata": {},
   "outputs": [],
   "source": [
    "a = guitarpro.parse('../blank.gp5')"
   ]
  },
  {
   "cell_type": "code",
   "execution_count": 130,
   "metadata": {},
   "outputs": [
    {
     "data": {
      "text/plain": [
       "[<guitarpro.models.Beat at 0xe55cb90320>,\n",
       " <guitarpro.models.Beat at 0xe55cb90208>]"
      ]
     },
     "execution_count": 130,
     "metadata": {},
     "output_type": "execute_result"
    }
   ],
   "source": [
    "a.tracks[0].measures[0].voices[0].beats"
   ]
  },
  {
   "cell_type": "code",
   "execution_count": 136,
   "metadata": {},
   "outputs": [
    {
     "data": {
      "text/plain": [
       "Duration(value=4, isDotted=False, tuplet=Tuplet(enters=1, times=1))"
      ]
     },
     "execution_count": 136,
     "metadata": {},
     "output_type": "execute_result"
    }
   ],
   "source": [
    "a.tracks[0].measures[0].voices[1].beats[0].duration"
   ]
  },
  {
   "cell_type": "code",
   "execution_count": 81,
   "metadata": {},
   "outputs": [
    {
     "data": {
      "text/plain": [
       "[GuitarString(number=1, value=64),\n",
       " GuitarString(number=2, value=59),\n",
       " GuitarString(number=3, value=55),\n",
       " GuitarString(number=4, value=50),\n",
       " GuitarString(number=5, value=45),\n",
       " GuitarString(number=6, value=40)]"
      ]
     },
     "execution_count": 81,
     "metadata": {},
     "output_type": "execute_result"
    }
   ],
   "source": [
    "a.tracks[0].strings"
   ]
  },
  {
   "cell_type": "code",
   "execution_count": null,
   "metadata": {},
   "outputs": [],
   "source": []
  }
 ],
 "metadata": {
  "kernelspec": {
   "display_name": "Python 3",
   "language": "python",
   "name": "python3"
  },
  "language_info": {
   "codemirror_mode": {
    "name": "ipython",
    "version": 3
   },
   "file_extension": ".py",
   "mimetype": "text/x-python",
   "name": "python",
   "nbconvert_exporter": "python",
   "pygments_lexer": "ipython3",
   "version": "3.7.3"
  }
 },
 "nbformat": 4,
 "nbformat_minor": 2
}
