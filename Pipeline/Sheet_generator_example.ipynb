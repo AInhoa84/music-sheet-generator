{
 "cells": [
  {
   "cell_type": "markdown",
   "metadata": {},
   "source": [
    "# Working example of the sheet_generator class"
   ]
  },
  {
   "cell_type": "code",
   "execution_count": 1,
   "metadata": {},
   "outputs": [],
   "source": [
    "import IPython.display as ipd"
   ]
  },
  {
   "cell_type": "code",
   "execution_count": 2,
   "metadata": {},
   "outputs": [
    {
     "name": "stderr",
     "output_type": "stream",
     "text": [
      "Using TensorFlow backend.\n"
     ]
    },
    {
     "name": "stdout",
     "output_type": "stream",
     "text": [
      "WARNING:tensorflow:From E:\\Anaconda\\envs\\tfm\\lib\\site-packages\\tensorflow\\python\\framework\\op_def_library.py:263: colocate_with (from tensorflow.python.framework.ops) is deprecated and will be removed in a future version.\n",
      "Instructions for updating:\n",
      "Colocations handled automatically by placer.\n",
      "WARNING:tensorflow:From E:\\Anaconda\\envs\\tfm\\lib\\site-packages\\keras\\backend\\tensorflow_backend.py:3445: calling dropout (from tensorflow.python.ops.nn_ops) with keep_prob is deprecated and will be removed in a future version.\n",
      "Instructions for updating:\n",
      "Please use `rate` instead of `keep_prob`. Rate should be set to `rate = 1 - keep_prob`.\n"
     ]
    }
   ],
   "source": [
    "%run Sheet_generator.ipynb"
   ]
  },
  {
   "cell_type": "markdown",
   "metadata": {},
   "source": [
    "Create sheet_generator object"
   ]
  },
  {
   "cell_type": "code",
   "execution_count": 128,
   "metadata": {},
   "outputs": [],
   "source": [
    "SG = sheet_generator(\"../Single_note_models/Guitar/Guitar\", \"../Single_note_models/Guitar/Guitar_norm_string\", \n",
    "                     \"../Tempo/tempo_lgbm.txt\", bpm=120)"
   ]
  },
  {
   "cell_type": "markdown",
   "metadata": {},
   "source": [
    "Extract notes from mp3 file"
   ]
  },
  {
   "cell_type": "code",
   "execution_count": 129,
   "metadata": {},
   "outputs": [
    {
     "data": {
      "text/html": [
       "\n",
       "                <audio  controls=\"controls\" >\n",
       "                    <source src=\"data:audio/mpeg;base64,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\" type=\"audio/mpeg\" />\n",
       "                    Your browser does not support the audio element.\n",
       "                </audio>\n",
       "              "
      ],
      "text/plain": [
       "<IPython.lib.display.Audio object>"
      ]
     },
     "execution_count": 129,
     "metadata": {},
     "output_type": "execute_result"
    }
   ],
   "source": [
    "ipd.Audio(\"../Samples/Guitar/Test_riffs/Guitar_noamp_riff24.mp3\")"
   ]
  },
  {
   "cell_type": "code",
   "execution_count": 134,
   "metadata": {},
   "outputs": [
    {
     "data": {
      "application/vnd.jupyter.widget-view+json": {
       "model_id": "",
       "version_major": 2,
       "version_minor": 0
      },
      "text/plain": [
       "HBox(children=(IntProgress(value=0, max=322), HTML(value='')))"
      ]
     },
     "metadata": {},
     "output_type": "display_data"
    },
    {
     "name": "stdout",
     "output_type": "stream",
     "text": [
      "\r"
     ]
    },
    {
     "data": {
      "application/vnd.jupyter.widget-view+json": {
       "model_id": "",
       "version_major": 2,
       "version_minor": 0
      },
      "text/plain": [
       "HBox(children=(IntProgress(value=0, max=319), HTML(value='')))"
      ]
     },
     "metadata": {},
     "output_type": "display_data"
    },
    {
     "name": "stdout",
     "output_type": "stream",
     "text": [
      "\r"
     ]
    },
    {
     "data": {
      "application/vnd.jupyter.widget-view+json": {
       "model_id": "",
       "version_major": 2,
       "version_minor": 0
      },
      "text/plain": [
       "HBox(children=(IntProgress(value=0, max=322), HTML(value='')))"
      ]
     },
     "metadata": {},
     "output_type": "display_data"
    },
    {
     "name": "stdout",
     "output_type": "stream",
     "text": [
      "\r"
     ]
    },
    {
     "data": {
      "application/vnd.jupyter.widget-view+json": {
       "model_id": "",
       "version_major": 2,
       "version_minor": 0
      },
      "text/plain": [
       "HBox(children=(IntProgress(value=0, max=319), HTML(value='')))"
      ]
     },
     "metadata": {},
     "output_type": "display_data"
    },
    {
     "name": "stdout",
     "output_type": "stream",
     "text": [
      "\r"
     ]
    },
    {
     "data": {
      "application/vnd.jupyter.widget-view+json": {
       "model_id": "",
       "version_major": 2,
       "version_minor": 0
      },
      "text/plain": [
       "HBox(children=(IntProgress(value=0, max=14), HTML(value='')))"
      ]
     },
     "metadata": {},
     "output_type": "display_data"
    },
    {
     "data": {
      "application/vnd.jupyter.widget-view+json": {
       "model_id": "",
       "version_major": 2,
       "version_minor": 0
      },
      "text/plain": [
       "HBox(children=(IntProgress(value=0, max=1), HTML(value='')))"
      ]
     },
     "metadata": {},
     "output_type": "display_data"
    },
    {
     "data": {
      "application/vnd.jupyter.widget-view+json": {
       "model_id": "",
       "version_major": 2,
       "version_minor": 0
      },
      "text/plain": [
       "HBox(children=(IntProgress(value=0, max=1), HTML(value='')))"
      ]
     },
     "metadata": {},
     "output_type": "display_data"
    },
    {
     "data": {
      "application/vnd.jupyter.widget-view+json": {
       "model_id": "",
       "version_major": 2,
       "version_minor": 0
      },
      "text/plain": [
       "HBox(children=(IntProgress(value=0, max=1), HTML(value='')))"
      ]
     },
     "metadata": {},
     "output_type": "display_data"
    },
    {
     "data": {
      "application/vnd.jupyter.widget-view+json": {
       "model_id": "",
       "version_major": 2,
       "version_minor": 0
      },
      "text/plain": [
       "HBox(children=(IntProgress(value=0, max=1), HTML(value='')))"
      ]
     },
     "metadata": {},
     "output_type": "display_data"
    },
    {
     "data": {
      "application/vnd.jupyter.widget-view+json": {
       "model_id": "",
       "version_major": 2,
       "version_minor": 0
      },
      "text/plain": [
       "HBox(children=(IntProgress(value=0, max=1), HTML(value='')))"
      ]
     },
     "metadata": {},
     "output_type": "display_data"
    },
    {
     "data": {
      "application/vnd.jupyter.widget-view+json": {
       "model_id": "",
       "version_major": 2,
       "version_minor": 0
      },
      "text/plain": [
       "HBox(children=(IntProgress(value=0, max=1), HTML(value='')))"
      ]
     },
     "metadata": {},
     "output_type": "display_data"
    },
    {
     "data": {
      "application/vnd.jupyter.widget-view+json": {
       "model_id": "",
       "version_major": 2,
       "version_minor": 0
      },
      "text/plain": [
       "HBox(children=(IntProgress(value=0, max=1), HTML(value='')))"
      ]
     },
     "metadata": {},
     "output_type": "display_data"
    },
    {
     "data": {
      "application/vnd.jupyter.widget-view+json": {
       "model_id": "",
       "version_major": 2,
       "version_minor": 0
      },
      "text/plain": [
       "HBox(children=(IntProgress(value=0, max=1), HTML(value='')))"
      ]
     },
     "metadata": {},
     "output_type": "display_data"
    },
    {
     "data": {
      "application/vnd.jupyter.widget-view+json": {
       "model_id": "",
       "version_major": 2,
       "version_minor": 0
      },
      "text/plain": [
       "HBox(children=(IntProgress(value=0, max=1), HTML(value='')))"
      ]
     },
     "metadata": {},
     "output_type": "display_data"
    },
    {
     "data": {
      "application/vnd.jupyter.widget-view+json": {
       "model_id": "",
       "version_major": 2,
       "version_minor": 0
      },
      "text/plain": [
       "HBox(children=(IntProgress(value=0, max=1), HTML(value='')))"
      ]
     },
     "metadata": {},
     "output_type": "display_data"
    },
    {
     "data": {
      "application/vnd.jupyter.widget-view+json": {
       "model_id": "",
       "version_major": 2,
       "version_minor": 0
      },
      "text/plain": [
       "HBox(children=(IntProgress(value=0, max=1), HTML(value='')))"
      ]
     },
     "metadata": {},
     "output_type": "display_data"
    },
    {
     "data": {
      "application/vnd.jupyter.widget-view+json": {
       "model_id": "",
       "version_major": 2,
       "version_minor": 0
      },
      "text/plain": [
       "HBox(children=(IntProgress(value=0, max=1), HTML(value='')))"
      ]
     },
     "metadata": {},
     "output_type": "display_data"
    },
    {
     "data": {
      "application/vnd.jupyter.widget-view+json": {
       "model_id": "",
       "version_major": 2,
       "version_minor": 0
      },
      "text/plain": [
       "HBox(children=(IntProgress(value=0, max=1), HTML(value='')))"
      ]
     },
     "metadata": {},
     "output_type": "display_data"
    },
    {
     "data": {
      "application/vnd.jupyter.widget-view+json": {
       "model_id": "",
       "version_major": 2,
       "version_minor": 0
      },
      "text/plain": [
       "HBox(children=(IntProgress(value=0, max=1), HTML(value='')))"
      ]
     },
     "metadata": {},
     "output_type": "display_data"
    },
    {
     "name": "stdout",
     "output_type": "stream",
     "text": [
      "\r"
     ]
    },
    {
     "data": {
      "application/vnd.jupyter.widget-view+json": {
       "model_id": "",
       "version_major": 2,
       "version_minor": 0
      },
      "text/plain": [
       "HBox(children=(IntProgress(value=0, max=8), HTML(value='')))"
      ]
     },
     "metadata": {},
     "output_type": "display_data"
    },
    {
     "data": {
      "application/vnd.jupyter.widget-view+json": {
       "model_id": "",
       "version_major": 2,
       "version_minor": 0
      },
      "text/plain": [
       "HBox(children=(IntProgress(value=0, max=95), HTML(value='')))"
      ]
     },
     "metadata": {},
     "output_type": "display_data"
    },
    {
     "data": {
      "application/vnd.jupyter.widget-view+json": {
       "model_id": "",
       "version_major": 2,
       "version_minor": 0
      },
      "text/plain": [
       "HBox(children=(IntProgress(value=1, bar_style='info', max=1), HTML(value='')))"
      ]
     },
     "metadata": {},
     "output_type": "display_data"
    },
    {
     "data": {
      "application/vnd.jupyter.widget-view+json": {
       "model_id": "",
       "version_major": 2,
       "version_minor": 0
      },
      "text/plain": [
       "HBox(children=(IntProgress(value=1, bar_style='info', max=1), HTML(value='')))"
      ]
     },
     "metadata": {},
     "output_type": "display_data"
    },
    {
     "data": {
      "application/vnd.jupyter.widget-view+json": {
       "model_id": "",
       "version_major": 2,
       "version_minor": 0
      },
      "text/plain": [
       "HBox(children=(IntProgress(value=1, bar_style='info', max=1), HTML(value='')))"
      ]
     },
     "metadata": {},
     "output_type": "display_data"
    },
    {
     "data": {
      "application/vnd.jupyter.widget-view+json": {
       "model_id": "",
       "version_major": 2,
       "version_minor": 0
      },
      "text/plain": [
       "HBox(children=(IntProgress(value=1, bar_style='info', max=1), HTML(value='')))"
      ]
     },
     "metadata": {},
     "output_type": "display_data"
    },
    {
     "data": {
      "application/vnd.jupyter.widget-view+json": {
       "model_id": "",
       "version_major": 2,
       "version_minor": 0
      },
      "text/plain": [
       "HBox(children=(IntProgress(value=1, bar_style='info', max=1), HTML(value='')))"
      ]
     },
     "metadata": {},
     "output_type": "display_data"
    },
    {
     "data": {
      "application/vnd.jupyter.widget-view+json": {
       "model_id": "",
       "version_major": 2,
       "version_minor": 0
      },
      "text/plain": [
       "HBox(children=(IntProgress(value=1, bar_style='info', max=1), HTML(value='')))"
      ]
     },
     "metadata": {},
     "output_type": "display_data"
    },
    {
     "data": {
      "application/vnd.jupyter.widget-view+json": {
       "model_id": "",
       "version_major": 2,
       "version_minor": 0
      },
      "text/plain": [
       "HBox(children=(IntProgress(value=1, bar_style='info', max=1), HTML(value='')))"
      ]
     },
     "metadata": {},
     "output_type": "display_data"
    },
    {
     "data": {
      "application/vnd.jupyter.widget-view+json": {
       "model_id": "",
       "version_major": 2,
       "version_minor": 0
      },
      "text/plain": [
       "HBox(children=(IntProgress(value=1, bar_style='info', max=1), HTML(value='')))"
      ]
     },
     "metadata": {},
     "output_type": "display_data"
    },
    {
     "data": {
      "application/vnd.jupyter.widget-view+json": {
       "model_id": "",
       "version_major": 2,
       "version_minor": 0
      },
      "text/plain": [
       "HBox(children=(IntProgress(value=1, bar_style='info', max=1), HTML(value='')))"
      ]
     },
     "metadata": {},
     "output_type": "display_data"
    },
    {
     "data": {
      "application/vnd.jupyter.widget-view+json": {
       "model_id": "",
       "version_major": 2,
       "version_minor": 0
      },
      "text/plain": [
       "HBox(children=(IntProgress(value=1, bar_style='info', max=1), HTML(value='')))"
      ]
     },
     "metadata": {},
     "output_type": "display_data"
    },
    {
     "data": {
      "application/vnd.jupyter.widget-view+json": {
       "model_id": "",
       "version_major": 2,
       "version_minor": 0
      },
      "text/plain": [
       "HBox(children=(IntProgress(value=1, bar_style='info', max=1), HTML(value='')))"
      ]
     },
     "metadata": {},
     "output_type": "display_data"
    },
    {
     "data": {
      "application/vnd.jupyter.widget-view+json": {
       "model_id": "",
       "version_major": 2,
       "version_minor": 0
      },
      "text/plain": [
       "HBox(children=(IntProgress(value=1, bar_style='info', max=1), HTML(value='')))"
      ]
     },
     "metadata": {},
     "output_type": "display_data"
    },
    {
     "data": {
      "application/vnd.jupyter.widget-view+json": {
       "model_id": "",
       "version_major": 2,
       "version_minor": 0
      },
      "text/plain": [
       "HBox(children=(IntProgress(value=1, bar_style='info', max=1), HTML(value='')))"
      ]
     },
     "metadata": {},
     "output_type": "display_data"
    },
    {
     "data": {
      "application/vnd.jupyter.widget-view+json": {
       "model_id": "",
       "version_major": 2,
       "version_minor": 0
      },
      "text/plain": [
       "HBox(children=(IntProgress(value=1, bar_style='info', max=1), HTML(value='')))"
      ]
     },
     "metadata": {},
     "output_type": "display_data"
    },
    {
     "data": {
      "application/vnd.jupyter.widget-view+json": {
       "model_id": "",
       "version_major": 2,
       "version_minor": 0
      },
      "text/plain": [
       "HBox(children=(IntProgress(value=1, bar_style='info', max=1), HTML(value='')))"
      ]
     },
     "metadata": {},
     "output_type": "display_data"
    },
    {
     "data": {
      "application/vnd.jupyter.widget-view+json": {
       "model_id": "",
       "version_major": 2,
       "version_minor": 0
      },
      "text/plain": [
       "HBox(children=(IntProgress(value=1, bar_style='info', max=1), HTML(value='')))"
      ]
     },
     "metadata": {},
     "output_type": "display_data"
    },
    {
     "data": {
      "application/vnd.jupyter.widget-view+json": {
       "model_id": "",
       "version_major": 2,
       "version_minor": 0
      },
      "text/plain": [
       "HBox(children=(IntProgress(value=1, bar_style='info', max=1), HTML(value='')))"
      ]
     },
     "metadata": {},
     "output_type": "display_data"
    },
    {
     "data": {
      "application/vnd.jupyter.widget-view+json": {
       "model_id": "",
       "version_major": 2,
       "version_minor": 0
      },
      "text/plain": [
       "HBox(children=(IntProgress(value=1, bar_style='info', max=1), HTML(value='')))"
      ]
     },
     "metadata": {},
     "output_type": "display_data"
    },
    {
     "data": {
      "application/vnd.jupyter.widget-view+json": {
       "model_id": "",
       "version_major": 2,
       "version_minor": 0
      },
      "text/plain": [
       "HBox(children=(IntProgress(value=1, bar_style='info', max=1), HTML(value='')))"
      ]
     },
     "metadata": {},
     "output_type": "display_data"
    },
    {
     "data": {
      "application/vnd.jupyter.widget-view+json": {
       "model_id": "",
       "version_major": 2,
       "version_minor": 0
      },
      "text/plain": [
       "HBox(children=(IntProgress(value=1, bar_style='info', max=1), HTML(value='')))"
      ]
     },
     "metadata": {},
     "output_type": "display_data"
    },
    {
     "data": {
      "application/vnd.jupyter.widget-view+json": {
       "model_id": "",
       "version_major": 2,
       "version_minor": 0
      },
      "text/plain": [
       "HBox(children=(IntProgress(value=1, bar_style='info', max=1), HTML(value='')))"
      ]
     },
     "metadata": {},
     "output_type": "display_data"
    },
    {
     "data": {
      "application/vnd.jupyter.widget-view+json": {
       "model_id": "",
       "version_major": 2,
       "version_minor": 0
      },
      "text/plain": [
       "HBox(children=(IntProgress(value=1, bar_style='info', max=1), HTML(value='')))"
      ]
     },
     "metadata": {},
     "output_type": "display_data"
    },
    {
     "data": {
      "application/vnd.jupyter.widget-view+json": {
       "model_id": "",
       "version_major": 2,
       "version_minor": 0
      },
      "text/plain": [
       "HBox(children=(IntProgress(value=1, bar_style='info', max=1), HTML(value='')))"
      ]
     },
     "metadata": {},
     "output_type": "display_data"
    },
    {
     "data": {
      "application/vnd.jupyter.widget-view+json": {
       "model_id": "",
       "version_major": 2,
       "version_minor": 0
      },
      "text/plain": [
       "HBox(children=(IntProgress(value=1, bar_style='info', max=1), HTML(value='')))"
      ]
     },
     "metadata": {},
     "output_type": "display_data"
    },
    {
     "data": {
      "application/vnd.jupyter.widget-view+json": {
       "model_id": "",
       "version_major": 2,
       "version_minor": 0
      },
      "text/plain": [
       "HBox(children=(IntProgress(value=1, bar_style='info', max=1), HTML(value='')))"
      ]
     },
     "metadata": {},
     "output_type": "display_data"
    },
    {
     "data": {
      "application/vnd.jupyter.widget-view+json": {
       "model_id": "",
       "version_major": 2,
       "version_minor": 0
      },
      "text/plain": [
       "HBox(children=(IntProgress(value=1, bar_style='info', max=1), HTML(value='')))"
      ]
     },
     "metadata": {},
     "output_type": "display_data"
    },
    {
     "data": {
      "application/vnd.jupyter.widget-view+json": {
       "model_id": "",
       "version_major": 2,
       "version_minor": 0
      },
      "text/plain": [
       "HBox(children=(IntProgress(value=1, bar_style='info', max=1), HTML(value='')))"
      ]
     },
     "metadata": {},
     "output_type": "display_data"
    },
    {
     "data": {
      "application/vnd.jupyter.widget-view+json": {
       "model_id": "",
       "version_major": 2,
       "version_minor": 0
      },
      "text/plain": [
       "HBox(children=(IntProgress(value=1, bar_style='info', max=1), HTML(value='')))"
      ]
     },
     "metadata": {},
     "output_type": "display_data"
    },
    {
     "data": {
      "application/vnd.jupyter.widget-view+json": {
       "model_id": "",
       "version_major": 2,
       "version_minor": 0
      },
      "text/plain": [
       "HBox(children=(IntProgress(value=1, bar_style='info', max=1), HTML(value='')))"
      ]
     },
     "metadata": {},
     "output_type": "display_data"
    },
    {
     "data": {
      "application/vnd.jupyter.widget-view+json": {
       "model_id": "",
       "version_major": 2,
       "version_minor": 0
      },
      "text/plain": [
       "HBox(children=(IntProgress(value=1, bar_style='info', max=1), HTML(value='')))"
      ]
     },
     "metadata": {},
     "output_type": "display_data"
    },
    {
     "data": {
      "application/vnd.jupyter.widget-view+json": {
       "model_id": "",
       "version_major": 2,
       "version_minor": 0
      },
      "text/plain": [
       "HBox(children=(IntProgress(value=1, bar_style='info', max=1), HTML(value='')))"
      ]
     },
     "metadata": {},
     "output_type": "display_data"
    },
    {
     "data": {
      "application/vnd.jupyter.widget-view+json": {
       "model_id": "",
       "version_major": 2,
       "version_minor": 0
      },
      "text/plain": [
       "HBox(children=(IntProgress(value=1, bar_style='info', max=1), HTML(value='')))"
      ]
     },
     "metadata": {},
     "output_type": "display_data"
    },
    {
     "data": {
      "application/vnd.jupyter.widget-view+json": {
       "model_id": "",
       "version_major": 2,
       "version_minor": 0
      },
      "text/plain": [
       "HBox(children=(IntProgress(value=1, bar_style='info', max=1), HTML(value='')))"
      ]
     },
     "metadata": {},
     "output_type": "display_data"
    },
    {
     "data": {
      "application/vnd.jupyter.widget-view+json": {
       "model_id": "",
       "version_major": 2,
       "version_minor": 0
      },
      "text/plain": [
       "HBox(children=(IntProgress(value=1, bar_style='info', max=1), HTML(value='')))"
      ]
     },
     "metadata": {},
     "output_type": "display_data"
    },
    {
     "data": {
      "application/vnd.jupyter.widget-view+json": {
       "model_id": "",
       "version_major": 2,
       "version_minor": 0
      },
      "text/plain": [
       "HBox(children=(IntProgress(value=1, bar_style='info', max=1), HTML(value='')))"
      ]
     },
     "metadata": {},
     "output_type": "display_data"
    },
    {
     "data": {
      "application/vnd.jupyter.widget-view+json": {
       "model_id": "",
       "version_major": 2,
       "version_minor": 0
      },
      "text/plain": [
       "HBox(children=(IntProgress(value=1, bar_style='info', max=1), HTML(value='')))"
      ]
     },
     "metadata": {},
     "output_type": "display_data"
    },
    {
     "data": {
      "application/vnd.jupyter.widget-view+json": {
       "model_id": "",
       "version_major": 2,
       "version_minor": 0
      },
      "text/plain": [
       "HBox(children=(IntProgress(value=1, bar_style='info', max=1), HTML(value='')))"
      ]
     },
     "metadata": {},
     "output_type": "display_data"
    },
    {
     "data": {
      "application/vnd.jupyter.widget-view+json": {
       "model_id": "",
       "version_major": 2,
       "version_minor": 0
      },
      "text/plain": [
       "HBox(children=(IntProgress(value=1, bar_style='info', max=1), HTML(value='')))"
      ]
     },
     "metadata": {},
     "output_type": "display_data"
    },
    {
     "data": {
      "application/vnd.jupyter.widget-view+json": {
       "model_id": "",
       "version_major": 2,
       "version_minor": 0
      },
      "text/plain": [
       "HBox(children=(IntProgress(value=1, bar_style='info', max=1), HTML(value='')))"
      ]
     },
     "metadata": {},
     "output_type": "display_data"
    },
    {
     "data": {
      "application/vnd.jupyter.widget-view+json": {
       "model_id": "",
       "version_major": 2,
       "version_minor": 0
      },
      "text/plain": [
       "HBox(children=(IntProgress(value=1, bar_style='info', max=1), HTML(value='')))"
      ]
     },
     "metadata": {},
     "output_type": "display_data"
    },
    {
     "data": {
      "application/vnd.jupyter.widget-view+json": {
       "model_id": "",
       "version_major": 2,
       "version_minor": 0
      },
      "text/plain": [
       "HBox(children=(IntProgress(value=1, bar_style='info', max=1), HTML(value='')))"
      ]
     },
     "metadata": {},
     "output_type": "display_data"
    },
    {
     "data": {
      "application/vnd.jupyter.widget-view+json": {
       "model_id": "",
       "version_major": 2,
       "version_minor": 0
      },
      "text/plain": [
       "HBox(children=(IntProgress(value=1, bar_style='info', max=1), HTML(value='')))"
      ]
     },
     "metadata": {},
     "output_type": "display_data"
    },
    {
     "data": {
      "application/vnd.jupyter.widget-view+json": {
       "model_id": "",
       "version_major": 2,
       "version_minor": 0
      },
      "text/plain": [
       "HBox(children=(IntProgress(value=1, bar_style='info', max=1), HTML(value='')))"
      ]
     },
     "metadata": {},
     "output_type": "display_data"
    },
    {
     "data": {
      "application/vnd.jupyter.widget-view+json": {
       "model_id": "",
       "version_major": 2,
       "version_minor": 0
      },
      "text/plain": [
       "HBox(children=(IntProgress(value=1, bar_style='info', max=1), HTML(value='')))"
      ]
     },
     "metadata": {},
     "output_type": "display_data"
    },
    {
     "data": {
      "application/vnd.jupyter.widget-view+json": {
       "model_id": "",
       "version_major": 2,
       "version_minor": 0
      },
      "text/plain": [
       "HBox(children=(IntProgress(value=1, bar_style='info', max=1), HTML(value='')))"
      ]
     },
     "metadata": {},
     "output_type": "display_data"
    },
    {
     "data": {
      "application/vnd.jupyter.widget-view+json": {
       "model_id": "",
       "version_major": 2,
       "version_minor": 0
      },
      "text/plain": [
       "HBox(children=(IntProgress(value=1, bar_style='info', max=1), HTML(value='')))"
      ]
     },
     "metadata": {},
     "output_type": "display_data"
    },
    {
     "data": {
      "application/vnd.jupyter.widget-view+json": {
       "model_id": "",
       "version_major": 2,
       "version_minor": 0
      },
      "text/plain": [
       "HBox(children=(IntProgress(value=1, bar_style='info', max=1), HTML(value='')))"
      ]
     },
     "metadata": {},
     "output_type": "display_data"
    },
    {
     "data": {
      "application/vnd.jupyter.widget-view+json": {
       "model_id": "",
       "version_major": 2,
       "version_minor": 0
      },
      "text/plain": [
       "HBox(children=(IntProgress(value=1, bar_style='info', max=1), HTML(value='')))"
      ]
     },
     "metadata": {},
     "output_type": "display_data"
    },
    {
     "data": {
      "application/vnd.jupyter.widget-view+json": {
       "model_id": "",
       "version_major": 2,
       "version_minor": 0
      },
      "text/plain": [
       "HBox(children=(IntProgress(value=1, bar_style='info', max=1), HTML(value='')))"
      ]
     },
     "metadata": {},
     "output_type": "display_data"
    },
    {
     "data": {
      "application/vnd.jupyter.widget-view+json": {
       "model_id": "",
       "version_major": 2,
       "version_minor": 0
      },
      "text/plain": [
       "HBox(children=(IntProgress(value=1, bar_style='info', max=1), HTML(value='')))"
      ]
     },
     "metadata": {},
     "output_type": "display_data"
    },
    {
     "data": {
      "application/vnd.jupyter.widget-view+json": {
       "model_id": "",
       "version_major": 2,
       "version_minor": 0
      },
      "text/plain": [
       "HBox(children=(IntProgress(value=1, bar_style='info', max=1), HTML(value='')))"
      ]
     },
     "metadata": {},
     "output_type": "display_data"
    },
    {
     "data": {
      "application/vnd.jupyter.widget-view+json": {
       "model_id": "",
       "version_major": 2,
       "version_minor": 0
      },
      "text/plain": [
       "HBox(children=(IntProgress(value=1, bar_style='info', max=1), HTML(value='')))"
      ]
     },
     "metadata": {},
     "output_type": "display_data"
    },
    {
     "data": {
      "application/vnd.jupyter.widget-view+json": {
       "model_id": "",
       "version_major": 2,
       "version_minor": 0
      },
      "text/plain": [
       "HBox(children=(IntProgress(value=1, bar_style='info', max=1), HTML(value='')))"
      ]
     },
     "metadata": {},
     "output_type": "display_data"
    },
    {
     "data": {
      "application/vnd.jupyter.widget-view+json": {
       "model_id": "",
       "version_major": 2,
       "version_minor": 0
      },
      "text/plain": [
       "HBox(children=(IntProgress(value=1, bar_style='info', max=1), HTML(value='')))"
      ]
     },
     "metadata": {},
     "output_type": "display_data"
    },
    {
     "data": {
      "application/vnd.jupyter.widget-view+json": {
       "model_id": "",
       "version_major": 2,
       "version_minor": 0
      },
      "text/plain": [
       "HBox(children=(IntProgress(value=1, bar_style='info', max=1), HTML(value='')))"
      ]
     },
     "metadata": {},
     "output_type": "display_data"
    },
    {
     "data": {
      "application/vnd.jupyter.widget-view+json": {
       "model_id": "",
       "version_major": 2,
       "version_minor": 0
      },
      "text/plain": [
       "HBox(children=(IntProgress(value=1, bar_style='info', max=1), HTML(value='')))"
      ]
     },
     "metadata": {},
     "output_type": "display_data"
    },
    {
     "data": {
      "application/vnd.jupyter.widget-view+json": {
       "model_id": "",
       "version_major": 2,
       "version_minor": 0
      },
      "text/plain": [
       "HBox(children=(IntProgress(value=1, bar_style='info', max=1), HTML(value='')))"
      ]
     },
     "metadata": {},
     "output_type": "display_data"
    },
    {
     "data": {
      "application/vnd.jupyter.widget-view+json": {
       "model_id": "",
       "version_major": 2,
       "version_minor": 0
      },
      "text/plain": [
       "HBox(children=(IntProgress(value=1, bar_style='info', max=1), HTML(value='')))"
      ]
     },
     "metadata": {},
     "output_type": "display_data"
    },
    {
     "data": {
      "application/vnd.jupyter.widget-view+json": {
       "model_id": "",
       "version_major": 2,
       "version_minor": 0
      },
      "text/plain": [
       "HBox(children=(IntProgress(value=1, bar_style='info', max=1), HTML(value='')))"
      ]
     },
     "metadata": {},
     "output_type": "display_data"
    },
    {
     "data": {
      "application/vnd.jupyter.widget-view+json": {
       "model_id": "",
       "version_major": 2,
       "version_minor": 0
      },
      "text/plain": [
       "HBox(children=(IntProgress(value=1, bar_style='info', max=1), HTML(value='')))"
      ]
     },
     "metadata": {},
     "output_type": "display_data"
    },
    {
     "data": {
      "application/vnd.jupyter.widget-view+json": {
       "model_id": "",
       "version_major": 2,
       "version_minor": 0
      },
      "text/plain": [
       "HBox(children=(IntProgress(value=1, bar_style='info', max=1), HTML(value='')))"
      ]
     },
     "metadata": {},
     "output_type": "display_data"
    },
    {
     "data": {
      "application/vnd.jupyter.widget-view+json": {
       "model_id": "",
       "version_major": 2,
       "version_minor": 0
      },
      "text/plain": [
       "HBox(children=(IntProgress(value=1, bar_style='info', max=1), HTML(value='')))"
      ]
     },
     "metadata": {},
     "output_type": "display_data"
    },
    {
     "data": {
      "application/vnd.jupyter.widget-view+json": {
       "model_id": "",
       "version_major": 2,
       "version_minor": 0
      },
      "text/plain": [
       "HBox(children=(IntProgress(value=1, bar_style='info', max=1), HTML(value='')))"
      ]
     },
     "metadata": {},
     "output_type": "display_data"
    },
    {
     "data": {
      "application/vnd.jupyter.widget-view+json": {
       "model_id": "",
       "version_major": 2,
       "version_minor": 0
      },
      "text/plain": [
       "HBox(children=(IntProgress(value=1, bar_style='info', max=1), HTML(value='')))"
      ]
     },
     "metadata": {},
     "output_type": "display_data"
    },
    {
     "data": {
      "application/vnd.jupyter.widget-view+json": {
       "model_id": "",
       "version_major": 2,
       "version_minor": 0
      },
      "text/plain": [
       "HBox(children=(IntProgress(value=1, bar_style='info', max=1), HTML(value='')))"
      ]
     },
     "metadata": {},
     "output_type": "display_data"
    },
    {
     "data": {
      "application/vnd.jupyter.widget-view+json": {
       "model_id": "",
       "version_major": 2,
       "version_minor": 0
      },
      "text/plain": [
       "HBox(children=(IntProgress(value=1, bar_style='info', max=1), HTML(value='')))"
      ]
     },
     "metadata": {},
     "output_type": "display_data"
    },
    {
     "data": {
      "application/vnd.jupyter.widget-view+json": {
       "model_id": "",
       "version_major": 2,
       "version_minor": 0
      },
      "text/plain": [
       "HBox(children=(IntProgress(value=1, bar_style='info', max=1), HTML(value='')))"
      ]
     },
     "metadata": {},
     "output_type": "display_data"
    },
    {
     "data": {
      "application/vnd.jupyter.widget-view+json": {
       "model_id": "",
       "version_major": 2,
       "version_minor": 0
      },
      "text/plain": [
       "HBox(children=(IntProgress(value=1, bar_style='info', max=1), HTML(value='')))"
      ]
     },
     "metadata": {},
     "output_type": "display_data"
    },
    {
     "data": {
      "application/vnd.jupyter.widget-view+json": {
       "model_id": "",
       "version_major": 2,
       "version_minor": 0
      },
      "text/plain": [
       "HBox(children=(IntProgress(value=1, bar_style='info', max=1), HTML(value='')))"
      ]
     },
     "metadata": {},
     "output_type": "display_data"
    },
    {
     "data": {
      "application/vnd.jupyter.widget-view+json": {
       "model_id": "",
       "version_major": 2,
       "version_minor": 0
      },
      "text/plain": [
       "HBox(children=(IntProgress(value=1, bar_style='info', max=1), HTML(value='')))"
      ]
     },
     "metadata": {},
     "output_type": "display_data"
    },
    {
     "data": {
      "application/vnd.jupyter.widget-view+json": {
       "model_id": "",
       "version_major": 2,
       "version_minor": 0
      },
      "text/plain": [
       "HBox(children=(IntProgress(value=1, bar_style='info', max=1), HTML(value='')))"
      ]
     },
     "metadata": {},
     "output_type": "display_data"
    },
    {
     "data": {
      "application/vnd.jupyter.widget-view+json": {
       "model_id": "",
       "version_major": 2,
       "version_minor": 0
      },
      "text/plain": [
       "HBox(children=(IntProgress(value=1, bar_style='info', max=1), HTML(value='')))"
      ]
     },
     "metadata": {},
     "output_type": "display_data"
    },
    {
     "data": {
      "application/vnd.jupyter.widget-view+json": {
       "model_id": "",
       "version_major": 2,
       "version_minor": 0
      },
      "text/plain": [
       "HBox(children=(IntProgress(value=1, bar_style='info', max=1), HTML(value='')))"
      ]
     },
     "metadata": {},
     "output_type": "display_data"
    },
    {
     "data": {
      "application/vnd.jupyter.widget-view+json": {
       "model_id": "",
       "version_major": 2,
       "version_minor": 0
      },
      "text/plain": [
       "HBox(children=(IntProgress(value=1, bar_style='info', max=1), HTML(value='')))"
      ]
     },
     "metadata": {},
     "output_type": "display_data"
    },
    {
     "data": {
      "application/vnd.jupyter.widget-view+json": {
       "model_id": "",
       "version_major": 2,
       "version_minor": 0
      },
      "text/plain": [
       "HBox(children=(IntProgress(value=1, bar_style='info', max=1), HTML(value='')))"
      ]
     },
     "metadata": {},
     "output_type": "display_data"
    },
    {
     "data": {
      "application/vnd.jupyter.widget-view+json": {
       "model_id": "",
       "version_major": 2,
       "version_minor": 0
      },
      "text/plain": [
       "HBox(children=(IntProgress(value=1, bar_style='info', max=1), HTML(value='')))"
      ]
     },
     "metadata": {},
     "output_type": "display_data"
    },
    {
     "data": {
      "application/vnd.jupyter.widget-view+json": {
       "model_id": "",
       "version_major": 2,
       "version_minor": 0
      },
      "text/plain": [
       "HBox(children=(IntProgress(value=1, bar_style='info', max=1), HTML(value='')))"
      ]
     },
     "metadata": {},
     "output_type": "display_data"
    },
    {
     "data": {
      "application/vnd.jupyter.widget-view+json": {
       "model_id": "",
       "version_major": 2,
       "version_minor": 0
      },
      "text/plain": [
       "HBox(children=(IntProgress(value=1, bar_style='info', max=1), HTML(value='')))"
      ]
     },
     "metadata": {},
     "output_type": "display_data"
    },
    {
     "data": {
      "application/vnd.jupyter.widget-view+json": {
       "model_id": "",
       "version_major": 2,
       "version_minor": 0
      },
      "text/plain": [
       "HBox(children=(IntProgress(value=1, bar_style='info', max=1), HTML(value='')))"
      ]
     },
     "metadata": {},
     "output_type": "display_data"
    },
    {
     "data": {
      "application/vnd.jupyter.widget-view+json": {
       "model_id": "",
       "version_major": 2,
       "version_minor": 0
      },
      "text/plain": [
       "HBox(children=(IntProgress(value=1, bar_style='info', max=1), HTML(value='')))"
      ]
     },
     "metadata": {},
     "output_type": "display_data"
    },
    {
     "data": {
      "application/vnd.jupyter.widget-view+json": {
       "model_id": "",
       "version_major": 2,
       "version_minor": 0
      },
      "text/plain": [
       "HBox(children=(IntProgress(value=1, bar_style='info', max=1), HTML(value='')))"
      ]
     },
     "metadata": {},
     "output_type": "display_data"
    },
    {
     "data": {
      "application/vnd.jupyter.widget-view+json": {
       "model_id": "",
       "version_major": 2,
       "version_minor": 0
      },
      "text/plain": [
       "HBox(children=(IntProgress(value=1, bar_style='info', max=1), HTML(value='')))"
      ]
     },
     "metadata": {},
     "output_type": "display_data"
    },
    {
     "data": {
      "application/vnd.jupyter.widget-view+json": {
       "model_id": "",
       "version_major": 2,
       "version_minor": 0
      },
      "text/plain": [
       "HBox(children=(IntProgress(value=1, bar_style='info', max=1), HTML(value='')))"
      ]
     },
     "metadata": {},
     "output_type": "display_data"
    },
    {
     "data": {
      "application/vnd.jupyter.widget-view+json": {
       "model_id": "",
       "version_major": 2,
       "version_minor": 0
      },
      "text/plain": [
       "HBox(children=(IntProgress(value=1, bar_style='info', max=1), HTML(value='')))"
      ]
     },
     "metadata": {},
     "output_type": "display_data"
    },
    {
     "data": {
      "application/vnd.jupyter.widget-view+json": {
       "model_id": "",
       "version_major": 2,
       "version_minor": 0
      },
      "text/plain": [
       "HBox(children=(IntProgress(value=1, bar_style='info', max=1), HTML(value='')))"
      ]
     },
     "metadata": {},
     "output_type": "display_data"
    },
    {
     "data": {
      "application/vnd.jupyter.widget-view+json": {
       "model_id": "",
       "version_major": 2,
       "version_minor": 0
      },
      "text/plain": [
       "HBox(children=(IntProgress(value=1, bar_style='info', max=1), HTML(value='')))"
      ]
     },
     "metadata": {},
     "output_type": "display_data"
    },
    {
     "data": {
      "application/vnd.jupyter.widget-view+json": {
       "model_id": "",
       "version_major": 2,
       "version_minor": 0
      },
      "text/plain": [
       "HBox(children=(IntProgress(value=1, bar_style='info', max=1), HTML(value='')))"
      ]
     },
     "metadata": {},
     "output_type": "display_data"
    },
    {
     "data": {
      "application/vnd.jupyter.widget-view+json": {
       "model_id": "",
       "version_major": 2,
       "version_minor": 0
      },
      "text/plain": [
       "HBox(children=(IntProgress(value=1, bar_style='info', max=1), HTML(value='')))"
      ]
     },
     "metadata": {},
     "output_type": "display_data"
    },
    {
     "data": {
      "application/vnd.jupyter.widget-view+json": {
       "model_id": "",
       "version_major": 2,
       "version_minor": 0
      },
      "text/plain": [
       "HBox(children=(IntProgress(value=1, bar_style='info', max=1), HTML(value='')))"
      ]
     },
     "metadata": {},
     "output_type": "display_data"
    },
    {
     "data": {
      "application/vnd.jupyter.widget-view+json": {
       "model_id": "",
       "version_major": 2,
       "version_minor": 0
      },
      "text/plain": [
       "HBox(children=(IntProgress(value=1, bar_style='info', max=1), HTML(value='')))"
      ]
     },
     "metadata": {},
     "output_type": "display_data"
    },
    {
     "data": {
      "application/vnd.jupyter.widget-view+json": {
       "model_id": "",
       "version_major": 2,
       "version_minor": 0
      },
      "text/plain": [
       "HBox(children=(IntProgress(value=1, bar_style='info', max=1), HTML(value='')))"
      ]
     },
     "metadata": {},
     "output_type": "display_data"
    },
    {
     "data": {
      "application/vnd.jupyter.widget-view+json": {
       "model_id": "",
       "version_major": 2,
       "version_minor": 0
      },
      "text/plain": [
       "HBox(children=(IntProgress(value=1, bar_style='info', max=1), HTML(value='')))"
      ]
     },
     "metadata": {},
     "output_type": "display_data"
    },
    {
     "data": {
      "application/vnd.jupyter.widget-view+json": {
       "model_id": "",
       "version_major": 2,
       "version_minor": 0
      },
      "text/plain": [
       "HBox(children=(IntProgress(value=1, bar_style='info', max=1), HTML(value='')))"
      ]
     },
     "metadata": {},
     "output_type": "display_data"
    },
    {
     "data": {
      "application/vnd.jupyter.widget-view+json": {
       "model_id": "",
       "version_major": 2,
       "version_minor": 0
      },
      "text/plain": [
       "HBox(children=(IntProgress(value=1, bar_style='info', max=1), HTML(value='')))"
      ]
     },
     "metadata": {},
     "output_type": "display_data"
    },
    {
     "data": {
      "application/vnd.jupyter.widget-view+json": {
       "model_id": "",
       "version_major": 2,
       "version_minor": 0
      },
      "text/plain": [
       "HBox(children=(IntProgress(value=1, bar_style='info', max=1), HTML(value='')))"
      ]
     },
     "metadata": {},
     "output_type": "display_data"
    },
    {
     "data": {
      "application/vnd.jupyter.widget-view+json": {
       "model_id": "",
       "version_major": 2,
       "version_minor": 0
      },
      "text/plain": [
       "HBox(children=(IntProgress(value=0, max=70), HTML(value='')))"
      ]
     },
     "metadata": {},
     "output_type": "display_data"
    },
    {
     "data": {
      "application/vnd.jupyter.widget-view+json": {
       "model_id": "",
       "version_major": 2,
       "version_minor": 0
      },
      "text/plain": [
       "HBox(children=(IntProgress(value=1, bar_style='info', max=1), HTML(value='')))"
      ]
     },
     "metadata": {},
     "output_type": "display_data"
    },
    {
     "data": {
      "application/vnd.jupyter.widget-view+json": {
       "model_id": "",
       "version_major": 2,
       "version_minor": 0
      },
      "text/plain": [
       "HBox(children=(IntProgress(value=1, bar_style='info', max=1), HTML(value='')))"
      ]
     },
     "metadata": {},
     "output_type": "display_data"
    },
    {
     "data": {
      "application/vnd.jupyter.widget-view+json": {
       "model_id": "",
       "version_major": 2,
       "version_minor": 0
      },
      "text/plain": [
       "HBox(children=(IntProgress(value=1, bar_style='info', max=1), HTML(value='')))"
      ]
     },
     "metadata": {},
     "output_type": "display_data"
    },
    {
     "data": {
      "application/vnd.jupyter.widget-view+json": {
       "model_id": "",
       "version_major": 2,
       "version_minor": 0
      },
      "text/plain": [
       "HBox(children=(IntProgress(value=1, bar_style='info', max=1), HTML(value='')))"
      ]
     },
     "metadata": {},
     "output_type": "display_data"
    },
    {
     "data": {
      "application/vnd.jupyter.widget-view+json": {
       "model_id": "",
       "version_major": 2,
       "version_minor": 0
      },
      "text/plain": [
       "HBox(children=(IntProgress(value=1, bar_style='info', max=1), HTML(value='')))"
      ]
     },
     "metadata": {},
     "output_type": "display_data"
    },
    {
     "data": {
      "application/vnd.jupyter.widget-view+json": {
       "model_id": "",
       "version_major": 2,
       "version_minor": 0
      },
      "text/plain": [
       "HBox(children=(IntProgress(value=1, bar_style='info', max=1), HTML(value='')))"
      ]
     },
     "metadata": {},
     "output_type": "display_data"
    },
    {
     "data": {
      "application/vnd.jupyter.widget-view+json": {
       "model_id": "",
       "version_major": 2,
       "version_minor": 0
      },
      "text/plain": [
       "HBox(children=(IntProgress(value=1, bar_style='info', max=1), HTML(value='')))"
      ]
     },
     "metadata": {},
     "output_type": "display_data"
    },
    {
     "data": {
      "application/vnd.jupyter.widget-view+json": {
       "model_id": "",
       "version_major": 2,
       "version_minor": 0
      },
      "text/plain": [
       "HBox(children=(IntProgress(value=1, bar_style='info', max=1), HTML(value='')))"
      ]
     },
     "metadata": {},
     "output_type": "display_data"
    },
    {
     "data": {
      "application/vnd.jupyter.widget-view+json": {
       "model_id": "",
       "version_major": 2,
       "version_minor": 0
      },
      "text/plain": [
       "HBox(children=(IntProgress(value=1, bar_style='info', max=1), HTML(value='')))"
      ]
     },
     "metadata": {},
     "output_type": "display_data"
    },
    {
     "data": {
      "application/vnd.jupyter.widget-view+json": {
       "model_id": "",
       "version_major": 2,
       "version_minor": 0
      },
      "text/plain": [
       "HBox(children=(IntProgress(value=1, bar_style='info', max=1), HTML(value='')))"
      ]
     },
     "metadata": {},
     "output_type": "display_data"
    },
    {
     "data": {
      "application/vnd.jupyter.widget-view+json": {
       "model_id": "",
       "version_major": 2,
       "version_minor": 0
      },
      "text/plain": [
       "HBox(children=(IntProgress(value=1, bar_style='info', max=1), HTML(value='')))"
      ]
     },
     "metadata": {},
     "output_type": "display_data"
    },
    {
     "data": {
      "application/vnd.jupyter.widget-view+json": {
       "model_id": "",
       "version_major": 2,
       "version_minor": 0
      },
      "text/plain": [
       "HBox(children=(IntProgress(value=1, bar_style='info', max=1), HTML(value='')))"
      ]
     },
     "metadata": {},
     "output_type": "display_data"
    },
    {
     "data": {
      "application/vnd.jupyter.widget-view+json": {
       "model_id": "",
       "version_major": 2,
       "version_minor": 0
      },
      "text/plain": [
       "HBox(children=(IntProgress(value=1, bar_style='info', max=1), HTML(value='')))"
      ]
     },
     "metadata": {},
     "output_type": "display_data"
    },
    {
     "data": {
      "application/vnd.jupyter.widget-view+json": {
       "model_id": "",
       "version_major": 2,
       "version_minor": 0
      },
      "text/plain": [
       "HBox(children=(IntProgress(value=1, bar_style='info', max=1), HTML(value='')))"
      ]
     },
     "metadata": {},
     "output_type": "display_data"
    },
    {
     "data": {
      "application/vnd.jupyter.widget-view+json": {
       "model_id": "",
       "version_major": 2,
       "version_minor": 0
      },
      "text/plain": [
       "HBox(children=(IntProgress(value=1, bar_style='info', max=1), HTML(value='')))"
      ]
     },
     "metadata": {},
     "output_type": "display_data"
    },
    {
     "data": {
      "application/vnd.jupyter.widget-view+json": {
       "model_id": "",
       "version_major": 2,
       "version_minor": 0
      },
      "text/plain": [
       "HBox(children=(IntProgress(value=1, bar_style='info', max=1), HTML(value='')))"
      ]
     },
     "metadata": {},
     "output_type": "display_data"
    },
    {
     "data": {
      "application/vnd.jupyter.widget-view+json": {
       "model_id": "",
       "version_major": 2,
       "version_minor": 0
      },
      "text/plain": [
       "HBox(children=(IntProgress(value=1, bar_style='info', max=1), HTML(value='')))"
      ]
     },
     "metadata": {},
     "output_type": "display_data"
    },
    {
     "data": {
      "application/vnd.jupyter.widget-view+json": {
       "model_id": "",
       "version_major": 2,
       "version_minor": 0
      },
      "text/plain": [
       "HBox(children=(IntProgress(value=1, bar_style='info', max=1), HTML(value='')))"
      ]
     },
     "metadata": {},
     "output_type": "display_data"
    },
    {
     "data": {
      "application/vnd.jupyter.widget-view+json": {
       "model_id": "",
       "version_major": 2,
       "version_minor": 0
      },
      "text/plain": [
       "HBox(children=(IntProgress(value=1, bar_style='info', max=1), HTML(value='')))"
      ]
     },
     "metadata": {},
     "output_type": "display_data"
    },
    {
     "data": {
      "application/vnd.jupyter.widget-view+json": {
       "model_id": "",
       "version_major": 2,
       "version_minor": 0
      },
      "text/plain": [
       "HBox(children=(IntProgress(value=1, bar_style='info', max=1), HTML(value='')))"
      ]
     },
     "metadata": {},
     "output_type": "display_data"
    },
    {
     "data": {
      "application/vnd.jupyter.widget-view+json": {
       "model_id": "",
       "version_major": 2,
       "version_minor": 0
      },
      "text/plain": [
       "HBox(children=(IntProgress(value=1, bar_style='info', max=1), HTML(value='')))"
      ]
     },
     "metadata": {},
     "output_type": "display_data"
    },
    {
     "data": {
      "application/vnd.jupyter.widget-view+json": {
       "model_id": "",
       "version_major": 2,
       "version_minor": 0
      },
      "text/plain": [
       "HBox(children=(IntProgress(value=1, bar_style='info', max=1), HTML(value='')))"
      ]
     },
     "metadata": {},
     "output_type": "display_data"
    },
    {
     "data": {
      "application/vnd.jupyter.widget-view+json": {
       "model_id": "",
       "version_major": 2,
       "version_minor": 0
      },
      "text/plain": [
       "HBox(children=(IntProgress(value=1, bar_style='info', max=1), HTML(value='')))"
      ]
     },
     "metadata": {},
     "output_type": "display_data"
    },
    {
     "data": {
      "application/vnd.jupyter.widget-view+json": {
       "model_id": "",
       "version_major": 2,
       "version_minor": 0
      },
      "text/plain": [
       "HBox(children=(IntProgress(value=1, bar_style='info', max=1), HTML(value='')))"
      ]
     },
     "metadata": {},
     "output_type": "display_data"
    },
    {
     "data": {
      "application/vnd.jupyter.widget-view+json": {
       "model_id": "",
       "version_major": 2,
       "version_minor": 0
      },
      "text/plain": [
       "HBox(children=(IntProgress(value=1, bar_style='info', max=1), HTML(value='')))"
      ]
     },
     "metadata": {},
     "output_type": "display_data"
    },
    {
     "data": {
      "application/vnd.jupyter.widget-view+json": {
       "model_id": "",
       "version_major": 2,
       "version_minor": 0
      },
      "text/plain": [
       "HBox(children=(IntProgress(value=1, bar_style='info', max=1), HTML(value='')))"
      ]
     },
     "metadata": {},
     "output_type": "display_data"
    },
    {
     "data": {
      "application/vnd.jupyter.widget-view+json": {
       "model_id": "",
       "version_major": 2,
       "version_minor": 0
      },
      "text/plain": [
       "HBox(children=(IntProgress(value=1, bar_style='info', max=1), HTML(value='')))"
      ]
     },
     "metadata": {},
     "output_type": "display_data"
    },
    {
     "data": {
      "application/vnd.jupyter.widget-view+json": {
       "model_id": "",
       "version_major": 2,
       "version_minor": 0
      },
      "text/plain": [
       "HBox(children=(IntProgress(value=1, bar_style='info', max=1), HTML(value='')))"
      ]
     },
     "metadata": {},
     "output_type": "display_data"
    },
    {
     "data": {
      "application/vnd.jupyter.widget-view+json": {
       "model_id": "",
       "version_major": 2,
       "version_minor": 0
      },
      "text/plain": [
       "HBox(children=(IntProgress(value=1, bar_style='info', max=1), HTML(value='')))"
      ]
     },
     "metadata": {},
     "output_type": "display_data"
    },
    {
     "data": {
      "application/vnd.jupyter.widget-view+json": {
       "model_id": "",
       "version_major": 2,
       "version_minor": 0
      },
      "text/plain": [
       "HBox(children=(IntProgress(value=1, bar_style='info', max=1), HTML(value='')))"
      ]
     },
     "metadata": {},
     "output_type": "display_data"
    },
    {
     "data": {
      "application/vnd.jupyter.widget-view+json": {
       "model_id": "",
       "version_major": 2,
       "version_minor": 0
      },
      "text/plain": [
       "HBox(children=(IntProgress(value=1, bar_style='info', max=1), HTML(value='')))"
      ]
     },
     "metadata": {},
     "output_type": "display_data"
    },
    {
     "data": {
      "application/vnd.jupyter.widget-view+json": {
       "model_id": "",
       "version_major": 2,
       "version_minor": 0
      },
      "text/plain": [
       "HBox(children=(IntProgress(value=1, bar_style='info', max=1), HTML(value='')))"
      ]
     },
     "metadata": {},
     "output_type": "display_data"
    },
    {
     "data": {
      "application/vnd.jupyter.widget-view+json": {
       "model_id": "",
       "version_major": 2,
       "version_minor": 0
      },
      "text/plain": [
       "HBox(children=(IntProgress(value=1, bar_style='info', max=1), HTML(value='')))"
      ]
     },
     "metadata": {},
     "output_type": "display_data"
    },
    {
     "data": {
      "application/vnd.jupyter.widget-view+json": {
       "model_id": "",
       "version_major": 2,
       "version_minor": 0
      },
      "text/plain": [
       "HBox(children=(IntProgress(value=1, bar_style='info', max=1), HTML(value='')))"
      ]
     },
     "metadata": {},
     "output_type": "display_data"
    },
    {
     "data": {
      "application/vnd.jupyter.widget-view+json": {
       "model_id": "",
       "version_major": 2,
       "version_minor": 0
      },
      "text/plain": [
       "HBox(children=(IntProgress(value=1, bar_style='info', max=1), HTML(value='')))"
      ]
     },
     "metadata": {},
     "output_type": "display_data"
    },
    {
     "data": {
      "application/vnd.jupyter.widget-view+json": {
       "model_id": "",
       "version_major": 2,
       "version_minor": 0
      },
      "text/plain": [
       "HBox(children=(IntProgress(value=1, bar_style='info', max=1), HTML(value='')))"
      ]
     },
     "metadata": {},
     "output_type": "display_data"
    },
    {
     "data": {
      "application/vnd.jupyter.widget-view+json": {
       "model_id": "",
       "version_major": 2,
       "version_minor": 0
      },
      "text/plain": [
       "HBox(children=(IntProgress(value=1, bar_style='info', max=1), HTML(value='')))"
      ]
     },
     "metadata": {},
     "output_type": "display_data"
    },
    {
     "data": {
      "application/vnd.jupyter.widget-view+json": {
       "model_id": "",
       "version_major": 2,
       "version_minor": 0
      },
      "text/plain": [
       "HBox(children=(IntProgress(value=1, bar_style='info', max=1), HTML(value='')))"
      ]
     },
     "metadata": {},
     "output_type": "display_data"
    },
    {
     "data": {
      "application/vnd.jupyter.widget-view+json": {
       "model_id": "",
       "version_major": 2,
       "version_minor": 0
      },
      "text/plain": [
       "HBox(children=(IntProgress(value=1, bar_style='info', max=1), HTML(value='')))"
      ]
     },
     "metadata": {},
     "output_type": "display_data"
    },
    {
     "data": {
      "application/vnd.jupyter.widget-view+json": {
       "model_id": "",
       "version_major": 2,
       "version_minor": 0
      },
      "text/plain": [
       "HBox(children=(IntProgress(value=1, bar_style='info', max=1), HTML(value='')))"
      ]
     },
     "metadata": {},
     "output_type": "display_data"
    },
    {
     "data": {
      "application/vnd.jupyter.widget-view+json": {
       "model_id": "",
       "version_major": 2,
       "version_minor": 0
      },
      "text/plain": [
       "HBox(children=(IntProgress(value=1, bar_style='info', max=1), HTML(value='')))"
      ]
     },
     "metadata": {},
     "output_type": "display_data"
    },
    {
     "data": {
      "application/vnd.jupyter.widget-view+json": {
       "model_id": "",
       "version_major": 2,
       "version_minor": 0
      },
      "text/plain": [
       "HBox(children=(IntProgress(value=1, bar_style='info', max=1), HTML(value='')))"
      ]
     },
     "metadata": {},
     "output_type": "display_data"
    },
    {
     "data": {
      "application/vnd.jupyter.widget-view+json": {
       "model_id": "",
       "version_major": 2,
       "version_minor": 0
      },
      "text/plain": [
       "HBox(children=(IntProgress(value=1, bar_style='info', max=1), HTML(value='')))"
      ]
     },
     "metadata": {},
     "output_type": "display_data"
    },
    {
     "data": {
      "application/vnd.jupyter.widget-view+json": {
       "model_id": "",
       "version_major": 2,
       "version_minor": 0
      },
      "text/plain": [
       "HBox(children=(IntProgress(value=1, bar_style='info', max=1), HTML(value='')))"
      ]
     },
     "metadata": {},
     "output_type": "display_data"
    },
    {
     "data": {
      "application/vnd.jupyter.widget-view+json": {
       "model_id": "",
       "version_major": 2,
       "version_minor": 0
      },
      "text/plain": [
       "HBox(children=(IntProgress(value=1, bar_style='info', max=1), HTML(value='')))"
      ]
     },
     "metadata": {},
     "output_type": "display_data"
    },
    {
     "data": {
      "application/vnd.jupyter.widget-view+json": {
       "model_id": "",
       "version_major": 2,
       "version_minor": 0
      },
      "text/plain": [
       "HBox(children=(IntProgress(value=1, bar_style='info', max=1), HTML(value='')))"
      ]
     },
     "metadata": {},
     "output_type": "display_data"
    },
    {
     "data": {
      "application/vnd.jupyter.widget-view+json": {
       "model_id": "",
       "version_major": 2,
       "version_minor": 0
      },
      "text/plain": [
       "HBox(children=(IntProgress(value=1, bar_style='info', max=1), HTML(value='')))"
      ]
     },
     "metadata": {},
     "output_type": "display_data"
    },
    {
     "data": {
      "application/vnd.jupyter.widget-view+json": {
       "model_id": "",
       "version_major": 2,
       "version_minor": 0
      },
      "text/plain": [
       "HBox(children=(IntProgress(value=1, bar_style='info', max=1), HTML(value='')))"
      ]
     },
     "metadata": {},
     "output_type": "display_data"
    },
    {
     "data": {
      "application/vnd.jupyter.widget-view+json": {
       "model_id": "",
       "version_major": 2,
       "version_minor": 0
      },
      "text/plain": [
       "HBox(children=(IntProgress(value=1, bar_style='info', max=1), HTML(value='')))"
      ]
     },
     "metadata": {},
     "output_type": "display_data"
    },
    {
     "data": {
      "application/vnd.jupyter.widget-view+json": {
       "model_id": "",
       "version_major": 2,
       "version_minor": 0
      },
      "text/plain": [
       "HBox(children=(IntProgress(value=1, bar_style='info', max=1), HTML(value='')))"
      ]
     },
     "metadata": {},
     "output_type": "display_data"
    },
    {
     "data": {
      "application/vnd.jupyter.widget-view+json": {
       "model_id": "",
       "version_major": 2,
       "version_minor": 0
      },
      "text/plain": [
       "HBox(children=(IntProgress(value=1, bar_style='info', max=1), HTML(value='')))"
      ]
     },
     "metadata": {},
     "output_type": "display_data"
    },
    {
     "data": {
      "application/vnd.jupyter.widget-view+json": {
       "model_id": "",
       "version_major": 2,
       "version_minor": 0
      },
      "text/plain": [
       "HBox(children=(IntProgress(value=1, bar_style='info', max=1), HTML(value='')))"
      ]
     },
     "metadata": {},
     "output_type": "display_data"
    },
    {
     "data": {
      "application/vnd.jupyter.widget-view+json": {
       "model_id": "",
       "version_major": 2,
       "version_minor": 0
      },
      "text/plain": [
       "HBox(children=(IntProgress(value=1, bar_style='info', max=1), HTML(value='')))"
      ]
     },
     "metadata": {},
     "output_type": "display_data"
    },
    {
     "data": {
      "application/vnd.jupyter.widget-view+json": {
       "model_id": "",
       "version_major": 2,
       "version_minor": 0
      },
      "text/plain": [
       "HBox(children=(IntProgress(value=1, bar_style='info', max=1), HTML(value='')))"
      ]
     },
     "metadata": {},
     "output_type": "display_data"
    },
    {
     "data": {
      "application/vnd.jupyter.widget-view+json": {
       "model_id": "",
       "version_major": 2,
       "version_minor": 0
      },
      "text/plain": [
       "HBox(children=(IntProgress(value=1, bar_style='info', max=1), HTML(value='')))"
      ]
     },
     "metadata": {},
     "output_type": "display_data"
    },
    {
     "data": {
      "application/vnd.jupyter.widget-view+json": {
       "model_id": "",
       "version_major": 2,
       "version_minor": 0
      },
      "text/plain": [
       "HBox(children=(IntProgress(value=1, bar_style='info', max=1), HTML(value='')))"
      ]
     },
     "metadata": {},
     "output_type": "display_data"
    },
    {
     "data": {
      "application/vnd.jupyter.widget-view+json": {
       "model_id": "",
       "version_major": 2,
       "version_minor": 0
      },
      "text/plain": [
       "HBox(children=(IntProgress(value=1, bar_style='info', max=1), HTML(value='')))"
      ]
     },
     "metadata": {},
     "output_type": "display_data"
    },
    {
     "data": {
      "application/vnd.jupyter.widget-view+json": {
       "model_id": "",
       "version_major": 2,
       "version_minor": 0
      },
      "text/plain": [
       "HBox(children=(IntProgress(value=1, bar_style='info', max=1), HTML(value='')))"
      ]
     },
     "metadata": {},
     "output_type": "display_data"
    },
    {
     "data": {
      "application/vnd.jupyter.widget-view+json": {
       "model_id": "",
       "version_major": 2,
       "version_minor": 0
      },
      "text/plain": [
       "HBox(children=(IntProgress(value=1, bar_style='info', max=1), HTML(value='')))"
      ]
     },
     "metadata": {},
     "output_type": "display_data"
    },
    {
     "data": {
      "application/vnd.jupyter.widget-view+json": {
       "model_id": "",
       "version_major": 2,
       "version_minor": 0
      },
      "text/plain": [
       "HBox(children=(IntProgress(value=1, bar_style='info', max=1), HTML(value='')))"
      ]
     },
     "metadata": {},
     "output_type": "display_data"
    },
    {
     "data": {
      "application/vnd.jupyter.widget-view+json": {
       "model_id": "",
       "version_major": 2,
       "version_minor": 0
      },
      "text/plain": [
       "HBox(children=(IntProgress(value=1, bar_style='info', max=1), HTML(value='')))"
      ]
     },
     "metadata": {},
     "output_type": "display_data"
    },
    {
     "data": {
      "application/vnd.jupyter.widget-view+json": {
       "model_id": "",
       "version_major": 2,
       "version_minor": 0
      },
      "text/plain": [
       "HBox(children=(IntProgress(value=1, bar_style='info', max=1), HTML(value='')))"
      ]
     },
     "metadata": {},
     "output_type": "display_data"
    },
    {
     "data": {
      "application/vnd.jupyter.widget-view+json": {
       "model_id": "",
       "version_major": 2,
       "version_minor": 0
      },
      "text/plain": [
       "HBox(children=(IntProgress(value=1, bar_style='info', max=1), HTML(value='')))"
      ]
     },
     "metadata": {},
     "output_type": "display_data"
    },
    {
     "data": {
      "application/vnd.jupyter.widget-view+json": {
       "model_id": "",
       "version_major": 2,
       "version_minor": 0
      },
      "text/plain": [
       "HBox(children=(IntProgress(value=1, bar_style='info', max=1), HTML(value='')))"
      ]
     },
     "metadata": {},
     "output_type": "display_data"
    },
    {
     "data": {
      "application/vnd.jupyter.widget-view+json": {
       "model_id": "",
       "version_major": 2,
       "version_minor": 0
      },
      "text/plain": [
       "HBox(children=(IntProgress(value=1, bar_style='info', max=1), HTML(value='')))"
      ]
     },
     "metadata": {},
     "output_type": "display_data"
    },
    {
     "data": {
      "application/vnd.jupyter.widget-view+json": {
       "model_id": "",
       "version_major": 2,
       "version_minor": 0
      },
      "text/plain": [
       "HBox(children=(IntProgress(value=1, bar_style='info', max=1), HTML(value='')))"
      ]
     },
     "metadata": {},
     "output_type": "display_data"
    },
    {
     "data": {
      "application/vnd.jupyter.widget-view+json": {
       "model_id": "",
       "version_major": 2,
       "version_minor": 0
      },
      "text/plain": [
       "HBox(children=(IntProgress(value=1, bar_style='info', max=1), HTML(value='')))"
      ]
     },
     "metadata": {},
     "output_type": "display_data"
    },
    {
     "data": {
      "application/vnd.jupyter.widget-view+json": {
       "model_id": "",
       "version_major": 2,
       "version_minor": 0
      },
      "text/plain": [
       "HBox(children=(IntProgress(value=1, bar_style='info', max=1), HTML(value='')))"
      ]
     },
     "metadata": {},
     "output_type": "display_data"
    },
    {
     "data": {
      "application/vnd.jupyter.widget-view+json": {
       "model_id": "",
       "version_major": 2,
       "version_minor": 0
      },
      "text/plain": [
       "HBox(children=(IntProgress(value=1, bar_style='info', max=1), HTML(value='')))"
      ]
     },
     "metadata": {},
     "output_type": "display_data"
    },
    {
     "data": {
      "application/vnd.jupyter.widget-view+json": {
       "model_id": "",
       "version_major": 2,
       "version_minor": 0
      },
      "text/plain": [
       "HBox(children=(IntProgress(value=1, bar_style='info', max=1), HTML(value='')))"
      ]
     },
     "metadata": {},
     "output_type": "display_data"
    },
    {
     "data": {
      "application/vnd.jupyter.widget-view+json": {
       "model_id": "",
       "version_major": 2,
       "version_minor": 0
      },
      "text/plain": [
       "HBox(children=(IntProgress(value=0, max=91), HTML(value='')))"
      ]
     },
     "metadata": {},
     "output_type": "display_data"
    },
    {
     "data": {
      "application/vnd.jupyter.widget-view+json": {
       "model_id": "",
       "version_major": 2,
       "version_minor": 0
      },
      "text/plain": [
       "HBox(children=(IntProgress(value=1, bar_style='info', max=1), HTML(value='')))"
      ]
     },
     "metadata": {},
     "output_type": "display_data"
    },
    {
     "data": {
      "application/vnd.jupyter.widget-view+json": {
       "model_id": "",
       "version_major": 2,
       "version_minor": 0
      },
      "text/plain": [
       "HBox(children=(IntProgress(value=1, bar_style='info', max=1), HTML(value='')))"
      ]
     },
     "metadata": {},
     "output_type": "display_data"
    },
    {
     "data": {
      "application/vnd.jupyter.widget-view+json": {
       "model_id": "",
       "version_major": 2,
       "version_minor": 0
      },
      "text/plain": [
       "HBox(children=(IntProgress(value=1, bar_style='info', max=1), HTML(value='')))"
      ]
     },
     "metadata": {},
     "output_type": "display_data"
    },
    {
     "data": {
      "application/vnd.jupyter.widget-view+json": {
       "model_id": "",
       "version_major": 2,
       "version_minor": 0
      },
      "text/plain": [
       "HBox(children=(IntProgress(value=1, bar_style='info', max=1), HTML(value='')))"
      ]
     },
     "metadata": {},
     "output_type": "display_data"
    },
    {
     "data": {
      "application/vnd.jupyter.widget-view+json": {
       "model_id": "",
       "version_major": 2,
       "version_minor": 0
      },
      "text/plain": [
       "HBox(children=(IntProgress(value=1, bar_style='info', max=1), HTML(value='')))"
      ]
     },
     "metadata": {},
     "output_type": "display_data"
    },
    {
     "data": {
      "application/vnd.jupyter.widget-view+json": {
       "model_id": "",
       "version_major": 2,
       "version_minor": 0
      },
      "text/plain": [
       "HBox(children=(IntProgress(value=1, bar_style='info', max=1), HTML(value='')))"
      ]
     },
     "metadata": {},
     "output_type": "display_data"
    },
    {
     "data": {
      "application/vnd.jupyter.widget-view+json": {
       "model_id": "",
       "version_major": 2,
       "version_minor": 0
      },
      "text/plain": [
       "HBox(children=(IntProgress(value=1, bar_style='info', max=1), HTML(value='')))"
      ]
     },
     "metadata": {},
     "output_type": "display_data"
    },
    {
     "data": {
      "application/vnd.jupyter.widget-view+json": {
       "model_id": "",
       "version_major": 2,
       "version_minor": 0
      },
      "text/plain": [
       "HBox(children=(IntProgress(value=1, bar_style='info', max=1), HTML(value='')))"
      ]
     },
     "metadata": {},
     "output_type": "display_data"
    },
    {
     "data": {
      "application/vnd.jupyter.widget-view+json": {
       "model_id": "",
       "version_major": 2,
       "version_minor": 0
      },
      "text/plain": [
       "HBox(children=(IntProgress(value=1, bar_style='info', max=1), HTML(value='')))"
      ]
     },
     "metadata": {},
     "output_type": "display_data"
    },
    {
     "data": {
      "application/vnd.jupyter.widget-view+json": {
       "model_id": "",
       "version_major": 2,
       "version_minor": 0
      },
      "text/plain": [
       "HBox(children=(IntProgress(value=1, bar_style='info', max=1), HTML(value='')))"
      ]
     },
     "metadata": {},
     "output_type": "display_data"
    },
    {
     "data": {
      "application/vnd.jupyter.widget-view+json": {
       "model_id": "",
       "version_major": 2,
       "version_minor": 0
      },
      "text/plain": [
       "HBox(children=(IntProgress(value=1, bar_style='info', max=1), HTML(value='')))"
      ]
     },
     "metadata": {},
     "output_type": "display_data"
    },
    {
     "data": {
      "application/vnd.jupyter.widget-view+json": {
       "model_id": "",
       "version_major": 2,
       "version_minor": 0
      },
      "text/plain": [
       "HBox(children=(IntProgress(value=1, bar_style='info', max=1), HTML(value='')))"
      ]
     },
     "metadata": {},
     "output_type": "display_data"
    },
    {
     "data": {
      "application/vnd.jupyter.widget-view+json": {
       "model_id": "",
       "version_major": 2,
       "version_minor": 0
      },
      "text/plain": [
       "HBox(children=(IntProgress(value=1, bar_style='info', max=1), HTML(value='')))"
      ]
     },
     "metadata": {},
     "output_type": "display_data"
    },
    {
     "data": {
      "application/vnd.jupyter.widget-view+json": {
       "model_id": "",
       "version_major": 2,
       "version_minor": 0
      },
      "text/plain": [
       "HBox(children=(IntProgress(value=1, bar_style='info', max=1), HTML(value='')))"
      ]
     },
     "metadata": {},
     "output_type": "display_data"
    },
    {
     "data": {
      "application/vnd.jupyter.widget-view+json": {
       "model_id": "",
       "version_major": 2,
       "version_minor": 0
      },
      "text/plain": [
       "HBox(children=(IntProgress(value=1, bar_style='info', max=1), HTML(value='')))"
      ]
     },
     "metadata": {},
     "output_type": "display_data"
    },
    {
     "data": {
      "application/vnd.jupyter.widget-view+json": {
       "model_id": "",
       "version_major": 2,
       "version_minor": 0
      },
      "text/plain": [
       "HBox(children=(IntProgress(value=1, bar_style='info', max=1), HTML(value='')))"
      ]
     },
     "metadata": {},
     "output_type": "display_data"
    },
    {
     "data": {
      "application/vnd.jupyter.widget-view+json": {
       "model_id": "",
       "version_major": 2,
       "version_minor": 0
      },
      "text/plain": [
       "HBox(children=(IntProgress(value=1, bar_style='info', max=1), HTML(value='')))"
      ]
     },
     "metadata": {},
     "output_type": "display_data"
    },
    {
     "data": {
      "application/vnd.jupyter.widget-view+json": {
       "model_id": "",
       "version_major": 2,
       "version_minor": 0
      },
      "text/plain": [
       "HBox(children=(IntProgress(value=1, bar_style='info', max=1), HTML(value='')))"
      ]
     },
     "metadata": {},
     "output_type": "display_data"
    },
    {
     "data": {
      "application/vnd.jupyter.widget-view+json": {
       "model_id": "",
       "version_major": 2,
       "version_minor": 0
      },
      "text/plain": [
       "HBox(children=(IntProgress(value=1, bar_style='info', max=1), HTML(value='')))"
      ]
     },
     "metadata": {},
     "output_type": "display_data"
    },
    {
     "data": {
      "application/vnd.jupyter.widget-view+json": {
       "model_id": "",
       "version_major": 2,
       "version_minor": 0
      },
      "text/plain": [
       "HBox(children=(IntProgress(value=1, bar_style='info', max=1), HTML(value='')))"
      ]
     },
     "metadata": {},
     "output_type": "display_data"
    },
    {
     "data": {
      "application/vnd.jupyter.widget-view+json": {
       "model_id": "",
       "version_major": 2,
       "version_minor": 0
      },
      "text/plain": [
       "HBox(children=(IntProgress(value=1, bar_style='info', max=1), HTML(value='')))"
      ]
     },
     "metadata": {},
     "output_type": "display_data"
    },
    {
     "data": {
      "application/vnd.jupyter.widget-view+json": {
       "model_id": "",
       "version_major": 2,
       "version_minor": 0
      },
      "text/plain": [
       "HBox(children=(IntProgress(value=1, bar_style='info', max=1), HTML(value='')))"
      ]
     },
     "metadata": {},
     "output_type": "display_data"
    },
    {
     "data": {
      "application/vnd.jupyter.widget-view+json": {
       "model_id": "",
       "version_major": 2,
       "version_minor": 0
      },
      "text/plain": [
       "HBox(children=(IntProgress(value=1, bar_style='info', max=1), HTML(value='')))"
      ]
     },
     "metadata": {},
     "output_type": "display_data"
    },
    {
     "data": {
      "application/vnd.jupyter.widget-view+json": {
       "model_id": "",
       "version_major": 2,
       "version_minor": 0
      },
      "text/plain": [
       "HBox(children=(IntProgress(value=1, bar_style='info', max=1), HTML(value='')))"
      ]
     },
     "metadata": {},
     "output_type": "display_data"
    },
    {
     "data": {
      "application/vnd.jupyter.widget-view+json": {
       "model_id": "",
       "version_major": 2,
       "version_minor": 0
      },
      "text/plain": [
       "HBox(children=(IntProgress(value=1, bar_style='info', max=1), HTML(value='')))"
      ]
     },
     "metadata": {},
     "output_type": "display_data"
    },
    {
     "data": {
      "application/vnd.jupyter.widget-view+json": {
       "model_id": "",
       "version_major": 2,
       "version_minor": 0
      },
      "text/plain": [
       "HBox(children=(IntProgress(value=1, bar_style='info', max=1), HTML(value='')))"
      ]
     },
     "metadata": {},
     "output_type": "display_data"
    },
    {
     "data": {
      "application/vnd.jupyter.widget-view+json": {
       "model_id": "",
       "version_major": 2,
       "version_minor": 0
      },
      "text/plain": [
       "HBox(children=(IntProgress(value=1, bar_style='info', max=1), HTML(value='')))"
      ]
     },
     "metadata": {},
     "output_type": "display_data"
    },
    {
     "data": {
      "application/vnd.jupyter.widget-view+json": {
       "model_id": "",
       "version_major": 2,
       "version_minor": 0
      },
      "text/plain": [
       "HBox(children=(IntProgress(value=1, bar_style='info', max=1), HTML(value='')))"
      ]
     },
     "metadata": {},
     "output_type": "display_data"
    },
    {
     "data": {
      "application/vnd.jupyter.widget-view+json": {
       "model_id": "",
       "version_major": 2,
       "version_minor": 0
      },
      "text/plain": [
       "HBox(children=(IntProgress(value=1, bar_style='info', max=1), HTML(value='')))"
      ]
     },
     "metadata": {},
     "output_type": "display_data"
    },
    {
     "data": {
      "application/vnd.jupyter.widget-view+json": {
       "model_id": "",
       "version_major": 2,
       "version_minor": 0
      },
      "text/plain": [
       "HBox(children=(IntProgress(value=1, bar_style='info', max=1), HTML(value='')))"
      ]
     },
     "metadata": {},
     "output_type": "display_data"
    },
    {
     "data": {
      "application/vnd.jupyter.widget-view+json": {
       "model_id": "",
       "version_major": 2,
       "version_minor": 0
      },
      "text/plain": [
       "HBox(children=(IntProgress(value=1, bar_style='info', max=1), HTML(value='')))"
      ]
     },
     "metadata": {},
     "output_type": "display_data"
    },
    {
     "data": {
      "application/vnd.jupyter.widget-view+json": {
       "model_id": "",
       "version_major": 2,
       "version_minor": 0
      },
      "text/plain": [
       "HBox(children=(IntProgress(value=1, bar_style='info', max=1), HTML(value='')))"
      ]
     },
     "metadata": {},
     "output_type": "display_data"
    },
    {
     "data": {
      "application/vnd.jupyter.widget-view+json": {
       "model_id": "",
       "version_major": 2,
       "version_minor": 0
      },
      "text/plain": [
       "HBox(children=(IntProgress(value=1, bar_style='info', max=1), HTML(value='')))"
      ]
     },
     "metadata": {},
     "output_type": "display_data"
    },
    {
     "data": {
      "application/vnd.jupyter.widget-view+json": {
       "model_id": "",
       "version_major": 2,
       "version_minor": 0
      },
      "text/plain": [
       "HBox(children=(IntProgress(value=1, bar_style='info', max=1), HTML(value='')))"
      ]
     },
     "metadata": {},
     "output_type": "display_data"
    },
    {
     "data": {
      "application/vnd.jupyter.widget-view+json": {
       "model_id": "",
       "version_major": 2,
       "version_minor": 0
      },
      "text/plain": [
       "HBox(children=(IntProgress(value=1, bar_style='info', max=1), HTML(value='')))"
      ]
     },
     "metadata": {},
     "output_type": "display_data"
    },
    {
     "data": {
      "application/vnd.jupyter.widget-view+json": {
       "model_id": "",
       "version_major": 2,
       "version_minor": 0
      },
      "text/plain": [
       "HBox(children=(IntProgress(value=1, bar_style='info', max=1), HTML(value='')))"
      ]
     },
     "metadata": {},
     "output_type": "display_data"
    },
    {
     "data": {
      "application/vnd.jupyter.widget-view+json": {
       "model_id": "",
       "version_major": 2,
       "version_minor": 0
      },
      "text/plain": [
       "HBox(children=(IntProgress(value=1, bar_style='info', max=1), HTML(value='')))"
      ]
     },
     "metadata": {},
     "output_type": "display_data"
    },
    {
     "data": {
      "application/vnd.jupyter.widget-view+json": {
       "model_id": "",
       "version_major": 2,
       "version_minor": 0
      },
      "text/plain": [
       "HBox(children=(IntProgress(value=1, bar_style='info', max=1), HTML(value='')))"
      ]
     },
     "metadata": {},
     "output_type": "display_data"
    },
    {
     "data": {
      "application/vnd.jupyter.widget-view+json": {
       "model_id": "",
       "version_major": 2,
       "version_minor": 0
      },
      "text/plain": [
       "HBox(children=(IntProgress(value=1, bar_style='info', max=1), HTML(value='')))"
      ]
     },
     "metadata": {},
     "output_type": "display_data"
    },
    {
     "data": {
      "application/vnd.jupyter.widget-view+json": {
       "model_id": "",
       "version_major": 2,
       "version_minor": 0
      },
      "text/plain": [
       "HBox(children=(IntProgress(value=1, bar_style='info', max=1), HTML(value='')))"
      ]
     },
     "metadata": {},
     "output_type": "display_data"
    },
    {
     "data": {
      "application/vnd.jupyter.widget-view+json": {
       "model_id": "",
       "version_major": 2,
       "version_minor": 0
      },
      "text/plain": [
       "HBox(children=(IntProgress(value=1, bar_style='info', max=1), HTML(value='')))"
      ]
     },
     "metadata": {},
     "output_type": "display_data"
    },
    {
     "data": {
      "application/vnd.jupyter.widget-view+json": {
       "model_id": "",
       "version_major": 2,
       "version_minor": 0
      },
      "text/plain": [
       "HBox(children=(IntProgress(value=1, bar_style='info', max=1), HTML(value='')))"
      ]
     },
     "metadata": {},
     "output_type": "display_data"
    },
    {
     "data": {
      "application/vnd.jupyter.widget-view+json": {
       "model_id": "",
       "version_major": 2,
       "version_minor": 0
      },
      "text/plain": [
       "HBox(children=(IntProgress(value=1, bar_style='info', max=1), HTML(value='')))"
      ]
     },
     "metadata": {},
     "output_type": "display_data"
    },
    {
     "data": {
      "application/vnd.jupyter.widget-view+json": {
       "model_id": "",
       "version_major": 2,
       "version_minor": 0
      },
      "text/plain": [
       "HBox(children=(IntProgress(value=1, bar_style='info', max=1), HTML(value='')))"
      ]
     },
     "metadata": {},
     "output_type": "display_data"
    },
    {
     "data": {
      "application/vnd.jupyter.widget-view+json": {
       "model_id": "",
       "version_major": 2,
       "version_minor": 0
      },
      "text/plain": [
       "HBox(children=(IntProgress(value=1, bar_style='info', max=1), HTML(value='')))"
      ]
     },
     "metadata": {},
     "output_type": "display_data"
    },
    {
     "data": {
      "application/vnd.jupyter.widget-view+json": {
       "model_id": "",
       "version_major": 2,
       "version_minor": 0
      },
      "text/plain": [
       "HBox(children=(IntProgress(value=1, bar_style='info', max=1), HTML(value='')))"
      ]
     },
     "metadata": {},
     "output_type": "display_data"
    },
    {
     "data": {
      "application/vnd.jupyter.widget-view+json": {
       "model_id": "",
       "version_major": 2,
       "version_minor": 0
      },
      "text/plain": [
       "HBox(children=(IntProgress(value=1, bar_style='info', max=1), HTML(value='')))"
      ]
     },
     "metadata": {},
     "output_type": "display_data"
    },
    {
     "data": {
      "application/vnd.jupyter.widget-view+json": {
       "model_id": "",
       "version_major": 2,
       "version_minor": 0
      },
      "text/plain": [
       "HBox(children=(IntProgress(value=1, bar_style='info', max=1), HTML(value='')))"
      ]
     },
     "metadata": {},
     "output_type": "display_data"
    },
    {
     "data": {
      "application/vnd.jupyter.widget-view+json": {
       "model_id": "",
       "version_major": 2,
       "version_minor": 0
      },
      "text/plain": [
       "HBox(children=(IntProgress(value=1, bar_style='info', max=1), HTML(value='')))"
      ]
     },
     "metadata": {},
     "output_type": "display_data"
    },
    {
     "data": {
      "application/vnd.jupyter.widget-view+json": {
       "model_id": "",
       "version_major": 2,
       "version_minor": 0
      },
      "text/plain": [
       "HBox(children=(IntProgress(value=1, bar_style='info', max=1), HTML(value='')))"
      ]
     },
     "metadata": {},
     "output_type": "display_data"
    },
    {
     "data": {
      "application/vnd.jupyter.widget-view+json": {
       "model_id": "",
       "version_major": 2,
       "version_minor": 0
      },
      "text/plain": [
       "HBox(children=(IntProgress(value=1, bar_style='info', max=1), HTML(value='')))"
      ]
     },
     "metadata": {},
     "output_type": "display_data"
    },
    {
     "data": {
      "application/vnd.jupyter.widget-view+json": {
       "model_id": "",
       "version_major": 2,
       "version_minor": 0
      },
      "text/plain": [
       "HBox(children=(IntProgress(value=1, bar_style='info', max=1), HTML(value='')))"
      ]
     },
     "metadata": {},
     "output_type": "display_data"
    },
    {
     "data": {
      "application/vnd.jupyter.widget-view+json": {
       "model_id": "",
       "version_major": 2,
       "version_minor": 0
      },
      "text/plain": [
       "HBox(children=(IntProgress(value=1, bar_style='info', max=1), HTML(value='')))"
      ]
     },
     "metadata": {},
     "output_type": "display_data"
    },
    {
     "data": {
      "application/vnd.jupyter.widget-view+json": {
       "model_id": "",
       "version_major": 2,
       "version_minor": 0
      },
      "text/plain": [
       "HBox(children=(IntProgress(value=1, bar_style='info', max=1), HTML(value='')))"
      ]
     },
     "metadata": {},
     "output_type": "display_data"
    },
    {
     "data": {
      "application/vnd.jupyter.widget-view+json": {
       "model_id": "",
       "version_major": 2,
       "version_minor": 0
      },
      "text/plain": [
       "HBox(children=(IntProgress(value=1, bar_style='info', max=1), HTML(value='')))"
      ]
     },
     "metadata": {},
     "output_type": "display_data"
    },
    {
     "data": {
      "application/vnd.jupyter.widget-view+json": {
       "model_id": "",
       "version_major": 2,
       "version_minor": 0
      },
      "text/plain": [
       "HBox(children=(IntProgress(value=1, bar_style='info', max=1), HTML(value='')))"
      ]
     },
     "metadata": {},
     "output_type": "display_data"
    },
    {
     "data": {
      "application/vnd.jupyter.widget-view+json": {
       "model_id": "",
       "version_major": 2,
       "version_minor": 0
      },
      "text/plain": [
       "HBox(children=(IntProgress(value=1, bar_style='info', max=1), HTML(value='')))"
      ]
     },
     "metadata": {},
     "output_type": "display_data"
    },
    {
     "data": {
      "application/vnd.jupyter.widget-view+json": {
       "model_id": "",
       "version_major": 2,
       "version_minor": 0
      },
      "text/plain": [
       "HBox(children=(IntProgress(value=1, bar_style='info', max=1), HTML(value='')))"
      ]
     },
     "metadata": {},
     "output_type": "display_data"
    },
    {
     "data": {
      "application/vnd.jupyter.widget-view+json": {
       "model_id": "",
       "version_major": 2,
       "version_minor": 0
      },
      "text/plain": [
       "HBox(children=(IntProgress(value=1, bar_style='info', max=1), HTML(value='')))"
      ]
     },
     "metadata": {},
     "output_type": "display_data"
    },
    {
     "data": {
      "application/vnd.jupyter.widget-view+json": {
       "model_id": "",
       "version_major": 2,
       "version_minor": 0
      },
      "text/plain": [
       "HBox(children=(IntProgress(value=1, bar_style='info', max=1), HTML(value='')))"
      ]
     },
     "metadata": {},
     "output_type": "display_data"
    },
    {
     "data": {
      "application/vnd.jupyter.widget-view+json": {
       "model_id": "",
       "version_major": 2,
       "version_minor": 0
      },
      "text/plain": [
       "HBox(children=(IntProgress(value=1, bar_style='info', max=1), HTML(value='')))"
      ]
     },
     "metadata": {},
     "output_type": "display_data"
    },
    {
     "data": {
      "application/vnd.jupyter.widget-view+json": {
       "model_id": "",
       "version_major": 2,
       "version_minor": 0
      },
      "text/plain": [
       "HBox(children=(IntProgress(value=1, bar_style='info', max=1), HTML(value='')))"
      ]
     },
     "metadata": {},
     "output_type": "display_data"
    },
    {
     "data": {
      "application/vnd.jupyter.widget-view+json": {
       "model_id": "",
       "version_major": 2,
       "version_minor": 0
      },
      "text/plain": [
       "HBox(children=(IntProgress(value=1, bar_style='info', max=1), HTML(value='')))"
      ]
     },
     "metadata": {},
     "output_type": "display_data"
    },
    {
     "data": {
      "application/vnd.jupyter.widget-view+json": {
       "model_id": "",
       "version_major": 2,
       "version_minor": 0
      },
      "text/plain": [
       "HBox(children=(IntProgress(value=1, bar_style='info', max=1), HTML(value='')))"
      ]
     },
     "metadata": {},
     "output_type": "display_data"
    },
    {
     "data": {
      "application/vnd.jupyter.widget-view+json": {
       "model_id": "",
       "version_major": 2,
       "version_minor": 0
      },
      "text/plain": [
       "HBox(children=(IntProgress(value=1, bar_style='info', max=1), HTML(value='')))"
      ]
     },
     "metadata": {},
     "output_type": "display_data"
    },
    {
     "data": {
      "application/vnd.jupyter.widget-view+json": {
       "model_id": "",
       "version_major": 2,
       "version_minor": 0
      },
      "text/plain": [
       "HBox(children=(IntProgress(value=1, bar_style='info', max=1), HTML(value='')))"
      ]
     },
     "metadata": {},
     "output_type": "display_data"
    },
    {
     "data": {
      "application/vnd.jupyter.widget-view+json": {
       "model_id": "",
       "version_major": 2,
       "version_minor": 0
      },
      "text/plain": [
       "HBox(children=(IntProgress(value=1, bar_style='info', max=1), HTML(value='')))"
      ]
     },
     "metadata": {},
     "output_type": "display_data"
    },
    {
     "data": {
      "application/vnd.jupyter.widget-view+json": {
       "model_id": "",
       "version_major": 2,
       "version_minor": 0
      },
      "text/plain": [
       "HBox(children=(IntProgress(value=1, bar_style='info', max=1), HTML(value='')))"
      ]
     },
     "metadata": {},
     "output_type": "display_data"
    },
    {
     "data": {
      "application/vnd.jupyter.widget-view+json": {
       "model_id": "",
       "version_major": 2,
       "version_minor": 0
      },
      "text/plain": [
       "HBox(children=(IntProgress(value=1, bar_style='info', max=1), HTML(value='')))"
      ]
     },
     "metadata": {},
     "output_type": "display_data"
    },
    {
     "data": {
      "application/vnd.jupyter.widget-view+json": {
       "model_id": "",
       "version_major": 2,
       "version_minor": 0
      },
      "text/plain": [
       "HBox(children=(IntProgress(value=1, bar_style='info', max=1), HTML(value='')))"
      ]
     },
     "metadata": {},
     "output_type": "display_data"
    },
    {
     "data": {
      "application/vnd.jupyter.widget-view+json": {
       "model_id": "",
       "version_major": 2,
       "version_minor": 0
      },
      "text/plain": [
       "HBox(children=(IntProgress(value=1, bar_style='info', max=1), HTML(value='')))"
      ]
     },
     "metadata": {},
     "output_type": "display_data"
    },
    {
     "data": {
      "application/vnd.jupyter.widget-view+json": {
       "model_id": "",
       "version_major": 2,
       "version_minor": 0
      },
      "text/plain": [
       "HBox(children=(IntProgress(value=1, bar_style='info', max=1), HTML(value='')))"
      ]
     },
     "metadata": {},
     "output_type": "display_data"
    },
    {
     "data": {
      "application/vnd.jupyter.widget-view+json": {
       "model_id": "",
       "version_major": 2,
       "version_minor": 0
      },
      "text/plain": [
       "HBox(children=(IntProgress(value=1, bar_style='info', max=1), HTML(value='')))"
      ]
     },
     "metadata": {},
     "output_type": "display_data"
    },
    {
     "data": {
      "application/vnd.jupyter.widget-view+json": {
       "model_id": "",
       "version_major": 2,
       "version_minor": 0
      },
      "text/plain": [
       "HBox(children=(IntProgress(value=1, bar_style='info', max=1), HTML(value='')))"
      ]
     },
     "metadata": {},
     "output_type": "display_data"
    },
    {
     "data": {
      "application/vnd.jupyter.widget-view+json": {
       "model_id": "",
       "version_major": 2,
       "version_minor": 0
      },
      "text/plain": [
       "HBox(children=(IntProgress(value=1, bar_style='info', max=1), HTML(value='')))"
      ]
     },
     "metadata": {},
     "output_type": "display_data"
    },
    {
     "data": {
      "application/vnd.jupyter.widget-view+json": {
       "model_id": "",
       "version_major": 2,
       "version_minor": 0
      },
      "text/plain": [
       "HBox(children=(IntProgress(value=1, bar_style='info', max=1), HTML(value='')))"
      ]
     },
     "metadata": {},
     "output_type": "display_data"
    },
    {
     "data": {
      "application/vnd.jupyter.widget-view+json": {
       "model_id": "",
       "version_major": 2,
       "version_minor": 0
      },
      "text/plain": [
       "HBox(children=(IntProgress(value=1, bar_style='info', max=1), HTML(value='')))"
      ]
     },
     "metadata": {},
     "output_type": "display_data"
    },
    {
     "data": {
      "application/vnd.jupyter.widget-view+json": {
       "model_id": "",
       "version_major": 2,
       "version_minor": 0
      },
      "text/plain": [
       "HBox(children=(IntProgress(value=1, bar_style='info', max=1), HTML(value='')))"
      ]
     },
     "metadata": {},
     "output_type": "display_data"
    },
    {
     "data": {
      "application/vnd.jupyter.widget-view+json": {
       "model_id": "",
       "version_major": 2,
       "version_minor": 0
      },
      "text/plain": [
       "HBox(children=(IntProgress(value=1, bar_style='info', max=1), HTML(value='')))"
      ]
     },
     "metadata": {},
     "output_type": "display_data"
    },
    {
     "data": {
      "application/vnd.jupyter.widget-view+json": {
       "model_id": "",
       "version_major": 2,
       "version_minor": 0
      },
      "text/plain": [
       "HBox(children=(IntProgress(value=1, bar_style='info', max=1), HTML(value='')))"
      ]
     },
     "metadata": {},
     "output_type": "display_data"
    },
    {
     "data": {
      "application/vnd.jupyter.widget-view+json": {
       "model_id": "",
       "version_major": 2,
       "version_minor": 0
      },
      "text/plain": [
       "HBox(children=(IntProgress(value=1, bar_style='info', max=1), HTML(value='')))"
      ]
     },
     "metadata": {},
     "output_type": "display_data"
    },
    {
     "data": {
      "application/vnd.jupyter.widget-view+json": {
       "model_id": "",
       "version_major": 2,
       "version_minor": 0
      },
      "text/plain": [
       "HBox(children=(IntProgress(value=1, bar_style='info', max=1), HTML(value='')))"
      ]
     },
     "metadata": {},
     "output_type": "display_data"
    },
    {
     "data": {
      "application/vnd.jupyter.widget-view+json": {
       "model_id": "",
       "version_major": 2,
       "version_minor": 0
      },
      "text/plain": [
       "HBox(children=(IntProgress(value=1, bar_style='info', max=1), HTML(value='')))"
      ]
     },
     "metadata": {},
     "output_type": "display_data"
    },
    {
     "data": {
      "application/vnd.jupyter.widget-view+json": {
       "model_id": "",
       "version_major": 2,
       "version_minor": 0
      },
      "text/plain": [
       "HBox(children=(IntProgress(value=1, bar_style='info', max=1), HTML(value='')))"
      ]
     },
     "metadata": {},
     "output_type": "display_data"
    },
    {
     "data": {
      "application/vnd.jupyter.widget-view+json": {
       "model_id": "",
       "version_major": 2,
       "version_minor": 0
      },
      "text/plain": [
       "HBox(children=(IntProgress(value=1, bar_style='info', max=1), HTML(value='')))"
      ]
     },
     "metadata": {},
     "output_type": "display_data"
    },
    {
     "data": {
      "application/vnd.jupyter.widget-view+json": {
       "model_id": "",
       "version_major": 2,
       "version_minor": 0
      },
      "text/plain": [
       "HBox(children=(IntProgress(value=1, bar_style='info', max=1), HTML(value='')))"
      ]
     },
     "metadata": {},
     "output_type": "display_data"
    },
    {
     "data": {
      "application/vnd.jupyter.widget-view+json": {
       "model_id": "",
       "version_major": 2,
       "version_minor": 0
      },
      "text/plain": [
       "HBox(children=(IntProgress(value=1, bar_style='info', max=1), HTML(value='')))"
      ]
     },
     "metadata": {},
     "output_type": "display_data"
    },
    {
     "data": {
      "application/vnd.jupyter.widget-view+json": {
       "model_id": "",
       "version_major": 2,
       "version_minor": 0
      },
      "text/plain": [
       "HBox(children=(IntProgress(value=1, bar_style='info', max=1), HTML(value='')))"
      ]
     },
     "metadata": {},
     "output_type": "display_data"
    },
    {
     "data": {
      "application/vnd.jupyter.widget-view+json": {
       "model_id": "",
       "version_major": 2,
       "version_minor": 0
      },
      "text/plain": [
       "HBox(children=(IntProgress(value=1, bar_style='info', max=1), HTML(value='')))"
      ]
     },
     "metadata": {},
     "output_type": "display_data"
    },
    {
     "data": {
      "application/vnd.jupyter.widget-view+json": {
       "model_id": "",
       "version_major": 2,
       "version_minor": 0
      },
      "text/plain": [
       "HBox(children=(IntProgress(value=1, bar_style='info', max=1), HTML(value='')))"
      ]
     },
     "metadata": {},
     "output_type": "display_data"
    },
    {
     "data": {
      "application/vnd.jupyter.widget-view+json": {
       "model_id": "",
       "version_major": 2,
       "version_minor": 0
      },
      "text/plain": [
       "HBox(children=(IntProgress(value=1, bar_style='info', max=1), HTML(value='')))"
      ]
     },
     "metadata": {},
     "output_type": "display_data"
    },
    {
     "data": {
      "application/vnd.jupyter.widget-view+json": {
       "model_id": "",
       "version_major": 2,
       "version_minor": 0
      },
      "text/plain": [
       "HBox(children=(IntProgress(value=0, max=74), HTML(value='')))"
      ]
     },
     "metadata": {},
     "output_type": "display_data"
    },
    {
     "data": {
      "application/vnd.jupyter.widget-view+json": {
       "model_id": "",
       "version_major": 2,
       "version_minor": 0
      },
      "text/plain": [
       "HBox(children=(IntProgress(value=1, bar_style='info', max=1), HTML(value='')))"
      ]
     },
     "metadata": {},
     "output_type": "display_data"
    },
    {
     "data": {
      "application/vnd.jupyter.widget-view+json": {
       "model_id": "",
       "version_major": 2,
       "version_minor": 0
      },
      "text/plain": [
       "HBox(children=(IntProgress(value=1, bar_style='info', max=1), HTML(value='')))"
      ]
     },
     "metadata": {},
     "output_type": "display_data"
    },
    {
     "data": {
      "application/vnd.jupyter.widget-view+json": {
       "model_id": "",
       "version_major": 2,
       "version_minor": 0
      },
      "text/plain": [
       "HBox(children=(IntProgress(value=1, bar_style='info', max=1), HTML(value='')))"
      ]
     },
     "metadata": {},
     "output_type": "display_data"
    },
    {
     "data": {
      "application/vnd.jupyter.widget-view+json": {
       "model_id": "",
       "version_major": 2,
       "version_minor": 0
      },
      "text/plain": [
       "HBox(children=(IntProgress(value=1, bar_style='info', max=1), HTML(value='')))"
      ]
     },
     "metadata": {},
     "output_type": "display_data"
    },
    {
     "data": {
      "application/vnd.jupyter.widget-view+json": {
       "model_id": "",
       "version_major": 2,
       "version_minor": 0
      },
      "text/plain": [
       "HBox(children=(IntProgress(value=1, bar_style='info', max=1), HTML(value='')))"
      ]
     },
     "metadata": {},
     "output_type": "display_data"
    },
    {
     "data": {
      "application/vnd.jupyter.widget-view+json": {
       "model_id": "",
       "version_major": 2,
       "version_minor": 0
      },
      "text/plain": [
       "HBox(children=(IntProgress(value=1, bar_style='info', max=1), HTML(value='')))"
      ]
     },
     "metadata": {},
     "output_type": "display_data"
    },
    {
     "data": {
      "application/vnd.jupyter.widget-view+json": {
       "model_id": "",
       "version_major": 2,
       "version_minor": 0
      },
      "text/plain": [
       "HBox(children=(IntProgress(value=1, bar_style='info', max=1), HTML(value='')))"
      ]
     },
     "metadata": {},
     "output_type": "display_data"
    },
    {
     "data": {
      "application/vnd.jupyter.widget-view+json": {
       "model_id": "",
       "version_major": 2,
       "version_minor": 0
      },
      "text/plain": [
       "HBox(children=(IntProgress(value=1, bar_style='info', max=1), HTML(value='')))"
      ]
     },
     "metadata": {},
     "output_type": "display_data"
    },
    {
     "data": {
      "application/vnd.jupyter.widget-view+json": {
       "model_id": "",
       "version_major": 2,
       "version_minor": 0
      },
      "text/plain": [
       "HBox(children=(IntProgress(value=1, bar_style='info', max=1), HTML(value='')))"
      ]
     },
     "metadata": {},
     "output_type": "display_data"
    },
    {
     "data": {
      "application/vnd.jupyter.widget-view+json": {
       "model_id": "",
       "version_major": 2,
       "version_minor": 0
      },
      "text/plain": [
       "HBox(children=(IntProgress(value=1, bar_style='info', max=1), HTML(value='')))"
      ]
     },
     "metadata": {},
     "output_type": "display_data"
    },
    {
     "data": {
      "application/vnd.jupyter.widget-view+json": {
       "model_id": "",
       "version_major": 2,
       "version_minor": 0
      },
      "text/plain": [
       "HBox(children=(IntProgress(value=1, bar_style='info', max=1), HTML(value='')))"
      ]
     },
     "metadata": {},
     "output_type": "display_data"
    },
    {
     "data": {
      "application/vnd.jupyter.widget-view+json": {
       "model_id": "",
       "version_major": 2,
       "version_minor": 0
      },
      "text/plain": [
       "HBox(children=(IntProgress(value=1, bar_style='info', max=1), HTML(value='')))"
      ]
     },
     "metadata": {},
     "output_type": "display_data"
    },
    {
     "data": {
      "application/vnd.jupyter.widget-view+json": {
       "model_id": "",
       "version_major": 2,
       "version_minor": 0
      },
      "text/plain": [
       "HBox(children=(IntProgress(value=1, bar_style='info', max=1), HTML(value='')))"
      ]
     },
     "metadata": {},
     "output_type": "display_data"
    },
    {
     "data": {
      "application/vnd.jupyter.widget-view+json": {
       "model_id": "",
       "version_major": 2,
       "version_minor": 0
      },
      "text/plain": [
       "HBox(children=(IntProgress(value=1, bar_style='info', max=1), HTML(value='')))"
      ]
     },
     "metadata": {},
     "output_type": "display_data"
    },
    {
     "data": {
      "application/vnd.jupyter.widget-view+json": {
       "model_id": "",
       "version_major": 2,
       "version_minor": 0
      },
      "text/plain": [
       "HBox(children=(IntProgress(value=1, bar_style='info', max=1), HTML(value='')))"
      ]
     },
     "metadata": {},
     "output_type": "display_data"
    },
    {
     "data": {
      "application/vnd.jupyter.widget-view+json": {
       "model_id": "",
       "version_major": 2,
       "version_minor": 0
      },
      "text/plain": [
       "HBox(children=(IntProgress(value=1, bar_style='info', max=1), HTML(value='')))"
      ]
     },
     "metadata": {},
     "output_type": "display_data"
    },
    {
     "data": {
      "application/vnd.jupyter.widget-view+json": {
       "model_id": "",
       "version_major": 2,
       "version_minor": 0
      },
      "text/plain": [
       "HBox(children=(IntProgress(value=1, bar_style='info', max=1), HTML(value='')))"
      ]
     },
     "metadata": {},
     "output_type": "display_data"
    },
    {
     "data": {
      "application/vnd.jupyter.widget-view+json": {
       "model_id": "",
       "version_major": 2,
       "version_minor": 0
      },
      "text/plain": [
       "HBox(children=(IntProgress(value=1, bar_style='info', max=1), HTML(value='')))"
      ]
     },
     "metadata": {},
     "output_type": "display_data"
    },
    {
     "data": {
      "application/vnd.jupyter.widget-view+json": {
       "model_id": "",
       "version_major": 2,
       "version_minor": 0
      },
      "text/plain": [
       "HBox(children=(IntProgress(value=1, bar_style='info', max=1), HTML(value='')))"
      ]
     },
     "metadata": {},
     "output_type": "display_data"
    },
    {
     "data": {
      "application/vnd.jupyter.widget-view+json": {
       "model_id": "",
       "version_major": 2,
       "version_minor": 0
      },
      "text/plain": [
       "HBox(children=(IntProgress(value=1, bar_style='info', max=1), HTML(value='')))"
      ]
     },
     "metadata": {},
     "output_type": "display_data"
    },
    {
     "data": {
      "application/vnd.jupyter.widget-view+json": {
       "model_id": "",
       "version_major": 2,
       "version_minor": 0
      },
      "text/plain": [
       "HBox(children=(IntProgress(value=1, bar_style='info', max=1), HTML(value='')))"
      ]
     },
     "metadata": {},
     "output_type": "display_data"
    },
    {
     "data": {
      "application/vnd.jupyter.widget-view+json": {
       "model_id": "",
       "version_major": 2,
       "version_minor": 0
      },
      "text/plain": [
       "HBox(children=(IntProgress(value=1, bar_style='info', max=1), HTML(value='')))"
      ]
     },
     "metadata": {},
     "output_type": "display_data"
    },
    {
     "data": {
      "application/vnd.jupyter.widget-view+json": {
       "model_id": "",
       "version_major": 2,
       "version_minor": 0
      },
      "text/plain": [
       "HBox(children=(IntProgress(value=1, bar_style='info', max=1), HTML(value='')))"
      ]
     },
     "metadata": {},
     "output_type": "display_data"
    },
    {
     "data": {
      "application/vnd.jupyter.widget-view+json": {
       "model_id": "",
       "version_major": 2,
       "version_minor": 0
      },
      "text/plain": [
       "HBox(children=(IntProgress(value=1, bar_style='info', max=1), HTML(value='')))"
      ]
     },
     "metadata": {},
     "output_type": "display_data"
    },
    {
     "data": {
      "application/vnd.jupyter.widget-view+json": {
       "model_id": "",
       "version_major": 2,
       "version_minor": 0
      },
      "text/plain": [
       "HBox(children=(IntProgress(value=1, bar_style='info', max=1), HTML(value='')))"
      ]
     },
     "metadata": {},
     "output_type": "display_data"
    },
    {
     "data": {
      "application/vnd.jupyter.widget-view+json": {
       "model_id": "",
       "version_major": 2,
       "version_minor": 0
      },
      "text/plain": [
       "HBox(children=(IntProgress(value=1, bar_style='info', max=1), HTML(value='')))"
      ]
     },
     "metadata": {},
     "output_type": "display_data"
    },
    {
     "data": {
      "application/vnd.jupyter.widget-view+json": {
       "model_id": "",
       "version_major": 2,
       "version_minor": 0
      },
      "text/plain": [
       "HBox(children=(IntProgress(value=1, bar_style='info', max=1), HTML(value='')))"
      ]
     },
     "metadata": {},
     "output_type": "display_data"
    },
    {
     "data": {
      "application/vnd.jupyter.widget-view+json": {
       "model_id": "",
       "version_major": 2,
       "version_minor": 0
      },
      "text/plain": [
       "HBox(children=(IntProgress(value=1, bar_style='info', max=1), HTML(value='')))"
      ]
     },
     "metadata": {},
     "output_type": "display_data"
    },
    {
     "data": {
      "application/vnd.jupyter.widget-view+json": {
       "model_id": "",
       "version_major": 2,
       "version_minor": 0
      },
      "text/plain": [
       "HBox(children=(IntProgress(value=1, bar_style='info', max=1), HTML(value='')))"
      ]
     },
     "metadata": {},
     "output_type": "display_data"
    },
    {
     "data": {
      "application/vnd.jupyter.widget-view+json": {
       "model_id": "",
       "version_major": 2,
       "version_minor": 0
      },
      "text/plain": [
       "HBox(children=(IntProgress(value=1, bar_style='info', max=1), HTML(value='')))"
      ]
     },
     "metadata": {},
     "output_type": "display_data"
    },
    {
     "data": {
      "application/vnd.jupyter.widget-view+json": {
       "model_id": "",
       "version_major": 2,
       "version_minor": 0
      },
      "text/plain": [
       "HBox(children=(IntProgress(value=1, bar_style='info', max=1), HTML(value='')))"
      ]
     },
     "metadata": {},
     "output_type": "display_data"
    },
    {
     "data": {
      "application/vnd.jupyter.widget-view+json": {
       "model_id": "",
       "version_major": 2,
       "version_minor": 0
      },
      "text/plain": [
       "HBox(children=(IntProgress(value=1, bar_style='info', max=1), HTML(value='')))"
      ]
     },
     "metadata": {},
     "output_type": "display_data"
    },
    {
     "data": {
      "application/vnd.jupyter.widget-view+json": {
       "model_id": "",
       "version_major": 2,
       "version_minor": 0
      },
      "text/plain": [
       "HBox(children=(IntProgress(value=1, bar_style='info', max=1), HTML(value='')))"
      ]
     },
     "metadata": {},
     "output_type": "display_data"
    },
    {
     "data": {
      "application/vnd.jupyter.widget-view+json": {
       "model_id": "",
       "version_major": 2,
       "version_minor": 0
      },
      "text/plain": [
       "HBox(children=(IntProgress(value=1, bar_style='info', max=1), HTML(value='')))"
      ]
     },
     "metadata": {},
     "output_type": "display_data"
    },
    {
     "data": {
      "application/vnd.jupyter.widget-view+json": {
       "model_id": "",
       "version_major": 2,
       "version_minor": 0
      },
      "text/plain": [
       "HBox(children=(IntProgress(value=1, bar_style='info', max=1), HTML(value='')))"
      ]
     },
     "metadata": {},
     "output_type": "display_data"
    },
    {
     "data": {
      "application/vnd.jupyter.widget-view+json": {
       "model_id": "",
       "version_major": 2,
       "version_minor": 0
      },
      "text/plain": [
       "HBox(children=(IntProgress(value=1, bar_style='info', max=1), HTML(value='')))"
      ]
     },
     "metadata": {},
     "output_type": "display_data"
    },
    {
     "data": {
      "application/vnd.jupyter.widget-view+json": {
       "model_id": "",
       "version_major": 2,
       "version_minor": 0
      },
      "text/plain": [
       "HBox(children=(IntProgress(value=1, bar_style='info', max=1), HTML(value='')))"
      ]
     },
     "metadata": {},
     "output_type": "display_data"
    },
    {
     "data": {
      "application/vnd.jupyter.widget-view+json": {
       "model_id": "",
       "version_major": 2,
       "version_minor": 0
      },
      "text/plain": [
       "HBox(children=(IntProgress(value=1, bar_style='info', max=1), HTML(value='')))"
      ]
     },
     "metadata": {},
     "output_type": "display_data"
    },
    {
     "data": {
      "application/vnd.jupyter.widget-view+json": {
       "model_id": "",
       "version_major": 2,
       "version_minor": 0
      },
      "text/plain": [
       "HBox(children=(IntProgress(value=1, bar_style='info', max=1), HTML(value='')))"
      ]
     },
     "metadata": {},
     "output_type": "display_data"
    },
    {
     "data": {
      "application/vnd.jupyter.widget-view+json": {
       "model_id": "",
       "version_major": 2,
       "version_minor": 0
      },
      "text/plain": [
       "HBox(children=(IntProgress(value=1, bar_style='info', max=1), HTML(value='')))"
      ]
     },
     "metadata": {},
     "output_type": "display_data"
    },
    {
     "data": {
      "application/vnd.jupyter.widget-view+json": {
       "model_id": "",
       "version_major": 2,
       "version_minor": 0
      },
      "text/plain": [
       "HBox(children=(IntProgress(value=1, bar_style='info', max=1), HTML(value='')))"
      ]
     },
     "metadata": {},
     "output_type": "display_data"
    },
    {
     "data": {
      "application/vnd.jupyter.widget-view+json": {
       "model_id": "",
       "version_major": 2,
       "version_minor": 0
      },
      "text/plain": [
       "HBox(children=(IntProgress(value=1, bar_style='info', max=1), HTML(value='')))"
      ]
     },
     "metadata": {},
     "output_type": "display_data"
    },
    {
     "data": {
      "application/vnd.jupyter.widget-view+json": {
       "model_id": "",
       "version_major": 2,
       "version_minor": 0
      },
      "text/plain": [
       "HBox(children=(IntProgress(value=1, bar_style='info', max=1), HTML(value='')))"
      ]
     },
     "metadata": {},
     "output_type": "display_data"
    },
    {
     "data": {
      "application/vnd.jupyter.widget-view+json": {
       "model_id": "",
       "version_major": 2,
       "version_minor": 0
      },
      "text/plain": [
       "HBox(children=(IntProgress(value=1, bar_style='info', max=1), HTML(value='')))"
      ]
     },
     "metadata": {},
     "output_type": "display_data"
    },
    {
     "data": {
      "application/vnd.jupyter.widget-view+json": {
       "model_id": "",
       "version_major": 2,
       "version_minor": 0
      },
      "text/plain": [
       "HBox(children=(IntProgress(value=1, bar_style='info', max=1), HTML(value='')))"
      ]
     },
     "metadata": {},
     "output_type": "display_data"
    },
    {
     "data": {
      "application/vnd.jupyter.widget-view+json": {
       "model_id": "",
       "version_major": 2,
       "version_minor": 0
      },
      "text/plain": [
       "HBox(children=(IntProgress(value=1, bar_style='info', max=1), HTML(value='')))"
      ]
     },
     "metadata": {},
     "output_type": "display_data"
    },
    {
     "data": {
      "application/vnd.jupyter.widget-view+json": {
       "model_id": "",
       "version_major": 2,
       "version_minor": 0
      },
      "text/plain": [
       "HBox(children=(IntProgress(value=1, bar_style='info', max=1), HTML(value='')))"
      ]
     },
     "metadata": {},
     "output_type": "display_data"
    },
    {
     "data": {
      "application/vnd.jupyter.widget-view+json": {
       "model_id": "",
       "version_major": 2,
       "version_minor": 0
      },
      "text/plain": [
       "HBox(children=(IntProgress(value=1, bar_style='info', max=1), HTML(value='')))"
      ]
     },
     "metadata": {},
     "output_type": "display_data"
    },
    {
     "data": {
      "application/vnd.jupyter.widget-view+json": {
       "model_id": "",
       "version_major": 2,
       "version_minor": 0
      },
      "text/plain": [
       "HBox(children=(IntProgress(value=1, bar_style='info', max=1), HTML(value='')))"
      ]
     },
     "metadata": {},
     "output_type": "display_data"
    },
    {
     "data": {
      "application/vnd.jupyter.widget-view+json": {
       "model_id": "",
       "version_major": 2,
       "version_minor": 0
      },
      "text/plain": [
       "HBox(children=(IntProgress(value=1, bar_style='info', max=1), HTML(value='')))"
      ]
     },
     "metadata": {},
     "output_type": "display_data"
    },
    {
     "data": {
      "application/vnd.jupyter.widget-view+json": {
       "model_id": "",
       "version_major": 2,
       "version_minor": 0
      },
      "text/plain": [
       "HBox(children=(IntProgress(value=1, bar_style='info', max=1), HTML(value='')))"
      ]
     },
     "metadata": {},
     "output_type": "display_data"
    },
    {
     "data": {
      "application/vnd.jupyter.widget-view+json": {
       "model_id": "",
       "version_major": 2,
       "version_minor": 0
      },
      "text/plain": [
       "HBox(children=(IntProgress(value=1, bar_style='info', max=1), HTML(value='')))"
      ]
     },
     "metadata": {},
     "output_type": "display_data"
    },
    {
     "data": {
      "application/vnd.jupyter.widget-view+json": {
       "model_id": "",
       "version_major": 2,
       "version_minor": 0
      },
      "text/plain": [
       "HBox(children=(IntProgress(value=1, bar_style='info', max=1), HTML(value='')))"
      ]
     },
     "metadata": {},
     "output_type": "display_data"
    },
    {
     "data": {
      "application/vnd.jupyter.widget-view+json": {
       "model_id": "",
       "version_major": 2,
       "version_minor": 0
      },
      "text/plain": [
       "HBox(children=(IntProgress(value=1, bar_style='info', max=1), HTML(value='')))"
      ]
     },
     "metadata": {},
     "output_type": "display_data"
    },
    {
     "data": {
      "application/vnd.jupyter.widget-view+json": {
       "model_id": "",
       "version_major": 2,
       "version_minor": 0
      },
      "text/plain": [
       "HBox(children=(IntProgress(value=1, bar_style='info', max=1), HTML(value='')))"
      ]
     },
     "metadata": {},
     "output_type": "display_data"
    },
    {
     "data": {
      "application/vnd.jupyter.widget-view+json": {
       "model_id": "",
       "version_major": 2,
       "version_minor": 0
      },
      "text/plain": [
       "HBox(children=(IntProgress(value=1, bar_style='info', max=1), HTML(value='')))"
      ]
     },
     "metadata": {},
     "output_type": "display_data"
    },
    {
     "data": {
      "application/vnd.jupyter.widget-view+json": {
       "model_id": "",
       "version_major": 2,
       "version_minor": 0
      },
      "text/plain": [
       "HBox(children=(IntProgress(value=1, bar_style='info', max=1), HTML(value='')))"
      ]
     },
     "metadata": {},
     "output_type": "display_data"
    },
    {
     "data": {
      "application/vnd.jupyter.widget-view+json": {
       "model_id": "",
       "version_major": 2,
       "version_minor": 0
      },
      "text/plain": [
       "HBox(children=(IntProgress(value=1, bar_style='info', max=1), HTML(value='')))"
      ]
     },
     "metadata": {},
     "output_type": "display_data"
    },
    {
     "data": {
      "application/vnd.jupyter.widget-view+json": {
       "model_id": "",
       "version_major": 2,
       "version_minor": 0
      },
      "text/plain": [
       "HBox(children=(IntProgress(value=1, bar_style='info', max=1), HTML(value='')))"
      ]
     },
     "metadata": {},
     "output_type": "display_data"
    },
    {
     "data": {
      "application/vnd.jupyter.widget-view+json": {
       "model_id": "",
       "version_major": 2,
       "version_minor": 0
      },
      "text/plain": [
       "HBox(children=(IntProgress(value=1, bar_style='info', max=1), HTML(value='')))"
      ]
     },
     "metadata": {},
     "output_type": "display_data"
    },
    {
     "data": {
      "application/vnd.jupyter.widget-view+json": {
       "model_id": "",
       "version_major": 2,
       "version_minor": 0
      },
      "text/plain": [
       "HBox(children=(IntProgress(value=1, bar_style='info', max=1), HTML(value='')))"
      ]
     },
     "metadata": {},
     "output_type": "display_data"
    },
    {
     "data": {
      "application/vnd.jupyter.widget-view+json": {
       "model_id": "",
       "version_major": 2,
       "version_minor": 0
      },
      "text/plain": [
       "HBox(children=(IntProgress(value=1, bar_style='info', max=1), HTML(value='')))"
      ]
     },
     "metadata": {},
     "output_type": "display_data"
    },
    {
     "data": {
      "application/vnd.jupyter.widget-view+json": {
       "model_id": "",
       "version_major": 2,
       "version_minor": 0
      },
      "text/plain": [
       "HBox(children=(IntProgress(value=1, bar_style='info', max=1), HTML(value='')))"
      ]
     },
     "metadata": {},
     "output_type": "display_data"
    },
    {
     "data": {
      "application/vnd.jupyter.widget-view+json": {
       "model_id": "",
       "version_major": 2,
       "version_minor": 0
      },
      "text/plain": [
       "HBox(children=(IntProgress(value=1, bar_style='info', max=1), HTML(value='')))"
      ]
     },
     "metadata": {},
     "output_type": "display_data"
    },
    {
     "data": {
      "application/vnd.jupyter.widget-view+json": {
       "model_id": "",
       "version_major": 2,
       "version_minor": 0
      },
      "text/plain": [
       "HBox(children=(IntProgress(value=1, bar_style='info', max=1), HTML(value='')))"
      ]
     },
     "metadata": {},
     "output_type": "display_data"
    },
    {
     "data": {
      "application/vnd.jupyter.widget-view+json": {
       "model_id": "",
       "version_major": 2,
       "version_minor": 0
      },
      "text/plain": [
       "HBox(children=(IntProgress(value=1, bar_style='info', max=1), HTML(value='')))"
      ]
     },
     "metadata": {},
     "output_type": "display_data"
    },
    {
     "data": {
      "application/vnd.jupyter.widget-view+json": {
       "model_id": "",
       "version_major": 2,
       "version_minor": 0
      },
      "text/plain": [
       "HBox(children=(IntProgress(value=1, bar_style='info', max=1), HTML(value='')))"
      ]
     },
     "metadata": {},
     "output_type": "display_data"
    },
    {
     "data": {
      "application/vnd.jupyter.widget-view+json": {
       "model_id": "",
       "version_major": 2,
       "version_minor": 0
      },
      "text/plain": [
       "HBox(children=(IntProgress(value=1, bar_style='info', max=1), HTML(value='')))"
      ]
     },
     "metadata": {},
     "output_type": "display_data"
    },
    {
     "data": {
      "application/vnd.jupyter.widget-view+json": {
       "model_id": "",
       "version_major": 2,
       "version_minor": 0
      },
      "text/plain": [
       "HBox(children=(IntProgress(value=1, bar_style='info', max=1), HTML(value='')))"
      ]
     },
     "metadata": {},
     "output_type": "display_data"
    },
    {
     "data": {
      "application/vnd.jupyter.widget-view+json": {
       "model_id": "",
       "version_major": 2,
       "version_minor": 0
      },
      "text/plain": [
       "HBox(children=(IntProgress(value=1, bar_style='info', max=1), HTML(value='')))"
      ]
     },
     "metadata": {},
     "output_type": "display_data"
    },
    {
     "data": {
      "application/vnd.jupyter.widget-view+json": {
       "model_id": "",
       "version_major": 2,
       "version_minor": 0
      },
      "text/plain": [
       "HBox(children=(IntProgress(value=1, bar_style='info', max=1), HTML(value='')))"
      ]
     },
     "metadata": {},
     "output_type": "display_data"
    },
    {
     "data": {
      "application/vnd.jupyter.widget-view+json": {
       "model_id": "",
       "version_major": 2,
       "version_minor": 0
      },
      "text/plain": [
       "HBox(children=(IntProgress(value=1, bar_style='info', max=1), HTML(value='')))"
      ]
     },
     "metadata": {},
     "output_type": "display_data"
    },
    {
     "data": {
      "application/vnd.jupyter.widget-view+json": {
       "model_id": "",
       "version_major": 2,
       "version_minor": 0
      },
      "text/plain": [
       "HBox(children=(IntProgress(value=1, bar_style='info', max=1), HTML(value='')))"
      ]
     },
     "metadata": {},
     "output_type": "display_data"
    },
    {
     "data": {
      "application/vnd.jupyter.widget-view+json": {
       "model_id": "",
       "version_major": 2,
       "version_minor": 0
      },
      "text/plain": [
       "HBox(children=(IntProgress(value=1, bar_style='info', max=1), HTML(value='')))"
      ]
     },
     "metadata": {},
     "output_type": "display_data"
    },
    {
     "data": {
      "application/vnd.jupyter.widget-view+json": {
       "model_id": "",
       "version_major": 2,
       "version_minor": 0
      },
      "text/plain": [
       "HBox(children=(IntProgress(value=0, max=57), HTML(value='')))"
      ]
     },
     "metadata": {},
     "output_type": "display_data"
    },
    {
     "data": {
      "application/vnd.jupyter.widget-view+json": {
       "model_id": "",
       "version_major": 2,
       "version_minor": 0
      },
      "text/plain": [
       "HBox(children=(IntProgress(value=1, bar_style='info', max=1), HTML(value='')))"
      ]
     },
     "metadata": {},
     "output_type": "display_data"
    },
    {
     "data": {
      "application/vnd.jupyter.widget-view+json": {
       "model_id": "",
       "version_major": 2,
       "version_minor": 0
      },
      "text/plain": [
       "HBox(children=(IntProgress(value=1, bar_style='info', max=1), HTML(value='')))"
      ]
     },
     "metadata": {},
     "output_type": "display_data"
    },
    {
     "data": {
      "application/vnd.jupyter.widget-view+json": {
       "model_id": "",
       "version_major": 2,
       "version_minor": 0
      },
      "text/plain": [
       "HBox(children=(IntProgress(value=1, bar_style='info', max=1), HTML(value='')))"
      ]
     },
     "metadata": {},
     "output_type": "display_data"
    },
    {
     "data": {
      "application/vnd.jupyter.widget-view+json": {
       "model_id": "",
       "version_major": 2,
       "version_minor": 0
      },
      "text/plain": [
       "HBox(children=(IntProgress(value=1, bar_style='info', max=1), HTML(value='')))"
      ]
     },
     "metadata": {},
     "output_type": "display_data"
    },
    {
     "data": {
      "application/vnd.jupyter.widget-view+json": {
       "model_id": "",
       "version_major": 2,
       "version_minor": 0
      },
      "text/plain": [
       "HBox(children=(IntProgress(value=1, bar_style='info', max=1), HTML(value='')))"
      ]
     },
     "metadata": {},
     "output_type": "display_data"
    },
    {
     "data": {
      "application/vnd.jupyter.widget-view+json": {
       "model_id": "",
       "version_major": 2,
       "version_minor": 0
      },
      "text/plain": [
       "HBox(children=(IntProgress(value=1, bar_style='info', max=1), HTML(value='')))"
      ]
     },
     "metadata": {},
     "output_type": "display_data"
    },
    {
     "data": {
      "application/vnd.jupyter.widget-view+json": {
       "model_id": "",
       "version_major": 2,
       "version_minor": 0
      },
      "text/plain": [
       "HBox(children=(IntProgress(value=1, bar_style='info', max=1), HTML(value='')))"
      ]
     },
     "metadata": {},
     "output_type": "display_data"
    },
    {
     "data": {
      "application/vnd.jupyter.widget-view+json": {
       "model_id": "",
       "version_major": 2,
       "version_minor": 0
      },
      "text/plain": [
       "HBox(children=(IntProgress(value=1, bar_style='info', max=1), HTML(value='')))"
      ]
     },
     "metadata": {},
     "output_type": "display_data"
    },
    {
     "data": {
      "application/vnd.jupyter.widget-view+json": {
       "model_id": "",
       "version_major": 2,
       "version_minor": 0
      },
      "text/plain": [
       "HBox(children=(IntProgress(value=1, bar_style='info', max=1), HTML(value='')))"
      ]
     },
     "metadata": {},
     "output_type": "display_data"
    },
    {
     "data": {
      "application/vnd.jupyter.widget-view+json": {
       "model_id": "",
       "version_major": 2,
       "version_minor": 0
      },
      "text/plain": [
       "HBox(children=(IntProgress(value=1, bar_style='info', max=1), HTML(value='')))"
      ]
     },
     "metadata": {},
     "output_type": "display_data"
    },
    {
     "data": {
      "application/vnd.jupyter.widget-view+json": {
       "model_id": "",
       "version_major": 2,
       "version_minor": 0
      },
      "text/plain": [
       "HBox(children=(IntProgress(value=1, bar_style='info', max=1), HTML(value='')))"
      ]
     },
     "metadata": {},
     "output_type": "display_data"
    },
    {
     "data": {
      "application/vnd.jupyter.widget-view+json": {
       "model_id": "",
       "version_major": 2,
       "version_minor": 0
      },
      "text/plain": [
       "HBox(children=(IntProgress(value=1, bar_style='info', max=1), HTML(value='')))"
      ]
     },
     "metadata": {},
     "output_type": "display_data"
    },
    {
     "data": {
      "application/vnd.jupyter.widget-view+json": {
       "model_id": "",
       "version_major": 2,
       "version_minor": 0
      },
      "text/plain": [
       "HBox(children=(IntProgress(value=1, bar_style='info', max=1), HTML(value='')))"
      ]
     },
     "metadata": {},
     "output_type": "display_data"
    },
    {
     "data": {
      "application/vnd.jupyter.widget-view+json": {
       "model_id": "",
       "version_major": 2,
       "version_minor": 0
      },
      "text/plain": [
       "HBox(children=(IntProgress(value=1, bar_style='info', max=1), HTML(value='')))"
      ]
     },
     "metadata": {},
     "output_type": "display_data"
    },
    {
     "data": {
      "application/vnd.jupyter.widget-view+json": {
       "model_id": "",
       "version_major": 2,
       "version_minor": 0
      },
      "text/plain": [
       "HBox(children=(IntProgress(value=1, bar_style='info', max=1), HTML(value='')))"
      ]
     },
     "metadata": {},
     "output_type": "display_data"
    },
    {
     "data": {
      "application/vnd.jupyter.widget-view+json": {
       "model_id": "",
       "version_major": 2,
       "version_minor": 0
      },
      "text/plain": [
       "HBox(children=(IntProgress(value=1, bar_style='info', max=1), HTML(value='')))"
      ]
     },
     "metadata": {},
     "output_type": "display_data"
    },
    {
     "data": {
      "application/vnd.jupyter.widget-view+json": {
       "model_id": "",
       "version_major": 2,
       "version_minor": 0
      },
      "text/plain": [
       "HBox(children=(IntProgress(value=1, bar_style='info', max=1), HTML(value='')))"
      ]
     },
     "metadata": {},
     "output_type": "display_data"
    },
    {
     "data": {
      "application/vnd.jupyter.widget-view+json": {
       "model_id": "",
       "version_major": 2,
       "version_minor": 0
      },
      "text/plain": [
       "HBox(children=(IntProgress(value=1, bar_style='info', max=1), HTML(value='')))"
      ]
     },
     "metadata": {},
     "output_type": "display_data"
    },
    {
     "data": {
      "application/vnd.jupyter.widget-view+json": {
       "model_id": "",
       "version_major": 2,
       "version_minor": 0
      },
      "text/plain": [
       "HBox(children=(IntProgress(value=1, bar_style='info', max=1), HTML(value='')))"
      ]
     },
     "metadata": {},
     "output_type": "display_data"
    },
    {
     "data": {
      "application/vnd.jupyter.widget-view+json": {
       "model_id": "",
       "version_major": 2,
       "version_minor": 0
      },
      "text/plain": [
       "HBox(children=(IntProgress(value=1, bar_style='info', max=1), HTML(value='')))"
      ]
     },
     "metadata": {},
     "output_type": "display_data"
    },
    {
     "data": {
      "application/vnd.jupyter.widget-view+json": {
       "model_id": "",
       "version_major": 2,
       "version_minor": 0
      },
      "text/plain": [
       "HBox(children=(IntProgress(value=1, bar_style='info', max=1), HTML(value='')))"
      ]
     },
     "metadata": {},
     "output_type": "display_data"
    },
    {
     "data": {
      "application/vnd.jupyter.widget-view+json": {
       "model_id": "",
       "version_major": 2,
       "version_minor": 0
      },
      "text/plain": [
       "HBox(children=(IntProgress(value=1, bar_style='info', max=1), HTML(value='')))"
      ]
     },
     "metadata": {},
     "output_type": "display_data"
    },
    {
     "data": {
      "application/vnd.jupyter.widget-view+json": {
       "model_id": "",
       "version_major": 2,
       "version_minor": 0
      },
      "text/plain": [
       "HBox(children=(IntProgress(value=1, bar_style='info', max=1), HTML(value='')))"
      ]
     },
     "metadata": {},
     "output_type": "display_data"
    },
    {
     "data": {
      "application/vnd.jupyter.widget-view+json": {
       "model_id": "",
       "version_major": 2,
       "version_minor": 0
      },
      "text/plain": [
       "HBox(children=(IntProgress(value=1, bar_style='info', max=1), HTML(value='')))"
      ]
     },
     "metadata": {},
     "output_type": "display_data"
    },
    {
     "data": {
      "application/vnd.jupyter.widget-view+json": {
       "model_id": "",
       "version_major": 2,
       "version_minor": 0
      },
      "text/plain": [
       "HBox(children=(IntProgress(value=1, bar_style='info', max=1), HTML(value='')))"
      ]
     },
     "metadata": {},
     "output_type": "display_data"
    },
    {
     "data": {
      "application/vnd.jupyter.widget-view+json": {
       "model_id": "",
       "version_major": 2,
       "version_minor": 0
      },
      "text/plain": [
       "HBox(children=(IntProgress(value=1, bar_style='info', max=1), HTML(value='')))"
      ]
     },
     "metadata": {},
     "output_type": "display_data"
    },
    {
     "data": {
      "application/vnd.jupyter.widget-view+json": {
       "model_id": "",
       "version_major": 2,
       "version_minor": 0
      },
      "text/plain": [
       "HBox(children=(IntProgress(value=1, bar_style='info', max=1), HTML(value='')))"
      ]
     },
     "metadata": {},
     "output_type": "display_data"
    },
    {
     "data": {
      "application/vnd.jupyter.widget-view+json": {
       "model_id": "",
       "version_major": 2,
       "version_minor": 0
      },
      "text/plain": [
       "HBox(children=(IntProgress(value=1, bar_style='info', max=1), HTML(value='')))"
      ]
     },
     "metadata": {},
     "output_type": "display_data"
    },
    {
     "data": {
      "application/vnd.jupyter.widget-view+json": {
       "model_id": "",
       "version_major": 2,
       "version_minor": 0
      },
      "text/plain": [
       "HBox(children=(IntProgress(value=1, bar_style='info', max=1), HTML(value='')))"
      ]
     },
     "metadata": {},
     "output_type": "display_data"
    },
    {
     "data": {
      "application/vnd.jupyter.widget-view+json": {
       "model_id": "",
       "version_major": 2,
       "version_minor": 0
      },
      "text/plain": [
       "HBox(children=(IntProgress(value=1, bar_style='info', max=1), HTML(value='')))"
      ]
     },
     "metadata": {},
     "output_type": "display_data"
    },
    {
     "data": {
      "application/vnd.jupyter.widget-view+json": {
       "model_id": "",
       "version_major": 2,
       "version_minor": 0
      },
      "text/plain": [
       "HBox(children=(IntProgress(value=1, bar_style='info', max=1), HTML(value='')))"
      ]
     },
     "metadata": {},
     "output_type": "display_data"
    },
    {
     "data": {
      "application/vnd.jupyter.widget-view+json": {
       "model_id": "",
       "version_major": 2,
       "version_minor": 0
      },
      "text/plain": [
       "HBox(children=(IntProgress(value=1, bar_style='info', max=1), HTML(value='')))"
      ]
     },
     "metadata": {},
     "output_type": "display_data"
    },
    {
     "data": {
      "application/vnd.jupyter.widget-view+json": {
       "model_id": "",
       "version_major": 2,
       "version_minor": 0
      },
      "text/plain": [
       "HBox(children=(IntProgress(value=1, bar_style='info', max=1), HTML(value='')))"
      ]
     },
     "metadata": {},
     "output_type": "display_data"
    },
    {
     "data": {
      "application/vnd.jupyter.widget-view+json": {
       "model_id": "",
       "version_major": 2,
       "version_minor": 0
      },
      "text/plain": [
       "HBox(children=(IntProgress(value=1, bar_style='info', max=1), HTML(value='')))"
      ]
     },
     "metadata": {},
     "output_type": "display_data"
    },
    {
     "data": {
      "application/vnd.jupyter.widget-view+json": {
       "model_id": "",
       "version_major": 2,
       "version_minor": 0
      },
      "text/plain": [
       "HBox(children=(IntProgress(value=1, bar_style='info', max=1), HTML(value='')))"
      ]
     },
     "metadata": {},
     "output_type": "display_data"
    },
    {
     "data": {
      "application/vnd.jupyter.widget-view+json": {
       "model_id": "",
       "version_major": 2,
       "version_minor": 0
      },
      "text/plain": [
       "HBox(children=(IntProgress(value=1, bar_style='info', max=1), HTML(value='')))"
      ]
     },
     "metadata": {},
     "output_type": "display_data"
    },
    {
     "data": {
      "application/vnd.jupyter.widget-view+json": {
       "model_id": "",
       "version_major": 2,
       "version_minor": 0
      },
      "text/plain": [
       "HBox(children=(IntProgress(value=1, bar_style='info', max=1), HTML(value='')))"
      ]
     },
     "metadata": {},
     "output_type": "display_data"
    },
    {
     "data": {
      "application/vnd.jupyter.widget-view+json": {
       "model_id": "",
       "version_major": 2,
       "version_minor": 0
      },
      "text/plain": [
       "HBox(children=(IntProgress(value=1, bar_style='info', max=1), HTML(value='')))"
      ]
     },
     "metadata": {},
     "output_type": "display_data"
    },
    {
     "data": {
      "application/vnd.jupyter.widget-view+json": {
       "model_id": "",
       "version_major": 2,
       "version_minor": 0
      },
      "text/plain": [
       "HBox(children=(IntProgress(value=1, bar_style='info', max=1), HTML(value='')))"
      ]
     },
     "metadata": {},
     "output_type": "display_data"
    },
    {
     "data": {
      "application/vnd.jupyter.widget-view+json": {
       "model_id": "",
       "version_major": 2,
       "version_minor": 0
      },
      "text/plain": [
       "HBox(children=(IntProgress(value=1, bar_style='info', max=1), HTML(value='')))"
      ]
     },
     "metadata": {},
     "output_type": "display_data"
    },
    {
     "data": {
      "application/vnd.jupyter.widget-view+json": {
       "model_id": "",
       "version_major": 2,
       "version_minor": 0
      },
      "text/plain": [
       "HBox(children=(IntProgress(value=1, bar_style='info', max=1), HTML(value='')))"
      ]
     },
     "metadata": {},
     "output_type": "display_data"
    },
    {
     "data": {
      "application/vnd.jupyter.widget-view+json": {
       "model_id": "",
       "version_major": 2,
       "version_minor": 0
      },
      "text/plain": [
       "HBox(children=(IntProgress(value=1, bar_style='info', max=1), HTML(value='')))"
      ]
     },
     "metadata": {},
     "output_type": "display_data"
    },
    {
     "data": {
      "application/vnd.jupyter.widget-view+json": {
       "model_id": "",
       "version_major": 2,
       "version_minor": 0
      },
      "text/plain": [
       "HBox(children=(IntProgress(value=1, bar_style='info', max=1), HTML(value='')))"
      ]
     },
     "metadata": {},
     "output_type": "display_data"
    },
    {
     "data": {
      "application/vnd.jupyter.widget-view+json": {
       "model_id": "",
       "version_major": 2,
       "version_minor": 0
      },
      "text/plain": [
       "HBox(children=(IntProgress(value=1, bar_style='info', max=1), HTML(value='')))"
      ]
     },
     "metadata": {},
     "output_type": "display_data"
    },
    {
     "data": {
      "application/vnd.jupyter.widget-view+json": {
       "model_id": "",
       "version_major": 2,
       "version_minor": 0
      },
      "text/plain": [
       "HBox(children=(IntProgress(value=1, bar_style='info', max=1), HTML(value='')))"
      ]
     },
     "metadata": {},
     "output_type": "display_data"
    },
    {
     "data": {
      "application/vnd.jupyter.widget-view+json": {
       "model_id": "",
       "version_major": 2,
       "version_minor": 0
      },
      "text/plain": [
       "HBox(children=(IntProgress(value=1, bar_style='info', max=1), HTML(value='')))"
      ]
     },
     "metadata": {},
     "output_type": "display_data"
    },
    {
     "data": {
      "application/vnd.jupyter.widget-view+json": {
       "model_id": "",
       "version_major": 2,
       "version_minor": 0
      },
      "text/plain": [
       "HBox(children=(IntProgress(value=1, bar_style='info', max=1), HTML(value='')))"
      ]
     },
     "metadata": {},
     "output_type": "display_data"
    },
    {
     "data": {
      "application/vnd.jupyter.widget-view+json": {
       "model_id": "",
       "version_major": 2,
       "version_minor": 0
      },
      "text/plain": [
       "HBox(children=(IntProgress(value=1, bar_style='info', max=1), HTML(value='')))"
      ]
     },
     "metadata": {},
     "output_type": "display_data"
    },
    {
     "data": {
      "application/vnd.jupyter.widget-view+json": {
       "model_id": "",
       "version_major": 2,
       "version_minor": 0
      },
      "text/plain": [
       "HBox(children=(IntProgress(value=1, bar_style='info', max=1), HTML(value='')))"
      ]
     },
     "metadata": {},
     "output_type": "display_data"
    },
    {
     "data": {
      "application/vnd.jupyter.widget-view+json": {
       "model_id": "",
       "version_major": 2,
       "version_minor": 0
      },
      "text/plain": [
       "HBox(children=(IntProgress(value=1, bar_style='info', max=1), HTML(value='')))"
      ]
     },
     "metadata": {},
     "output_type": "display_data"
    },
    {
     "data": {
      "application/vnd.jupyter.widget-view+json": {
       "model_id": "",
       "version_major": 2,
       "version_minor": 0
      },
      "text/plain": [
       "HBox(children=(IntProgress(value=1, bar_style='info', max=1), HTML(value='')))"
      ]
     },
     "metadata": {},
     "output_type": "display_data"
    },
    {
     "data": {
      "application/vnd.jupyter.widget-view+json": {
       "model_id": "",
       "version_major": 2,
       "version_minor": 0
      },
      "text/plain": [
       "HBox(children=(IntProgress(value=1, bar_style='info', max=1), HTML(value='')))"
      ]
     },
     "metadata": {},
     "output_type": "display_data"
    },
    {
     "data": {
      "application/vnd.jupyter.widget-view+json": {
       "model_id": "",
       "version_major": 2,
       "version_minor": 0
      },
      "text/plain": [
       "HBox(children=(IntProgress(value=1, bar_style='info', max=1), HTML(value='')))"
      ]
     },
     "metadata": {},
     "output_type": "display_data"
    },
    {
     "data": {
      "application/vnd.jupyter.widget-view+json": {
       "model_id": "",
       "version_major": 2,
       "version_minor": 0
      },
      "text/plain": [
       "HBox(children=(IntProgress(value=1, bar_style='info', max=1), HTML(value='')))"
      ]
     },
     "metadata": {},
     "output_type": "display_data"
    },
    {
     "data": {
      "application/vnd.jupyter.widget-view+json": {
       "model_id": "",
       "version_major": 2,
       "version_minor": 0
      },
      "text/plain": [
       "HBox(children=(IntProgress(value=1, bar_style='info', max=1), HTML(value='')))"
      ]
     },
     "metadata": {},
     "output_type": "display_data"
    },
    {
     "data": {
      "application/vnd.jupyter.widget-view+json": {
       "model_id": "",
       "version_major": 2,
       "version_minor": 0
      },
      "text/plain": [
       "HBox(children=(IntProgress(value=1, bar_style='info', max=1), HTML(value='')))"
      ]
     },
     "metadata": {},
     "output_type": "display_data"
    },
    {
     "data": {
      "application/vnd.jupyter.widget-view+json": {
       "model_id": "",
       "version_major": 2,
       "version_minor": 0
      },
      "text/plain": [
       "HBox(children=(IntProgress(value=1, bar_style='info', max=1), HTML(value='')))"
      ]
     },
     "metadata": {},
     "output_type": "display_data"
    },
    {
     "data": {
      "application/vnd.jupyter.widget-view+json": {
       "model_id": "",
       "version_major": 2,
       "version_minor": 0
      },
      "text/plain": [
       "HBox(children=(IntProgress(value=0, max=63), HTML(value='')))"
      ]
     },
     "metadata": {},
     "output_type": "display_data"
    },
    {
     "data": {
      "application/vnd.jupyter.widget-view+json": {
       "model_id": "",
       "version_major": 2,
       "version_minor": 0
      },
      "text/plain": [
       "HBox(children=(IntProgress(value=1, bar_style='info', max=1), HTML(value='')))"
      ]
     },
     "metadata": {},
     "output_type": "display_data"
    },
    {
     "data": {
      "application/vnd.jupyter.widget-view+json": {
       "model_id": "",
       "version_major": 2,
       "version_minor": 0
      },
      "text/plain": [
       "HBox(children=(IntProgress(value=1, bar_style='info', max=1), HTML(value='')))"
      ]
     },
     "metadata": {},
     "output_type": "display_data"
    },
    {
     "data": {
      "application/vnd.jupyter.widget-view+json": {
       "model_id": "",
       "version_major": 2,
       "version_minor": 0
      },
      "text/plain": [
       "HBox(children=(IntProgress(value=1, bar_style='info', max=1), HTML(value='')))"
      ]
     },
     "metadata": {},
     "output_type": "display_data"
    },
    {
     "data": {
      "application/vnd.jupyter.widget-view+json": {
       "model_id": "",
       "version_major": 2,
       "version_minor": 0
      },
      "text/plain": [
       "HBox(children=(IntProgress(value=1, bar_style='info', max=1), HTML(value='')))"
      ]
     },
     "metadata": {},
     "output_type": "display_data"
    },
    {
     "data": {
      "application/vnd.jupyter.widget-view+json": {
       "model_id": "",
       "version_major": 2,
       "version_minor": 0
      },
      "text/plain": [
       "HBox(children=(IntProgress(value=1, bar_style='info', max=1), HTML(value='')))"
      ]
     },
     "metadata": {},
     "output_type": "display_data"
    },
    {
     "data": {
      "application/vnd.jupyter.widget-view+json": {
       "model_id": "",
       "version_major": 2,
       "version_minor": 0
      },
      "text/plain": [
       "HBox(children=(IntProgress(value=1, bar_style='info', max=1), HTML(value='')))"
      ]
     },
     "metadata": {},
     "output_type": "display_data"
    },
    {
     "data": {
      "application/vnd.jupyter.widget-view+json": {
       "model_id": "",
       "version_major": 2,
       "version_minor": 0
      },
      "text/plain": [
       "HBox(children=(IntProgress(value=1, bar_style='info', max=1), HTML(value='')))"
      ]
     },
     "metadata": {},
     "output_type": "display_data"
    },
    {
     "data": {
      "application/vnd.jupyter.widget-view+json": {
       "model_id": "",
       "version_major": 2,
       "version_minor": 0
      },
      "text/plain": [
       "HBox(children=(IntProgress(value=1, bar_style='info', max=1), HTML(value='')))"
      ]
     },
     "metadata": {},
     "output_type": "display_data"
    },
    {
     "data": {
      "application/vnd.jupyter.widget-view+json": {
       "model_id": "",
       "version_major": 2,
       "version_minor": 0
      },
      "text/plain": [
       "HBox(children=(IntProgress(value=1, bar_style='info', max=1), HTML(value='')))"
      ]
     },
     "metadata": {},
     "output_type": "display_data"
    },
    {
     "data": {
      "application/vnd.jupyter.widget-view+json": {
       "model_id": "",
       "version_major": 2,
       "version_minor": 0
      },
      "text/plain": [
       "HBox(children=(IntProgress(value=1, bar_style='info', max=1), HTML(value='')))"
      ]
     },
     "metadata": {},
     "output_type": "display_data"
    },
    {
     "data": {
      "application/vnd.jupyter.widget-view+json": {
       "model_id": "",
       "version_major": 2,
       "version_minor": 0
      },
      "text/plain": [
       "HBox(children=(IntProgress(value=1, bar_style='info', max=1), HTML(value='')))"
      ]
     },
     "metadata": {},
     "output_type": "display_data"
    },
    {
     "data": {
      "application/vnd.jupyter.widget-view+json": {
       "model_id": "",
       "version_major": 2,
       "version_minor": 0
      },
      "text/plain": [
       "HBox(children=(IntProgress(value=1, bar_style='info', max=1), HTML(value='')))"
      ]
     },
     "metadata": {},
     "output_type": "display_data"
    },
    {
     "data": {
      "application/vnd.jupyter.widget-view+json": {
       "model_id": "",
       "version_major": 2,
       "version_minor": 0
      },
      "text/plain": [
       "HBox(children=(IntProgress(value=1, bar_style='info', max=1), HTML(value='')))"
      ]
     },
     "metadata": {},
     "output_type": "display_data"
    },
    {
     "data": {
      "application/vnd.jupyter.widget-view+json": {
       "model_id": "",
       "version_major": 2,
       "version_minor": 0
      },
      "text/plain": [
       "HBox(children=(IntProgress(value=1, bar_style='info', max=1), HTML(value='')))"
      ]
     },
     "metadata": {},
     "output_type": "display_data"
    },
    {
     "data": {
      "application/vnd.jupyter.widget-view+json": {
       "model_id": "",
       "version_major": 2,
       "version_minor": 0
      },
      "text/plain": [
       "HBox(children=(IntProgress(value=1, bar_style='info', max=1), HTML(value='')))"
      ]
     },
     "metadata": {},
     "output_type": "display_data"
    },
    {
     "data": {
      "application/vnd.jupyter.widget-view+json": {
       "model_id": "",
       "version_major": 2,
       "version_minor": 0
      },
      "text/plain": [
       "HBox(children=(IntProgress(value=1, bar_style='info', max=1), HTML(value='')))"
      ]
     },
     "metadata": {},
     "output_type": "display_data"
    },
    {
     "data": {
      "application/vnd.jupyter.widget-view+json": {
       "model_id": "",
       "version_major": 2,
       "version_minor": 0
      },
      "text/plain": [
       "HBox(children=(IntProgress(value=1, bar_style='info', max=1), HTML(value='')))"
      ]
     },
     "metadata": {},
     "output_type": "display_data"
    },
    {
     "data": {
      "application/vnd.jupyter.widget-view+json": {
       "model_id": "",
       "version_major": 2,
       "version_minor": 0
      },
      "text/plain": [
       "HBox(children=(IntProgress(value=1, bar_style='info', max=1), HTML(value='')))"
      ]
     },
     "metadata": {},
     "output_type": "display_data"
    },
    {
     "data": {
      "application/vnd.jupyter.widget-view+json": {
       "model_id": "",
       "version_major": 2,
       "version_minor": 0
      },
      "text/plain": [
       "HBox(children=(IntProgress(value=1, bar_style='info', max=1), HTML(value='')))"
      ]
     },
     "metadata": {},
     "output_type": "display_data"
    },
    {
     "data": {
      "application/vnd.jupyter.widget-view+json": {
       "model_id": "",
       "version_major": 2,
       "version_minor": 0
      },
      "text/plain": [
       "HBox(children=(IntProgress(value=1, bar_style='info', max=1), HTML(value='')))"
      ]
     },
     "metadata": {},
     "output_type": "display_data"
    },
    {
     "data": {
      "application/vnd.jupyter.widget-view+json": {
       "model_id": "",
       "version_major": 2,
       "version_minor": 0
      },
      "text/plain": [
       "HBox(children=(IntProgress(value=1, bar_style='info', max=1), HTML(value='')))"
      ]
     },
     "metadata": {},
     "output_type": "display_data"
    },
    {
     "data": {
      "application/vnd.jupyter.widget-view+json": {
       "model_id": "",
       "version_major": 2,
       "version_minor": 0
      },
      "text/plain": [
       "HBox(children=(IntProgress(value=1, bar_style='info', max=1), HTML(value='')))"
      ]
     },
     "metadata": {},
     "output_type": "display_data"
    },
    {
     "data": {
      "application/vnd.jupyter.widget-view+json": {
       "model_id": "",
       "version_major": 2,
       "version_minor": 0
      },
      "text/plain": [
       "HBox(children=(IntProgress(value=1, bar_style='info', max=1), HTML(value='')))"
      ]
     },
     "metadata": {},
     "output_type": "display_data"
    },
    {
     "data": {
      "application/vnd.jupyter.widget-view+json": {
       "model_id": "",
       "version_major": 2,
       "version_minor": 0
      },
      "text/plain": [
       "HBox(children=(IntProgress(value=1, bar_style='info', max=1), HTML(value='')))"
      ]
     },
     "metadata": {},
     "output_type": "display_data"
    },
    {
     "data": {
      "application/vnd.jupyter.widget-view+json": {
       "model_id": "",
       "version_major": 2,
       "version_minor": 0
      },
      "text/plain": [
       "HBox(children=(IntProgress(value=1, bar_style='info', max=1), HTML(value='')))"
      ]
     },
     "metadata": {},
     "output_type": "display_data"
    },
    {
     "data": {
      "application/vnd.jupyter.widget-view+json": {
       "model_id": "",
       "version_major": 2,
       "version_minor": 0
      },
      "text/plain": [
       "HBox(children=(IntProgress(value=1, bar_style='info', max=1), HTML(value='')))"
      ]
     },
     "metadata": {},
     "output_type": "display_data"
    },
    {
     "data": {
      "application/vnd.jupyter.widget-view+json": {
       "model_id": "",
       "version_major": 2,
       "version_minor": 0
      },
      "text/plain": [
       "HBox(children=(IntProgress(value=1, bar_style='info', max=1), HTML(value='')))"
      ]
     },
     "metadata": {},
     "output_type": "display_data"
    },
    {
     "data": {
      "application/vnd.jupyter.widget-view+json": {
       "model_id": "",
       "version_major": 2,
       "version_minor": 0
      },
      "text/plain": [
       "HBox(children=(IntProgress(value=1, bar_style='info', max=1), HTML(value='')))"
      ]
     },
     "metadata": {},
     "output_type": "display_data"
    },
    {
     "data": {
      "application/vnd.jupyter.widget-view+json": {
       "model_id": "",
       "version_major": 2,
       "version_minor": 0
      },
      "text/plain": [
       "HBox(children=(IntProgress(value=1, bar_style='info', max=1), HTML(value='')))"
      ]
     },
     "metadata": {},
     "output_type": "display_data"
    },
    {
     "data": {
      "application/vnd.jupyter.widget-view+json": {
       "model_id": "",
       "version_major": 2,
       "version_minor": 0
      },
      "text/plain": [
       "HBox(children=(IntProgress(value=1, bar_style='info', max=1), HTML(value='')))"
      ]
     },
     "metadata": {},
     "output_type": "display_data"
    },
    {
     "data": {
      "application/vnd.jupyter.widget-view+json": {
       "model_id": "",
       "version_major": 2,
       "version_minor": 0
      },
      "text/plain": [
       "HBox(children=(IntProgress(value=1, bar_style='info', max=1), HTML(value='')))"
      ]
     },
     "metadata": {},
     "output_type": "display_data"
    },
    {
     "data": {
      "application/vnd.jupyter.widget-view+json": {
       "model_id": "",
       "version_major": 2,
       "version_minor": 0
      },
      "text/plain": [
       "HBox(children=(IntProgress(value=1, bar_style='info', max=1), HTML(value='')))"
      ]
     },
     "metadata": {},
     "output_type": "display_data"
    },
    {
     "data": {
      "application/vnd.jupyter.widget-view+json": {
       "model_id": "",
       "version_major": 2,
       "version_minor": 0
      },
      "text/plain": [
       "HBox(children=(IntProgress(value=1, bar_style='info', max=1), HTML(value='')))"
      ]
     },
     "metadata": {},
     "output_type": "display_data"
    },
    {
     "data": {
      "application/vnd.jupyter.widget-view+json": {
       "model_id": "",
       "version_major": 2,
       "version_minor": 0
      },
      "text/plain": [
       "HBox(children=(IntProgress(value=1, bar_style='info', max=1), HTML(value='')))"
      ]
     },
     "metadata": {},
     "output_type": "display_data"
    },
    {
     "data": {
      "application/vnd.jupyter.widget-view+json": {
       "model_id": "",
       "version_major": 2,
       "version_minor": 0
      },
      "text/plain": [
       "HBox(children=(IntProgress(value=1, bar_style='info', max=1), HTML(value='')))"
      ]
     },
     "metadata": {},
     "output_type": "display_data"
    },
    {
     "data": {
      "application/vnd.jupyter.widget-view+json": {
       "model_id": "",
       "version_major": 2,
       "version_minor": 0
      },
      "text/plain": [
       "HBox(children=(IntProgress(value=1, bar_style='info', max=1), HTML(value='')))"
      ]
     },
     "metadata": {},
     "output_type": "display_data"
    },
    {
     "data": {
      "application/vnd.jupyter.widget-view+json": {
       "model_id": "",
       "version_major": 2,
       "version_minor": 0
      },
      "text/plain": [
       "HBox(children=(IntProgress(value=1, bar_style='info', max=1), HTML(value='')))"
      ]
     },
     "metadata": {},
     "output_type": "display_data"
    },
    {
     "data": {
      "application/vnd.jupyter.widget-view+json": {
       "model_id": "",
       "version_major": 2,
       "version_minor": 0
      },
      "text/plain": [
       "HBox(children=(IntProgress(value=1, bar_style='info', max=1), HTML(value='')))"
      ]
     },
     "metadata": {},
     "output_type": "display_data"
    },
    {
     "data": {
      "application/vnd.jupyter.widget-view+json": {
       "model_id": "",
       "version_major": 2,
       "version_minor": 0
      },
      "text/plain": [
       "HBox(children=(IntProgress(value=1, bar_style='info', max=1), HTML(value='')))"
      ]
     },
     "metadata": {},
     "output_type": "display_data"
    },
    {
     "data": {
      "application/vnd.jupyter.widget-view+json": {
       "model_id": "",
       "version_major": 2,
       "version_minor": 0
      },
      "text/plain": [
       "HBox(children=(IntProgress(value=1, bar_style='info', max=1), HTML(value='')))"
      ]
     },
     "metadata": {},
     "output_type": "display_data"
    },
    {
     "data": {
      "application/vnd.jupyter.widget-view+json": {
       "model_id": "",
       "version_major": 2,
       "version_minor": 0
      },
      "text/plain": [
       "HBox(children=(IntProgress(value=1, bar_style='info', max=1), HTML(value='')))"
      ]
     },
     "metadata": {},
     "output_type": "display_data"
    },
    {
     "data": {
      "application/vnd.jupyter.widget-view+json": {
       "model_id": "",
       "version_major": 2,
       "version_minor": 0
      },
      "text/plain": [
       "HBox(children=(IntProgress(value=1, bar_style='info', max=1), HTML(value='')))"
      ]
     },
     "metadata": {},
     "output_type": "display_data"
    },
    {
     "data": {
      "application/vnd.jupyter.widget-view+json": {
       "model_id": "",
       "version_major": 2,
       "version_minor": 0
      },
      "text/plain": [
       "HBox(children=(IntProgress(value=1, bar_style='info', max=1), HTML(value='')))"
      ]
     },
     "metadata": {},
     "output_type": "display_data"
    },
    {
     "data": {
      "application/vnd.jupyter.widget-view+json": {
       "model_id": "",
       "version_major": 2,
       "version_minor": 0
      },
      "text/plain": [
       "HBox(children=(IntProgress(value=1, bar_style='info', max=1), HTML(value='')))"
      ]
     },
     "metadata": {},
     "output_type": "display_data"
    },
    {
     "data": {
      "application/vnd.jupyter.widget-view+json": {
       "model_id": "",
       "version_major": 2,
       "version_minor": 0
      },
      "text/plain": [
       "HBox(children=(IntProgress(value=1, bar_style='info', max=1), HTML(value='')))"
      ]
     },
     "metadata": {},
     "output_type": "display_data"
    },
    {
     "data": {
      "application/vnd.jupyter.widget-view+json": {
       "model_id": "",
       "version_major": 2,
       "version_minor": 0
      },
      "text/plain": [
       "HBox(children=(IntProgress(value=1, bar_style='info', max=1), HTML(value='')))"
      ]
     },
     "metadata": {},
     "output_type": "display_data"
    },
    {
     "data": {
      "application/vnd.jupyter.widget-view+json": {
       "model_id": "",
       "version_major": 2,
       "version_minor": 0
      },
      "text/plain": [
       "HBox(children=(IntProgress(value=1, bar_style='info', max=1), HTML(value='')))"
      ]
     },
     "metadata": {},
     "output_type": "display_data"
    },
    {
     "data": {
      "application/vnd.jupyter.widget-view+json": {
       "model_id": "",
       "version_major": 2,
       "version_minor": 0
      },
      "text/plain": [
       "HBox(children=(IntProgress(value=1, bar_style='info', max=1), HTML(value='')))"
      ]
     },
     "metadata": {},
     "output_type": "display_data"
    },
    {
     "data": {
      "application/vnd.jupyter.widget-view+json": {
       "model_id": "",
       "version_major": 2,
       "version_minor": 0
      },
      "text/plain": [
       "HBox(children=(IntProgress(value=1, bar_style='info', max=1), HTML(value='')))"
      ]
     },
     "metadata": {},
     "output_type": "display_data"
    },
    {
     "data": {
      "application/vnd.jupyter.widget-view+json": {
       "model_id": "",
       "version_major": 2,
       "version_minor": 0
      },
      "text/plain": [
       "HBox(children=(IntProgress(value=1, bar_style='info', max=1), HTML(value='')))"
      ]
     },
     "metadata": {},
     "output_type": "display_data"
    },
    {
     "data": {
      "application/vnd.jupyter.widget-view+json": {
       "model_id": "",
       "version_major": 2,
       "version_minor": 0
      },
      "text/plain": [
       "HBox(children=(IntProgress(value=1, bar_style='info', max=1), HTML(value='')))"
      ]
     },
     "metadata": {},
     "output_type": "display_data"
    },
    {
     "data": {
      "application/vnd.jupyter.widget-view+json": {
       "model_id": "",
       "version_major": 2,
       "version_minor": 0
      },
      "text/plain": [
       "HBox(children=(IntProgress(value=1, bar_style='info', max=1), HTML(value='')))"
      ]
     },
     "metadata": {},
     "output_type": "display_data"
    },
    {
     "data": {
      "application/vnd.jupyter.widget-view+json": {
       "model_id": "",
       "version_major": 2,
       "version_minor": 0
      },
      "text/plain": [
       "HBox(children=(IntProgress(value=1, bar_style='info', max=1), HTML(value='')))"
      ]
     },
     "metadata": {},
     "output_type": "display_data"
    },
    {
     "data": {
      "application/vnd.jupyter.widget-view+json": {
       "model_id": "",
       "version_major": 2,
       "version_minor": 0
      },
      "text/plain": [
       "HBox(children=(IntProgress(value=1, bar_style='info', max=1), HTML(value='')))"
      ]
     },
     "metadata": {},
     "output_type": "display_data"
    },
    {
     "data": {
      "application/vnd.jupyter.widget-view+json": {
       "model_id": "",
       "version_major": 2,
       "version_minor": 0
      },
      "text/plain": [
       "HBox(children=(IntProgress(value=1, bar_style='info', max=1), HTML(value='')))"
      ]
     },
     "metadata": {},
     "output_type": "display_data"
    },
    {
     "data": {
      "application/vnd.jupyter.widget-view+json": {
       "model_id": "",
       "version_major": 2,
       "version_minor": 0
      },
      "text/plain": [
       "HBox(children=(IntProgress(value=1, bar_style='info', max=1), HTML(value='')))"
      ]
     },
     "metadata": {},
     "output_type": "display_data"
    },
    {
     "data": {
      "application/vnd.jupyter.widget-view+json": {
       "model_id": "",
       "version_major": 2,
       "version_minor": 0
      },
      "text/plain": [
       "HBox(children=(IntProgress(value=1, bar_style='info', max=1), HTML(value='')))"
      ]
     },
     "metadata": {},
     "output_type": "display_data"
    },
    {
     "data": {
      "application/vnd.jupyter.widget-view+json": {
       "model_id": "",
       "version_major": 2,
       "version_minor": 0
      },
      "text/plain": [
       "HBox(children=(IntProgress(value=1, bar_style='info', max=1), HTML(value='')))"
      ]
     },
     "metadata": {},
     "output_type": "display_data"
    },
    {
     "data": {
      "application/vnd.jupyter.widget-view+json": {
       "model_id": "",
       "version_major": 2,
       "version_minor": 0
      },
      "text/plain": [
       "HBox(children=(IntProgress(value=1, bar_style='info', max=1), HTML(value='')))"
      ]
     },
     "metadata": {},
     "output_type": "display_data"
    },
    {
     "data": {
      "application/vnd.jupyter.widget-view+json": {
       "model_id": "",
       "version_major": 2,
       "version_minor": 0
      },
      "text/plain": [
       "HBox(children=(IntProgress(value=1, bar_style='info', max=1), HTML(value='')))"
      ]
     },
     "metadata": {},
     "output_type": "display_data"
    },
    {
     "data": {
      "application/vnd.jupyter.widget-view+json": {
       "model_id": "",
       "version_major": 2,
       "version_minor": 0
      },
      "text/plain": [
       "HBox(children=(IntProgress(value=1, bar_style='info', max=1), HTML(value='')))"
      ]
     },
     "metadata": {},
     "output_type": "display_data"
    },
    {
     "data": {
      "application/vnd.jupyter.widget-view+json": {
       "model_id": "",
       "version_major": 2,
       "version_minor": 0
      },
      "text/plain": [
       "HBox(children=(IntProgress(value=1, bar_style='info', max=1), HTML(value='')))"
      ]
     },
     "metadata": {},
     "output_type": "display_data"
    },
    {
     "data": {
      "application/vnd.jupyter.widget-view+json": {
       "model_id": "",
       "version_major": 2,
       "version_minor": 0
      },
      "text/plain": [
       "HBox(children=(IntProgress(value=1, bar_style='info', max=1), HTML(value='')))"
      ]
     },
     "metadata": {},
     "output_type": "display_data"
    },
    {
     "data": {
      "application/vnd.jupyter.widget-view+json": {
       "model_id": "",
       "version_major": 2,
       "version_minor": 0
      },
      "text/plain": [
       "HBox(children=(IntProgress(value=0, max=77), HTML(value='')))"
      ]
     },
     "metadata": {},
     "output_type": "display_data"
    },
    {
     "data": {
      "application/vnd.jupyter.widget-view+json": {
       "model_id": "",
       "version_major": 2,
       "version_minor": 0
      },
      "text/plain": [
       "HBox(children=(IntProgress(value=1, bar_style='info', max=1), HTML(value='')))"
      ]
     },
     "metadata": {},
     "output_type": "display_data"
    },
    {
     "data": {
      "application/vnd.jupyter.widget-view+json": {
       "model_id": "",
       "version_major": 2,
       "version_minor": 0
      },
      "text/plain": [
       "HBox(children=(IntProgress(value=1, bar_style='info', max=1), HTML(value='')))"
      ]
     },
     "metadata": {},
     "output_type": "display_data"
    },
    {
     "data": {
      "application/vnd.jupyter.widget-view+json": {
       "model_id": "",
       "version_major": 2,
       "version_minor": 0
      },
      "text/plain": [
       "HBox(children=(IntProgress(value=1, bar_style='info', max=1), HTML(value='')))"
      ]
     },
     "metadata": {},
     "output_type": "display_data"
    },
    {
     "data": {
      "application/vnd.jupyter.widget-view+json": {
       "model_id": "",
       "version_major": 2,
       "version_minor": 0
      },
      "text/plain": [
       "HBox(children=(IntProgress(value=1, bar_style='info', max=1), HTML(value='')))"
      ]
     },
     "metadata": {},
     "output_type": "display_data"
    },
    {
     "data": {
      "application/vnd.jupyter.widget-view+json": {
       "model_id": "",
       "version_major": 2,
       "version_minor": 0
      },
      "text/plain": [
       "HBox(children=(IntProgress(value=1, bar_style='info', max=1), HTML(value='')))"
      ]
     },
     "metadata": {},
     "output_type": "display_data"
    },
    {
     "data": {
      "application/vnd.jupyter.widget-view+json": {
       "model_id": "",
       "version_major": 2,
       "version_minor": 0
      },
      "text/plain": [
       "HBox(children=(IntProgress(value=1, bar_style='info', max=1), HTML(value='')))"
      ]
     },
     "metadata": {},
     "output_type": "display_data"
    },
    {
     "data": {
      "application/vnd.jupyter.widget-view+json": {
       "model_id": "",
       "version_major": 2,
       "version_minor": 0
      },
      "text/plain": [
       "HBox(children=(IntProgress(value=1, bar_style='info', max=1), HTML(value='')))"
      ]
     },
     "metadata": {},
     "output_type": "display_data"
    },
    {
     "data": {
      "application/vnd.jupyter.widget-view+json": {
       "model_id": "",
       "version_major": 2,
       "version_minor": 0
      },
      "text/plain": [
       "HBox(children=(IntProgress(value=1, bar_style='info', max=1), HTML(value='')))"
      ]
     },
     "metadata": {},
     "output_type": "display_data"
    },
    {
     "data": {
      "application/vnd.jupyter.widget-view+json": {
       "model_id": "",
       "version_major": 2,
       "version_minor": 0
      },
      "text/plain": [
       "HBox(children=(IntProgress(value=1, bar_style='info', max=1), HTML(value='')))"
      ]
     },
     "metadata": {},
     "output_type": "display_data"
    },
    {
     "data": {
      "application/vnd.jupyter.widget-view+json": {
       "model_id": "",
       "version_major": 2,
       "version_minor": 0
      },
      "text/plain": [
       "HBox(children=(IntProgress(value=1, bar_style='info', max=1), HTML(value='')))"
      ]
     },
     "metadata": {},
     "output_type": "display_data"
    },
    {
     "data": {
      "application/vnd.jupyter.widget-view+json": {
       "model_id": "",
       "version_major": 2,
       "version_minor": 0
      },
      "text/plain": [
       "HBox(children=(IntProgress(value=1, bar_style='info', max=1), HTML(value='')))"
      ]
     },
     "metadata": {},
     "output_type": "display_data"
    },
    {
     "data": {
      "application/vnd.jupyter.widget-view+json": {
       "model_id": "",
       "version_major": 2,
       "version_minor": 0
      },
      "text/plain": [
       "HBox(children=(IntProgress(value=1, bar_style='info', max=1), HTML(value='')))"
      ]
     },
     "metadata": {},
     "output_type": "display_data"
    },
    {
     "data": {
      "application/vnd.jupyter.widget-view+json": {
       "model_id": "",
       "version_major": 2,
       "version_minor": 0
      },
      "text/plain": [
       "HBox(children=(IntProgress(value=1, bar_style='info', max=1), HTML(value='')))"
      ]
     },
     "metadata": {},
     "output_type": "display_data"
    },
    {
     "data": {
      "application/vnd.jupyter.widget-view+json": {
       "model_id": "",
       "version_major": 2,
       "version_minor": 0
      },
      "text/plain": [
       "HBox(children=(IntProgress(value=1, bar_style='info', max=1), HTML(value='')))"
      ]
     },
     "metadata": {},
     "output_type": "display_data"
    },
    {
     "data": {
      "application/vnd.jupyter.widget-view+json": {
       "model_id": "",
       "version_major": 2,
       "version_minor": 0
      },
      "text/plain": [
       "HBox(children=(IntProgress(value=1, bar_style='info', max=1), HTML(value='')))"
      ]
     },
     "metadata": {},
     "output_type": "display_data"
    },
    {
     "data": {
      "application/vnd.jupyter.widget-view+json": {
       "model_id": "",
       "version_major": 2,
       "version_minor": 0
      },
      "text/plain": [
       "HBox(children=(IntProgress(value=1, bar_style='info', max=1), HTML(value='')))"
      ]
     },
     "metadata": {},
     "output_type": "display_data"
    },
    {
     "data": {
      "application/vnd.jupyter.widget-view+json": {
       "model_id": "",
       "version_major": 2,
       "version_minor": 0
      },
      "text/plain": [
       "HBox(children=(IntProgress(value=1, bar_style='info', max=1), HTML(value='')))"
      ]
     },
     "metadata": {},
     "output_type": "display_data"
    },
    {
     "data": {
      "application/vnd.jupyter.widget-view+json": {
       "model_id": "",
       "version_major": 2,
       "version_minor": 0
      },
      "text/plain": [
       "HBox(children=(IntProgress(value=1, bar_style='info', max=1), HTML(value='')))"
      ]
     },
     "metadata": {},
     "output_type": "display_data"
    },
    {
     "data": {
      "application/vnd.jupyter.widget-view+json": {
       "model_id": "",
       "version_major": 2,
       "version_minor": 0
      },
      "text/plain": [
       "HBox(children=(IntProgress(value=1, bar_style='info', max=1), HTML(value='')))"
      ]
     },
     "metadata": {},
     "output_type": "display_data"
    },
    {
     "data": {
      "application/vnd.jupyter.widget-view+json": {
       "model_id": "",
       "version_major": 2,
       "version_minor": 0
      },
      "text/plain": [
       "HBox(children=(IntProgress(value=1, bar_style='info', max=1), HTML(value='')))"
      ]
     },
     "metadata": {},
     "output_type": "display_data"
    },
    {
     "data": {
      "application/vnd.jupyter.widget-view+json": {
       "model_id": "",
       "version_major": 2,
       "version_minor": 0
      },
      "text/plain": [
       "HBox(children=(IntProgress(value=1, bar_style='info', max=1), HTML(value='')))"
      ]
     },
     "metadata": {},
     "output_type": "display_data"
    },
    {
     "data": {
      "application/vnd.jupyter.widget-view+json": {
       "model_id": "",
       "version_major": 2,
       "version_minor": 0
      },
      "text/plain": [
       "HBox(children=(IntProgress(value=1, bar_style='info', max=1), HTML(value='')))"
      ]
     },
     "metadata": {},
     "output_type": "display_data"
    },
    {
     "data": {
      "application/vnd.jupyter.widget-view+json": {
       "model_id": "",
       "version_major": 2,
       "version_minor": 0
      },
      "text/plain": [
       "HBox(children=(IntProgress(value=1, bar_style='info', max=1), HTML(value='')))"
      ]
     },
     "metadata": {},
     "output_type": "display_data"
    },
    {
     "data": {
      "application/vnd.jupyter.widget-view+json": {
       "model_id": "",
       "version_major": 2,
       "version_minor": 0
      },
      "text/plain": [
       "HBox(children=(IntProgress(value=1, bar_style='info', max=1), HTML(value='')))"
      ]
     },
     "metadata": {},
     "output_type": "display_data"
    },
    {
     "data": {
      "application/vnd.jupyter.widget-view+json": {
       "model_id": "",
       "version_major": 2,
       "version_minor": 0
      },
      "text/plain": [
       "HBox(children=(IntProgress(value=1, bar_style='info', max=1), HTML(value='')))"
      ]
     },
     "metadata": {},
     "output_type": "display_data"
    },
    {
     "data": {
      "application/vnd.jupyter.widget-view+json": {
       "model_id": "",
       "version_major": 2,
       "version_minor": 0
      },
      "text/plain": [
       "HBox(children=(IntProgress(value=1, bar_style='info', max=1), HTML(value='')))"
      ]
     },
     "metadata": {},
     "output_type": "display_data"
    },
    {
     "data": {
      "application/vnd.jupyter.widget-view+json": {
       "model_id": "",
       "version_major": 2,
       "version_minor": 0
      },
      "text/plain": [
       "HBox(children=(IntProgress(value=1, bar_style='info', max=1), HTML(value='')))"
      ]
     },
     "metadata": {},
     "output_type": "display_data"
    },
    {
     "data": {
      "application/vnd.jupyter.widget-view+json": {
       "model_id": "",
       "version_major": 2,
       "version_minor": 0
      },
      "text/plain": [
       "HBox(children=(IntProgress(value=1, bar_style='info', max=1), HTML(value='')))"
      ]
     },
     "metadata": {},
     "output_type": "display_data"
    },
    {
     "data": {
      "application/vnd.jupyter.widget-view+json": {
       "model_id": "",
       "version_major": 2,
       "version_minor": 0
      },
      "text/plain": [
       "HBox(children=(IntProgress(value=1, bar_style='info', max=1), HTML(value='')))"
      ]
     },
     "metadata": {},
     "output_type": "display_data"
    },
    {
     "data": {
      "application/vnd.jupyter.widget-view+json": {
       "model_id": "",
       "version_major": 2,
       "version_minor": 0
      },
      "text/plain": [
       "HBox(children=(IntProgress(value=1, bar_style='info', max=1), HTML(value='')))"
      ]
     },
     "metadata": {},
     "output_type": "display_data"
    },
    {
     "data": {
      "application/vnd.jupyter.widget-view+json": {
       "model_id": "",
       "version_major": 2,
       "version_minor": 0
      },
      "text/plain": [
       "HBox(children=(IntProgress(value=1, bar_style='info', max=1), HTML(value='')))"
      ]
     },
     "metadata": {},
     "output_type": "display_data"
    },
    {
     "data": {
      "application/vnd.jupyter.widget-view+json": {
       "model_id": "",
       "version_major": 2,
       "version_minor": 0
      },
      "text/plain": [
       "HBox(children=(IntProgress(value=1, bar_style='info', max=1), HTML(value='')))"
      ]
     },
     "metadata": {},
     "output_type": "display_data"
    },
    {
     "data": {
      "application/vnd.jupyter.widget-view+json": {
       "model_id": "",
       "version_major": 2,
       "version_minor": 0
      },
      "text/plain": [
       "HBox(children=(IntProgress(value=1, bar_style='info', max=1), HTML(value='')))"
      ]
     },
     "metadata": {},
     "output_type": "display_data"
    },
    {
     "data": {
      "application/vnd.jupyter.widget-view+json": {
       "model_id": "",
       "version_major": 2,
       "version_minor": 0
      },
      "text/plain": [
       "HBox(children=(IntProgress(value=1, bar_style='info', max=1), HTML(value='')))"
      ]
     },
     "metadata": {},
     "output_type": "display_data"
    },
    {
     "data": {
      "application/vnd.jupyter.widget-view+json": {
       "model_id": "",
       "version_major": 2,
       "version_minor": 0
      },
      "text/plain": [
       "HBox(children=(IntProgress(value=1, bar_style='info', max=1), HTML(value='')))"
      ]
     },
     "metadata": {},
     "output_type": "display_data"
    },
    {
     "data": {
      "application/vnd.jupyter.widget-view+json": {
       "model_id": "",
       "version_major": 2,
       "version_minor": 0
      },
      "text/plain": [
       "HBox(children=(IntProgress(value=1, bar_style='info', max=1), HTML(value='')))"
      ]
     },
     "metadata": {},
     "output_type": "display_data"
    },
    {
     "data": {
      "application/vnd.jupyter.widget-view+json": {
       "model_id": "",
       "version_major": 2,
       "version_minor": 0
      },
      "text/plain": [
       "HBox(children=(IntProgress(value=1, bar_style='info', max=1), HTML(value='')))"
      ]
     },
     "metadata": {},
     "output_type": "display_data"
    },
    {
     "data": {
      "application/vnd.jupyter.widget-view+json": {
       "model_id": "",
       "version_major": 2,
       "version_minor": 0
      },
      "text/plain": [
       "HBox(children=(IntProgress(value=1, bar_style='info', max=1), HTML(value='')))"
      ]
     },
     "metadata": {},
     "output_type": "display_data"
    },
    {
     "data": {
      "application/vnd.jupyter.widget-view+json": {
       "model_id": "",
       "version_major": 2,
       "version_minor": 0
      },
      "text/plain": [
       "HBox(children=(IntProgress(value=1, bar_style='info', max=1), HTML(value='')))"
      ]
     },
     "metadata": {},
     "output_type": "display_data"
    },
    {
     "data": {
      "application/vnd.jupyter.widget-view+json": {
       "model_id": "",
       "version_major": 2,
       "version_minor": 0
      },
      "text/plain": [
       "HBox(children=(IntProgress(value=1, bar_style='info', max=1), HTML(value='')))"
      ]
     },
     "metadata": {},
     "output_type": "display_data"
    },
    {
     "data": {
      "application/vnd.jupyter.widget-view+json": {
       "model_id": "",
       "version_major": 2,
       "version_minor": 0
      },
      "text/plain": [
       "HBox(children=(IntProgress(value=1, bar_style='info', max=1), HTML(value='')))"
      ]
     },
     "metadata": {},
     "output_type": "display_data"
    },
    {
     "data": {
      "application/vnd.jupyter.widget-view+json": {
       "model_id": "",
       "version_major": 2,
       "version_minor": 0
      },
      "text/plain": [
       "HBox(children=(IntProgress(value=1, bar_style='info', max=1), HTML(value='')))"
      ]
     },
     "metadata": {},
     "output_type": "display_data"
    },
    {
     "data": {
      "application/vnd.jupyter.widget-view+json": {
       "model_id": "",
       "version_major": 2,
       "version_minor": 0
      },
      "text/plain": [
       "HBox(children=(IntProgress(value=1, bar_style='info', max=1), HTML(value='')))"
      ]
     },
     "metadata": {},
     "output_type": "display_data"
    },
    {
     "data": {
      "application/vnd.jupyter.widget-view+json": {
       "model_id": "",
       "version_major": 2,
       "version_minor": 0
      },
      "text/plain": [
       "HBox(children=(IntProgress(value=1, bar_style='info', max=1), HTML(value='')))"
      ]
     },
     "metadata": {},
     "output_type": "display_data"
    },
    {
     "data": {
      "application/vnd.jupyter.widget-view+json": {
       "model_id": "",
       "version_major": 2,
       "version_minor": 0
      },
      "text/plain": [
       "HBox(children=(IntProgress(value=1, bar_style='info', max=1), HTML(value='')))"
      ]
     },
     "metadata": {},
     "output_type": "display_data"
    },
    {
     "data": {
      "application/vnd.jupyter.widget-view+json": {
       "model_id": "",
       "version_major": 2,
       "version_minor": 0
      },
      "text/plain": [
       "HBox(children=(IntProgress(value=1, bar_style='info', max=1), HTML(value='')))"
      ]
     },
     "metadata": {},
     "output_type": "display_data"
    },
    {
     "data": {
      "application/vnd.jupyter.widget-view+json": {
       "model_id": "",
       "version_major": 2,
       "version_minor": 0
      },
      "text/plain": [
       "HBox(children=(IntProgress(value=1, bar_style='info', max=1), HTML(value='')))"
      ]
     },
     "metadata": {},
     "output_type": "display_data"
    },
    {
     "data": {
      "application/vnd.jupyter.widget-view+json": {
       "model_id": "",
       "version_major": 2,
       "version_minor": 0
      },
      "text/plain": [
       "HBox(children=(IntProgress(value=1, bar_style='info', max=1), HTML(value='')))"
      ]
     },
     "metadata": {},
     "output_type": "display_data"
    },
    {
     "data": {
      "application/vnd.jupyter.widget-view+json": {
       "model_id": "",
       "version_major": 2,
       "version_minor": 0
      },
      "text/plain": [
       "HBox(children=(IntProgress(value=1, bar_style='info', max=1), HTML(value='')))"
      ]
     },
     "metadata": {},
     "output_type": "display_data"
    },
    {
     "data": {
      "application/vnd.jupyter.widget-view+json": {
       "model_id": "",
       "version_major": 2,
       "version_minor": 0
      },
      "text/plain": [
       "HBox(children=(IntProgress(value=1, bar_style='info', max=1), HTML(value='')))"
      ]
     },
     "metadata": {},
     "output_type": "display_data"
    },
    {
     "data": {
      "application/vnd.jupyter.widget-view+json": {
       "model_id": "",
       "version_major": 2,
       "version_minor": 0
      },
      "text/plain": [
       "HBox(children=(IntProgress(value=1, bar_style='info', max=1), HTML(value='')))"
      ]
     },
     "metadata": {},
     "output_type": "display_data"
    },
    {
     "data": {
      "application/vnd.jupyter.widget-view+json": {
       "model_id": "",
       "version_major": 2,
       "version_minor": 0
      },
      "text/plain": [
       "HBox(children=(IntProgress(value=1, bar_style='info', max=1), HTML(value='')))"
      ]
     },
     "metadata": {},
     "output_type": "display_data"
    },
    {
     "data": {
      "application/vnd.jupyter.widget-view+json": {
       "model_id": "",
       "version_major": 2,
       "version_minor": 0
      },
      "text/plain": [
       "HBox(children=(IntProgress(value=1, bar_style='info', max=1), HTML(value='')))"
      ]
     },
     "metadata": {},
     "output_type": "display_data"
    },
    {
     "data": {
      "application/vnd.jupyter.widget-view+json": {
       "model_id": "",
       "version_major": 2,
       "version_minor": 0
      },
      "text/plain": [
       "HBox(children=(IntProgress(value=1, bar_style='info', max=1), HTML(value='')))"
      ]
     },
     "metadata": {},
     "output_type": "display_data"
    },
    {
     "data": {
      "application/vnd.jupyter.widget-view+json": {
       "model_id": "",
       "version_major": 2,
       "version_minor": 0
      },
      "text/plain": [
       "HBox(children=(IntProgress(value=1, bar_style='info', max=1), HTML(value='')))"
      ]
     },
     "metadata": {},
     "output_type": "display_data"
    },
    {
     "data": {
      "application/vnd.jupyter.widget-view+json": {
       "model_id": "",
       "version_major": 2,
       "version_minor": 0
      },
      "text/plain": [
       "HBox(children=(IntProgress(value=1, bar_style='info', max=1), HTML(value='')))"
      ]
     },
     "metadata": {},
     "output_type": "display_data"
    },
    {
     "data": {
      "application/vnd.jupyter.widget-view+json": {
       "model_id": "",
       "version_major": 2,
       "version_minor": 0
      },
      "text/plain": [
       "HBox(children=(IntProgress(value=1, bar_style='info', max=1), HTML(value='')))"
      ]
     },
     "metadata": {},
     "output_type": "display_data"
    },
    {
     "data": {
      "application/vnd.jupyter.widget-view+json": {
       "model_id": "",
       "version_major": 2,
       "version_minor": 0
      },
      "text/plain": [
       "HBox(children=(IntProgress(value=1, bar_style='info', max=1), HTML(value='')))"
      ]
     },
     "metadata": {},
     "output_type": "display_data"
    },
    {
     "data": {
      "application/vnd.jupyter.widget-view+json": {
       "model_id": "",
       "version_major": 2,
       "version_minor": 0
      },
      "text/plain": [
       "HBox(children=(IntProgress(value=1, bar_style='info', max=1), HTML(value='')))"
      ]
     },
     "metadata": {},
     "output_type": "display_data"
    },
    {
     "data": {
      "application/vnd.jupyter.widget-view+json": {
       "model_id": "",
       "version_major": 2,
       "version_minor": 0
      },
      "text/plain": [
       "HBox(children=(IntProgress(value=1, bar_style='info', max=1), HTML(value='')))"
      ]
     },
     "metadata": {},
     "output_type": "display_data"
    },
    {
     "data": {
      "application/vnd.jupyter.widget-view+json": {
       "model_id": "",
       "version_major": 2,
       "version_minor": 0
      },
      "text/plain": [
       "HBox(children=(IntProgress(value=1, bar_style='info', max=1), HTML(value='')))"
      ]
     },
     "metadata": {},
     "output_type": "display_data"
    },
    {
     "data": {
      "application/vnd.jupyter.widget-view+json": {
       "model_id": "",
       "version_major": 2,
       "version_minor": 0
      },
      "text/plain": [
       "HBox(children=(IntProgress(value=1, bar_style='info', max=1), HTML(value='')))"
      ]
     },
     "metadata": {},
     "output_type": "display_data"
    },
    {
     "data": {
      "application/vnd.jupyter.widget-view+json": {
       "model_id": "",
       "version_major": 2,
       "version_minor": 0
      },
      "text/plain": [
       "HBox(children=(IntProgress(value=1, bar_style='info', max=1), HTML(value='')))"
      ]
     },
     "metadata": {},
     "output_type": "display_data"
    },
    {
     "data": {
      "application/vnd.jupyter.widget-view+json": {
       "model_id": "",
       "version_major": 2,
       "version_minor": 0
      },
      "text/plain": [
       "HBox(children=(IntProgress(value=1, bar_style='info', max=1), HTML(value='')))"
      ]
     },
     "metadata": {},
     "output_type": "display_data"
    },
    {
     "data": {
      "application/vnd.jupyter.widget-view+json": {
       "model_id": "",
       "version_major": 2,
       "version_minor": 0
      },
      "text/plain": [
       "HBox(children=(IntProgress(value=1, bar_style='info', max=1), HTML(value='')))"
      ]
     },
     "metadata": {},
     "output_type": "display_data"
    },
    {
     "data": {
      "application/vnd.jupyter.widget-view+json": {
       "model_id": "",
       "version_major": 2,
       "version_minor": 0
      },
      "text/plain": [
       "HBox(children=(IntProgress(value=1, bar_style='info', max=1), HTML(value='')))"
      ]
     },
     "metadata": {},
     "output_type": "display_data"
    },
    {
     "data": {
      "application/vnd.jupyter.widget-view+json": {
       "model_id": "",
       "version_major": 2,
       "version_minor": 0
      },
      "text/plain": [
       "HBox(children=(IntProgress(value=1, bar_style='info', max=1), HTML(value='')))"
      ]
     },
     "metadata": {},
     "output_type": "display_data"
    },
    {
     "data": {
      "application/vnd.jupyter.widget-view+json": {
       "model_id": "",
       "version_major": 2,
       "version_minor": 0
      },
      "text/plain": [
       "HBox(children=(IntProgress(value=1, bar_style='info', max=1), HTML(value='')))"
      ]
     },
     "metadata": {},
     "output_type": "display_data"
    },
    {
     "data": {
      "application/vnd.jupyter.widget-view+json": {
       "model_id": "",
       "version_major": 2,
       "version_minor": 0
      },
      "text/plain": [
       "HBox(children=(IntProgress(value=1, bar_style='info', max=1), HTML(value='')))"
      ]
     },
     "metadata": {},
     "output_type": "display_data"
    },
    {
     "data": {
      "application/vnd.jupyter.widget-view+json": {
       "model_id": "",
       "version_major": 2,
       "version_minor": 0
      },
      "text/plain": [
       "HBox(children=(IntProgress(value=1, bar_style='info', max=1), HTML(value='')))"
      ]
     },
     "metadata": {},
     "output_type": "display_data"
    },
    {
     "data": {
      "application/vnd.jupyter.widget-view+json": {
       "model_id": "",
       "version_major": 2,
       "version_minor": 0
      },
      "text/plain": [
       "HBox(children=(IntProgress(value=1, bar_style='info', max=1), HTML(value='')))"
      ]
     },
     "metadata": {},
     "output_type": "display_data"
    },
    {
     "data": {
      "application/vnd.jupyter.widget-view+json": {
       "model_id": "",
       "version_major": 2,
       "version_minor": 0
      },
      "text/plain": [
       "HBox(children=(IntProgress(value=1, bar_style='info', max=1), HTML(value='')))"
      ]
     },
     "metadata": {},
     "output_type": "display_data"
    },
    {
     "data": {
      "application/vnd.jupyter.widget-view+json": {
       "model_id": "",
       "version_major": 2,
       "version_minor": 0
      },
      "text/plain": [
       "HBox(children=(IntProgress(value=1, bar_style='info', max=1), HTML(value='')))"
      ]
     },
     "metadata": {},
     "output_type": "display_data"
    },
    {
     "data": {
      "application/vnd.jupyter.widget-view+json": {
       "model_id": "",
       "version_major": 2,
       "version_minor": 0
      },
      "text/plain": [
       "HBox(children=(IntProgress(value=1, bar_style='info', max=1), HTML(value='')))"
      ]
     },
     "metadata": {},
     "output_type": "display_data"
    },
    {
     "data": {
      "application/vnd.jupyter.widget-view+json": {
       "model_id": "",
       "version_major": 2,
       "version_minor": 0
      },
      "text/plain": [
       "HBox(children=(IntProgress(value=1, bar_style='info', max=1), HTML(value='')))"
      ]
     },
     "metadata": {},
     "output_type": "display_data"
    },
    {
     "data": {
      "application/vnd.jupyter.widget-view+json": {
       "model_id": "",
       "version_major": 2,
       "version_minor": 0
      },
      "text/plain": [
       "HBox(children=(IntProgress(value=1, bar_style='info', max=1), HTML(value='')))"
      ]
     },
     "metadata": {},
     "output_type": "display_data"
    },
    {
     "data": {
      "application/vnd.jupyter.widget-view+json": {
       "model_id": "",
       "version_major": 2,
       "version_minor": 0
      },
      "text/plain": [
       "HBox(children=(IntProgress(value=1, bar_style='info', max=1), HTML(value='')))"
      ]
     },
     "metadata": {},
     "output_type": "display_data"
    },
    {
     "data": {
      "application/vnd.jupyter.widget-view+json": {
       "model_id": "",
       "version_major": 2,
       "version_minor": 0
      },
      "text/plain": [
       "HBox(children=(IntProgress(value=0, max=73), HTML(value='')))"
      ]
     },
     "metadata": {},
     "output_type": "display_data"
    },
    {
     "data": {
      "application/vnd.jupyter.widget-view+json": {
       "model_id": "",
       "version_major": 2,
       "version_minor": 0
      },
      "text/plain": [
       "HBox(children=(IntProgress(value=1, bar_style='info', max=1), HTML(value='')))"
      ]
     },
     "metadata": {},
     "output_type": "display_data"
    },
    {
     "data": {
      "application/vnd.jupyter.widget-view+json": {
       "model_id": "",
       "version_major": 2,
       "version_minor": 0
      },
      "text/plain": [
       "HBox(children=(IntProgress(value=1, bar_style='info', max=1), HTML(value='')))"
      ]
     },
     "metadata": {},
     "output_type": "display_data"
    },
    {
     "data": {
      "application/vnd.jupyter.widget-view+json": {
       "model_id": "",
       "version_major": 2,
       "version_minor": 0
      },
      "text/plain": [
       "HBox(children=(IntProgress(value=1, bar_style='info', max=1), HTML(value='')))"
      ]
     },
     "metadata": {},
     "output_type": "display_data"
    },
    {
     "data": {
      "application/vnd.jupyter.widget-view+json": {
       "model_id": "",
       "version_major": 2,
       "version_minor": 0
      },
      "text/plain": [
       "HBox(children=(IntProgress(value=1, bar_style='info', max=1), HTML(value='')))"
      ]
     },
     "metadata": {},
     "output_type": "display_data"
    },
    {
     "data": {
      "application/vnd.jupyter.widget-view+json": {
       "model_id": "",
       "version_major": 2,
       "version_minor": 0
      },
      "text/plain": [
       "HBox(children=(IntProgress(value=1, bar_style='info', max=1), HTML(value='')))"
      ]
     },
     "metadata": {},
     "output_type": "display_data"
    },
    {
     "data": {
      "application/vnd.jupyter.widget-view+json": {
       "model_id": "",
       "version_major": 2,
       "version_minor": 0
      },
      "text/plain": [
       "HBox(children=(IntProgress(value=1, bar_style='info', max=1), HTML(value='')))"
      ]
     },
     "metadata": {},
     "output_type": "display_data"
    },
    {
     "data": {
      "application/vnd.jupyter.widget-view+json": {
       "model_id": "",
       "version_major": 2,
       "version_minor": 0
      },
      "text/plain": [
       "HBox(children=(IntProgress(value=1, bar_style='info', max=1), HTML(value='')))"
      ]
     },
     "metadata": {},
     "output_type": "display_data"
    },
    {
     "data": {
      "application/vnd.jupyter.widget-view+json": {
       "model_id": "",
       "version_major": 2,
       "version_minor": 0
      },
      "text/plain": [
       "HBox(children=(IntProgress(value=1, bar_style='info', max=1), HTML(value='')))"
      ]
     },
     "metadata": {},
     "output_type": "display_data"
    },
    {
     "data": {
      "application/vnd.jupyter.widget-view+json": {
       "model_id": "",
       "version_major": 2,
       "version_minor": 0
      },
      "text/plain": [
       "HBox(children=(IntProgress(value=1, bar_style='info', max=1), HTML(value='')))"
      ]
     },
     "metadata": {},
     "output_type": "display_data"
    },
    {
     "data": {
      "application/vnd.jupyter.widget-view+json": {
       "model_id": "",
       "version_major": 2,
       "version_minor": 0
      },
      "text/plain": [
       "HBox(children=(IntProgress(value=1, bar_style='info', max=1), HTML(value='')))"
      ]
     },
     "metadata": {},
     "output_type": "display_data"
    },
    {
     "data": {
      "application/vnd.jupyter.widget-view+json": {
       "model_id": "",
       "version_major": 2,
       "version_minor": 0
      },
      "text/plain": [
       "HBox(children=(IntProgress(value=1, bar_style='info', max=1), HTML(value='')))"
      ]
     },
     "metadata": {},
     "output_type": "display_data"
    },
    {
     "data": {
      "application/vnd.jupyter.widget-view+json": {
       "model_id": "",
       "version_major": 2,
       "version_minor": 0
      },
      "text/plain": [
       "HBox(children=(IntProgress(value=1, bar_style='info', max=1), HTML(value='')))"
      ]
     },
     "metadata": {},
     "output_type": "display_data"
    },
    {
     "data": {
      "application/vnd.jupyter.widget-view+json": {
       "model_id": "",
       "version_major": 2,
       "version_minor": 0
      },
      "text/plain": [
       "HBox(children=(IntProgress(value=1, bar_style='info', max=1), HTML(value='')))"
      ]
     },
     "metadata": {},
     "output_type": "display_data"
    },
    {
     "data": {
      "application/vnd.jupyter.widget-view+json": {
       "model_id": "",
       "version_major": 2,
       "version_minor": 0
      },
      "text/plain": [
       "HBox(children=(IntProgress(value=1, bar_style='info', max=1), HTML(value='')))"
      ]
     },
     "metadata": {},
     "output_type": "display_data"
    },
    {
     "data": {
      "application/vnd.jupyter.widget-view+json": {
       "model_id": "",
       "version_major": 2,
       "version_minor": 0
      },
      "text/plain": [
       "HBox(children=(IntProgress(value=1, bar_style='info', max=1), HTML(value='')))"
      ]
     },
     "metadata": {},
     "output_type": "display_data"
    },
    {
     "data": {
      "application/vnd.jupyter.widget-view+json": {
       "model_id": "",
       "version_major": 2,
       "version_minor": 0
      },
      "text/plain": [
       "HBox(children=(IntProgress(value=1, bar_style='info', max=1), HTML(value='')))"
      ]
     },
     "metadata": {},
     "output_type": "display_data"
    },
    {
     "data": {
      "application/vnd.jupyter.widget-view+json": {
       "model_id": "",
       "version_major": 2,
       "version_minor": 0
      },
      "text/plain": [
       "HBox(children=(IntProgress(value=1, bar_style='info', max=1), HTML(value='')))"
      ]
     },
     "metadata": {},
     "output_type": "display_data"
    },
    {
     "data": {
      "application/vnd.jupyter.widget-view+json": {
       "model_id": "",
       "version_major": 2,
       "version_minor": 0
      },
      "text/plain": [
       "HBox(children=(IntProgress(value=1, bar_style='info', max=1), HTML(value='')))"
      ]
     },
     "metadata": {},
     "output_type": "display_data"
    },
    {
     "data": {
      "application/vnd.jupyter.widget-view+json": {
       "model_id": "",
       "version_major": 2,
       "version_minor": 0
      },
      "text/plain": [
       "HBox(children=(IntProgress(value=1, bar_style='info', max=1), HTML(value='')))"
      ]
     },
     "metadata": {},
     "output_type": "display_data"
    },
    {
     "data": {
      "application/vnd.jupyter.widget-view+json": {
       "model_id": "",
       "version_major": 2,
       "version_minor": 0
      },
      "text/plain": [
       "HBox(children=(IntProgress(value=1, bar_style='info', max=1), HTML(value='')))"
      ]
     },
     "metadata": {},
     "output_type": "display_data"
    },
    {
     "data": {
      "application/vnd.jupyter.widget-view+json": {
       "model_id": "",
       "version_major": 2,
       "version_minor": 0
      },
      "text/plain": [
       "HBox(children=(IntProgress(value=1, bar_style='info', max=1), HTML(value='')))"
      ]
     },
     "metadata": {},
     "output_type": "display_data"
    },
    {
     "data": {
      "application/vnd.jupyter.widget-view+json": {
       "model_id": "",
       "version_major": 2,
       "version_minor": 0
      },
      "text/plain": [
       "HBox(children=(IntProgress(value=1, bar_style='info', max=1), HTML(value='')))"
      ]
     },
     "metadata": {},
     "output_type": "display_data"
    },
    {
     "data": {
      "application/vnd.jupyter.widget-view+json": {
       "model_id": "",
       "version_major": 2,
       "version_minor": 0
      },
      "text/plain": [
       "HBox(children=(IntProgress(value=1, bar_style='info', max=1), HTML(value='')))"
      ]
     },
     "metadata": {},
     "output_type": "display_data"
    },
    {
     "data": {
      "application/vnd.jupyter.widget-view+json": {
       "model_id": "",
       "version_major": 2,
       "version_minor": 0
      },
      "text/plain": [
       "HBox(children=(IntProgress(value=1, bar_style='info', max=1), HTML(value='')))"
      ]
     },
     "metadata": {},
     "output_type": "display_data"
    },
    {
     "data": {
      "application/vnd.jupyter.widget-view+json": {
       "model_id": "",
       "version_major": 2,
       "version_minor": 0
      },
      "text/plain": [
       "HBox(children=(IntProgress(value=1, bar_style='info', max=1), HTML(value='')))"
      ]
     },
     "metadata": {},
     "output_type": "display_data"
    },
    {
     "data": {
      "application/vnd.jupyter.widget-view+json": {
       "model_id": "",
       "version_major": 2,
       "version_minor": 0
      },
      "text/plain": [
       "HBox(children=(IntProgress(value=1, bar_style='info', max=1), HTML(value='')))"
      ]
     },
     "metadata": {},
     "output_type": "display_data"
    },
    {
     "data": {
      "application/vnd.jupyter.widget-view+json": {
       "model_id": "",
       "version_major": 2,
       "version_minor": 0
      },
      "text/plain": [
       "HBox(children=(IntProgress(value=1, bar_style='info', max=1), HTML(value='')))"
      ]
     },
     "metadata": {},
     "output_type": "display_data"
    },
    {
     "data": {
      "application/vnd.jupyter.widget-view+json": {
       "model_id": "",
       "version_major": 2,
       "version_minor": 0
      },
      "text/plain": [
       "HBox(children=(IntProgress(value=1, bar_style='info', max=1), HTML(value='')))"
      ]
     },
     "metadata": {},
     "output_type": "display_data"
    },
    {
     "data": {
      "application/vnd.jupyter.widget-view+json": {
       "model_id": "",
       "version_major": 2,
       "version_minor": 0
      },
      "text/plain": [
       "HBox(children=(IntProgress(value=1, bar_style='info', max=1), HTML(value='')))"
      ]
     },
     "metadata": {},
     "output_type": "display_data"
    },
    {
     "data": {
      "application/vnd.jupyter.widget-view+json": {
       "model_id": "",
       "version_major": 2,
       "version_minor": 0
      },
      "text/plain": [
       "HBox(children=(IntProgress(value=1, bar_style='info', max=1), HTML(value='')))"
      ]
     },
     "metadata": {},
     "output_type": "display_data"
    },
    {
     "data": {
      "application/vnd.jupyter.widget-view+json": {
       "model_id": "",
       "version_major": 2,
       "version_minor": 0
      },
      "text/plain": [
       "HBox(children=(IntProgress(value=1, bar_style='info', max=1), HTML(value='')))"
      ]
     },
     "metadata": {},
     "output_type": "display_data"
    },
    {
     "data": {
      "application/vnd.jupyter.widget-view+json": {
       "model_id": "",
       "version_major": 2,
       "version_minor": 0
      },
      "text/plain": [
       "HBox(children=(IntProgress(value=1, bar_style='info', max=1), HTML(value='')))"
      ]
     },
     "metadata": {},
     "output_type": "display_data"
    },
    {
     "data": {
      "application/vnd.jupyter.widget-view+json": {
       "model_id": "",
       "version_major": 2,
       "version_minor": 0
      },
      "text/plain": [
       "HBox(children=(IntProgress(value=1, bar_style='info', max=1), HTML(value='')))"
      ]
     },
     "metadata": {},
     "output_type": "display_data"
    },
    {
     "data": {
      "application/vnd.jupyter.widget-view+json": {
       "model_id": "",
       "version_major": 2,
       "version_minor": 0
      },
      "text/plain": [
       "HBox(children=(IntProgress(value=1, bar_style='info', max=1), HTML(value='')))"
      ]
     },
     "metadata": {},
     "output_type": "display_data"
    },
    {
     "data": {
      "application/vnd.jupyter.widget-view+json": {
       "model_id": "",
       "version_major": 2,
       "version_minor": 0
      },
      "text/plain": [
       "HBox(children=(IntProgress(value=1, bar_style='info', max=1), HTML(value='')))"
      ]
     },
     "metadata": {},
     "output_type": "display_data"
    },
    {
     "data": {
      "application/vnd.jupyter.widget-view+json": {
       "model_id": "",
       "version_major": 2,
       "version_minor": 0
      },
      "text/plain": [
       "HBox(children=(IntProgress(value=1, bar_style='info', max=1), HTML(value='')))"
      ]
     },
     "metadata": {},
     "output_type": "display_data"
    },
    {
     "data": {
      "application/vnd.jupyter.widget-view+json": {
       "model_id": "",
       "version_major": 2,
       "version_minor": 0
      },
      "text/plain": [
       "HBox(children=(IntProgress(value=1, bar_style='info', max=1), HTML(value='')))"
      ]
     },
     "metadata": {},
     "output_type": "display_data"
    },
    {
     "data": {
      "application/vnd.jupyter.widget-view+json": {
       "model_id": "",
       "version_major": 2,
       "version_minor": 0
      },
      "text/plain": [
       "HBox(children=(IntProgress(value=1, bar_style='info', max=1), HTML(value='')))"
      ]
     },
     "metadata": {},
     "output_type": "display_data"
    },
    {
     "data": {
      "application/vnd.jupyter.widget-view+json": {
       "model_id": "",
       "version_major": 2,
       "version_minor": 0
      },
      "text/plain": [
       "HBox(children=(IntProgress(value=1, bar_style='info', max=1), HTML(value='')))"
      ]
     },
     "metadata": {},
     "output_type": "display_data"
    },
    {
     "data": {
      "application/vnd.jupyter.widget-view+json": {
       "model_id": "",
       "version_major": 2,
       "version_minor": 0
      },
      "text/plain": [
       "HBox(children=(IntProgress(value=1, bar_style='info', max=1), HTML(value='')))"
      ]
     },
     "metadata": {},
     "output_type": "display_data"
    },
    {
     "data": {
      "application/vnd.jupyter.widget-view+json": {
       "model_id": "",
       "version_major": 2,
       "version_minor": 0
      },
      "text/plain": [
       "HBox(children=(IntProgress(value=1, bar_style='info', max=1), HTML(value='')))"
      ]
     },
     "metadata": {},
     "output_type": "display_data"
    },
    {
     "data": {
      "application/vnd.jupyter.widget-view+json": {
       "model_id": "",
       "version_major": 2,
       "version_minor": 0
      },
      "text/plain": [
       "HBox(children=(IntProgress(value=1, bar_style='info', max=1), HTML(value='')))"
      ]
     },
     "metadata": {},
     "output_type": "display_data"
    },
    {
     "data": {
      "application/vnd.jupyter.widget-view+json": {
       "model_id": "",
       "version_major": 2,
       "version_minor": 0
      },
      "text/plain": [
       "HBox(children=(IntProgress(value=1, bar_style='info', max=1), HTML(value='')))"
      ]
     },
     "metadata": {},
     "output_type": "display_data"
    },
    {
     "data": {
      "application/vnd.jupyter.widget-view+json": {
       "model_id": "",
       "version_major": 2,
       "version_minor": 0
      },
      "text/plain": [
       "HBox(children=(IntProgress(value=1, bar_style='info', max=1), HTML(value='')))"
      ]
     },
     "metadata": {},
     "output_type": "display_data"
    },
    {
     "data": {
      "application/vnd.jupyter.widget-view+json": {
       "model_id": "",
       "version_major": 2,
       "version_minor": 0
      },
      "text/plain": [
       "HBox(children=(IntProgress(value=1, bar_style='info', max=1), HTML(value='')))"
      ]
     },
     "metadata": {},
     "output_type": "display_data"
    },
    {
     "data": {
      "application/vnd.jupyter.widget-view+json": {
       "model_id": "",
       "version_major": 2,
       "version_minor": 0
      },
      "text/plain": [
       "HBox(children=(IntProgress(value=1, bar_style='info', max=1), HTML(value='')))"
      ]
     },
     "metadata": {},
     "output_type": "display_data"
    },
    {
     "data": {
      "application/vnd.jupyter.widget-view+json": {
       "model_id": "",
       "version_major": 2,
       "version_minor": 0
      },
      "text/plain": [
       "HBox(children=(IntProgress(value=1, bar_style='info', max=1), HTML(value='')))"
      ]
     },
     "metadata": {},
     "output_type": "display_data"
    },
    {
     "data": {
      "application/vnd.jupyter.widget-view+json": {
       "model_id": "",
       "version_major": 2,
       "version_minor": 0
      },
      "text/plain": [
       "HBox(children=(IntProgress(value=1, bar_style='info', max=1), HTML(value='')))"
      ]
     },
     "metadata": {},
     "output_type": "display_data"
    },
    {
     "data": {
      "application/vnd.jupyter.widget-view+json": {
       "model_id": "",
       "version_major": 2,
       "version_minor": 0
      },
      "text/plain": [
       "HBox(children=(IntProgress(value=1, bar_style='info', max=1), HTML(value='')))"
      ]
     },
     "metadata": {},
     "output_type": "display_data"
    },
    {
     "data": {
      "application/vnd.jupyter.widget-view+json": {
       "model_id": "",
       "version_major": 2,
       "version_minor": 0
      },
      "text/plain": [
       "HBox(children=(IntProgress(value=1, bar_style='info', max=1), HTML(value='')))"
      ]
     },
     "metadata": {},
     "output_type": "display_data"
    },
    {
     "data": {
      "application/vnd.jupyter.widget-view+json": {
       "model_id": "",
       "version_major": 2,
       "version_minor": 0
      },
      "text/plain": [
       "HBox(children=(IntProgress(value=1, bar_style='info', max=1), HTML(value='')))"
      ]
     },
     "metadata": {},
     "output_type": "display_data"
    },
    {
     "data": {
      "application/vnd.jupyter.widget-view+json": {
       "model_id": "",
       "version_major": 2,
       "version_minor": 0
      },
      "text/plain": [
       "HBox(children=(IntProgress(value=1, bar_style='info', max=1), HTML(value='')))"
      ]
     },
     "metadata": {},
     "output_type": "display_data"
    },
    {
     "data": {
      "application/vnd.jupyter.widget-view+json": {
       "model_id": "",
       "version_major": 2,
       "version_minor": 0
      },
      "text/plain": [
       "HBox(children=(IntProgress(value=1, bar_style='info', max=1), HTML(value='')))"
      ]
     },
     "metadata": {},
     "output_type": "display_data"
    },
    {
     "data": {
      "application/vnd.jupyter.widget-view+json": {
       "model_id": "",
       "version_major": 2,
       "version_minor": 0
      },
      "text/plain": [
       "HBox(children=(IntProgress(value=1, bar_style='info', max=1), HTML(value='')))"
      ]
     },
     "metadata": {},
     "output_type": "display_data"
    },
    {
     "data": {
      "application/vnd.jupyter.widget-view+json": {
       "model_id": "",
       "version_major": 2,
       "version_minor": 0
      },
      "text/plain": [
       "HBox(children=(IntProgress(value=1, bar_style='info', max=1), HTML(value='')))"
      ]
     },
     "metadata": {},
     "output_type": "display_data"
    },
    {
     "data": {
      "application/vnd.jupyter.widget-view+json": {
       "model_id": "",
       "version_major": 2,
       "version_minor": 0
      },
      "text/plain": [
       "HBox(children=(IntProgress(value=1, bar_style='info', max=1), HTML(value='')))"
      ]
     },
     "metadata": {},
     "output_type": "display_data"
    },
    {
     "data": {
      "application/vnd.jupyter.widget-view+json": {
       "model_id": "",
       "version_major": 2,
       "version_minor": 0
      },
      "text/plain": [
       "HBox(children=(IntProgress(value=1, bar_style='info', max=1), HTML(value='')))"
      ]
     },
     "metadata": {},
     "output_type": "display_data"
    },
    {
     "data": {
      "application/vnd.jupyter.widget-view+json": {
       "model_id": "",
       "version_major": 2,
       "version_minor": 0
      },
      "text/plain": [
       "HBox(children=(IntProgress(value=1, bar_style='info', max=1), HTML(value='')))"
      ]
     },
     "metadata": {},
     "output_type": "display_data"
    },
    {
     "data": {
      "application/vnd.jupyter.widget-view+json": {
       "model_id": "",
       "version_major": 2,
       "version_minor": 0
      },
      "text/plain": [
       "HBox(children=(IntProgress(value=1, bar_style='info', max=1), HTML(value='')))"
      ]
     },
     "metadata": {},
     "output_type": "display_data"
    },
    {
     "data": {
      "application/vnd.jupyter.widget-view+json": {
       "model_id": "",
       "version_major": 2,
       "version_minor": 0
      },
      "text/plain": [
       "HBox(children=(IntProgress(value=1, bar_style='info', max=1), HTML(value='')))"
      ]
     },
     "metadata": {},
     "output_type": "display_data"
    },
    {
     "data": {
      "application/vnd.jupyter.widget-view+json": {
       "model_id": "",
       "version_major": 2,
       "version_minor": 0
      },
      "text/plain": [
       "HBox(children=(IntProgress(value=1, bar_style='info', max=1), HTML(value='')))"
      ]
     },
     "metadata": {},
     "output_type": "display_data"
    },
    {
     "data": {
      "application/vnd.jupyter.widget-view+json": {
       "model_id": "",
       "version_major": 2,
       "version_minor": 0
      },
      "text/plain": [
       "HBox(children=(IntProgress(value=1, bar_style='info', max=1), HTML(value='')))"
      ]
     },
     "metadata": {},
     "output_type": "display_data"
    },
    {
     "data": {
      "application/vnd.jupyter.widget-view+json": {
       "model_id": "",
       "version_major": 2,
       "version_minor": 0
      },
      "text/plain": [
       "HBox(children=(IntProgress(value=1, bar_style='info', max=1), HTML(value='')))"
      ]
     },
     "metadata": {},
     "output_type": "display_data"
    },
    {
     "data": {
      "application/vnd.jupyter.widget-view+json": {
       "model_id": "",
       "version_major": 2,
       "version_minor": 0
      },
      "text/plain": [
       "HBox(children=(IntProgress(value=1, bar_style='info', max=1), HTML(value='')))"
      ]
     },
     "metadata": {},
     "output_type": "display_data"
    },
    {
     "data": {
      "application/vnd.jupyter.widget-view+json": {
       "model_id": "",
       "version_major": 2,
       "version_minor": 0
      },
      "text/plain": [
       "HBox(children=(IntProgress(value=1, bar_style='info', max=1), HTML(value='')))"
      ]
     },
     "metadata": {},
     "output_type": "display_data"
    },
    {
     "data": {
      "application/vnd.jupyter.widget-view+json": {
       "model_id": "",
       "version_major": 2,
       "version_minor": 0
      },
      "text/plain": [
       "HBox(children=(IntProgress(value=1, bar_style='info', max=1), HTML(value='')))"
      ]
     },
     "metadata": {},
     "output_type": "display_data"
    },
    {
     "data": {
      "application/vnd.jupyter.widget-view+json": {
       "model_id": "",
       "version_major": 2,
       "version_minor": 0
      },
      "text/plain": [
       "HBox(children=(IntProgress(value=1, bar_style='info', max=1), HTML(value='')))"
      ]
     },
     "metadata": {},
     "output_type": "display_data"
    },
    {
     "data": {
      "application/vnd.jupyter.widget-view+json": {
       "model_id": "",
       "version_major": 2,
       "version_minor": 0
      },
      "text/plain": [
       "HBox(children=(IntProgress(value=1, bar_style='info', max=1), HTML(value='')))"
      ]
     },
     "metadata": {},
     "output_type": "display_data"
    },
    {
     "data": {
      "application/vnd.jupyter.widget-view+json": {
       "model_id": "",
       "version_major": 2,
       "version_minor": 0
      },
      "text/plain": [
       "HBox(children=(IntProgress(value=1, bar_style='info', max=1), HTML(value='')))"
      ]
     },
     "metadata": {},
     "output_type": "display_data"
    },
    {
     "data": {
      "application/vnd.jupyter.widget-view+json": {
       "model_id": "",
       "version_major": 2,
       "version_minor": 0
      },
      "text/plain": [
       "HBox(children=(IntProgress(value=1, bar_style='info', max=1), HTML(value='')))"
      ]
     },
     "metadata": {},
     "output_type": "display_data"
    },
    {
     "data": {
      "application/vnd.jupyter.widget-view+json": {
       "model_id": "",
       "version_major": 2,
       "version_minor": 0
      },
      "text/plain": [
       "HBox(children=(IntProgress(value=1, bar_style='info', max=1), HTML(value='')))"
      ]
     },
     "metadata": {},
     "output_type": "display_data"
    },
    {
     "data": {
      "application/vnd.jupyter.widget-view+json": {
       "model_id": "",
       "version_major": 2,
       "version_minor": 0
      },
      "text/plain": [
       "HBox(children=(IntProgress(value=1, bar_style='info', max=1), HTML(value='')))"
      ]
     },
     "metadata": {},
     "output_type": "display_data"
    },
    {
     "data": {
      "application/vnd.jupyter.widget-view+json": {
       "model_id": "",
       "version_major": 2,
       "version_minor": 0
      },
      "text/plain": [
       "HBox(children=(IntProgress(value=1, bar_style='info', max=1), HTML(value='')))"
      ]
     },
     "metadata": {},
     "output_type": "display_data"
    },
    {
     "name": "stdout",
     "output_type": "stream",
     "text": [
      "\r"
     ]
    },
    {
     "data": {
      "application/vnd.jupyter.widget-view+json": {
       "model_id": "",
       "version_major": 2,
       "version_minor": 0
      },
      "text/plain": [
       "HBox(children=(IntProgress(value=0, max=18), HTML(value='')))"
      ]
     },
     "metadata": {},
     "output_type": "display_data"
    },
    {
     "name": "stdout",
     "output_type": "stream",
     "text": [
      "\r"
     ]
    },
    {
     "data": {
      "image/png": "[encoded data removed]",
      "text/plain": [
       "<Figure size 1296x432 with 1 Axes>"
      ]
     },
     "metadata": {
      "needs_background": "light"
     },
     "output_type": "display_data"
    },
    {
     "data": {
      "image/png": "[encoded data removed]",
      "text/plain": [
       "<Figure size 1296x432 with 1 Axes>"
      ]
     },
     "metadata": {
      "needs_background": "light"
     },
     "output_type": "display_data"
    },
    {
     "data": {
      "image/png": "[encoded data removed]",
      "text/plain": [
       "<Figure size 1296x432 with 1 Axes>"
      ]
     },
     "metadata": {
      "needs_background": "light"
     },
     "output_type": "display_data"
    },
    {
     "data": {
      "image/png": "[encoded data removed]",
      "text/plain": [
       "<Figure size 1296x432 with 1 Axes>"
      ]
     },
     "metadata": {
      "needs_background": "light"
     },
     "output_type": "display_data"
    }
   ],
   "source": [
    "results = SG.note_extraction(waveform(\"../Samples/Guitar/Test_riffs/Guitar_noamp_riff24_1.mp3\"), True)"
   ]
  },
  {
   "cell_type": "markdown",
   "metadata": {},
   "source": [
    "Generate raw sheet"
   ]
  },
  {
   "cell_type": "code",
   "execution_count": 135,
   "metadata": {},
   "outputs": [],
   "source": [
    "sheet = SG.raw_sheet(results, True)"
   ]
  },
  {
   "cell_type": "markdown",
   "metadata": {},
   "source": [
    "Display tab"
   ]
  },
  {
   "cell_type": "code",
   "execution_count": 136,
   "metadata": {
    "scrolled": false
   },
   "outputs": [
    {
     "data": {
      "text/plain": [
       "array([['F#3', 4, 0.25],\n",
       "       ['C#4', 3, 0.25],\n",
       "       ['F#3', 4, 0.25],\n",
       "       ['C#4', 3, 0.25],\n",
       "       ['F#3', 4, 0.25],\n",
       "       ['A#3', 3, 0.25],\n",
       "       ['G#4', 4, 0.125],\n",
       "       ['F#3', 4, 0.25],\n",
       "       ['A#3', 3, 0.125],\n",
       "       ['B4', 4, 0.125],\n",
       "       ['G#3', 3, 0.25],\n",
       "       ['D#4', 3, 0.25],\n",
       "       ['G#3', 4, 0.25],\n",
       "       ['D#4', 3, 0.25],\n",
       "       ['G#3', 4, 0.25],\n",
       "       ['C4', 3, 0.25],\n",
       "       ['G#3', 4, 0.25],\n",
       "       ['C4', 3, 0.25]], dtype=object)"
      ]
     },
     "execution_count": 136,
     "metadata": {},
     "output_type": "execute_result"
    }
   ],
   "source": [
    "sheet[:,:3]"
   ]
  },
  {
   "cell_type": "code",
   "execution_count": 137,
   "metadata": {},
   "outputs": [
    {
     "name": "stdout",
     "output_type": "stream",
     "text": [
      "E  --------------------------------------\n",
      "B  --------------------------------------\n",
      "G  --6---6---3------3----1-8---8---5---5-\n",
      "D  4---4---4---18-4---21-----6---6---6---\n",
      "A  --------------------------------------\n",
      "E  --------------------------------------\n",
      "\n"
     ]
    }
   ],
   "source": [
    "SG.display_tablature(sheet)"
   ]
  },
  {
   "cell_type": "markdown",
   "metadata": {},
   "source": [
    "Generate a guitar pro file from the tab"
   ]
  },
  {
   "cell_type": "code",
   "execution_count": 9,
   "metadata": {},
   "outputs": [],
   "source": [
    "SG.create_guitarpro_tab(sheet, \"final.gp5\")"
   ]
  },
  {
   "cell_type": "markdown",
   "metadata": {},
   "source": [
    "Display music sheet"
   ]
  },
  {
   "cell_type": "code",
   "execution_count": 34,
   "metadata": {},
   "outputs": [
    {
     "name": "stdout",
     "output_type": "stream",
     "text": [
      "DIV_ID OSMD-div-117246\n"
     ]
    },
    {
     "data": {
      "text/html": [
       "<div id=\"OSMD-div-117246\">loading OpenSheetMusicDisplay</div>"
      ],
      "text/plain": [
       "<IPython.core.display.HTML object>"
      ]
     },
     "metadata": {},
     "output_type": "display_data"
    },
    {
     "name": "stdout",
     "output_type": "stream",
     "text": [
      "xml length: 4650\n"
     ]
    },
    {
     "data": {
      "application/javascript": [
       "\n",
       "        console.log(\"loadOSMD()\");\n",
       "        function loadOSMD() { \n",
       "            return new Promise(function(resolve, reject){\n",
       "\n",
       "                if (window.opensheetmusicdisplay) {\n",
       "                    console.log(\"already loaded\")\n",
       "                    return resolve(window.opensheetmusicdisplay)\n",
       "                }\n",
       "                console.log(\"loading osmd for the first time\")\n",
       "                // OSMD script has a 'define' call which conflicts with requirejs\n",
       "                var _define = window.define // save the define object \n",
       "                window.define = undefined // now the loaded script will ignore requirejs\n",
       "                var s = document.createElement( 'script' );\n",
       "                s.setAttribute( 'src', \"https://cdn.jsdelivr.net/npm/opensheetmusicdisplay@0.3.1/build/opensheetmusicdisplay.min.js\" );\n",
       "                //s.setAttribute( 'src', \"/custom/opensheetmusicdisplay.js\" );\n",
       "                s.onload=function(){\n",
       "                    window.define = _define\n",
       "                    console.log(\"loaded OSMD for the first time\",opensheetmusicdisplay)\n",
       "                    resolve(opensheetmusicdisplay);\n",
       "                };\n",
       "                document.body.appendChild( s ); // browser will try to load the new script tag\n",
       "            }) \n",
       "        }\n",
       "        loadOSMD().then((OSMD)=>{\n",
       "            console.log(\"loaded OSMD\",OSMD)\n",
       "            var div_id = \"OSMD-div-117246\";\n",
       "                console.log(div_id)\n",
       "            window.openSheetMusicDisplay = new OSMD.OpenSheetMusicDisplay(div_id);\n",
       "            openSheetMusicDisplay\n",
       "                .load(\"<?xml version=\\\"1.0\\\" encoding=\\\"utf-8\\\"?>\\n<!DOCTYPE score-partwise  PUBLIC \\\"-//Recordare//DTD MusicXML 3.0 Partwise//EN\\\" \\\"http://www.musicxml.org/dtds/partwise.dtd\\\">\\n<score-partwise version=\\\"3.0\\\">\\n  <movement-title>Music21 Fragment</movement-title>\\n  <identification>\\n    <creator type=\\\"composer\\\">Music21</creator>\\n    <encoding>\\n      <encoding-date>2019-06-07</encoding-date>\\n      <software>music21 v.5.5.0</software>\\n    </encoding>\\n  </identification>\\n  <defaults>\\n    <scaling>\\n      <millimeters>7</millimeters>\\n      <tenths>40</tenths>\\n    </scaling>\\n  </defaults>\\n  <part-list>\\n    <score-part id=\\\"P847531a383bd1219514673e5df8ca6f4\\\">\\n      <part-name>Guitar</part-name>\\n      <part-abbreviation>Elec Gtr</part-abbreviation>\\n      <score-instrument id=\\\"Iec7f9ee00e22a9b6d09ac134109573af\\\">\\n        <instrument-name>Electric Guitar</instrument-name>\\n        <instrument-abbreviation>Elec Gtr</instrument-abbreviation>\\n      </score-instrument>\\n      <midi-instrument id=\\\"Iec7f9ee00e22a9b6d09ac134109573af\\\">\\n        <midi-channel>1</midi-channel>\\n        <midi-program>27</midi-program>\\n      </midi-instrument>\\n    </score-part>\\n  </part-list>\\n  <!--=========================== Part 1 ===========================-->\\n  <part id=\\\"P847531a383bd1219514673e5df8ca6f4\\\">\\n    <!--========================= Measure 1 ==========================-->\\n    <measure number=\\\"1\\\">\\n      <attributes>\\n        <divisions>10080</divisions>\\n        <time>\\n          <beats>4</beats>\\n          <beat-type>4</beat-type>\\n        </time>\\n        <clef>\\n          <sign>G</sign>\\n          <line>2</line>\\n        </clef>\\n      </attributes>\\n      <note>\\n        <pitch>\\n          <step>A</step>\\n          <alter>1</alter>\\n          <octave>3</octave>\\n        </pitch>\\n        <duration>10080</duration>\\n        <type>quarter</type>\\n        <accidental>sharp</accidental>\\n      </note>\\n      <note>\\n        <pitch>\\n          <step>A</step>\\n          <alter>1</alter>\\n          <octave>3</octave>\\n        </pitch>\\n        <duration>5040</duration>\\n        <type>eighth</type>\\n      </note>\\n      <note>\\n        <pitch>\\n          <step>A</step>\\n          <alter>1</alter>\\n          <octave>3</octave>\\n        </pitch>\\n        <duration>10080</duration>\\n        <type>quarter</type>\\n      </note>\\n      <note>\\n        <pitch>\\n          <step>G</step>\\n          <alter>1</alter>\\n          <octave>3</octave>\\n        </pitch>\\n        <duration>5040</duration>\\n        <type>eighth</type>\\n        <accidental>sharp</accidental>\\n      </note>\\n      <note>\\n        <pitch>\\n          <step>D</step>\\n          <octave>4</octave>\\n        </pitch>\\n        <duration>5040</duration>\\n        <type>eighth</type>\\n        <beam number=\\\"1\\\">begin</beam>\\n      </note>\\n      <note>\\n        <pitch>\\n          <step>C</step>\\n          <octave>4</octave>\\n        </pitch>\\n        <duration>5040</duration>\\n        <type>eighth</type>\\n        <beam number=\\\"1\\\">end</beam>\\n      </note>\\n    </measure>\\n    <!--========================= Measure 2 ==========================-->\\n    <measure number=\\\"2\\\">\\n      <note>\\n        <pitch>\\n          <step>D</step>\\n          <octave>4</octave>\\n        </pitch>\\n        <duration>7560</duration>\\n        <type>eighth</type>\\n        <dot />\\n        <beam number=\\\"1\\\">begin</beam>\\n      </note>\\n      <note>\\n        <pitch>\\n          <step>F</step>\\n          <octave>4</octave>\\n        </pitch>\\n        <duration>2520</duration>\\n        <type>16th</type>\\n        <beam number=\\\"1\\\">continue</beam>\\n        <beam number=\\\"2\\\">begin</beam>\\n      </note>\\n      <note>\\n        <pitch>\\n          <step>G</step>\\n          <alter>0</alter>\\n          <octave>4</octave>\\n        </pitch>\\n        <duration>2520</duration>\\n        <type>16th</type>\\n        <accidental>natural</accidental>\\n        <beam number=\\\"1\\\">end</beam>\\n        <beam number=\\\"2\\\">end</beam>\\n      </note>\\n      <note>\\n        <pitch>\\n          <step>F</step>\\n          <octave>4</octave>\\n        </pitch>\\n        <duration>10080</duration>\\n        <type>quarter</type>\\n      </note>\\n      <note>\\n        <pitch>\\n          <step>D</step>\\n          <alter>1</alter>\\n          <octave>4</octave>\\n        </pitch>\\n        <duration>5040</duration>\\n        <type>eighth</type>\\n        <accidental>sharp</accidental>\\n      </note>\\n      <note>\\n        <pitch>\\n          <step>D</step>\\n          <alter>0</alter>\\n          <octave>4</octave>\\n        </pitch>\\n        <duration>10080</duration>\\n        <type>quarter</type>\\n        <accidental>natural</accidental>\\n      </note>\\n      <barline location=\\\"right\\\">\\n        <bar-style>light-heavy</bar-style>\\n      </barline>\\n    </measure>\\n  </part>\\n</score-partwise>\\n\")\n",
       "                .then(\n",
       "                  function() {\n",
       "                    console.log(\"rendering data\")\n",
       "                    openSheetMusicDisplay.render();\n",
       "                  }\n",
       "                );\n",
       "        })\n",
       "        "
      ],
      "text/plain": [
       "<IPython.core.display.Javascript object>"
      ]
     },
     "metadata": {},
     "output_type": "display_data"
    }
   ],
   "source": [
    "SG.display_music_sheet(sheet)"
   ]
  },
  {
   "cell_type": "code",
   "execution_count": null,
   "metadata": {},
   "outputs": [],
   "source": []
  }
 ],
 "metadata": {
  "kernelspec": {
   "display_name": "Python 3",
   "language": "python",
   "name": "python3"
  },
  "language_info": {
   "codemirror_mode": {
    "name": "ipython",
    "version": 3
   },
   "file_extension": ".py",
   "mimetype": "text/x-python",
   "name": "python",
   "nbconvert_exporter": "python",
   "pygments_lexer": "ipython3",
   "version": "3.7.3"
  }
 },
 "nbformat": 4,
 "nbformat_minor": 2
}
