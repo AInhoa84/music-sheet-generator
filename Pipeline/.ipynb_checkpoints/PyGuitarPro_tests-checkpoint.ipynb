{
 "cells": [
  {
   "cell_type": "code",
   "execution_count": 1,
   "metadata": {},
   "outputs": [],
   "source": [
    "import guitarpro\n",
    "\n",
    "song = guitarpro.Song()\n",
    "track = guitarpro.Track(name='Track 1', song=song)\n",
    "track.strings = [guitarpro.GuitarString(n, v)\n",
    "                 for n, v in enumerate([64, 59, 55, 50, 45, 40], start=1)]\n",
    "measure = guitarpro.Measure(track, \"A\")\n",
    "measure.voices = guitarpro.Voice(measure)\n",
    "beat = guitarpro.Beat(measure.voices)"
   ]
  },
  {
   "cell_type": "markdown",
   "metadata": {},
   "source": [
    "Blank file"
   ]
  },
  {
   "cell_type": "code",
   "execution_count": 11,
   "metadata": {},
   "outputs": [],
   "source": [
    "note = guitarpro.Note(beat, type=guitarpro.NoteType.normal, string=1, value=3)"
   ]
  },
  {
   "cell_type": "code",
   "execution_count": 12,
   "metadata": {},
   "outputs": [
    {
     "data": {
      "text/plain": [
       "Note(value=3, velocity=95, string=1, effect=<guitarpro.models.NoteEffect object at 0x000000E55CD670B8>, durationPercent=1.0, swapAccidentals=False, type=<NoteType.normal: 1>)"
      ]
     },
     "execution_count": 12,
     "metadata": {},
     "output_type": "execute_result"
    }
   ],
   "source": [
    "note"
   ]
  },
  {
   "cell_type": "code",
   "execution_count": 13,
   "metadata": {},
   "outputs": [],
   "source": [
    "guitarpro.write(song, 'blank.gp5')"
   ]
  },
  {
   "cell_type": "code",
   "execution_count": null,
   "metadata": {},
   "outputs": [],
   "source": []
  }
 ],
 "metadata": {
  "kernelspec": {
   "display_name": "Python 3",
   "language": "python",
   "name": "python3"
  },
  "language_info": {
   "codemirror_mode": {
    "name": "ipython",
    "version": 3
   },
   "file_extension": ".py",
   "mimetype": "text/x-python",
   "name": "python",
   "nbconvert_exporter": "python",
   "pygments_lexer": "ipython3",
   "version": "3.7.3"
  }
 },
 "nbformat": 4,
 "nbformat_minor": 2
}
